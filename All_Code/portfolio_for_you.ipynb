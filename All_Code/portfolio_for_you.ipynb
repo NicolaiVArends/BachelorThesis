{
 "cells": [
  {
   "cell_type": "code",
   "execution_count": null,
   "metadata": {},
   "outputs": [],
   "source": [
    "%pylab\n",
    "from src import data\n",
    "\n",
    "from src import efficient_frontier\n",
    "from src import filter_assets\n",
    "from src import plot\n",
    "from src import portfolio\n",
    "import numpy as np\n",
    "import pandas as pd\n",
    "from scipy.optimize import Bounds\n"
   ]
  },
  {
   "cell_type": "markdown",
   "metadata": {},
   "source": []
  },
  {
   "cell_type": "code",
   "execution_count": null,
   "metadata": {},
   "outputs": [],
   "source": [
    "weights = np.array([1/3,1/3,1/3])\n",
    "df = pd.read_excel(r\"C:\\Users\\toros\\OneDrive\\Dokumenter\\GitHub\\BachelorThesis\\All_Code\\data\\ESG_DATA_S&P500.xlsx\")\n",
    "dates = ('2003-01-01','2023-01-01')\n",
    "variance_period = 10 #Amount of years we want to look back when calculating expected returns\n",
    "Bounds = Bounds(-1,2) #How willing we are to go short and to invest in one particular stock\n",
    "Wanted_return = 0.20\n",
    "maximum_risk = 0.30\n",
    "sharpe_type = \"No_extra_constraint\"  # rename to constraint, can be either Wanted_return or Maximum_risk or No_extra_constraint"
   ]
  },
  {
   "cell_type": "code",
   "execution_count": null,
   "metadata": {},
   "outputs": [],
   "source": [
    "esg_data = data.esg_score_weight(df,weights,1250)"
   ]
  },
  {
   "cell_type": "code",
   "execution_count": null,
   "metadata": {},
   "outputs": [],
   "source": [
    "full_data = data.stock_monthly_close(esg_data,dates)"
   ]
  },
  {
   "cell_type": "code",
   "execution_count": null,
   "metadata": {},
   "outputs": [],
   "source": [
    "prices,esgdata = data.seperate_full_data(full_data)"
   ]
  },
  {
   "cell_type": "code",
   "execution_count": null,
   "metadata": {},
   "outputs": [],
   "source": [
    "pct_returns = data.pct_returns_from_prices(prices)\n"
   ]
  },
  {
   "cell_type": "code",
   "execution_count": null,
   "metadata": {},
   "outputs": [],
   "source": [
    "prices.columns.values #Different amount of rows from ESG_DATA as it drops all na "
   ]
  },
  {
   "cell_type": "code",
   "execution_count": null,
   "metadata": {},
   "outputs": [],
   "source": [
    "parameters = portfolio.rolling_window_efficient_frontier(pct_returns,Bounds, sharpe_type, Wanted_return, maximum_risk)"
   ]
  },
  {
   "cell_type": "code",
   "execution_count": null,
   "metadata": {},
   "outputs": [],
   "source": []
  },
  {
   "cell_type": "code",
   "execution_count": null,
   "metadata": {},
   "outputs": [],
   "source": [
    "#weight_array = []\n",
    "#for i in range(len(parameters)):\n",
    "#    weight_array.append(parameters[i][6])\n",
    "\n",
    "#weight_array\n",
    "efficient_frontier.weights_of_portfolio(prices,parameters)"
   ]
  },
  {
   "cell_type": "code",
   "execution_count": null,
   "metadata": {},
   "outputs": [],
   "source": [
    "plot.plot_efficient_frontier(parameters)"
   ]
  }
 ],
 "metadata": {
  "kernelspec": {
   "display_name": "Python 3",
   "language": "python",
   "name": "python3"
  },
  "language_info": {
   "codemirror_mode": {
    "name": "ipython",
    "version": 3
   },
   "file_extension": ".py",
   "mimetype": "text/x-python",
   "name": "python",
   "nbconvert_exporter": "python",
   "pygments_lexer": "ipython3",
   "version": "3.9.7"
  },
  "orig_nbformat": 4
 },
 "nbformat": 4,
 "nbformat_minor": 2
}
