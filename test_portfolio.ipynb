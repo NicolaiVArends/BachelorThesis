{
 "cells": [
  {
   "cell_type": "code",
   "execution_count": null,
   "metadata": {},
   "outputs": [],
   "source": [
    "import pandas as pd\n",
    "from src.data import get_financial_data, filter_universe_esg\n",
    "from src.portfolio import *\n",
    "import yfinance as yf"
   ]
  },
  {
   "cell_type": "code",
   "execution_count": null,
   "metadata": {},
   "outputs": [],
   "source": [
    "df = get_financial_data()\n",
    "print(df)\n",
    "\n",
    "df = filter_universe_esg()\n",
    "print(df)"
   ]
  },
  {
   "cell_type": "code",
   "execution_count": null,
   "metadata": {},
   "outputs": [],
   "source": [
    "portfolio_mean()\n"
   ]
  }
 ],
 "metadata": {
  "kernelspec": {
   "display_name": "Python 3",
   "language": "python",
   "name": "python3"
  },
  "language_info": {
   "name": "python",
   "version": "3.9.15"
  },
  "orig_nbformat": 4,
  "vscode": {
   "interpreter": {
    "hash": "367c2c0f6e5c054aeedcb9fab7e63b17ce1e4693ab30d9d3da6da4d7dd89ca6b"
   }
  }
 },
 "nbformat": 4,
 "nbformat_minor": 2
}
