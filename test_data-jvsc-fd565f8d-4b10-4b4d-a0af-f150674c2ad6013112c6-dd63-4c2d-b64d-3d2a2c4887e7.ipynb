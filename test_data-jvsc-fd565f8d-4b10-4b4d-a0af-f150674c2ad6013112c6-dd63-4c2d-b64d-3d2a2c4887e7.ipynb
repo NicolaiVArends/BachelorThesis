{
 "cells": [
  {
   "cell_type": "code",
   "execution_count": null,
   "metadata": {},
   "outputs": [],
   "source": []
  }
 ],
 "metadata": {
  "kernelspec": {
   "display_name": "Python 3",
   "language": "python",
   "name": "python3"
  },
  "language_info": {
   "name": "python",
   "version": "3.9.15"
  },
  "vscode": {
   "interpreter": {
    "hash": "367c2c0f6e5c054aeedcb9fab7e63b17ce1e4693ab30d9d3da6da4d7dd89ca6b"
   }
  }
 },
 "nbformat": 4,
 "nbformat_minor": 5
}
