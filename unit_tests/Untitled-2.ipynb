{
 "cells": [
  {
   "cell_type": "code",
   "execution_count": null,
   "metadata": {},
   "outputs": [],
   "source": []
  }
 ],
 "metadata": {
  "kernelspec": {
   "display_name": "Python 3",
   "language": "python",
   "name": "python3"
  },
  "language_info": {
   "name": "python",
   "version": "3.10.4"
  },
  "orig_nbformat": 4,
  "vscode": {
   "interpreter": {
    "hash": "86e320d27ba91b62bb476c18bb1d9bc2632dc6f3cc7e16f4d32472e7802d4b28"
   }
  }
 },
 "nbformat": 4,
 "nbformat_minor": 2
}
