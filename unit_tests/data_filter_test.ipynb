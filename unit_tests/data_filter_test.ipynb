{
 "cells": [
  {
   "cell_type": "code",
   "execution_count": 13,
   "metadata": {},
   "outputs": [],
   "source": [
    "\n",
    "import pandas as pd\n",
    "from data import *\n"
   ]
  },
  {
   "cell_type": "code",
   "execution_count": 18,
   "metadata": {},
   "outputs": [
    {
     "data": {
      "text/html": [
       "<div>\n",
       "<style scoped>\n",
       "    .dataframe tbody tr th:only-of-type {\n",
       "        vertical-align: middle;\n",
       "    }\n",
       "\n",
       "    .dataframe tbody tr th {\n",
       "        vertical-align: top;\n",
       "    }\n",
       "\n",
       "    .dataframe thead th {\n",
       "        text-align: right;\n",
       "    }\n",
       "</style>\n",
       "<table border=\"1\" class=\"dataframe\">\n",
       "  <thead>\n",
       "    <tr style=\"text-align: right;\">\n",
       "      <th></th>\n",
       "      <th>Isin</th>\n",
       "      <th>CurrencyCode</th>\n",
       "      <th>company_name</th>\n",
       "      <th>environment_grade</th>\n",
       "      <th>environment_level</th>\n",
       "      <th>environment_score</th>\n",
       "      <th>esg_id</th>\n",
       "      <th>exchange_symbol</th>\n",
       "      <th>governance_grade</th>\n",
       "      <th>governance_level</th>\n",
       "      <th>governance_score</th>\n",
       "      <th>last_processing_date</th>\n",
       "      <th>social_grade</th>\n",
       "      <th>social_level</th>\n",
       "      <th>social_score</th>\n",
       "      <th>stock_symbol</th>\n",
       "      <th>total</th>\n",
       "      <th>total_grade</th>\n",
       "      <th>total_level</th>\n",
       "      <th>weighted_score</th>\n",
       "    </tr>\n",
       "  </thead>\n",
       "  <tbody>\n",
       "    <tr>\n",
       "      <th>20</th>\n",
       "      <td>US0231351067</td>\n",
       "      <td>USD</td>\n",
       "      <td>Amazon.com, Inc.</td>\n",
       "      <td>AA</td>\n",
       "      <td>Excellent</td>\n",
       "      <td>660</td>\n",
       "      <td>342</td>\n",
       "      <td>NASDAQ</td>\n",
       "      <td>BBB</td>\n",
       "      <td>High</td>\n",
       "      <td>460</td>\n",
       "      <td>20230221</td>\n",
       "      <td>BB</td>\n",
       "      <td>Medium</td>\n",
       "      <td>308</td>\n",
       "      <td>AMZN</td>\n",
       "      <td>1428</td>\n",
       "      <td>A</td>\n",
       "      <td>High</td>\n",
       "      <td>1428.0</td>\n",
       "    </tr>\n",
       "    <tr>\n",
       "      <th>277</th>\n",
       "      <td>US5949181045</td>\n",
       "      <td>USD</td>\n",
       "      <td>Microsoft Corporation</td>\n",
       "      <td>AA</td>\n",
       "      <td>Excellent</td>\n",
       "      <td>805</td>\n",
       "      <td>4720</td>\n",
       "      <td>NASDAQ</td>\n",
       "      <td>BB</td>\n",
       "      <td>Medium</td>\n",
       "      <td>390</td>\n",
       "      <td>20230222</td>\n",
       "      <td>A</td>\n",
       "      <td>High</td>\n",
       "      <td>504</td>\n",
       "      <td>MSFT</td>\n",
       "      <td>1699</td>\n",
       "      <td>A</td>\n",
       "      <td>High</td>\n",
       "      <td>1699.0</td>\n",
       "    </tr>\n",
       "  </tbody>\n",
       "</table>\n",
       "</div>"
      ],
      "text/plain": [
       "             Isin CurrencyCode           company_name environment_grade  \\\n",
       "20   US0231351067          USD       Amazon.com, Inc.                AA   \n",
       "277  US5949181045          USD  Microsoft Corporation                AA   \n",
       "\n",
       "    environment_level  environment_score  esg_id exchange_symbol  \\\n",
       "20          Excellent                660     342          NASDAQ   \n",
       "277         Excellent                805    4720          NASDAQ   \n",
       "\n",
       "    governance_grade governance_level  governance_score  last_processing_date  \\\n",
       "20               BBB             High               460              20230221   \n",
       "277               BB           Medium               390              20230222   \n",
       "\n",
       "    social_grade social_level  social_score stock_symbol  total total_grade  \\\n",
       "20            BB       Medium           308         AMZN   1428           A   \n",
       "277            A         High           504         MSFT   1699           A   \n",
       "\n",
       "    total_level  weighted_score  \n",
       "20         High          1428.0  \n",
       "277        High          1699.0  "
      ]
     },
     "execution_count": 18,
     "metadata": {},
     "output_type": "execute_result"
    }
   ],
   "source": [
    "esg_score_weight(pd.read_excel(r\"C:\\Users\\Tor Osted\\OneDrive\\Dokumenter\\GitHub\\BachelorThesis\\data\\ESG_DATA_S&P500.xlsx\"),np.array([1/3,1/3,1/3]),1400) #vægtfunktionen skal fikses"
   ]
  }
 ],
 "metadata": {
  "kernelspec": {
   "display_name": "Python 3",
   "language": "python",
   "name": "python3"
  },
  "language_info": {
   "codemirror_mode": {
    "name": "ipython",
    "version": 3
   },
   "file_extension": ".py",
   "mimetype": "text/x-python",
   "name": "python",
   "nbconvert_exporter": "python",
   "pygments_lexer": "ipython3",
   "version": "3.10.4"
  },
  "orig_nbformat": 4,
  "vscode": {
   "interpreter": {
    "hash": "86e320d27ba91b62bb476c18bb1d9bc2632dc6f3cc7e16f4d32472e7802d4b28"
   }
  }
 },
 "nbformat": 4,
 "nbformat_minor": 2
}
