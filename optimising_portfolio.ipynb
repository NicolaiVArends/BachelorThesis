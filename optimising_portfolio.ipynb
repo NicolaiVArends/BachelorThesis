{
 "cells": [
  {
   "cell_type": "code",
   "execution_count": 1,
   "metadata": {},
   "outputs": [],
   "source": [
    "%load_ext autoreload\n",
    "%autoreload 2"
   ]
  },
  {
   "cell_type": "code",
   "execution_count": 2,
   "metadata": {},
   "outputs": [],
   "source": [
    "import pandas as pd\n",
    "from src.data import *\n",
    "from src.portfolio import *\n",
    "from src.efficient_frontier import *\n",
    "from src.plot import *\n",
    "import yfinance as yf\n",
    "from scipy.optimize import Bounds, LinearConstraint\n",
    "from pypfopt.expected_returns import mean_historical_return"
   ]
  },
  {
   "cell_type": "code",
   "execution_count": 3,
   "metadata": {},
   "outputs": [
    {
     "name": "stdout",
     "output_type": "stream",
     "text": [
      "\n",
      "1 Failed download:\n",
      "- JOBS.ST: No data found for this date range, symbol may be delisted\n",
      "\n",
      "1 Failed download:\n",
      "- PFE.ST: Exception('Lost data during merge despite all attempts to align data (see above)')\n",
      "\n",
      "1 Failed download:\n",
      "- GNP.OL: No data found, symbol may be delisted\n",
      "\n",
      "1 Failed download:\n",
      "- MSEIS.OL: No timezone found, symbol may be delisted\n",
      "\n",
      "1 Failed download:\n",
      "- JYSK.CO: Exception('Lost data during merge despite all attempts to align data (see above)')\n"
     ]
    }
   ],
   "source": [
    "esg_data = esg_score_weight(pd.read_excel('data/ESG_DATA.xlsx'), np.array([1/3,1/3,1/3]))\n",
    "full_data = stock_monthly_close(esg_data, dates=('2003-01-01','2023-01-01'))\n",
    "prices, esg = seperate_full_data(full_data)\n",
    "#prices = currency_rates(prices)\n",
    "#prices = pd.read_csv('data/PRICES.csv')"
   ]
  },
  {
   "cell_type": "code",
   "execution_count": 4,
   "metadata": {},
   "outputs": [],
   "source": [
    "prices = filter_prices(prices, 0, 10)\n",
    "returns_pct_change = pct_returns_from_prices(prices)"
   ]
  },
  {
   "cell_type": "code",
   "execution_count": 5,
   "metadata": {},
   "outputs": [
    {
     "data": {
      "text/html": [
       "<div>\n",
       "<style scoped>\n",
       "    .dataframe tbody tr th:only-of-type {\n",
       "        vertical-align: middle;\n",
       "    }\n",
       "\n",
       "    .dataframe tbody tr th {\n",
       "        vertical-align: top;\n",
       "    }\n",
       "\n",
       "    .dataframe thead th {\n",
       "        text-align: right;\n",
       "    }\n",
       "</style>\n",
       "<table border=\"1\" class=\"dataframe\">\n",
       "  <thead>\n",
       "    <tr style=\"text-align: right;\">\n",
       "      <th></th>\n",
       "      <th>ABB.ST</th>\n",
       "      <th>ADDT-B.ST</th>\n",
       "      <th>ALFA.ST</th>\n",
       "      <th>ATRLJ-B.ST</th>\n",
       "      <th>AXFO.ST</th>\n",
       "      <th>AZA.ST</th>\n",
       "      <th>AZN.ST</th>\n",
       "      <th>BALD-B.ST</th>\n",
       "      <th>BILL.ST</th>\n",
       "      <th>BINV.ST</th>\n",
       "    </tr>\n",
       "  </thead>\n",
       "  <tbody>\n",
       "    <tr>\n",
       "      <th>2013-01-01</th>\n",
       "      <td>0.243898</td>\n",
       "      <td>0.241772</td>\n",
       "      <td>0.267213</td>\n",
       "      <td>0.204185</td>\n",
       "      <td>0.074351</td>\n",
       "      <td>0.306726</td>\n",
       "      <td>0.022921</td>\n",
       "      <td>0.215893</td>\n",
       "      <td>0.124915</td>\n",
       "      <td>0.025024</td>\n",
       "    </tr>\n",
       "    <tr>\n",
       "      <th>2014-01-01</th>\n",
       "      <td>0.165201</td>\n",
       "      <td>0.249201</td>\n",
       "      <td>0.215422</td>\n",
       "      <td>0.183969</td>\n",
       "      <td>0.082331</td>\n",
       "      <td>0.253804</td>\n",
       "      <td>0.032610</td>\n",
       "      <td>0.212273</td>\n",
       "      <td>0.125615</td>\n",
       "      <td>0.036132</td>\n",
       "    </tr>\n",
       "    <tr>\n",
       "      <th>2015-01-01</th>\n",
       "      <td>0.172020</td>\n",
       "      <td>0.232561</td>\n",
       "      <td>0.208630</td>\n",
       "      <td>0.178944</td>\n",
       "      <td>0.121589</td>\n",
       "      <td>0.240725</td>\n",
       "      <td>0.099386</td>\n",
       "      <td>0.283921</td>\n",
       "      <td>0.169342</td>\n",
       "      <td>0.042031</td>\n",
       "    </tr>\n",
       "    <tr>\n",
       "      <th>2016-01-01</th>\n",
       "      <td>0.086824</td>\n",
       "      <td>0.180402</td>\n",
       "      <td>0.164978</td>\n",
       "      <td>0.145927</td>\n",
       "      <td>0.130839</td>\n",
       "      <td>0.175572</td>\n",
       "      <td>0.058146</td>\n",
       "      <td>0.323831</td>\n",
       "      <td>0.189244</td>\n",
       "      <td>0.016269</td>\n",
       "    </tr>\n",
       "    <tr>\n",
       "      <th>2017-01-01</th>\n",
       "      <td>0.079256</td>\n",
       "      <td>0.164325</td>\n",
       "      <td>0.102611</td>\n",
       "      <td>0.085141</td>\n",
       "      <td>0.103073</td>\n",
       "      <td>0.175575</td>\n",
       "      <td>0.038564</td>\n",
       "      <td>0.292019</td>\n",
       "      <td>0.181011</td>\n",
       "      <td>-0.025663</td>\n",
       "    </tr>\n",
       "    <tr>\n",
       "      <th>2018-01-01</th>\n",
       "      <td>0.058048</td>\n",
       "      <td>0.205358</td>\n",
       "      <td>0.117720</td>\n",
       "      <td>0.119800</td>\n",
       "      <td>0.119094</td>\n",
       "      <td>0.192971</td>\n",
       "      <td>0.096002</td>\n",
       "      <td>0.347008</td>\n",
       "      <td>0.229053</td>\n",
       "      <td>-0.071947</td>\n",
       "    </tr>\n",
       "    <tr>\n",
       "      <th>2019-01-01</th>\n",
       "      <td>0.064255</td>\n",
       "      <td>0.235233</td>\n",
       "      <td>0.147346</td>\n",
       "      <td>0.119994</td>\n",
       "      <td>0.156754</td>\n",
       "      <td>0.215847</td>\n",
       "      <td>0.093541</td>\n",
       "      <td>0.416139</td>\n",
       "      <td>0.327213</td>\n",
       "      <td>-0.063083</td>\n",
       "    </tr>\n",
       "    <tr>\n",
       "      <th>2020-01-01</th>\n",
       "      <td>0.068519</td>\n",
       "      <td>0.246279</td>\n",
       "      <td>0.109887</td>\n",
       "      <td>0.140874</td>\n",
       "      <td>0.148102</td>\n",
       "      <td>0.146763</td>\n",
       "      <td>0.121436</td>\n",
       "      <td>0.380974</td>\n",
       "      <td>0.145762</td>\n",
       "      <td>-0.124210</td>\n",
       "    </tr>\n",
       "    <tr>\n",
       "      <th>2021-01-01</th>\n",
       "      <td>0.067064</td>\n",
       "      <td>0.242704</td>\n",
       "      <td>0.073306</td>\n",
       "      <td>0.086988</td>\n",
       "      <td>0.141281</td>\n",
       "      <td>0.215248</td>\n",
       "      <td>0.123082</td>\n",
       "      <td>0.300821</td>\n",
       "      <td>0.139075</td>\n",
       "      <td>-0.083069</td>\n",
       "    </tr>\n",
       "    <tr>\n",
       "      <th>2022-01-01</th>\n",
       "      <td>0.100090</td>\n",
       "      <td>0.301754</td>\n",
       "      <td>0.110628</td>\n",
       "      <td>0.116094</td>\n",
       "      <td>0.153272</td>\n",
       "      <td>0.275072</td>\n",
       "      <td>0.142547</td>\n",
       "      <td>0.334539</td>\n",
       "      <td>0.143905</td>\n",
       "      <td>-0.070752</td>\n",
       "    </tr>\n",
       "    <tr>\n",
       "      <th>2023-01-01</th>\n",
       "      <td>0.104098</td>\n",
       "      <td>0.286394</td>\n",
       "      <td>0.113424</td>\n",
       "      <td>0.096139</td>\n",
       "      <td>0.172185</td>\n",
       "      <td>0.269049</td>\n",
       "      <td>0.176626</td>\n",
       "      <td>0.245007</td>\n",
       "      <td>0.095514</td>\n",
       "      <td>0.036244</td>\n",
       "    </tr>\n",
       "  </tbody>\n",
       "</table>\n",
       "</div>"
      ],
      "text/plain": [
       "              ABB.ST  ADDT-B.ST   ALFA.ST  ATRLJ-B.ST   AXFO.ST    AZA.ST  \\\n",
       "2013-01-01  0.243898   0.241772  0.267213    0.204185  0.074351  0.306726   \n",
       "2014-01-01  0.165201   0.249201  0.215422    0.183969  0.082331  0.253804   \n",
       "2015-01-01  0.172020   0.232561  0.208630    0.178944  0.121589  0.240725   \n",
       "2016-01-01  0.086824   0.180402  0.164978    0.145927  0.130839  0.175572   \n",
       "2017-01-01  0.079256   0.164325  0.102611    0.085141  0.103073  0.175575   \n",
       "2018-01-01  0.058048   0.205358  0.117720    0.119800  0.119094  0.192971   \n",
       "2019-01-01  0.064255   0.235233  0.147346    0.119994  0.156754  0.215847   \n",
       "2020-01-01  0.068519   0.246279  0.109887    0.140874  0.148102  0.146763   \n",
       "2021-01-01  0.067064   0.242704  0.073306    0.086988  0.141281  0.215248   \n",
       "2022-01-01  0.100090   0.301754  0.110628    0.116094  0.153272  0.275072   \n",
       "2023-01-01  0.104098   0.286394  0.113424    0.096139  0.172185  0.269049   \n",
       "\n",
       "              AZN.ST  BALD-B.ST   BILL.ST   BINV.ST  \n",
       "2013-01-01  0.022921   0.215893  0.124915  0.025024  \n",
       "2014-01-01  0.032610   0.212273  0.125615  0.036132  \n",
       "2015-01-01  0.099386   0.283921  0.169342  0.042031  \n",
       "2016-01-01  0.058146   0.323831  0.189244  0.016269  \n",
       "2017-01-01  0.038564   0.292019  0.181011 -0.025663  \n",
       "2018-01-01  0.096002   0.347008  0.229053 -0.071947  \n",
       "2019-01-01  0.093541   0.416139  0.327213 -0.063083  \n",
       "2020-01-01  0.121436   0.380974  0.145762 -0.124210  \n",
       "2021-01-01  0.123082   0.300821  0.139075 -0.083069  \n",
       "2022-01-01  0.142547   0.334539  0.143905 -0.070752  \n",
       "2023-01-01  0.176626   0.245007  0.095514  0.036244  "
      ]
     },
     "execution_count": 5,
     "metadata": {},
     "output_type": "execute_result"
    }
   ],
   "source": [
    "rolling_window_expected_return(returns_pct_change)"
   ]
  },
  {
   "cell_type": "code",
   "execution_count": 31,
   "metadata": {},
   "outputs": [
    {
     "name": "stderr",
     "output_type": "stream",
     "text": [
      "/Users/nicolaiveiglinarends/Library/CloudStorage/OneDrive-UniversityofCopenhagen/DatØk3/Bachelorprojekt_repo/BachelorThesis/src/efficient_frontier.py:39: OptimizeWarning: Unknown solver options: xtol, gtol, barrier_tol\n",
      "  result = minimize(function,\n",
      "/Users/nicolaiveiglinarends/Library/CloudStorage/OneDrive-UniversityofCopenhagen/DatØk3/Bachelorprojekt_repo/BachelorThesis/src/efficient_frontier.py:55: OptimizeWarning: Unknown solver options: xtol, gtol, barrier_tol\n",
      "  result = minimize(function,\n"
     ]
    },
    {
     "name": "stdout",
     "output_type": "stream",
     "text": [
      "Min. Risk = 11.687% => Return: 7.575%  Sharpe Ratio = 0.65\n",
      "Max. Sharpe Ratio = 1.23 => Return: 27.40%  Risk: 22.225%\n"
     ]
    },
    {
     "name": "stderr",
     "output_type": "stream",
     "text": [
      "/Users/nicolaiveiglinarends/Library/CloudStorage/OneDrive-UniversityofCopenhagen/DatØk3/Bachelorprojekt_repo/BachelorThesis/src/efficient_frontier.py:39: OptimizeWarning: Unknown solver options: xtol, gtol, barrier_tol\n",
      "  result = minimize(function,\n",
      "/Users/nicolaiveiglinarends/Library/CloudStorage/OneDrive-UniversityofCopenhagen/DatØk3/Bachelorprojekt_repo/BachelorThesis/src/efficient_frontier.py:55: OptimizeWarning: Unknown solver options: xtol, gtol, barrier_tol\n",
      "  result = minimize(function,\n"
     ]
    },
    {
     "name": "stdout",
     "output_type": "stream",
     "text": [
      "Min. Risk = 11.618% => Return: 8.412%  Sharpe Ratio = 0.72\n",
      "Max. Sharpe Ratio = 1.12 => Return: 20.02%  Risk: 17.927%\n"
     ]
    },
    {
     "name": "stderr",
     "output_type": "stream",
     "text": [
      "/Users/nicolaiveiglinarends/Library/CloudStorage/OneDrive-UniversityofCopenhagen/DatØk3/Bachelorprojekt_repo/BachelorThesis/src/efficient_frontier.py:39: OptimizeWarning: Unknown solver options: xtol, gtol, barrier_tol\n",
      "  result = minimize(function,\n",
      "/Users/nicolaiveiglinarends/Library/CloudStorage/OneDrive-UniversityofCopenhagen/DatØk3/Bachelorprojekt_repo/BachelorThesis/src/efficient_frontier.py:55: OptimizeWarning: Unknown solver options: xtol, gtol, barrier_tol\n",
      "  result = minimize(function,\n"
     ]
    },
    {
     "name": "stdout",
     "output_type": "stream",
     "text": [
      "Min. Risk = 12.170% => Return: 12.428%  Sharpe Ratio = 1.02\n",
      "Max. Sharpe Ratio = 1.21 => Return: 17.32%  Risk: 14.370%\n"
     ]
    },
    {
     "name": "stderr",
     "output_type": "stream",
     "text": [
      "/Users/nicolaiveiglinarends/Library/CloudStorage/OneDrive-UniversityofCopenhagen/DatØk3/Bachelorprojekt_repo/BachelorThesis/src/efficient_frontier.py:39: OptimizeWarning: Unknown solver options: xtol, gtol, barrier_tol\n",
      "  result = minimize(function,\n",
      "/Users/nicolaiveiglinarends/Library/CloudStorage/OneDrive-UniversityofCopenhagen/DatØk3/Bachelorprojekt_repo/BachelorThesis/src/efficient_frontier.py:55: OptimizeWarning: Unknown solver options: xtol, gtol, barrier_tol\n",
      "  result = minimize(function,\n"
     ]
    },
    {
     "name": "stdout",
     "output_type": "stream",
     "text": [
      "Min. Risk = 12.427% => Return: 8.242%  Sharpe Ratio = 0.66\n",
      "Max. Sharpe Ratio = 1.11 => Return: 23.05%  Risk: 20.777%\n"
     ]
    },
    {
     "name": "stderr",
     "output_type": "stream",
     "text": [
      "/Users/nicolaiveiglinarends/Library/CloudStorage/OneDrive-UniversityofCopenhagen/DatØk3/Bachelorprojekt_repo/BachelorThesis/src/efficient_frontier.py:39: OptimizeWarning: Unknown solver options: xtol, gtol, barrier_tol\n",
      "  result = minimize(function,\n",
      "/Users/nicolaiveiglinarends/Library/CloudStorage/OneDrive-UniversityofCopenhagen/DatØk3/Bachelorprojekt_repo/BachelorThesis/src/efficient_frontier.py:55: OptimizeWarning: Unknown solver options: xtol, gtol, barrier_tol\n",
      "  result = minimize(function,\n"
     ]
    },
    {
     "name": "stdout",
     "output_type": "stream",
     "text": [
      "Min. Risk = 12.616% => Return: 6.279%  Sharpe Ratio = 0.50\n",
      "Max. Sharpe Ratio = 1.01 => Return: 25.84%  Risk: 25.566%\n"
     ]
    },
    {
     "name": "stderr",
     "output_type": "stream",
     "text": [
      "/Users/nicolaiveiglinarends/Library/CloudStorage/OneDrive-UniversityofCopenhagen/DatØk3/Bachelorprojekt_repo/BachelorThesis/src/efficient_frontier.py:39: OptimizeWarning: Unknown solver options: xtol, gtol, barrier_tol\n",
      "  result = minimize(function,\n",
      "/Users/nicolaiveiglinarends/Library/CloudStorage/OneDrive-UniversityofCopenhagen/DatØk3/Bachelorprojekt_repo/BachelorThesis/src/efficient_frontier.py:55: OptimizeWarning: Unknown solver options: xtol, gtol, barrier_tol\n",
      "  result = minimize(function,\n"
     ]
    },
    {
     "name": "stdout",
     "output_type": "stream",
     "text": [
      "Min. Risk = 12.670% => Return: 9.484%  Sharpe Ratio = 0.75\n",
      "Max. Sharpe Ratio = 1.35 => Return: 30.99%  Risk: 22.899%\n"
     ]
    },
    {
     "name": "stderr",
     "output_type": "stream",
     "text": [
      "/Users/nicolaiveiglinarends/Library/CloudStorage/OneDrive-UniversityofCopenhagen/DatØk3/Bachelorprojekt_repo/BachelorThesis/src/efficient_frontier.py:39: OptimizeWarning: Unknown solver options: xtol, gtol, barrier_tol\n",
      "  result = minimize(function,\n",
      "/Users/nicolaiveiglinarends/Library/CloudStorage/OneDrive-UniversityofCopenhagen/DatØk3/Bachelorprojekt_repo/BachelorThesis/src/efficient_frontier.py:55: OptimizeWarning: Unknown solver options: xtol, gtol, barrier_tol\n",
      "  result = minimize(function,\n"
     ]
    },
    {
     "name": "stdout",
     "output_type": "stream",
     "text": [
      "Min. Risk = 11.247% => Return: 9.145%  Sharpe Ratio = 0.81\n",
      "Max. Sharpe Ratio = 1.77 => Return: 43.32%  Risk: 24.488%\n"
     ]
    },
    {
     "name": "stderr",
     "output_type": "stream",
     "text": [
      "/Users/nicolaiveiglinarends/Library/CloudStorage/OneDrive-UniversityofCopenhagen/DatØk3/Bachelorprojekt_repo/BachelorThesis/src/efficient_frontier.py:39: OptimizeWarning: Unknown solver options: xtol, gtol, barrier_tol\n",
      "  result = minimize(function,\n",
      "/Users/nicolaiveiglinarends/Library/CloudStorage/OneDrive-UniversityofCopenhagen/DatØk3/Bachelorprojekt_repo/BachelorThesis/src/efficient_frontier.py:55: OptimizeWarning: Unknown solver options: xtol, gtol, barrier_tol\n",
      "  result = minimize(function,\n"
     ]
    },
    {
     "name": "stdout",
     "output_type": "stream",
     "text": [
      "Min. Risk = 11.478% => Return: 9.905%  Sharpe Ratio = 0.86\n",
      "Max. Sharpe Ratio = 1.90 => Return: 47.72%  Risk: 25.179%\n"
     ]
    },
    {
     "name": "stderr",
     "output_type": "stream",
     "text": [
      "/Users/nicolaiveiglinarends/Library/CloudStorage/OneDrive-UniversityofCopenhagen/DatØk3/Bachelorprojekt_repo/BachelorThesis/src/efficient_frontier.py:39: OptimizeWarning: Unknown solver options: xtol, gtol, barrier_tol\n",
      "  result = minimize(function,\n",
      "/Users/nicolaiveiglinarends/Library/CloudStorage/OneDrive-UniversityofCopenhagen/DatØk3/Bachelorprojekt_repo/BachelorThesis/src/efficient_frontier.py:55: OptimizeWarning: Unknown solver options: xtol, gtol, barrier_tol\n",
      "  result = minimize(function,\n"
     ]
    },
    {
     "name": "stdout",
     "output_type": "stream",
     "text": [
      "Min. Risk = 12.266% => Return: 9.998%  Sharpe Ratio = 0.82\n",
      "Max. Sharpe Ratio = 1.62 => Return: 39.39%  Risk: 24.334%\n"
     ]
    },
    {
     "name": "stderr",
     "output_type": "stream",
     "text": [
      "/Users/nicolaiveiglinarends/Library/CloudStorage/OneDrive-UniversityofCopenhagen/DatØk3/Bachelorprojekt_repo/BachelorThesis/src/efficient_frontier.py:39: OptimizeWarning: Unknown solver options: xtol, gtol, barrier_tol\n",
      "  result = minimize(function,\n",
      "/Users/nicolaiveiglinarends/Library/CloudStorage/OneDrive-UniversityofCopenhagen/DatØk3/Bachelorprojekt_repo/BachelorThesis/src/efficient_frontier.py:55: OptimizeWarning: Unknown solver options: xtol, gtol, barrier_tol\n",
      "  result = minimize(function,\n"
     ]
    },
    {
     "name": "stdout",
     "output_type": "stream",
     "text": [
      "Min. Risk = 12.413% => Return: 12.027%  Sharpe Ratio = 0.97\n",
      "Max. Sharpe Ratio = 1.74 => Return: 38.93%  Risk: 22.331%\n"
     ]
    },
    {
     "name": "stderr",
     "output_type": "stream",
     "text": [
      "/Users/nicolaiveiglinarends/Library/CloudStorage/OneDrive-UniversityofCopenhagen/DatØk3/Bachelorprojekt_repo/BachelorThesis/src/efficient_frontier.py:39: OptimizeWarning: Unknown solver options: xtol, gtol, barrier_tol\n",
      "  result = minimize(function,\n",
      "/Users/nicolaiveiglinarends/Library/CloudStorage/OneDrive-UniversityofCopenhagen/DatØk3/Bachelorprojekt_repo/BachelorThesis/src/efficient_frontier.py:55: OptimizeWarning: Unknown solver options: xtol, gtol, barrier_tol\n",
      "  result = minimize(function,\n"
     ]
    },
    {
     "name": "stdout",
     "output_type": "stream",
     "text": [
      "Min. Risk = 13.035% => Return: 11.932%  Sharpe Ratio = 0.92\n",
      "Max. Sharpe Ratio = 1.44 => Return: 29.48%  Risk: 20.494%\n"
     ]
    }
   ],
   "source": [
    "parameters = rolling_window_efficient_frontier(returns_pct_change)"
   ]
  },
  {
   "cell_type": "code",
   "execution_count": 39,
   "metadata": {},
   "outputs": [
    {
     "data": {
      "image/png": "[encoded data removed]",
      "text/plain": [
       "<Figure size 640x480 with 1 Axes>"
      ]
     },
     "metadata": {},
     "output_type": "display_data"
    }
   ],
   "source": [
    "plot_efficient_frontier(parameters, plot_max_sharp=False)"
   ]
  },
  {
   "cell_type": "code",
   "execution_count": null,
   "metadata": {},
   "outputs": [],
   "source": []
  },
  {
   "cell_type": "code",
   "execution_count": 27,
   "metadata": {},
   "outputs": [
    {
     "name": "stdout",
     "output_type": "stream",
     "text": [
      "-------------------------- 2003-2013 --------------------------\n",
      "Min. Risk = 11.687% => Return: 7.575%  Sharpe Ratio = 0.65\n",
      "Max. Sharpe Ratio = 1.23 => Return: 27.40%  Risk: 22.225%\n"
     ]
    },
    {
     "name": "stderr",
     "output_type": "stream",
     "text": [
      "/Users/nicolaiveiglinarends/Library/CloudStorage/OneDrive-UniversityofCopenhagen/DatØk3/Bachelorprojekt_repo/BachelorThesis/src/efficient_frontier.py:39: OptimizeWarning: Unknown solver options: xtol, gtol, barrier_tol\n",
      "  result = minimize(function,\n",
      "/Users/nicolaiveiglinarends/Library/CloudStorage/OneDrive-UniversityofCopenhagen/DatØk3/Bachelorprojekt_repo/BachelorThesis/src/efficient_frontier.py:55: OptimizeWarning: Unknown solver options: xtol, gtol, barrier_tol\n",
      "  result = minimize(function,\n"
     ]
    },
    {
     "name": "stdout",
     "output_type": "stream",
     "text": [
      "-------------------------- 2004-2014 --------------------------\n",
      "Min. Risk = 11.618% => Return: 8.412%  Sharpe Ratio = 0.72\n",
      "Max. Sharpe Ratio = 1.12 => Return: 20.02%  Risk: 17.927%\n"
     ]
    },
    {
     "name": "stderr",
     "output_type": "stream",
     "text": [
      "/Users/nicolaiveiglinarends/Library/CloudStorage/OneDrive-UniversityofCopenhagen/DatØk3/Bachelorprojekt_repo/BachelorThesis/src/efficient_frontier.py:39: OptimizeWarning: Unknown solver options: xtol, gtol, barrier_tol\n",
      "  result = minimize(function,\n",
      "/Users/nicolaiveiglinarends/Library/CloudStorage/OneDrive-UniversityofCopenhagen/DatØk3/Bachelorprojekt_repo/BachelorThesis/src/efficient_frontier.py:55: OptimizeWarning: Unknown solver options: xtol, gtol, barrier_tol\n",
      "  result = minimize(function,\n"
     ]
    },
    {
     "name": "stdout",
     "output_type": "stream",
     "text": [
      "-------------------------- 2005-2015 --------------------------\n",
      "Min. Risk = 12.170% => Return: 12.428%  Sharpe Ratio = 1.02\n",
      "Max. Sharpe Ratio = 1.21 => Return: 17.32%  Risk: 14.370%\n"
     ]
    },
    {
     "name": "stderr",
     "output_type": "stream",
     "text": [
      "/Users/nicolaiveiglinarends/Library/CloudStorage/OneDrive-UniversityofCopenhagen/DatØk3/Bachelorprojekt_repo/BachelorThesis/src/efficient_frontier.py:39: OptimizeWarning: Unknown solver options: xtol, gtol, barrier_tol\n",
      "  result = minimize(function,\n",
      "/Users/nicolaiveiglinarends/Library/CloudStorage/OneDrive-UniversityofCopenhagen/DatØk3/Bachelorprojekt_repo/BachelorThesis/src/efficient_frontier.py:55: OptimizeWarning: Unknown solver options: xtol, gtol, barrier_tol\n",
      "  result = minimize(function,\n"
     ]
    },
    {
     "name": "stdout",
     "output_type": "stream",
     "text": [
      "-------------------------- 2006-2016 --------------------------\n",
      "Min. Risk = 12.427% => Return: 8.242%  Sharpe Ratio = 0.66\n",
      "Max. Sharpe Ratio = 1.11 => Return: 23.05%  Risk: 20.777%\n"
     ]
    },
    {
     "name": "stderr",
     "output_type": "stream",
     "text": [
      "/Users/nicolaiveiglinarends/Library/CloudStorage/OneDrive-UniversityofCopenhagen/DatØk3/Bachelorprojekt_repo/BachelorThesis/src/efficient_frontier.py:39: OptimizeWarning: Unknown solver options: xtol, gtol, barrier_tol\n",
      "  result = minimize(function,\n",
      "/Users/nicolaiveiglinarends/Library/CloudStorage/OneDrive-UniversityofCopenhagen/DatØk3/Bachelorprojekt_repo/BachelorThesis/src/efficient_frontier.py:55: OptimizeWarning: Unknown solver options: xtol, gtol, barrier_tol\n",
      "  result = minimize(function,\n"
     ]
    },
    {
     "name": "stdout",
     "output_type": "stream",
     "text": [
      "-------------------------- 2007-2017 --------------------------\n",
      "Min. Risk = 12.616% => Return: 6.279%  Sharpe Ratio = 0.50\n",
      "Max. Sharpe Ratio = 1.01 => Return: 25.84%  Risk: 25.566%\n"
     ]
    },
    {
     "name": "stderr",
     "output_type": "stream",
     "text": [
      "/Users/nicolaiveiglinarends/Library/CloudStorage/OneDrive-UniversityofCopenhagen/DatØk3/Bachelorprojekt_repo/BachelorThesis/src/efficient_frontier.py:39: OptimizeWarning: Unknown solver options: xtol, gtol, barrier_tol\n",
      "  result = minimize(function,\n",
      "/Users/nicolaiveiglinarends/Library/CloudStorage/OneDrive-UniversityofCopenhagen/DatØk3/Bachelorprojekt_repo/BachelorThesis/src/efficient_frontier.py:55: OptimizeWarning: Unknown solver options: xtol, gtol, barrier_tol\n",
      "  result = minimize(function,\n"
     ]
    },
    {
     "ename": "KeyboardInterrupt",
     "evalue": "",
     "output_type": "error",
     "traceback": [
      "\u001b[0;31m---------------------------------------------------------------------------\u001b[0m",
      "\u001b[0;31mKeyboardInterrupt\u001b[0m                         Traceback (most recent call last)",
      "Cell \u001b[0;32mIn[27], line 13\u001b[0m\n\u001b[1;32m      9\u001b[0m ret_port \u001b[39m=\u001b[39m mean_return_annual(sample_rolling_window)\n\u001b[1;32m     11\u001b[0m cov_port \u001b[39m=\u001b[39m covariance_matrix_annual(sample_rolling_window)\n\u001b[0;32m---> 13\u001b[0m parameters\u001b[39m.\u001b[39mappend(calculate_efficient_frontier(ret_port, cov_port))\n",
      "File \u001b[0;32m~/Library/CloudStorage/OneDrive-UniversityofCopenhagen/DatØk3/Bachelorprojekt_repo/BachelorThesis/src/efficient_frontier.py:95\u001b[0m, in \u001b[0;36mcalculate_efficient_frontier\u001b[0;34m(ret_port, cov_port)\u001b[0m\n\u001b[1;32m     93\u001b[0m     \u001b[39m#Define a function to calculate volatility\u001b[39;00m\n\u001b[1;32m     94\u001b[0m     fun \u001b[39m=\u001b[39m \u001b[39mlambda\u001b[39;00m weights: portfolio_std(cov_port, weights)\n\u001b[0;32m---> 95\u001b[0m     result \u001b[39m=\u001b[39m minimize(fun,\n\u001b[1;32m     96\u001b[0m                       x0, \n\u001b[1;32m     97\u001b[0m                       method\u001b[39m=\u001b[39;49m\u001b[39m'\u001b[39;49m\u001b[39mSLSQP\u001b[39;49m\u001b[39m'\u001b[39;49m, \n\u001b[1;32m     98\u001b[0m                       bounds\u001b[39m=\u001b[39;49mbounds, \n\u001b[1;32m     99\u001b[0m                       constraints\u001b[39m=\u001b[39;49mcons)\n\u001b[1;32m    100\u001b[0m     frontier_x\u001b[39m.\u001b[39mappend(result[\u001b[39m'\u001b[39m\u001b[39mfun\u001b[39m\u001b[39m'\u001b[39m])\n\u001b[1;32m    102\u001b[0m frontier_x \u001b[39m=\u001b[39m np\u001b[39m.\u001b[39marray(frontier_x)\n",
      "File \u001b[0;32m~/opt/anaconda3/envs/py311/lib/python3.11/site-packages/scipy/optimize/_minimize.py:705\u001b[0m, in \u001b[0;36mminimize\u001b[0;34m(fun, x0, args, method, jac, hess, hessp, bounds, constraints, tol, callback, options)\u001b[0m\n\u001b[1;32m    702\u001b[0m     res \u001b[39m=\u001b[39m _minimize_cobyla(fun, x0, args, constraints, callback\u001b[39m=\u001b[39mcallback,\n\u001b[1;32m    703\u001b[0m                             \u001b[39m*\u001b[39m\u001b[39m*\u001b[39moptions)\n\u001b[1;32m    704\u001b[0m \u001b[39melif\u001b[39;00m meth \u001b[39m==\u001b[39m \u001b[39m'\u001b[39m\u001b[39mslsqp\u001b[39m\u001b[39m'\u001b[39m:\n\u001b[0;32m--> 705\u001b[0m     res \u001b[39m=\u001b[39m _minimize_slsqp(fun, x0, args, jac, bounds,\n\u001b[1;32m    706\u001b[0m                           constraints, callback\u001b[39m=\u001b[39;49mcallback, \u001b[39m*\u001b[39;49m\u001b[39m*\u001b[39;49moptions)\n\u001b[1;32m    707\u001b[0m \u001b[39melif\u001b[39;00m meth \u001b[39m==\u001b[39m \u001b[39m'\u001b[39m\u001b[39mtrust-constr\u001b[39m\u001b[39m'\u001b[39m:\n\u001b[1;32m    708\u001b[0m     res \u001b[39m=\u001b[39m _minimize_trustregion_constr(fun, x0, args, jac, hess, hessp,\n\u001b[1;32m    709\u001b[0m                                        bounds, constraints,\n\u001b[1;32m    710\u001b[0m                                        callback\u001b[39m=\u001b[39mcallback, \u001b[39m*\u001b[39m\u001b[39m*\u001b[39moptions)\n",
      "File \u001b[0;32m~/opt/anaconda3/envs/py311/lib/python3.11/site-packages/scipy/optimize/_slsqp_py.py:432\u001b[0m, in \u001b[0;36m_minimize_slsqp\u001b[0;34m(func, x0, args, jac, bounds, constraints, maxiter, ftol, iprint, disp, eps, callback, finite_diff_rel_step, **unknown_options)\u001b[0m\n\u001b[1;32m    429\u001b[0m     c \u001b[39m=\u001b[39m _eval_constraint(x, cons)\n\u001b[1;32m    431\u001b[0m \u001b[39mif\u001b[39;00m mode \u001b[39m==\u001b[39m \u001b[39m-\u001b[39m\u001b[39m1\u001b[39m:  \u001b[39m# gradient evaluation required\u001b[39;00m\n\u001b[0;32m--> 432\u001b[0m     g \u001b[39m=\u001b[39m append(wrapped_grad(x), \u001b[39m0.0\u001b[39m)\n\u001b[1;32m    433\u001b[0m     a \u001b[39m=\u001b[39m _eval_con_normals(x, cons, la, n, m, meq, mieq)\n\u001b[1;32m    435\u001b[0m \u001b[39mif\u001b[39;00m majiter \u001b[39m>\u001b[39m majiter_prev:\n\u001b[1;32m    436\u001b[0m     \u001b[39m# call callback if major iteration has incremented\u001b[39;00m\n",
      "File \u001b[0;32m~/opt/anaconda3/envs/py311/lib/python3.11/site-packages/scipy/optimize/_optimize.py:346\u001b[0m, in \u001b[0;36m_clip_x_for_func.<locals>.eval\u001b[0;34m(x)\u001b[0m\n\u001b[1;32m    344\u001b[0m \u001b[39mdef\u001b[39;00m \u001b[39meval\u001b[39m(x):\n\u001b[1;32m    345\u001b[0m     x \u001b[39m=\u001b[39m _check_clip_x(x, bounds)\n\u001b[0;32m--> 346\u001b[0m     \u001b[39mreturn\u001b[39;00m func(x)\n",
      "File \u001b[0;32m~/opt/anaconda3/envs/py311/lib/python3.11/site-packages/scipy/optimize/_differentiable_functions.py:273\u001b[0m, in \u001b[0;36mScalarFunction.grad\u001b[0;34m(self, x)\u001b[0m\n\u001b[1;32m    271\u001b[0m \u001b[39mif\u001b[39;00m \u001b[39mnot\u001b[39;00m np\u001b[39m.\u001b[39marray_equal(x, \u001b[39mself\u001b[39m\u001b[39m.\u001b[39mx):\n\u001b[1;32m    272\u001b[0m     \u001b[39mself\u001b[39m\u001b[39m.\u001b[39m_update_x_impl(x)\n\u001b[0;32m--> 273\u001b[0m \u001b[39mself\u001b[39;49m\u001b[39m.\u001b[39;49m_update_grad()\n\u001b[1;32m    274\u001b[0m \u001b[39mreturn\u001b[39;00m \u001b[39mself\u001b[39m\u001b[39m.\u001b[39mg\n",
      "File \u001b[0;32m~/opt/anaconda3/envs/py311/lib/python3.11/site-packages/scipy/optimize/_differentiable_functions.py:256\u001b[0m, in \u001b[0;36mScalarFunction._update_grad\u001b[0;34m(self)\u001b[0m\n\u001b[1;32m    254\u001b[0m \u001b[39mdef\u001b[39;00m \u001b[39m_update_grad\u001b[39m(\u001b[39mself\u001b[39m):\n\u001b[1;32m    255\u001b[0m     \u001b[39mif\u001b[39;00m \u001b[39mnot\u001b[39;00m \u001b[39mself\u001b[39m\u001b[39m.\u001b[39mg_updated:\n\u001b[0;32m--> 256\u001b[0m         \u001b[39mself\u001b[39;49m\u001b[39m.\u001b[39;49m_update_grad_impl()\n\u001b[1;32m    257\u001b[0m         \u001b[39mself\u001b[39m\u001b[39m.\u001b[39mg_updated \u001b[39m=\u001b[39m \u001b[39mTrue\u001b[39;00m\n",
      "File \u001b[0;32m~/opt/anaconda3/envs/py311/lib/python3.11/site-packages/scipy/optimize/_differentiable_functions.py:173\u001b[0m, in \u001b[0;36mScalarFunction.__init__.<locals>.update_grad\u001b[0;34m()\u001b[0m\n\u001b[1;32m    171\u001b[0m \u001b[39mself\u001b[39m\u001b[39m.\u001b[39m_update_fun()\n\u001b[1;32m    172\u001b[0m \u001b[39mself\u001b[39m\u001b[39m.\u001b[39mngev \u001b[39m+\u001b[39m\u001b[39m=\u001b[39m \u001b[39m1\u001b[39m\n\u001b[0;32m--> 173\u001b[0m \u001b[39mself\u001b[39m\u001b[39m.\u001b[39mg \u001b[39m=\u001b[39m approx_derivative(fun_wrapped, \u001b[39mself\u001b[39;49m\u001b[39m.\u001b[39;49mx, f0\u001b[39m=\u001b[39;49m\u001b[39mself\u001b[39;49m\u001b[39m.\u001b[39;49mf,\n\u001b[1;32m    174\u001b[0m                            \u001b[39m*\u001b[39;49m\u001b[39m*\u001b[39;49mfinite_diff_options)\n",
      "File \u001b[0;32m~/opt/anaconda3/envs/py311/lib/python3.11/site-packages/scipy/optimize/_numdiff.py:505\u001b[0m, in \u001b[0;36mapprox_derivative\u001b[0;34m(fun, x0, method, rel_step, abs_step, f0, bounds, sparsity, as_linear_operator, args, kwargs)\u001b[0m\n\u001b[1;32m    502\u001b[0m     use_one_sided \u001b[39m=\u001b[39m \u001b[39mFalse\u001b[39;00m\n\u001b[1;32m    504\u001b[0m \u001b[39mif\u001b[39;00m sparsity \u001b[39mis\u001b[39;00m \u001b[39mNone\u001b[39;00m:\n\u001b[0;32m--> 505\u001b[0m     \u001b[39mreturn\u001b[39;00m _dense_difference(fun_wrapped, x0, f0, h,\n\u001b[1;32m    506\u001b[0m                              use_one_sided, method)\n\u001b[1;32m    507\u001b[0m \u001b[39melse\u001b[39;00m:\n\u001b[1;32m    508\u001b[0m     \u001b[39mif\u001b[39;00m \u001b[39mnot\u001b[39;00m issparse(sparsity) \u001b[39mand\u001b[39;00m \u001b[39mlen\u001b[39m(sparsity) \u001b[39m==\u001b[39m \u001b[39m2\u001b[39m:\n",
      "File \u001b[0;32m~/opt/anaconda3/envs/py311/lib/python3.11/site-packages/scipy/optimize/_numdiff.py:576\u001b[0m, in \u001b[0;36m_dense_difference\u001b[0;34m(fun, x0, f0, h, use_one_sided, method)\u001b[0m\n\u001b[1;32m    574\u001b[0m     x \u001b[39m=\u001b[39m x0 \u001b[39m+\u001b[39m h_vecs[i]\n\u001b[1;32m    575\u001b[0m     dx \u001b[39m=\u001b[39m x[i] \u001b[39m-\u001b[39m x0[i]  \u001b[39m# Recompute dx as exactly representable number.\u001b[39;00m\n\u001b[0;32m--> 576\u001b[0m     df \u001b[39m=\u001b[39m fun(x) \u001b[39m-\u001b[39m f0\n\u001b[1;32m    577\u001b[0m \u001b[39melif\u001b[39;00m method \u001b[39m==\u001b[39m \u001b[39m'\u001b[39m\u001b[39m3-point\u001b[39m\u001b[39m'\u001b[39m \u001b[39mand\u001b[39;00m use_one_sided[i]:\n\u001b[1;32m    578\u001b[0m     x1 \u001b[39m=\u001b[39m x0 \u001b[39m+\u001b[39m h_vecs[i]\n",
      "File \u001b[0;32m~/opt/anaconda3/envs/py311/lib/python3.11/site-packages/scipy/optimize/_numdiff.py:456\u001b[0m, in \u001b[0;36mapprox_derivative.<locals>.fun_wrapped\u001b[0;34m(x)\u001b[0m\n\u001b[1;32m    455\u001b[0m \u001b[39mdef\u001b[39;00m \u001b[39mfun_wrapped\u001b[39m(x):\n\u001b[0;32m--> 456\u001b[0m     f \u001b[39m=\u001b[39m np\u001b[39m.\u001b[39matleast_1d(fun(x, \u001b[39m*\u001b[39;49margs, \u001b[39m*\u001b[39;49m\u001b[39m*\u001b[39;49mkwargs))\n\u001b[1;32m    457\u001b[0m     \u001b[39mif\u001b[39;00m f\u001b[39m.\u001b[39mndim \u001b[39m>\u001b[39m \u001b[39m1\u001b[39m:\n\u001b[1;32m    458\u001b[0m         \u001b[39mraise\u001b[39;00m \u001b[39mRuntimeError\u001b[39;00m(\u001b[39m\"\u001b[39m\u001b[39m`fun` return value has \u001b[39m\u001b[39m\"\u001b[39m\n\u001b[1;32m    459\u001b[0m                            \u001b[39m\"\u001b[39m\u001b[39mmore than 1 dimension.\u001b[39m\u001b[39m\"\u001b[39m)\n",
      "File \u001b[0;32m~/opt/anaconda3/envs/py311/lib/python3.11/site-packages/scipy/optimize/_differentiable_functions.py:139\u001b[0m, in \u001b[0;36mScalarFunction.__init__.<locals>.fun_wrapped\u001b[0;34m(x)\u001b[0m\n\u001b[1;32m    137\u001b[0m fx \u001b[39m=\u001b[39m fun(np\u001b[39m.\u001b[39mcopy(x), \u001b[39m*\u001b[39margs)\n\u001b[1;32m    138\u001b[0m \u001b[39m# Make sure the function returns a true scalar\u001b[39;00m\n\u001b[0;32m--> 139\u001b[0m \u001b[39mif\u001b[39;00m \u001b[39mnot\u001b[39;00m np\u001b[39m.\u001b[39;49misscalar(fx):\n\u001b[1;32m    140\u001b[0m     \u001b[39mtry\u001b[39;00m:\n\u001b[1;32m    141\u001b[0m         fx \u001b[39m=\u001b[39m np\u001b[39m.\u001b[39masarray(fx)\u001b[39m.\u001b[39mitem()\n",
      "File \u001b[0;32m~/opt/anaconda3/envs/py311/lib/python3.11/site-packages/numpy/core/numeric.py:1878\u001b[0m, in \u001b[0;36misscalar\u001b[0;34m(element)\u001b[0m\n\u001b[1;32m   1874\u001b[0m \u001b[39mdef\u001b[39;00m \u001b[39m_frombuffer\u001b[39m(buf, dtype, shape, order):\n\u001b[1;32m   1875\u001b[0m     \u001b[39mreturn\u001b[39;00m frombuffer(buf, dtype\u001b[39m=\u001b[39mdtype)\u001b[39m.\u001b[39mreshape(shape, order\u001b[39m=\u001b[39morder)\n\u001b[0;32m-> 1878\u001b[0m \u001b[39m@set_module\u001b[39m(\u001b[39m'\u001b[39m\u001b[39mnumpy\u001b[39m\u001b[39m'\u001b[39m)\n\u001b[1;32m   1879\u001b[0m \u001b[39mdef\u001b[39;00m \u001b[39misscalar\u001b[39m(element):\n\u001b[1;32m   1880\u001b[0m \u001b[39m    \u001b[39m\u001b[39m\"\"\"\u001b[39;00m\n\u001b[1;32m   1881\u001b[0m \u001b[39m    Returns True if the type of `element` is a scalar type.\u001b[39;00m\n\u001b[1;32m   1882\u001b[0m \n\u001b[0;32m   (...)\u001b[0m\n\u001b[1;32m   1952\u001b[0m \n\u001b[1;32m   1953\u001b[0m \u001b[39m    \"\"\"\u001b[39;00m\n\u001b[1;32m   1954\u001b[0m     \u001b[39mreturn\u001b[39;00m (\u001b[39misinstance\u001b[39m(element, generic)\n\u001b[1;32m   1955\u001b[0m             \u001b[39mor\u001b[39;00m \u001b[39mtype\u001b[39m(element) \u001b[39min\u001b[39;00m ScalarType\n\u001b[1;32m   1956\u001b[0m             \u001b[39mor\u001b[39;00m \u001b[39misinstance\u001b[39m(element, numbers\u001b[39m.\u001b[39mNumber))\n",
      "\u001b[0;31mKeyboardInterrupt\u001b[0m: "
     ]
    }
   ],
   "source": [
    "parameters = []\n",
    "for i in range(0, 11):\n",
    "  #r_opt_set = set()\n",
    "  print(f\"-------------------------- 20{3+i:02d}-20{13+i:02d} --------------------------\")\n",
    "\n",
    "  # define the rolling window\n",
    "  sample_rolling_window = returns_pct_change[i*12:i*12+(12*10)]\n",
    "\n",
    "  ret_port = mean_return_annual(sample_rolling_window)\n",
    "\n",
    "  cov_port = covariance_matrix_annual(sample_rolling_window)\n",
    "\n",
    "  parameters.append(calculate_efficient_frontier(ret_port, cov_port))\n"
   ]
  },
  {
   "cell_type": "code",
   "execution_count": null,
   "metadata": {},
   "outputs": [],
   "source": [
    "#mpl.style.use('classic')\n",
    "mpl.style.use('default')\n",
    "\n",
    "fig, ax = plt.subplots()\n",
    "plt.title('Efficient Frontier with Max Sharp Ratio', fontsize=12)\n",
    "plt.xlabel('Risk/Volatility')\n",
    "plt.ylabel('Return')\n",
    "colors = ['r','b','k','m','g','c', 'lightslategrey', \"darkcyan\", \"purple\", \"orange\", \"olive\"]\n",
    "for i, x in enumerate(parameters):\n",
    "  opt_sr_vol, opt_sr_ret, opt_risk_vol,  opt_risk_ret, frontier_x, frontier_y, _ = x\n",
    "  #ax.plot(opt_sr_vol, opt_sr_ret,'*', markersize=20, label=f'20{3+i:02d}-20{13+i:02d} Max Sharpe') # red star\n",
    "  plt.plot(opt_sr_vol,  opt_sr_ret, marker='o', color = f'{colors[i]}', markersize=8, label=f'20{3+i:02d}-20{13+i:02d} Max Sharp Ratio') # red dot\n",
    "  plt.plot(frontier_x, frontier_y, linestyle='--', color = f'{colors[i]}', linewidth=2, label=f'20{3+i:02d}-20{13+i:02d} Efficient Frontier') # red dashed line\n",
    "  \n",
    "  #ax.scatter(x[2], x[1], marker=\"*\", s=100, label=f\"20{3+i:02d}-20{13+i:02d} Max Sharpe\")\n",
    "plt.xlim([0.0,0.4])\n",
    "plt.ylim([-0.2,1])\n",
    "plt.legend(bbox_to_anchor =(0.5, 0.9, 1, 0), ncol = 1, fontsize=\"small\")\n",
    "#fig_path = os.path.join(PLOTS_PATH, f\"efficient_frontier.png\")\n",
    "#plt.savefig(fig_path, dpi=150,bbox_inches=\"tight\")\n",
    "plt.show()"
   ]
  },
  {
   "cell_type": "code",
   "execution_count": null,
   "metadata": {},
   "outputs": [],
   "source": [
    "#mpl.style.use('classic')\n",
    "mpl.style.use('default')\n",
    "\n",
    "fig, ax = plt.subplots()\n",
    "plt.title('Efficient Frontier with Minimum Risk/Risk Aversion', fontsize=12)\n",
    "plt.xlabel('Risk/Volatility')\n",
    "plt.ylabel('Return')\n",
    "colors = ['r','b','k','m','g','c', 'lightslategrey', \"darkcyan\", \"purple\", \"orange\", \"olive\"]\n",
    "for i, x in enumerate(parameters):\n",
    "  opt_sr_vol, opt_sr_ret, opt_risk_vol,  opt_risk_ret, frontier_x, frontier_y, _ = x\n",
    "  #ax.plot(opt_sr_vol, opt_sr_ret,'*', markersize=20, label=f'20{3+i:02d}-20{13+i:02d} Max Sharpe') # red star\n",
    "  plt.plot(opt_risk_vol,  opt_risk_ret, marker='o', color = f'{colors[i]}', markersize=8, label=f'20{3+i:02d}-20{13+i:02d} Minimum Risk') # red dot\n",
    "  plt.plot(frontier_x, frontier_y, linestyle='--', color = f'{colors[i]}', linewidth=2, label=f'20{3+i:02d}-20{13+i:02d} Efficient Frontier') # red dashed line\n",
    "  \n",
    "  #ax.scatter(x[2], x[1], marker=\"*\", s=100, label=f\"20{3+i:02d}-20{13+i:02d} Max Sharpe\")\n",
    "plt.xlim([0.03,0.1])\n",
    "plt.ylim([-0.1,0.4])\n",
    "plt.legend(bbox_to_anchor =(0.5, 0.9, 1, 0), ncol = 1, fontsize=\"small\")\n",
    "#fig_path = os.path.join(PLOTS_PATH, f\"efficient_frontier.png\")\n",
    "#plt.savefig(fig_path, dpi=150,bbox_inches=\"tight\")\n",
    "plt.show()"
   ]
  },
  {
   "cell_type": "code",
   "execution_count": null,
   "metadata": {},
   "outputs": [],
   "source": [
    "portfolio_mean(df)"
   ]
  },
  {
   "cell_type": "code",
   "execution_count": null,
   "metadata": {},
   "outputs": [],
   "source": [
    "cov = portfolio_covariance(df)\n",
    "portfolio_std(cov, w)"
   ]
  },
  {
   "cell_type": "code",
   "execution_count": null,
   "metadata": {},
   "outputs": [],
   "source": [
    "portfolio_sharp_ratio(df, w, cov)"
   ]
  },
  {
   "cell_type": "code",
   "execution_count": null,
   "metadata": {},
   "outputs": [],
   "source": [
    "#bounds = Bounds(-2, 5)\n",
    "\n",
    "#Create x0, the first guess at the values of each asset's weight.\n",
    "#w0 = np.linspace(start=1, stop=0, num=cov.shape[1])\n",
    "#x0 = w0/np.sum(w0)\n",
    "# All weights between 0 and 1\n",
    "# # The second boundary is the sum of weights.\n",
    "#linear_constraint = LinearConstraint(np.ones((cov.shape[1],), dtype=int),1,1)\n",
    "#options = {'xtol': 1e-07, 'gtol': 1e-07, 'barrier_tol': 1e-07, 'maxiter': 1000}\n",
    " "
   ]
  },
  {
   "cell_type": "code",
   "execution_count": null,
   "metadata": {},
   "outputs": [],
   "source": [
    "def portfolio_minimize_risk(port_return, \n",
    "                                port_covariance, \n",
    "                                esg_data, \n",
    "                                x0,\n",
    "                                linear_constraint, \n",
    "                                bounds, \n",
    "                                options = None):\n",
    "    \"\"\"\n",
    "    Function that will take different inputs including esg score data and compute the minimum risk of different portfolios \n",
    "    :param: A dataframe of the portfolio covariance matrix\n",
    "    :param: A dataframe of esg scores of the different assets in portfolio\n",
    "    :param: x0 argument that is the initial guess for the minimizer\n",
    "    :param: Linear constraints for the minimizer\n",
    "    :param: Bounds for the minimizer\n",
    "    :param: \n",
    "    :param: Options for the minimizer\n",
    "    :returns: A dataframe containing portfolio weight choice for minimizing portfolio risk using esg scores\n",
    "    \"\"\"\n",
    "    \n",
    "    results = {'esg':[],\n",
    "               'weights':[],\n",
    "               'risk':[],\n",
    "               'return':[]}\n",
    "    \n",
    "    function = lambda weight: portfolio_std(port_cov=port_covariance, weights=weight)\n",
    "    constraint_esg = {'type': 'eq', 'fun': lambda weight: np.dot(weight, esg_data)}\n",
    "    result = minimize(function, \n",
    "                      x0, \n",
    "                      method='trust-constr', \n",
    "                      bounds=bounds, \n",
    "                      constraints=[linear_constraint, constraint_esg], \n",
    "                      options=options)\n",
    "   \n",
    "    optimal_weights = list(result['x'])\n",
    "    print(optimal_weights)\n",
    "    optimal_esg = np.dot(optimal_weights, esg_data)\n",
    "    results['esg'].append(optimal_esg)\n",
    "    results['weights'].append(optimal_weights)\n",
    "    results['risk'].append(result['fun'])\n",
    "    results['return'].append(np.dot(optimal_weights, port_return.sum()))\n",
    "\n",
    "    return results\n"
   ]
  },
  {
   "cell_type": "code",
   "execution_count": null,
   "metadata": {},
   "outputs": [],
   "source": [
    "# set the window size\n",
    "#window_size = 2\n",
    "\n",
    "# make different lists to append data in every window\n",
    "#expected_return = []\n",
    "#expected_year = []\n",
    "\n",
    "#def simple_return(beginning_price, end_price):\n",
    "#  return ((end_price-beginning_price)/beginning_price)\n",
    "\n",
    "#def annual_return(simple_return, years_held):\n",
    "#  return (((simple_return+1)**(1/years_held))-1)\n",
    "\n",
    "# setup af loop to iterate through window and make calculations\n",
    "#for i in range(0, 6):\n",
    "\n",
    "  # define the rolling window\n",
    "#  sample_rolling_window = df[i*12:i*12+(12*window_size)]\n",
    "\n",
    "  # calculate the expected return as a dataframe\n",
    "#  window_monthly_returns = pd.DataFrame()\n",
    "#  window_monthly_returns = sample_rolling_window\n",
    "#  simple_window_yearly_returns_mean = simple_return(window_monthly_returns.iloc[0], window_monthly_returns.iloc[-1])\n",
    "#  annual_window_return = annual_return(simple_window_yearly_returns_mean, window_size)\n",
    "\n",
    "  # append the results of expected return and the years to list\n",
    "#  expected_return.append(annual_window_return)\n",
    "\n",
    "# make list of expected return into a dataframe\n",
    "#for x in range(2013, 2024):\n",
    "#  expected_year.append(dt(x,1,1))\n",
    "  \n",
    "#expected_return = pd.DataFrame(expected_return, index=expected_year)\n",
    "\n",
    "#expected_return\n"
   ]
  },
  {
   "cell_type": "code",
   "execution_count": null,
   "metadata": {},
   "outputs": [],
   "source": [
    "#esg_data = pd.read_excel('ESG_DATA.XLS')\n",
    "#for index, row in esg_data.iterrows():\n",
    "    # stockholm exchange\n",
    "    if row['Isin'].startswith('SE'):\n",
    "        esg_data.at[index, 'stock_symbol'] = row['stock_symbol'] + '.ST'\n",
    "    \n",
    "    # swiss exchange\n",
    "    elif row['Isin'].startswith('CH0242214887'):\n",
    "        esg_data.at[index, 'stock_symbol'] = row['stock_symbol'] + '.ST'\n",
    "    elif row['Isin'].startswith('CH1122548808'):\n",
    "        esg_data.at[index, 'stock_symbol'] = row['stock_symbol'] + '.OL'\n",
    "    elif row['Isin'].startswith('CH'):\n",
    "        esg_data.at[index, 'stock_symbol'] = row['stock_symbol'] + '.SW'\n",
    "    \n",
    "    # toroto exchange\n",
    "    elif row['Isin'].startswith('CA98936C1068'):\n",
    "        esg_data.at[index, 'stock_symbol'] = row['stock_symbol'] + '.L'\n",
    "    elif row['Isin'].startswith('CA'):\n",
    "        esg_data.at[index, 'stock_symbol'] = row['stock_symbol'] + '.TO'\n",
    "    elif row['Isin'].startswith('GB'):\n",
    "        esg_data.at[index, 'stock_symbol'] = row['stock_symbol'] + '.L'\n",
    "    \n",
    "    # paris exchange\n",
    "    elif row['Isin'].startswith('FR'):\n",
    "        esg_data.at[index, 'stock_symbol'] = row['stock_symbol'] + '.PA'\n",
    "\n",
    "    # copenhagen exchange\n",
    "    \n",
    "    elif row['Isin'].startswith('DK0060668796'):\n",
    "        esg_data.at[index, 'stock_symbol'] = row['stock_symbol'] + '.ST'\n",
    "    elif row['Isin'].startswith('DK0060520450'):\n",
    "        esg_data.at[index, 'stock_symbol'] = row['stock_symbol'] + '.OL'\n",
    "    elif row['Isin'].startswith('FI4000297767'):\n",
    "        esg_data.at[index, 'stock_symbol'] = row['stock_symbol'] + '.CO' \n",
    "    elif row['Isin'].startswith('DK'):\n",
    "        esg_data.at[index, 'stock_symbol'] = row['stock_symbol'] + '.CO'\n",
    "\n",
    "    # oslo exchange\n",
    "    elif row['Isin'].startswith('NO'):\n",
    "        esg_data.at[index, 'stock_symbol'] = row['stock_symbol'] + '.OL'\n",
    "    elif row['Isin'].startswith('KYG'):\n",
    "        esg_data.at[index, 'stock_symbol'] = row['stock_symbol'] + '.OL' \n",
    "    elif row['Isin'].startswith('CY'):\n",
    "        esg_data.at[index, 'stock_symbol'] = row['stock_symbol'] + '.OL'\n",
    "    elif row['Isin'].startswith('BMG'):\n",
    "        esg_data.at[index, 'stock_symbol'] = row['stock_symbol'] + '.OL'\n",
    "    elif row['Isin'].startswith('MHY'):\n",
    "        esg_data.at[index, 'stock_symbol'] = row['stock_symbol'] + '.SG'\n",
    "    elif row['Isin'].startswith('US36467X2062'):\n",
    "        esg_data.at[index, 'stock_symbol'] = row['stock_symbol'] + '.OL'\n",
    "    elif row['Isin'].startswith('SGX'):\n",
    "        esg_data.at[index, 'stock_symbol'] = row['stock_symbol'] + '.OL'\n",
    "    elif row['Isin'].startswith('FO0000000179'):\n",
    "        esg_data.at[index, 'stock_symbol'] = row['stock_symbol'] + '.OL'\n",
    "\n",
    "    elif row['Isin'].startswith('MT0000580101'):\n",
    "        esg_data.at[index, 'stock_symbol'] = row['stock_symbol'] + '.DE'\n",
    "    elif row['Isin'].startswith('MT0001390104'):\n",
    "        esg_data.at[index, 'stock_symbol'] = row['stock_symbol'] + '.ST'\n",
    "    elif row['Isin'].startswith('MT'):\n",
    "        esg_data.at[index, 'stock_symbol'] = row['stock_symbol'] + '.SG'\n",
    "   "
   ]
  },
  {
   "cell_type": "code",
   "execution_count": null,
   "metadata": {},
   "outputs": [],
   "source": []
  }
 ],
 "metadata": {
  "kernelspec": {
   "display_name": "Python 3",
   "language": "python",
   "name": "python3"
  },
  "language_info": {
   "codemirror_mode": {
    "name": "ipython",
    "version": 3
   },
   "file_extension": ".py",
   "mimetype": "text/x-python",
   "name": "python",
   "nbconvert_exporter": "python",
   "pygments_lexer": "ipython3",
   "version": "3.11.0"
  },
  "orig_nbformat": 4,
  "vscode": {
   "interpreter": {
    "hash": "8a5edab282632443219e051e4ade2d1d5bbc671c781051bf1437897cbdfea0f1"
   }
  }
 },
 "nbformat": 4,
 "nbformat_minor": 2
}
