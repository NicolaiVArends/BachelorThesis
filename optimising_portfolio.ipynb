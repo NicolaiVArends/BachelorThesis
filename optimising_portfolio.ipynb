{
 "cells": [
  {
   "cell_type": "code",
   "execution_count": 1,
   "metadata": {},
   "outputs": [],
   "source": [
    "import pandas as pd\n",
    "from src.data import *\n",
    "from src.portfolio import *\n",
    "from src.efficient_frontier import *\n",
    "from src.plot import *\n",
    "import yfinance as yf\n",
    "from scipy.optimize import Bounds, LinearConstraint\n",
    "from pypfopt.expected_returns import mean_historical_return"
   ]
  },
  {
   "cell_type": "code",
   "execution_count": 2,
   "metadata": {},
   "outputs": [
    {
     "name": "stdout",
     "output_type": "stream",
     "text": [
      "\n",
      "1 Failed download:\n",
      "- JOBS.ST: No data found for this date range, symbol may be delisted\n",
      "\n",
      "1 Failed download:\n",
      "- PFE.ST: Exception('Lost data during merge despite all attempts to align data (see above)')\n",
      "\n",
      "1 Failed download:\n",
      "- GNP.OL: No data found, symbol may be delisted\n",
      "\n",
      "1 Failed download:\n",
      "- MSEIS.OL: No timezone found, symbol may be delisted\n",
      "\n",
      "1 Failed download:\n",
      "- JYSK.CO: Exception('Lost data during merge despite all attempts to align data (see above)')\n"
     ]
    }
   ],
   "source": [
    "esg_data = esg_score_weight(pd.read_excel('data/ESG_DATA.xlsx'), np.array([1/3,1/3,1/3]))\n",
    "full_data = stock_monthly_close(esg_data, dates=('2003-01-01','2023-01-01'))\n",
    "prices, esg = seperate_full_data(full_data)\n",
    "prices = currency_rates(prices)"
   ]
  },
  {
   "cell_type": "code",
   "execution_count": 3,
   "metadata": {},
   "outputs": [
    {
     "name": "stdout",
     "output_type": "stream",
     "text": [
      "              ABB.ST  ADDT-B.ST   ALFA.ST  ATRLJ-B.ST   AXFO.ST    AZA.ST  \\\n",
      "Date                                                                        \n",
      "2003-02-01 -0.263503   0.060798  0.250226    0.010437  0.035779  0.007869   \n",
      "2003-03-01  0.112046  -0.065978 -0.029300   -0.006548  0.008994 -0.039169   \n",
      "2003-04-01  0.262654   0.116577  0.160659   -0.011445 -0.051619  0.016710   \n",
      "2003-05-01 -0.014989   0.230660  0.034468    0.027921  0.058132  0.026511   \n",
      "2003-06-01  0.173436   0.159536  0.012006    0.071788 -0.016079  0.099326   \n",
      "...              ...        ...       ...         ...       ...       ...   \n",
      "2022-08-01 -0.023638  -0.114544 -0.035213    0.046262  0.017697 -0.101857   \n",
      "2022-09-01 -0.096908  -0.073453 -0.079945   -0.160842 -0.251935 -0.060603   \n",
      "2022-10-01  0.047327  -0.129603 -0.061428    0.031540  0.029999  0.238647   \n",
      "2022-11-01  0.091130   0.178197  0.119016    0.162669  0.055709 -0.025916   \n",
      "2022-12-01  0.013055   0.013186  0.060593    0.067354  0.062366  0.116528   \n",
      "\n",
      "              AZN.ST  BALD-B.ST   BILL.ST   BINV.ST  \n",
      "Date                                                 \n",
      "2003-02-01 -0.047150  -0.006882  0.094024 -0.147573  \n",
      "2003-03-01  0.068737  -0.084658  0.031017 -0.133035  \n",
      "2003-04-01  0.122305   0.100075  0.059668  0.095091  \n",
      "2003-05-01  0.015311  -0.006911 -0.079943  0.149409  \n",
      "2003-06-01  0.079939   0.212643  0.025406  0.260347  \n",
      "...              ...        ...       ...       ...  \n",
      "2022-08-01 -0.001272  -0.065566  0.087774 -0.025652  \n",
      "2022-09-01 -0.120449  -0.285979 -0.109031 -0.035130  \n",
      "2022-10-01  0.010743  -0.109647  0.042155 -0.202615  \n",
      "2022-11-01  0.114270   0.135555  0.053989 -0.069366  \n",
      "2022-12-01  0.037163   0.104383 -0.093030 -0.062533  \n",
      "\n",
      "[239 rows x 10 columns]\n"
     ]
    }
   ],
   "source": [
    "prices = filter_prices(prices, 0, 10)\n",
    "returns_pct_change = returns_from_prices(prices)\n",
    "print(returns_pct_change)"
   ]
  },
  {
   "cell_type": "code",
   "execution_count": 4,
   "metadata": {},
   "outputs": [
    {
     "name": "stdout",
     "output_type": "stream",
     "text": [
      "              ABB.ST  ADDT-B.ST   ALFA.ST  ATRLJ-B.ST   AXFO.ST    AZA.ST  \\\n",
      "2013-01-01  0.280392   0.285682  0.307619    0.244501  0.115332  0.350266   \n",
      "2014-01-01  0.184295   0.273507  0.236438    0.205382  0.103414  0.277595   \n",
      "2015-01-01  0.165225   0.228437  0.201984    0.172556  0.114320  0.235397   \n",
      "2016-01-01  0.090569   0.186007  0.169460    0.149163  0.134455  0.180761   \n",
      "2017-01-01  0.060935   0.146011  0.083109    0.065067  0.083925  0.157427   \n",
      "2018-01-01  0.041179   0.189674  0.100479    0.102751  0.102422  0.177101   \n",
      "2019-01-01  0.055910   0.225939  0.139755    0.112264  0.150937  0.209789   \n",
      "2020-01-01  0.046200   0.220491  0.086199    0.117171  0.125927  0.125656   \n",
      "2021-01-01  0.053506   0.226860  0.058694    0.070180  0.125693  0.202536   \n",
      "2022-01-01  0.078400   0.276253  0.087340    0.092344  0.130547  0.254072   \n",
      "2023-01-01  0.061174   0.238748  0.068897    0.052176  0.127937  0.226614   \n",
      "\n",
      "              AZN.ST  BALD-B.ST   BILL.ST   BINV.ST  \n",
      "2013-01-01  0.059041   0.254427  0.177194  0.063745  \n",
      "2014-01-01  0.048749   0.230382  0.159683  0.053891  \n",
      "2015-01-01  0.088679   0.274874  0.175247  0.032259  \n",
      "2016-01-01  0.059153   0.328812  0.204761  0.016879  \n",
      "2017-01-01  0.018573   0.275818  0.174545 -0.047457  \n",
      "2018-01-01  0.079408   0.334410  0.225662 -0.088398  \n",
      "2019-01-01  0.085626   0.409203  0.328618 -0.074088  \n",
      "2020-01-01  0.097458   0.357457  0.121337 -0.146234  \n",
      "2021-01-01  0.105995   0.284130  0.121590 -0.096441  \n",
      "2022-01-01  0.117708   0.309910  0.118375 -0.088283  \n",
      "2023-01-01  0.132298   0.199675  0.050737 -0.003769  \n"
     ]
    }
   ],
   "source": [
    "expected_return = estimate_rolling_window(returns_pct_change)\n",
    "print(expected_return)"
   ]
  },
  {
   "cell_type": "code",
   "execution_count": null,
   "metadata": {},
   "outputs": [],
   "source": [
    "calculate_efficient_frontier_esg()"
   ]
  },
  {
   "cell_type": "code",
   "execution_count": null,
   "metadata": {},
   "outputs": [],
   "source": [
    "plot_efficient_frontier_return()"
   ]
  },
  {
   "cell_type": "code",
   "execution_count": null,
   "metadata": {},
   "outputs": [],
   "source": [
    "parameters = []\n",
    "for i in range(0, 11):\n",
    "  sr_opt_set = set()\n",
    "  print(f\"-------------------------- 20{3+i:02d}-20{13+i:02d} --------------------------\")\n",
    "\n",
    "\n",
    "  # define the rolling window\n",
    "  sample_rolling_window = price[i*12:i*12+(12*window_size)]\n",
    "\n",
    "  ret_port = historical_return(sample_rolling_window, frequency=12)\n",
    "  print(ret_port)\n",
    "\n",
    "  ret_port2 = annual_return(sample_rolling_window[0], sample_rolling_window[-1], window_size)\n",
    "  print(ret_port2)"
   ]
  },
  {
   "cell_type": "code",
   "execution_count": null,
   "metadata": {},
   "outputs": [],
   "source": [
    "#mpl.style.use('classic')\n",
    "mpl.style.use('default')\n",
    "\n",
    "fig, ax = plt.subplots()\n",
    "plt.title('Efficient Frontier for rolling windows', fontsize=12)\n",
    "plt.xlabel('Risk/Volatility')\n",
    "plt.ylabel('Return')\n",
    "colors = ['r','b','k','m','g','c', 'lightslategrey', \"darkcyan\", \"purple\", \"orange\", \"olive\"]\n",
    "for i, x in enumerate(parameters):\n",
    "  opt_sr_vol, opt_sr_ret, opt_risk_vol,  opt_risk_ret, frontier_x, frontier_y, _ = x\n",
    "  #ax.plot(opt_sr_vol, opt_sr_ret,'*', markersize=20, label=f'20{3+i:02d}-20{13+i:02d} Max Sharpe') # red star\n",
    "  plt.plot(opt_sr_vol,  opt_sr_ret, marker='o', color = f'{colors[i]}', markersize=12)# label=f'20{3+i:02d}-20{13+i:02d} Min var') # red dot\n",
    "  plt.plot(frontier_x, frontier_y, linestyle='--', color = f'{colors[i]}', linewidth=3, label=f'20{3+i:02d}-20{13+i:02d} Efficient Frontier') # red dashed line\n",
    "  \n",
    "  #ax.scatter(x[2], x[1], marker=\"*\", s=100, label=f\"20{3+i:02d}-20{13+i:02d} Max Sharpe\")\n",
    "plt.xlim([0,1])\n",
    "plt.ylim([frontier_y.min(),frontier_y.max()])\n",
    "plt.legend(bbox_to_anchor =(0.5, 0.9, 1, 0), ncol = 1, fontsize=\"small\")\n",
    "#fig_path = os.path.join(PLOTS_PATH, f\"efficient_frontier.png\")\n",
    "#plt.savefig(fig_path, dpi=150,bbox_inches=\"tight\")\n",
    "plt.show()"
   ]
  },
  {
   "cell_type": "code",
   "execution_count": null,
   "metadata": {},
   "outputs": [],
   "source": [
    "portfolio_covariance(df)"
   ]
  },
  {
   "cell_type": "code",
   "execution_count": null,
   "metadata": {},
   "outputs": [],
   "source": [
    "portfolio_mean(df)"
   ]
  },
  {
   "cell_type": "code",
   "execution_count": null,
   "metadata": {},
   "outputs": [],
   "source": [
    "cov = portfolio_covariance(df)\n",
    "portfolio_std(cov, w)"
   ]
  },
  {
   "cell_type": "code",
   "execution_count": null,
   "metadata": {},
   "outputs": [],
   "source": [
    "portfolio_sharp_ratio(df, w, cov)"
   ]
  },
  {
   "cell_type": "code",
   "execution_count": null,
   "metadata": {},
   "outputs": [],
   "source": [
    "#bounds = Bounds(-2, 5)\n",
    "\n",
    "#Create x0, the first guess at the values of each asset's weight.\n",
    "#w0 = np.linspace(start=1, stop=0, num=cov.shape[1])\n",
    "#x0 = w0/np.sum(w0)\n",
    "# All weights between 0 and 1\n",
    "# # The second boundary is the sum of weights.\n",
    "#linear_constraint = LinearConstraint(np.ones((cov.shape[1],), dtype=int),1,1)\n",
    "#options = {'xtol': 1e-07, 'gtol': 1e-07, 'barrier_tol': 1e-07, 'maxiter': 1000}\n",
    " "
   ]
  },
  {
   "cell_type": "code",
   "execution_count": null,
   "metadata": {},
   "outputs": [],
   "source": [
    "def portfolio_minimize_risk(port_return, \n",
    "                                port_covariance, \n",
    "                                esg_data, \n",
    "                                x0,\n",
    "                                linear_constraint, \n",
    "                                bounds, \n",
    "                                options = None):\n",
    "    \"\"\"\n",
    "    Function that will take different inputs including esg score data and compute the minimum risk of different portfolios \n",
    "    :param: A dataframe of the portfolio covariance matrix\n",
    "    :param: A dataframe of esg scores of the different assets in portfolio\n",
    "    :param: x0 argument that is the initial guess for the minimizer\n",
    "    :param: Linear constraints for the minimizer\n",
    "    :param: Bounds for the minimizer\n",
    "    :param: \n",
    "    :param: Options for the minimizer\n",
    "    :returns: A dataframe containing portfolio weight choice for minimizing portfolio risk using esg scores\n",
    "    \"\"\"\n",
    "    \n",
    "    results = {'esg':[],\n",
    "               'weights':[],\n",
    "               'risk':[],\n",
    "               'return':[]}\n",
    "    \n",
    "    function = lambda weight: portfolio_std(port_cov=port_covariance, weights=weight)\n",
    "    constraint_esg = {'type': 'eq', 'fun': lambda weight: np.dot(weight, esg_data)}\n",
    "    result = minimize(function, \n",
    "                      x0, \n",
    "                      method='trust-constr', \n",
    "                      bounds=bounds, \n",
    "                      constraints=[linear_constraint, constraint_esg], \n",
    "                      options=options)\n",
    "   \n",
    "    optimal_weights = list(result['x'])\n",
    "    print(optimal_weights)\n",
    "    optimal_esg = np.dot(optimal_weights, esg_data)\n",
    "    results['esg'].append(optimal_esg)\n",
    "    results['weights'].append(optimal_weights)\n",
    "    results['risk'].append(result['fun'])\n",
    "    results['return'].append(np.dot(optimal_weights, port_return.sum()))\n",
    "\n",
    "    return results\n"
   ]
  },
  {
   "cell_type": "code",
   "execution_count": null,
   "metadata": {},
   "outputs": [],
   "source": [
    "# set the window size\n",
    "#window_size = 2\n",
    "\n",
    "# make different lists to append data in every window\n",
    "#expected_return = []\n",
    "#expected_year = []\n",
    "\n",
    "#def simple_return(beginning_price, end_price):\n",
    "#  return ((end_price-beginning_price)/beginning_price)\n",
    "\n",
    "#def annual_return(simple_return, years_held):\n",
    "#  return (((simple_return+1)**(1/years_held))-1)\n",
    "\n",
    "# setup af loop to iterate through window and make calculations\n",
    "#for i in range(0, 6):\n",
    "\n",
    "  # define the rolling window\n",
    "#  sample_rolling_window = df[i*12:i*12+(12*window_size)]\n",
    "\n",
    "  # calculate the expected return as a dataframe\n",
    "#  window_monthly_returns = pd.DataFrame()\n",
    "#  window_monthly_returns = sample_rolling_window\n",
    "#  simple_window_yearly_returns_mean = simple_return(window_monthly_returns.iloc[0], window_monthly_returns.iloc[-1])\n",
    "#  annual_window_return = annual_return(simple_window_yearly_returns_mean, window_size)\n",
    "\n",
    "  # append the results of expected return and the years to list\n",
    "#  expected_return.append(annual_window_return)\n",
    "\n",
    "# make list of expected return into a dataframe\n",
    "#for x in range(2013, 2024):\n",
    "#  expected_year.append(dt(x,1,1))\n",
    "  \n",
    "#expected_return = pd.DataFrame(expected_return, index=expected_year)\n",
    "\n",
    "#expected_return\n"
   ]
  },
  {
   "cell_type": "code",
   "execution_count": null,
   "metadata": {},
   "outputs": [],
   "source": [
    "#esg_data = pd.read_excel('ESG_DATA.XLS')\n",
    "#for index, row in esg_data.iterrows():\n",
    "    # stockholm exchange\n",
    "    if row['Isin'].startswith('SE'):\n",
    "        esg_data.at[index, 'stock_symbol'] = row['stock_symbol'] + '.ST'\n",
    "    \n",
    "    # swiss exchange\n",
    "    elif row['Isin'].startswith('CH0242214887'):\n",
    "        esg_data.at[index, 'stock_symbol'] = row['stock_symbol'] + '.ST'\n",
    "    elif row['Isin'].startswith('CH1122548808'):\n",
    "        esg_data.at[index, 'stock_symbol'] = row['stock_symbol'] + '.OL'\n",
    "    elif row['Isin'].startswith('CH'):\n",
    "        esg_data.at[index, 'stock_symbol'] = row['stock_symbol'] + '.SW'\n",
    "    \n",
    "    # toroto exchange\n",
    "    elif row['Isin'].startswith('CA98936C1068'):\n",
    "        esg_data.at[index, 'stock_symbol'] = row['stock_symbol'] + '.L'\n",
    "    elif row['Isin'].startswith('CA'):\n",
    "        esg_data.at[index, 'stock_symbol'] = row['stock_symbol'] + '.TO'\n",
    "    elif row['Isin'].startswith('GB'):\n",
    "        esg_data.at[index, 'stock_symbol'] = row['stock_symbol'] + '.L'\n",
    "    \n",
    "    # paris exchange\n",
    "    elif row['Isin'].startswith('FR'):\n",
    "        esg_data.at[index, 'stock_symbol'] = row['stock_symbol'] + '.PA'\n",
    "\n",
    "    # copenhagen exchange\n",
    "    \n",
    "    elif row['Isin'].startswith('DK0060668796'):\n",
    "        esg_data.at[index, 'stock_symbol'] = row['stock_symbol'] + '.ST'\n",
    "    elif row['Isin'].startswith('DK0060520450'):\n",
    "        esg_data.at[index, 'stock_symbol'] = row['stock_symbol'] + '.OL'\n",
    "    elif row['Isin'].startswith('FI4000297767'):\n",
    "        esg_data.at[index, 'stock_symbol'] = row['stock_symbol'] + '.CO' \n",
    "    elif row['Isin'].startswith('DK'):\n",
    "        esg_data.at[index, 'stock_symbol'] = row['stock_symbol'] + '.CO'\n",
    "\n",
    "    # oslo exchange\n",
    "    elif row['Isin'].startswith('NO'):\n",
    "        esg_data.at[index, 'stock_symbol'] = row['stock_symbol'] + '.OL'\n",
    "    elif row['Isin'].startswith('KYG'):\n",
    "        esg_data.at[index, 'stock_symbol'] = row['stock_symbol'] + '.OL' \n",
    "    elif row['Isin'].startswith('CY'):\n",
    "        esg_data.at[index, 'stock_symbol'] = row['stock_symbol'] + '.OL'\n",
    "    elif row['Isin'].startswith('BMG'):\n",
    "        esg_data.at[index, 'stock_symbol'] = row['stock_symbol'] + '.OL'\n",
    "    elif row['Isin'].startswith('MHY'):\n",
    "        esg_data.at[index, 'stock_symbol'] = row['stock_symbol'] + '.SG'\n",
    "    elif row['Isin'].startswith('US36467X2062'):\n",
    "        esg_data.at[index, 'stock_symbol'] = row['stock_symbol'] + '.OL'\n",
    "    elif row['Isin'].startswith('SGX'):\n",
    "        esg_data.at[index, 'stock_symbol'] = row['stock_symbol'] + '.OL'\n",
    "    elif row['Isin'].startswith('FO0000000179'):\n",
    "        esg_data.at[index, 'stock_symbol'] = row['stock_symbol'] + '.OL'\n",
    "\n",
    "    elif row['Isin'].startswith('MT0000580101'):\n",
    "        esg_data.at[index, 'stock_symbol'] = row['stock_symbol'] + '.DE'\n",
    "    elif row['Isin'].startswith('MT0001390104'):\n",
    "        esg_data.at[index, 'stock_symbol'] = row['stock_symbol'] + '.ST'\n",
    "    elif row['Isin'].startswith('MT'):\n",
    "        esg_data.at[index, 'stock_symbol'] = row['stock_symbol'] + '.SG'\n",
    "   "
   ]
  },
  {
   "cell_type": "code",
   "execution_count": null,
   "metadata": {},
   "outputs": [],
   "source": []
  }
 ],
 "metadata": {
  "kernelspec": {
   "display_name": "Python 3",
   "language": "python",
   "name": "python3"
  },
  "language_info": {
   "codemirror_mode": {
    "name": "ipython",
    "version": 3
   },
   "file_extension": ".py",
   "mimetype": "text/x-python",
   "name": "python",
   "nbconvert_exporter": "python",
   "pygments_lexer": "ipython3",
   "version": "3.11.0"
  },
  "orig_nbformat": 4,
  "vscode": {
   "interpreter": {
    "hash": "8a5edab282632443219e051e4ade2d1d5bbc671c781051bf1437897cbdfea0f1"
   }
  }
 },
 "nbformat": 4,
 "nbformat_minor": 2
}
