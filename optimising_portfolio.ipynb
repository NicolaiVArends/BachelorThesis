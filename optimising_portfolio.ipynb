{
 "cells": [
  {
   "cell_type": "code",
   "execution_count": 1,
   "metadata": {},
   "outputs": [],
   "source": [
    "import pandas as pd\n",
    "from src.data import *\n",
    "from src.portfolio import *\n",
    "from src.efficient_frontier import *\n",
    "import yfinance as yf\n",
    "from datetime import datetime as dt\n",
    "from scipy.optimize import Bounds, LinearConstraint"
   ]
  },
  {
   "cell_type": "code",
   "execution_count": 2,
   "metadata": {},
   "outputs": [
    {
     "name": "stdout",
     "output_type": "stream",
     "text": [
      "\n",
      "1 Failed download:\n",
      "- JOBS.ST: No data found for this date range, symbol may be delisted\n",
      "\n",
      "1 Failed download:\n",
      "- PFE.ST: Exception('Lost data during merge despite all attempts to align data (see above)')\n"
     ]
    },
    {
     "ename": "KeyboardInterrupt",
     "evalue": "",
     "output_type": "error",
     "traceback": [
      "\u001b[0;31m---------------------------------------------------------------------------\u001b[0m",
      "\u001b[0;31mKeyboardInterrupt\u001b[0m                         Traceback (most recent call last)",
      "Cell \u001b[0;32mIn[2], line 2\u001b[0m\n\u001b[1;32m      1\u001b[0m esg_data \u001b[39m=\u001b[39m esg_score_weight(pd\u001b[39m.\u001b[39mread_excel(\u001b[39m'\u001b[39m\u001b[39mESG_DATA.xlsx\u001b[39m\u001b[39m'\u001b[39m), np\u001b[39m.\u001b[39marray([\u001b[39m1\u001b[39m\u001b[39m/\u001b[39m\u001b[39m3\u001b[39m,\u001b[39m1\u001b[39m\u001b[39m/\u001b[39m\u001b[39m3\u001b[39m,\u001b[39m1\u001b[39m\u001b[39m/\u001b[39m\u001b[39m3\u001b[39m]))\n\u001b[0;32m----> 2\u001b[0m full_data \u001b[39m=\u001b[39m stock_monthly_close(esg_data, dates\u001b[39m=\u001b[39;49m(\u001b[39m'\u001b[39;49m\u001b[39m2003-01-01\u001b[39;49m\u001b[39m'\u001b[39;49m,\u001b[39m'\u001b[39;49m\u001b[39m2023-01-01\u001b[39;49m\u001b[39m'\u001b[39;49m))\n\u001b[1;32m      3\u001b[0m prices, esg \u001b[39m=\u001b[39m seperate_full_data(full_data)\n",
      "File \u001b[0;32m~/Library/CloudStorage/OneDrive-UniversityofCopenhagen/DatØk3/Bachelorprojekt_repo/BachelorThesis/src/data.py:45\u001b[0m, in \u001b[0;36mstock_monthly_close\u001b[0;34m(esg_data, dates)\u001b[0m\n\u001b[1;32m     42\u001b[0m full_data \u001b[39m=\u001b[39m pd\u001b[39m.\u001b[39mDataFrame()\n\u001b[1;32m     43\u001b[0m \u001b[39mfor\u001b[39;00m symbol \u001b[39min\u001b[39;00m symbols:\n\u001b[1;32m     44\u001b[0m \u001b[39m# retrieve data from yfinance\u001b[39;00m\n\u001b[0;32m---> 45\u001b[0m     stock_data \u001b[39m=\u001b[39m yf\u001b[39m.\u001b[39;49mdownload(symbol, start\u001b[39m=\u001b[39;49mdates[\u001b[39m0\u001b[39;49m], end\u001b[39m=\u001b[39;49mdates[\u001b[39m1\u001b[39;49m], interval\u001b[39m=\u001b[39;49m\u001b[39m'\u001b[39;49m\u001b[39m1mo\u001b[39;49m\u001b[39m'\u001b[39;49m, progress\u001b[39m=\u001b[39;49m\u001b[39mFalse\u001b[39;49;00m)\n\u001b[1;32m     47\u001b[0m     \u001b[39m# extract the 'Close' column and rename it with the stock symbol\u001b[39;00m\n\u001b[1;32m     48\u001b[0m     stock_data \u001b[39m=\u001b[39m stock_data[[\u001b[39m'\u001b[39m\u001b[39mClose\u001b[39m\u001b[39m'\u001b[39m]]\u001b[39m.\u001b[39mrename(columns\u001b[39m=\u001b[39m{\u001b[39m'\u001b[39m\u001b[39mClose\u001b[39m\u001b[39m'\u001b[39m: symbol})\n",
      "File \u001b[0;32m~/opt/anaconda3/envs/py311/lib/python3.11/site-packages/yfinance/multi.py:129\u001b[0m, in \u001b[0;36mdownload\u001b[0;34m(tickers, start, end, actions, threads, ignore_tz, group_by, auto_adjust, back_adjust, repair, keepna, progress, period, show_errors, interval, prepost, proxy, rounding, timeout)\u001b[0m\n\u001b[1;32m    122\u001b[0m         _download_one_threaded(ticker, period\u001b[39m=\u001b[39mperiod, interval\u001b[39m=\u001b[39minterval,\n\u001b[1;32m    123\u001b[0m                                start\u001b[39m=\u001b[39mstart, end\u001b[39m=\u001b[39mend, prepost\u001b[39m=\u001b[39mprepost,\n\u001b[1;32m    124\u001b[0m                                actions\u001b[39m=\u001b[39mactions, auto_adjust\u001b[39m=\u001b[39mauto_adjust,\n\u001b[1;32m    125\u001b[0m                                back_adjust\u001b[39m=\u001b[39mback_adjust, repair\u001b[39m=\u001b[39mrepair, keepna\u001b[39m=\u001b[39mkeepna,\n\u001b[1;32m    126\u001b[0m                                progress\u001b[39m=\u001b[39m(progress \u001b[39mand\u001b[39;00m i \u001b[39m>\u001b[39m \u001b[39m0\u001b[39m), proxy\u001b[39m=\u001b[39mproxy,\n\u001b[1;32m    127\u001b[0m                                rounding\u001b[39m=\u001b[39mrounding, timeout\u001b[39m=\u001b[39mtimeout)\n\u001b[1;32m    128\u001b[0m     \u001b[39mwhile\u001b[39;00m \u001b[39mlen\u001b[39m(shared\u001b[39m.\u001b[39m_DFS) \u001b[39m<\u001b[39m \u001b[39mlen\u001b[39m(tickers):\n\u001b[0;32m--> 129\u001b[0m         _time\u001b[39m.\u001b[39msleep(\u001b[39m0.01\u001b[39m)\n\u001b[1;32m    131\u001b[0m \u001b[39m# download synchronously\u001b[39;00m\n\u001b[1;32m    132\u001b[0m \u001b[39melse\u001b[39;00m:\n\u001b[1;32m    133\u001b[0m     \u001b[39mfor\u001b[39;00m i, ticker \u001b[39min\u001b[39;00m \u001b[39menumerate\u001b[39m(tickers):\n",
      "\u001b[0;31mKeyboardInterrupt\u001b[0m: "
     ]
    }
   ],
   "source": [
    "esg_data = esg_score_weight(pd.read_excel('ESG_DATA.xlsx'), np.array([1/3,1/3,1/3]))\n",
    "full_data = stock_monthly_close(esg_data, dates=('2003-01-01','2023-01-01'))\n",
    "prices, esg = seperate_full_data(full_data)"
   ]
  },
  {
   "cell_type": "code",
   "execution_count": null,
   "metadata": {},
   "outputs": [],
   "source": [
    "prices = prices.iloc[:,:10]\n",
    "prices\n",
    "plot_cummulative_portfolio_returns(prices)"
   ]
  },
  {
   "cell_type": "code",
   "execution_count": null,
   "metadata": {},
   "outputs": [],
   "source": [
    "# set the window size\n",
    "window_size = 10\n",
    "\n",
    "# make different lists to append data in every window\n",
    "expected_return = []\n",
    "expected_year = []\n",
    "\n",
    "# setup af loop to iterate through window and make calculations\n",
    "for i in range(0, 11):\n",
    "\n",
    "  # define the rolling window\n",
    "  rolling_window = prices[i*12:i*12+(12*window_size)]\n",
    "\n",
    "  # calculate the expected return as a dataframe\n",
    "  window_annual_return = annual_return(rolling_window.iloc[0], rolling_window.iloc[-1], window_size)\n",
    "\n",
    "  # append the results of expected return and the years to list\n",
    "  expected_return.append(window_annual_return)\n",
    "\n",
    "# make list of expected return into a dataframe\n",
    "for x in range(2013, 2024):\n",
    "  expected_year.append(dt(x,1,1))\n",
    "  \n",
    "expected_return = pd.DataFrame(expected_return, index=expected_year)\n",
    "\n",
    "expected_return"
   ]
  },
  {
   "cell_type": "code",
   "execution_count": null,
   "metadata": {},
   "outputs": [],
   "source": [
    "calculate_efficient_frontier_esg()"
   ]
  },
  {
   "cell_type": "code",
   "execution_count": null,
   "metadata": {},
   "outputs": [],
   "source": [
    "plot_efficient_frontier_return()"
   ]
  },
  {
   "cell_type": "code",
   "execution_count": null,
   "metadata": {},
   "outputs": [],
   "source": [
    "parameters = []\n",
    "for i in range(0, 11):\n",
    "  sr_opt_set = set()\n",
    "  print(f\"-------------------------- 20{3+i:02d}-20{13+i:02d} --------------------------\")\n",
    "\n",
    "\n",
    "  # define the rolling window\n",
    "  sample_rolling_window = price[i*12:i*12+(12*window_size)]\n",
    "\n",
    "  ret_port = historical_return(sample_rolling_window, frequency=12)\n",
    "  print(ret_port)\n",
    "\n",
    "  ret_port2 = annual_return(sample_rolling_window[0], sample_rolling_window[-1], window_size)\n",
    "  print(ret_port2)"
   ]
  },
  {
   "cell_type": "code",
   "execution_count": null,
   "metadata": {},
   "outputs": [],
   "source": [
    "#mpl.style.use('classic')\n",
    "mpl.style.use('default')\n",
    "\n",
    "fig, ax = plt.subplots()\n",
    "plt.title('Efficient Frontier for rolling windows', fontsize=12)\n",
    "plt.xlabel('Risk/Volatility')\n",
    "plt.ylabel('Return')\n",
    "colors = ['r','b','k','m','g','c', 'lightslategrey', \"darkcyan\", \"purple\", \"orange\", \"olive\"]\n",
    "for i, x in enumerate(parameters):\n",
    "  opt_sr_vol, opt_sr_ret, opt_risk_vol,  opt_risk_ret, frontier_x, frontier_y, _ = x\n",
    "  #ax.plot(opt_sr_vol, opt_sr_ret,'*', markersize=20, label=f'20{3+i:02d}-20{13+i:02d} Max Sharpe') # red star\n",
    "  plt.plot(opt_sr_vol,  opt_sr_ret, marker='o', color = f'{colors[i]}', markersize=12)# label=f'20{3+i:02d}-20{13+i:02d} Min var') # red dot\n",
    "  plt.plot(frontier_x, frontier_y, linestyle='--', color = f'{colors[i]}', linewidth=3, label=f'20{3+i:02d}-20{13+i:02d} Efficient Frontier') # red dashed line\n",
    "  \n",
    "  #ax.scatter(x[2], x[1], marker=\"*\", s=100, label=f\"20{3+i:02d}-20{13+i:02d} Max Sharpe\")\n",
    "plt.xlim([0,1])\n",
    "plt.ylim([frontier_y.min(),frontier_y.max()])\n",
    "plt.legend(bbox_to_anchor =(0.5, 0.9, 1, 0), ncol = 1, fontsize=\"small\")\n",
    "#fig_path = os.path.join(PLOTS_PATH, f\"efficient_frontier.png\")\n",
    "#plt.savefig(fig_path, dpi=150,bbox_inches=\"tight\")\n",
    "plt.show()"
   ]
  },
  {
   "cell_type": "code",
   "execution_count": null,
   "metadata": {},
   "outputs": [],
   "source": [
    "portfolio_covariance(df)"
   ]
  },
  {
   "cell_type": "code",
   "execution_count": null,
   "metadata": {},
   "outputs": [],
   "source": [
    "portfolio_mean(df)"
   ]
  },
  {
   "cell_type": "code",
   "execution_count": null,
   "metadata": {},
   "outputs": [],
   "source": [
    "cov = portfolio_covariance(df)\n",
    "portfolio_std(cov, w)"
   ]
  },
  {
   "cell_type": "code",
   "execution_count": null,
   "metadata": {},
   "outputs": [],
   "source": [
    "portfolio_sharp_ratio(df, w, cov)"
   ]
  },
  {
   "cell_type": "code",
   "execution_count": null,
   "metadata": {},
   "outputs": [],
   "source": [
    "#bounds = Bounds(-2, 5)\n",
    "\n",
    "#Create x0, the first guess at the values of each asset's weight.\n",
    "#w0 = np.linspace(start=1, stop=0, num=cov.shape[1])\n",
    "#x0 = w0/np.sum(w0)\n",
    "# All weights between 0 and 1\n",
    "# # The second boundary is the sum of weights.\n",
    "#linear_constraint = LinearConstraint(np.ones((cov.shape[1],), dtype=int),1,1)\n",
    "#options = {'xtol': 1e-07, 'gtol': 1e-07, 'barrier_tol': 1e-07, 'maxiter': 1000}\n",
    " "
   ]
  },
  {
   "cell_type": "code",
   "execution_count": null,
   "metadata": {},
   "outputs": [],
   "source": [
    "def portfolio_minimize_risk(port_return, \n",
    "                                port_covariance, \n",
    "                                esg_data, \n",
    "                                x0,\n",
    "                                linear_constraint, \n",
    "                                bounds, \n",
    "                                options = None):\n",
    "    \"\"\"\n",
    "    Function that will take different inputs including esg score data and compute the minimum risk of different portfolios \n",
    "    :param: A dataframe of the portfolio covariance matrix\n",
    "    :param: A dataframe of esg scores of the different assets in portfolio\n",
    "    :param: x0 argument that is the initial guess for the minimizer\n",
    "    :param: Linear constraints for the minimizer\n",
    "    :param: Bounds for the minimizer\n",
    "    :param: \n",
    "    :param: Options for the minimizer\n",
    "    :returns: A dataframe containing portfolio weight choice for minimizing portfolio risk using esg scores\n",
    "    \"\"\"\n",
    "    \n",
    "    results = {'esg':[],\n",
    "               'weights':[],\n",
    "               'risk':[],\n",
    "               'return':[]}\n",
    "    \n",
    "    function = lambda weight: portfolio_std(port_cov=port_covariance, weights=weight)\n",
    "    constraint_esg = {'type': 'eq', 'fun': lambda weight: np.dot(weight, esg_data)}\n",
    "    result = minimize(function, \n",
    "                      x0, \n",
    "                      method='trust-constr', \n",
    "                      bounds=bounds, \n",
    "                      constraints=[linear_constraint, constraint_esg], \n",
    "                      options=options)\n",
    "   \n",
    "    optimal_weights = list(result['x'])\n",
    "    print(optimal_weights)\n",
    "    optimal_esg = np.dot(optimal_weights, esg_data)\n",
    "    results['esg'].append(optimal_esg)\n",
    "    results['weights'].append(optimal_weights)\n",
    "    results['risk'].append(result['fun'])\n",
    "    results['return'].append(np.dot(optimal_weights, port_return.sum()))\n",
    "\n",
    "    return results\n"
   ]
  },
  {
   "cell_type": "code",
   "execution_count": null,
   "metadata": {},
   "outputs": [],
   "source": [
    "# set the window size\n",
    "#window_size = 2\n",
    "\n",
    "# make different lists to append data in every window\n",
    "#expected_return = []\n",
    "#expected_year = []\n",
    "\n",
    "#def simple_return(beginning_price, end_price):\n",
    "#  return ((end_price-beginning_price)/beginning_price)\n",
    "\n",
    "#def annual_return(simple_return, years_held):\n",
    "#  return (((simple_return+1)**(1/years_held))-1)\n",
    "\n",
    "# setup af loop to iterate through window and make calculations\n",
    "#for i in range(0, 6):\n",
    "\n",
    "  # define the rolling window\n",
    "#  sample_rolling_window = df[i*12:i*12+(12*window_size)]\n",
    "\n",
    "  # calculate the expected return as a dataframe\n",
    "#  window_monthly_returns = pd.DataFrame()\n",
    "#  window_monthly_returns = sample_rolling_window\n",
    "#  simple_window_yearly_returns_mean = simple_return(window_monthly_returns.iloc[0], window_monthly_returns.iloc[-1])\n",
    "#  annual_window_return = annual_return(simple_window_yearly_returns_mean, window_size)\n",
    "\n",
    "  # append the results of expected return and the years to list\n",
    "#  expected_return.append(annual_window_return)\n",
    "\n",
    "# make list of expected return into a dataframe\n",
    "#for x in range(2013, 2024):\n",
    "#  expected_year.append(dt(x,1,1))\n",
    "  \n",
    "#expected_return = pd.DataFrame(expected_return, index=expected_year)\n",
    "\n",
    "#expected_return\n"
   ]
  },
  {
   "cell_type": "code",
   "execution_count": null,
   "metadata": {},
   "outputs": [],
   "source": [
    "#esg_data = pd.read_excel('ESG_DATA.XLS')\n",
    "#for index, row in esg_data.iterrows():\n",
    "    # stockholm exchange\n",
    "    if row['Isin'].startswith('SE'):\n",
    "        esg_data.at[index, 'stock_symbol'] = row['stock_symbol'] + '.ST'\n",
    "    \n",
    "    # swiss exchange\n",
    "    elif row['Isin'].startswith('CH0242214887'):\n",
    "        esg_data.at[index, 'stock_symbol'] = row['stock_symbol'] + '.ST'\n",
    "    elif row['Isin'].startswith('CH1122548808'):\n",
    "        esg_data.at[index, 'stock_symbol'] = row['stock_symbol'] + '.OL'\n",
    "    elif row['Isin'].startswith('CH'):\n",
    "        esg_data.at[index, 'stock_symbol'] = row['stock_symbol'] + '.SW'\n",
    "    \n",
    "    # toroto exchange\n",
    "    elif row['Isin'].startswith('CA98936C1068'):\n",
    "        esg_data.at[index, 'stock_symbol'] = row['stock_symbol'] + '.L'\n",
    "    elif row['Isin'].startswith('CA'):\n",
    "        esg_data.at[index, 'stock_symbol'] = row['stock_symbol'] + '.TO'\n",
    "    elif row['Isin'].startswith('GB'):\n",
    "        esg_data.at[index, 'stock_symbol'] = row['stock_symbol'] + '.L'\n",
    "    \n",
    "    # paris exchange\n",
    "    elif row['Isin'].startswith('FR'):\n",
    "        esg_data.at[index, 'stock_symbol'] = row['stock_symbol'] + '.PA'\n",
    "\n",
    "    # copenhagen exchange\n",
    "    \n",
    "    elif row['Isin'].startswith('DK0060668796'):\n",
    "        esg_data.at[index, 'stock_symbol'] = row['stock_symbol'] + '.ST'\n",
    "    elif row['Isin'].startswith('DK0060520450'):\n",
    "        esg_data.at[index, 'stock_symbol'] = row['stock_symbol'] + '.OL'\n",
    "    elif row['Isin'].startswith('FI4000297767'):\n",
    "        esg_data.at[index, 'stock_symbol'] = row['stock_symbol'] + '.CO' \n",
    "    elif row['Isin'].startswith('DK'):\n",
    "        esg_data.at[index, 'stock_symbol'] = row['stock_symbol'] + '.CO'\n",
    "\n",
    "    # oslo exchange\n",
    "    elif row['Isin'].startswith('NO'):\n",
    "        esg_data.at[index, 'stock_symbol'] = row['stock_symbol'] + '.OL'\n",
    "    elif row['Isin'].startswith('KYG'):\n",
    "        esg_data.at[index, 'stock_symbol'] = row['stock_symbol'] + '.OL' \n",
    "    elif row['Isin'].startswith('CY'):\n",
    "        esg_data.at[index, 'stock_symbol'] = row['stock_symbol'] + '.OL'\n",
    "    elif row['Isin'].startswith('BMG'):\n",
    "        esg_data.at[index, 'stock_symbol'] = row['stock_symbol'] + '.OL'\n",
    "    elif row['Isin'].startswith('MHY'):\n",
    "        esg_data.at[index, 'stock_symbol'] = row['stock_symbol'] + '.SG'\n",
    "    elif row['Isin'].startswith('US36467X2062'):\n",
    "        esg_data.at[index, 'stock_symbol'] = row['stock_symbol'] + '.OL'\n",
    "    elif row['Isin'].startswith('SGX'):\n",
    "        esg_data.at[index, 'stock_symbol'] = row['stock_symbol'] + '.OL'\n",
    "    elif row['Isin'].startswith('FO0000000179'):\n",
    "        esg_data.at[index, 'stock_symbol'] = row['stock_symbol'] + '.OL'\n",
    "\n",
    "    elif row['Isin'].startswith('MT0000580101'):\n",
    "        esg_data.at[index, 'stock_symbol'] = row['stock_symbol'] + '.DE'\n",
    "    elif row['Isin'].startswith('MT0001390104'):\n",
    "        esg_data.at[index, 'stock_symbol'] = row['stock_symbol'] + '.ST'\n",
    "    elif row['Isin'].startswith('MT'):\n",
    "        esg_data.at[index, 'stock_symbol'] = row['stock_symbol'] + '.SG'\n",
    "   "
   ]
  },
  {
   "cell_type": "code",
   "execution_count": null,
   "metadata": {},
   "outputs": [],
   "source": []
  }
 ],
 "metadata": {
  "kernelspec": {
   "display_name": "Python 3",
   "language": "python",
   "name": "python3"
  },
  "language_info": {
   "codemirror_mode": {
    "name": "ipython",
    "version": 3
   },
   "file_extension": ".py",
   "mimetype": "text/x-python",
   "name": "python",
   "nbconvert_exporter": "python",
   "pygments_lexer": "ipython3",
   "version": "3.11.0"
  },
  "orig_nbformat": 4,
  "vscode": {
   "interpreter": {
    "hash": "8a5edab282632443219e051e4ade2d1d5bbc671c781051bf1437897cbdfea0f1"
   }
  }
 },
 "nbformat": 4,
 "nbformat_minor": 2
}
