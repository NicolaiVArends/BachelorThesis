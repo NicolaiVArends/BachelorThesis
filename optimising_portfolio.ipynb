{
 "cells": [
  {
   "cell_type": "code",
   "execution_count": null,
   "metadata": {},
   "outputs": [],
   "source": [
    "import pandas as pd\n",
    "from src.data import *\n",
    "from src.portfolio import *\n",
    "from src.efficient_frontier import *\n",
    "from src.plot import *\n",
    "import yfinance as yf\n",
    "from scipy.optimize import Bounds, LinearConstraint"
   ]
  },
  {
   "cell_type": "code",
   "execution_count": null,
   "metadata": {},
   "outputs": [],
   "source": [
    "esg_data = esg_score_weight(pd.read_excel('ESG_DATA.xlsx'), np.array([1/3,1/3,1/3]))\n",
    "full_data = stock_monthly_close(esg_data, dates=('2003-01-01','2023-01-01'))\n",
    "prices, esg = seperate_full_data(full_data)\n",
    "prices = filter_prices(prices, 0, 10)"
   ]
  },
  {
   "cell_type": "code",
   "execution_count": null,
   "metadata": {},
   "outputs": [],
   "source": [
    "plot_cummulative_portfolio_returns(prices)"
   ]
  },
  {
   "cell_type": "code",
   "execution_count": null,
   "metadata": {},
   "outputs": [],
   "source": []
  },
  {
   "cell_type": "code",
   "execution_count": null,
   "metadata": {},
   "outputs": [],
   "source": []
  },
  {
   "cell_type": "code",
   "execution_count": null,
   "metadata": {},
   "outputs": [],
   "source": [
    "calculate_efficient_frontier_esg()"
   ]
  },
  {
   "cell_type": "code",
   "execution_count": null,
   "metadata": {},
   "outputs": [],
   "source": [
    "plot_efficient_frontier_return()"
   ]
  },
  {
   "cell_type": "code",
   "execution_count": null,
   "metadata": {},
   "outputs": [],
   "source": [
    "parameters = []\n",
    "for i in range(0, 11):\n",
    "  sr_opt_set = set()\n",
    "  print(f\"-------------------------- 20{3+i:02d}-20{13+i:02d} --------------------------\")\n",
    "\n",
    "\n",
    "  # define the rolling window\n",
    "  sample_rolling_window = price[i*12:i*12+(12*window_size)]\n",
    "\n",
    "  ret_port = historical_return(sample_rolling_window, frequency=12)\n",
    "  print(ret_port)\n",
    "\n",
    "  ret_port2 = annual_return(sample_rolling_window[0], sample_rolling_window[-1], window_size)\n",
    "  print(ret_port2)"
   ]
  },
  {
   "cell_type": "code",
   "execution_count": null,
   "metadata": {},
   "outputs": [],
   "source": [
    "#mpl.style.use('classic')\n",
    "mpl.style.use('default')\n",
    "\n",
    "fig, ax = plt.subplots()\n",
    "plt.title('Efficient Frontier for rolling windows', fontsize=12)\n",
    "plt.xlabel('Risk/Volatility')\n",
    "plt.ylabel('Return')\n",
    "colors = ['r','b','k','m','g','c', 'lightslategrey', \"darkcyan\", \"purple\", \"orange\", \"olive\"]\n",
    "for i, x in enumerate(parameters):\n",
    "  opt_sr_vol, opt_sr_ret, opt_risk_vol,  opt_risk_ret, frontier_x, frontier_y, _ = x\n",
    "  #ax.plot(opt_sr_vol, opt_sr_ret,'*', markersize=20, label=f'20{3+i:02d}-20{13+i:02d} Max Sharpe') # red star\n",
    "  plt.plot(opt_sr_vol,  opt_sr_ret, marker='o', color = f'{colors[i]}', markersize=12)# label=f'20{3+i:02d}-20{13+i:02d} Min var') # red dot\n",
    "  plt.plot(frontier_x, frontier_y, linestyle='--', color = f'{colors[i]}', linewidth=3, label=f'20{3+i:02d}-20{13+i:02d} Efficient Frontier') # red dashed line\n",
    "  \n",
    "  #ax.scatter(x[2], x[1], marker=\"*\", s=100, label=f\"20{3+i:02d}-20{13+i:02d} Max Sharpe\")\n",
    "plt.xlim([0,1])\n",
    "plt.ylim([frontier_y.min(),frontier_y.max()])\n",
    "plt.legend(bbox_to_anchor =(0.5, 0.9, 1, 0), ncol = 1, fontsize=\"small\")\n",
    "#fig_path = os.path.join(PLOTS_PATH, f\"efficient_frontier.png\")\n",
    "#plt.savefig(fig_path, dpi=150,bbox_inches=\"tight\")\n",
    "plt.show()"
   ]
  },
  {
   "cell_type": "code",
   "execution_count": null,
   "metadata": {},
   "outputs": [],
   "source": [
    "portfolio_covariance(df)"
   ]
  },
  {
   "cell_type": "code",
   "execution_count": null,
   "metadata": {},
   "outputs": [],
   "source": [
    "portfolio_mean(df)"
   ]
  },
  {
   "cell_type": "code",
   "execution_count": null,
   "metadata": {},
   "outputs": [],
   "source": [
    "cov = portfolio_covariance(df)\n",
    "portfolio_std(cov, w)"
   ]
  },
  {
   "cell_type": "code",
   "execution_count": null,
   "metadata": {},
   "outputs": [],
   "source": [
    "portfolio_sharp_ratio(df, w, cov)"
   ]
  },
  {
   "cell_type": "code",
   "execution_count": null,
   "metadata": {},
   "outputs": [],
   "source": [
    "#bounds = Bounds(-2, 5)\n",
    "\n",
    "#Create x0, the first guess at the values of each asset's weight.\n",
    "#w0 = np.linspace(start=1, stop=0, num=cov.shape[1])\n",
    "#x0 = w0/np.sum(w0)\n",
    "# All weights between 0 and 1\n",
    "# # The second boundary is the sum of weights.\n",
    "#linear_constraint = LinearConstraint(np.ones((cov.shape[1],), dtype=int),1,1)\n",
    "#options = {'xtol': 1e-07, 'gtol': 1e-07, 'barrier_tol': 1e-07, 'maxiter': 1000}\n",
    " "
   ]
  },
  {
   "cell_type": "code",
   "execution_count": null,
   "metadata": {},
   "outputs": [],
   "source": [
    "def portfolio_minimize_risk(port_return, \n",
    "                                port_covariance, \n",
    "                                esg_data, \n",
    "                                x0,\n",
    "                                linear_constraint, \n",
    "                                bounds, \n",
    "                                options = None):\n",
    "    \"\"\"\n",
    "    Function that will take different inputs including esg score data and compute the minimum risk of different portfolios \n",
    "    :param: A dataframe of the portfolio covariance matrix\n",
    "    :param: A dataframe of esg scores of the different assets in portfolio\n",
    "    :param: x0 argument that is the initial guess for the minimizer\n",
    "    :param: Linear constraints for the minimizer\n",
    "    :param: Bounds for the minimizer\n",
    "    :param: \n",
    "    :param: Options for the minimizer\n",
    "    :returns: A dataframe containing portfolio weight choice for minimizing portfolio risk using esg scores\n",
    "    \"\"\"\n",
    "    \n",
    "    results = {'esg':[],\n",
    "               'weights':[],\n",
    "               'risk':[],\n",
    "               'return':[]}\n",
    "    \n",
    "    function = lambda weight: portfolio_std(port_cov=port_covariance, weights=weight)\n",
    "    constraint_esg = {'type': 'eq', 'fun': lambda weight: np.dot(weight, esg_data)}\n",
    "    result = minimize(function, \n",
    "                      x0, \n",
    "                      method='trust-constr', \n",
    "                      bounds=bounds, \n",
    "                      constraints=[linear_constraint, constraint_esg], \n",
    "                      options=options)\n",
    "   \n",
    "    optimal_weights = list(result['x'])\n",
    "    print(optimal_weights)\n",
    "    optimal_esg = np.dot(optimal_weights, esg_data)\n",
    "    results['esg'].append(optimal_esg)\n",
    "    results['weights'].append(optimal_weights)\n",
    "    results['risk'].append(result['fun'])\n",
    "    results['return'].append(np.dot(optimal_weights, port_return.sum()))\n",
    "\n",
    "    return results\n"
   ]
  },
  {
   "cell_type": "code",
   "execution_count": null,
   "metadata": {},
   "outputs": [],
   "source": [
    "# set the window size\n",
    "#window_size = 2\n",
    "\n",
    "# make different lists to append data in every window\n",
    "#expected_return = []\n",
    "#expected_year = []\n",
    "\n",
    "#def simple_return(beginning_price, end_price):\n",
    "#  return ((end_price-beginning_price)/beginning_price)\n",
    "\n",
    "#def annual_return(simple_return, years_held):\n",
    "#  return (((simple_return+1)**(1/years_held))-1)\n",
    "\n",
    "# setup af loop to iterate through window and make calculations\n",
    "#for i in range(0, 6):\n",
    "\n",
    "  # define the rolling window\n",
    "#  sample_rolling_window = df[i*12:i*12+(12*window_size)]\n",
    "\n",
    "  # calculate the expected return as a dataframe\n",
    "#  window_monthly_returns = pd.DataFrame()\n",
    "#  window_monthly_returns = sample_rolling_window\n",
    "#  simple_window_yearly_returns_mean = simple_return(window_monthly_returns.iloc[0], window_monthly_returns.iloc[-1])\n",
    "#  annual_window_return = annual_return(simple_window_yearly_returns_mean, window_size)\n",
    "\n",
    "  # append the results of expected return and the years to list\n",
    "#  expected_return.append(annual_window_return)\n",
    "\n",
    "# make list of expected return into a dataframe\n",
    "#for x in range(2013, 2024):\n",
    "#  expected_year.append(dt(x,1,1))\n",
    "  \n",
    "#expected_return = pd.DataFrame(expected_return, index=expected_year)\n",
    "\n",
    "#expected_return\n"
   ]
  },
  {
   "cell_type": "code",
   "execution_count": null,
   "metadata": {},
   "outputs": [],
   "source": [
    "#esg_data = pd.read_excel('ESG_DATA.XLS')\n",
    "#for index, row in esg_data.iterrows():\n",
    "    # stockholm exchange\n",
    "    if row['Isin'].startswith('SE'):\n",
    "        esg_data.at[index, 'stock_symbol'] = row['stock_symbol'] + '.ST'\n",
    "    \n",
    "    # swiss exchange\n",
    "    elif row['Isin'].startswith('CH0242214887'):\n",
    "        esg_data.at[index, 'stock_symbol'] = row['stock_symbol'] + '.ST'\n",
    "    elif row['Isin'].startswith('CH1122548808'):\n",
    "        esg_data.at[index, 'stock_symbol'] = row['stock_symbol'] + '.OL'\n",
    "    elif row['Isin'].startswith('CH'):\n",
    "        esg_data.at[index, 'stock_symbol'] = row['stock_symbol'] + '.SW'\n",
    "    \n",
    "    # toroto exchange\n",
    "    elif row['Isin'].startswith('CA98936C1068'):\n",
    "        esg_data.at[index, 'stock_symbol'] = row['stock_symbol'] + '.L'\n",
    "    elif row['Isin'].startswith('CA'):\n",
    "        esg_data.at[index, 'stock_symbol'] = row['stock_symbol'] + '.TO'\n",
    "    elif row['Isin'].startswith('GB'):\n",
    "        esg_data.at[index, 'stock_symbol'] = row['stock_symbol'] + '.L'\n",
    "    \n",
    "    # paris exchange\n",
    "    elif row['Isin'].startswith('FR'):\n",
    "        esg_data.at[index, 'stock_symbol'] = row['stock_symbol'] + '.PA'\n",
    "\n",
    "    # copenhagen exchange\n",
    "    \n",
    "    elif row['Isin'].startswith('DK0060668796'):\n",
    "        esg_data.at[index, 'stock_symbol'] = row['stock_symbol'] + '.ST'\n",
    "    elif row['Isin'].startswith('DK0060520450'):\n",
    "        esg_data.at[index, 'stock_symbol'] = row['stock_symbol'] + '.OL'\n",
    "    elif row['Isin'].startswith('FI4000297767'):\n",
    "        esg_data.at[index, 'stock_symbol'] = row['stock_symbol'] + '.CO' \n",
    "    elif row['Isin'].startswith('DK'):\n",
    "        esg_data.at[index, 'stock_symbol'] = row['stock_symbol'] + '.CO'\n",
    "\n",
    "    # oslo exchange\n",
    "    elif row['Isin'].startswith('NO'):\n",
    "        esg_data.at[index, 'stock_symbol'] = row['stock_symbol'] + '.OL'\n",
    "    elif row['Isin'].startswith('KYG'):\n",
    "        esg_data.at[index, 'stock_symbol'] = row['stock_symbol'] + '.OL' \n",
    "    elif row['Isin'].startswith('CY'):\n",
    "        esg_data.at[index, 'stock_symbol'] = row['stock_symbol'] + '.OL'\n",
    "    elif row['Isin'].startswith('BMG'):\n",
    "        esg_data.at[index, 'stock_symbol'] = row['stock_symbol'] + '.OL'\n",
    "    elif row['Isin'].startswith('MHY'):\n",
    "        esg_data.at[index, 'stock_symbol'] = row['stock_symbol'] + '.SG'\n",
    "    elif row['Isin'].startswith('US36467X2062'):\n",
    "        esg_data.at[index, 'stock_symbol'] = row['stock_symbol'] + '.OL'\n",
    "    elif row['Isin'].startswith('SGX'):\n",
    "        esg_data.at[index, 'stock_symbol'] = row['stock_symbol'] + '.OL'\n",
    "    elif row['Isin'].startswith('FO0000000179'):\n",
    "        esg_data.at[index, 'stock_symbol'] = row['stock_symbol'] + '.OL'\n",
    "\n",
    "    elif row['Isin'].startswith('MT0000580101'):\n",
    "        esg_data.at[index, 'stock_symbol'] = row['stock_symbol'] + '.DE'\n",
    "    elif row['Isin'].startswith('MT0001390104'):\n",
    "        esg_data.at[index, 'stock_symbol'] = row['stock_symbol'] + '.ST'\n",
    "    elif row['Isin'].startswith('MT'):\n",
    "        esg_data.at[index, 'stock_symbol'] = row['stock_symbol'] + '.SG'\n",
    "   "
   ]
  },
  {
   "cell_type": "code",
   "execution_count": null,
   "metadata": {},
   "outputs": [],
   "source": []
  }
 ],
 "metadata": {
  "kernelspec": {
   "display_name": "Python 3",
   "language": "python",
   "name": "python3"
  },
  "language_info": {
   "codemirror_mode": {
    "name": "ipython",
    "version": 3
   },
   "file_extension": ".py",
   "mimetype": "text/x-python",
   "name": "python",
   "nbconvert_exporter": "python",
   "pygments_lexer": "ipython3",
   "version": "3.11.0"
  },
  "orig_nbformat": 4,
  "vscode": {
   "interpreter": {
    "hash": "8a5edab282632443219e051e4ade2d1d5bbc671c781051bf1437897cbdfea0f1"
   }
  }
 },
 "nbformat": 4,
 "nbformat_minor": 2
}
