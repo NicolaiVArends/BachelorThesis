{
 "cells": [
  {
   "cell_type": "code",
   "execution_count": 5,
   "metadata": {},
   "outputs": [],
   "source": [
    "import os\n",
    "import sys\n",
    "%matplotlib inline\n",
    "\n",
    "import numpy as np\n",
    "import pandas as pd\n",
    "import ipywidgets\n",
    "from scipy.optimize import Bounds\n",
    "module_path = os.path.abspath(os.path.join('..'))\n",
    "if module_path not in sys.path:\n",
    "    sys.path.append(module_path)\n",
    "from src import data\n",
    "from src import efficient_frontier\n",
    "from src import plot\n",
    "from src import portfolio\n",
    "from src import capm\n",
    "from src import backtesting\n",
    "import numpy as np\n",
    "import pandas as pd\n",
    "import ipywidgets\n",
    "from scipy.optimize import Bounds\n",
    "import datetime\n",
    "from dateutil import rrule\n",
    "import yfinance as yf\n",
    "import warnings\n",
    "\n",
    "warnings.filterwarnings(\"ignore\", category=FutureWarning, module='pandas')"
   ]
  },
  {
   "cell_type": "code",
   "execution_count": 6,
   "metadata": {},
   "outputs": [],
   "source": [
    "\n",
    "\"Weights is how you want to weigh the Enviromental, Social, and Governance score, they have to sum to one\"\n",
    "weights = np.array([1/3,1/3,1/3])\n",
    "\n",
    "\"The minimum ESG score is the lowest score a company can have for it to be included in your portfolio\"\n",
    "min_esg_score = 1100\n",
    "\n",
    "\"The maximum ESG score is the highest ESG score a company can have for it to be included in your portfolio\"\n",
    "max_esg_score = 1200\n",
    "\n",
    "\"This is the ESG data for the companies you want included in the portfolio optimization\"\n",
    "df = pd.read_excel('../data/ESG_DATA_S&P500.xlsx')\n",
    "\n",
    "\"The bounds are how willing to go short or long in one stock\"\n",
    "Bounds1 = Bounds(0,1) \n",
    "\n",
    "\"Wanted return is used if you want to optimize on a perticular return\"\n",
    "Wanted_return = 0.05\n",
    "\n",
    "\"Maximum risk is either used when optimizing using risk as a constraint or when creating a cml portfolio\"\n",
    "maximum_risk = 0.02\n",
    "\n",
    "\"What optimization type you want to use: 'No_extra_constraint' you only optimize based on sharpe ratio\",\n",
    "\"'Maximum_risk' you constrain the optimizer on a certain risk level\",\n",
    "\"'Wanted_return' you constrain the optimizer on a certain return level\"\n",
    "\"'No_extra_constraint' you only constrain on optimizing on max sharp ration\"\n",
    "sharpe_type = \"Maximum_risk\" \n",
    "\n",
    "\"What you beleive your risk free rate to be\"\n",
    "risk_free_rate = 0.01\n",
    "\n",
    "\"If you want to rebalance with a monthly or yearly frequency\"\n",
    "rebalancing_freq = 'monthly'\n"
   ]
  },
  {
   "cell_type": "code",
   "execution_count": 7,
   "metadata": {},
   "outputs": [],
   "source": [
    "strategy1 = {'df': df,\n",
    " 'weights': weights,\n",
    " 'min_esg_score': min_esg_score,\n",
    " 'max_esg_score': max_esg_score,\n",
    " 'bounds': Bounds1,\n",
    " 'sharpe_type': sharpe_type,\n",
    " 'wanted_return': Wanted_return,\n",
    " 'maximum_risk': maximum_risk,\n",
    " 'rebalancing_freq': rebalancing_freq,\n",
    " 'risk_free_rate': risk_free_rate}\n"
   ]
  },
  {
   "cell_type": "code",
   "execution_count": 8,
   "metadata": {},
   "outputs": [
    {
     "name": "stdout",
     "output_type": "stream",
     "text": [
      "\n",
      "1 Failed download:\n",
      "- ABBV: Exception('Lost data during merge despite all attempts to align data (see above)')\n",
      "Min. Risk = 1.650% => Return: 1.866%  Sharpe Ratio = 1.13\n",
      "Max. Sharpe Ratio = 1.40 => Return: 2.81%  Risk: 2.000%\n"
     ]
    },
    {
     "ename": "KeyboardInterrupt",
     "evalue": "",
     "output_type": "error",
     "traceback": [
      "\u001b[1;31m---------------------------------------------------------------------------\u001b[0m",
      "\u001b[1;31mKeyboardInterrupt\u001b[0m                         Traceback (most recent call last)",
      "Cell \u001b[1;32mIn[8], line 9\u001b[0m\n\u001b[0;32m      6\u001b[0m \u001b[39m\"\u001b[39m\u001b[39mSixth input is the amount of years you want the covariance window to be\u001b[39m\u001b[39m\"\u001b[39m,\n\u001b[0;32m      7\u001b[0m \u001b[39m\"\u001b[39m\u001b[39mSeventh input is the market that you want to benchmark your portfolio on\u001b[39m\u001b[39m\"\u001b[39m\n\u001b[1;32m----> 9\u001b[0m data5 \u001b[39m=\u001b[39m backtesting\u001b[39m.\u001b[39;49mbacktesting(strategy1,\n\u001b[0;32m     10\u001b[0m                                 \u001b[39m'\u001b[39;49m\u001b[39mmonthly\u001b[39;49m\u001b[39m'\u001b[39;49m,\n\u001b[0;32m     11\u001b[0m                                 \u001b[39m6\u001b[39;49m,\n\u001b[0;32m     12\u001b[0m                                 \u001b[39m'\u001b[39;49m\u001b[39m2015-01-01\u001b[39;49m\u001b[39m'\u001b[39;49m,\n\u001b[0;32m     13\u001b[0m                                 \u001b[39m'\u001b[39;49m\u001b[39m2022-01-01\u001b[39;49m\u001b[39m'\u001b[39;49m,\n\u001b[0;32m     14\u001b[0m                                 \u001b[39m6\u001b[39;49m,\n\u001b[0;32m     15\u001b[0m                                 \u001b[39m0\u001b[39;49m,\n\u001b[0;32m     16\u001b[0m                                 \u001b[39m'\u001b[39;49m\u001b[39m^GSPC\u001b[39;49m\u001b[39m'\u001b[39;49m)\n\u001b[0;32m     17\u001b[0m \u001b[39m#Min. Risk = 1.626% => Return: 1.637%  Sharpe Ratio = 1.01\u001b[39;00m\n\u001b[0;32m     18\u001b[0m \u001b[39m#Max. Sharpe Ratio = 1.26 => Return: 2.46%  Risk: 1.954%\u001b[39;00m\n",
      "File \u001b[1;32mc:\\Users\\Tor Osted\\OneDrive\\Dokumenter\\GitHub\\BachelorThesis\\src\\backtesting.py:185\u001b[0m, in \u001b[0;36mbacktesting\u001b[1;34m(strategy, monthly_or_yearly_rebalancing, rebalancing_freq, start_date, end_date, covariance_window_yearly, covariance_window_monthly, market_name, benoit_wolfe)\u001b[0m\n\u001b[0;32m    183\u001b[0m delta \u001b[39m=\u001b[39m relativedelta(months\u001b[39m=\u001b[39mrebalancing_freq)\n\u001b[0;32m    184\u001b[0m \u001b[39mwhile\u001b[39;00m (start_date \u001b[39m<\u001b[39m\u001b[39m=\u001b[39m end_date):\n\u001b[1;32m--> 185\u001b[0m     listparameters\u001b[39m.\u001b[39mappend(efficient_frontier\u001b[39m.\u001b[39;49mefficient_frontier_solo(pct_returns,\n\u001b[0;32m    186\u001b[0m                     strategy[\u001b[39m'\u001b[39;49m\u001b[39mbounds\u001b[39;49m\u001b[39m'\u001b[39;49m],\n\u001b[0;32m    187\u001b[0m                     strategy[\u001b[39m'\u001b[39;49m\u001b[39msharpe_type\u001b[39;49m\u001b[39m'\u001b[39;49m],\n\u001b[0;32m    188\u001b[0m                     start_date\u001b[39m-\u001b[39;49mcovariance_window_time_delta,\u001b[39m#The start date for portfolio optimization will be the start date minus the covariance window\u001b[39;49;00m\n\u001b[0;32m    189\u001b[0m                     start_date,\u001b[39m#The end date for portfolio optimization will be the start date minus the covariance window\u001b[39;49;00m\n\u001b[0;32m    190\u001b[0m                     strategy[\u001b[39m'\u001b[39;49m\u001b[39mwanted_return\u001b[39;49m\u001b[39m'\u001b[39;49m],\n\u001b[0;32m    191\u001b[0m                     strategy[\u001b[39m'\u001b[39;49m\u001b[39mmaximum_risk\u001b[39;49m\u001b[39m'\u001b[39;49m],\n\u001b[0;32m    192\u001b[0m                     strategy[\u001b[39m'\u001b[39;49m\u001b[39mrebalancing_freq\u001b[39;49m\u001b[39m'\u001b[39;49m],\n\u001b[0;32m    193\u001b[0m                     benoit_wolfe)) \n\u001b[0;32m    196\u001b[0m     list_of_port_weights\u001b[39m.\u001b[39mappend(efficient_frontier\u001b[39m.\u001b[39mweights_of_portfolio(prices,listparameters[i]))    \n\u001b[0;32m    198\u001b[0m     list_of_port_esg_scores\u001b[39m.\u001b[39mappend(portfolio\u001b[39m.\u001b[39mesg_score_of_portfolio(list_of_port_weights[i],esgdata\u001b[39m.\u001b[39mhead(\u001b[39m1\u001b[39m)))\n",
      "File \u001b[1;32mc:\\Users\\Tor Osted\\OneDrive\\Dokumenter\\GitHub\\BachelorThesis\\src\\efficient_frontier.py:231\u001b[0m, in \u001b[0;36mefficient_frontier_solo\u001b[1;34m(returns, bounds, Sharpe_Type, start_date, end_date, wanted_return, maximum_risk, monthly_or_yearly_mean, ledoit_Wolf)\u001b[0m\n\u001b[0;32m    229\u001b[0m sample_rolling_window \u001b[39m=\u001b[39m returns\u001b[39m.\u001b[39mloc[\u001b[39m'\u001b[39m\u001b[39m{}\u001b[39;00m\u001b[39m'\u001b[39m\u001b[39m.\u001b[39mformat(\u001b[39mstr\u001b[39m(start_date)):\u001b[39m'\u001b[39m\u001b[39m{}\u001b[39;00m\u001b[39m'\u001b[39m\u001b[39m.\u001b[39mformat(\u001b[39mstr\u001b[39m(end_date))]\n\u001b[0;32m    230\u001b[0m \u001b[39mif\u001b[39;00m monthly_or_yearly_mean \u001b[39m==\u001b[39m \u001b[39m\"\u001b[39m\u001b[39mmonthly\u001b[39m\u001b[39m\"\u001b[39m:\n\u001b[1;32m--> 231\u001b[0m     parameters\u001b[39m.\u001b[39mappend(calculate_efficient_frontier(portfolio\u001b[39m.\u001b[39;49mmean_return_monthly(sample_rolling_window),\n\u001b[0;32m    232\u001b[0m                                                                       portfolio\u001b[39m.\u001b[39;49mcovariance_matrix_monthly(sample_rolling_window,ledoit_Wolf),\n\u001b[0;32m    233\u001b[0m                                                                       bounds,\n\u001b[0;32m    234\u001b[0m                                                                       Sharpe_Type,\n\u001b[0;32m    235\u001b[0m                                                                       wanted_return,\n\u001b[0;32m    236\u001b[0m                                                                       maximum_risk))\n\u001b[0;32m    237\u001b[0m \u001b[39melif\u001b[39;00m monthly_or_yearly_mean \u001b[39m==\u001b[39m \u001b[39m\"\u001b[39m\u001b[39myearly\u001b[39m\u001b[39m\"\u001b[39m:\n\u001b[0;32m    238\u001b[0m     parameters\u001b[39m.\u001b[39mappend(calculate_efficient_frontier(portfolio\u001b[39m.\u001b[39mmean_return_annual(sample_rolling_window),\n\u001b[0;32m    239\u001b[0m                                                                       portfolio\u001b[39m.\u001b[39mcovariance_matrix_annual(sample_rolling_window,ledoit_Wolf),\n\u001b[0;32m    240\u001b[0m                                                                       bounds,\n\u001b[0;32m    241\u001b[0m                                                                       Sharpe_Type,\n\u001b[0;32m    242\u001b[0m                                                                       wanted_return,\n\u001b[0;32m    243\u001b[0m                                                                       maximum_risk))\n",
      "File \u001b[1;32mc:\\Users\\Tor Osted\\OneDrive\\Dokumenter\\GitHub\\BachelorThesis\\src\\efficient_frontier.py:191\u001b[0m, in \u001b[0;36mcalculate_efficient_frontier\u001b[1;34m(ret_port, cov_port, bounds, Sharpe_Type, wanted_return, max_risk)\u001b[0m\n\u001b[0;32m    189\u001b[0m     \u001b[39m#Define a function to calculate volatility\u001b[39;00m\n\u001b[0;32m    190\u001b[0m     fun \u001b[39m=\u001b[39m \u001b[39mlambda\u001b[39;00m weights: portfolio\u001b[39m.\u001b[39mportfolio_std(cov_port, weights)\n\u001b[1;32m--> 191\u001b[0m     result \u001b[39m=\u001b[39m minimize(fun,\n\u001b[0;32m    192\u001b[0m                       x0, \n\u001b[0;32m    193\u001b[0m                       method\u001b[39m=\u001b[39;49m\u001b[39m'\u001b[39;49m\u001b[39mSLSQP\u001b[39;49m\u001b[39m'\u001b[39;49m, \n\u001b[0;32m    194\u001b[0m                       bounds\u001b[39m=\u001b[39;49mbounds, \n\u001b[0;32m    195\u001b[0m                       constraints\u001b[39m=\u001b[39;49mcons)\n\u001b[0;32m    196\u001b[0m     frontier_x\u001b[39m.\u001b[39mappend(result[\u001b[39m'\u001b[39m\u001b[39mfun\u001b[39m\u001b[39m'\u001b[39m])\n\u001b[0;32m    198\u001b[0m frontier_x \u001b[39m=\u001b[39m np\u001b[39m.\u001b[39marray(frontier_x)\n",
      "File \u001b[1;32mc:\\Users\\Tor Osted\\AppData\\Local\\Programs\\Python\\Python310\\lib\\site-packages\\scipy\\optimize\\_minimize.py:705\u001b[0m, in \u001b[0;36mminimize\u001b[1;34m(fun, x0, args, method, jac, hess, hessp, bounds, constraints, tol, callback, options)\u001b[0m\n\u001b[0;32m    702\u001b[0m     res \u001b[39m=\u001b[39m _minimize_cobyla(fun, x0, args, constraints, callback\u001b[39m=\u001b[39mcallback,\n\u001b[0;32m    703\u001b[0m                             \u001b[39m*\u001b[39m\u001b[39m*\u001b[39moptions)\n\u001b[0;32m    704\u001b[0m \u001b[39melif\u001b[39;00m meth \u001b[39m==\u001b[39m \u001b[39m'\u001b[39m\u001b[39mslsqp\u001b[39m\u001b[39m'\u001b[39m:\n\u001b[1;32m--> 705\u001b[0m     res \u001b[39m=\u001b[39m _minimize_slsqp(fun, x0, args, jac, bounds,\n\u001b[0;32m    706\u001b[0m                           constraints, callback\u001b[39m=\u001b[39mcallback, \u001b[39m*\u001b[39m\u001b[39m*\u001b[39moptions)\n\u001b[0;32m    707\u001b[0m \u001b[39melif\u001b[39;00m meth \u001b[39m==\u001b[39m \u001b[39m'\u001b[39m\u001b[39mtrust-constr\u001b[39m\u001b[39m'\u001b[39m:\n\u001b[0;32m    708\u001b[0m     res \u001b[39m=\u001b[39m _minimize_trustregion_constr(fun, x0, args, jac, hess, hessp,\n\u001b[0;32m    709\u001b[0m                                        bounds, constraints,\n\u001b[0;32m    710\u001b[0m                                        callback\u001b[39m=\u001b[39mcallback, \u001b[39m*\u001b[39m\u001b[39m*\u001b[39moptions)\n",
      "File \u001b[1;32mc:\\Users\\Tor Osted\\AppData\\Local\\Programs\\Python\\Python310\\lib\\site-packages\\scipy\\optimize\\_slsqp_py.py:432\u001b[0m, in \u001b[0;36m_minimize_slsqp\u001b[1;34m(func, x0, args, jac, bounds, constraints, maxiter, ftol, iprint, disp, eps, callback, finite_diff_rel_step, **unknown_options)\u001b[0m\n\u001b[0;32m    429\u001b[0m     c \u001b[39m=\u001b[39m _eval_constraint(x, cons)\n\u001b[0;32m    431\u001b[0m \u001b[39mif\u001b[39;00m mode \u001b[39m==\u001b[39m \u001b[39m-\u001b[39m\u001b[39m1\u001b[39m:  \u001b[39m# gradient evaluation required\u001b[39;00m\n\u001b[1;32m--> 432\u001b[0m     g \u001b[39m=\u001b[39m append(wrapped_grad(x), \u001b[39m0.0\u001b[39m)\n\u001b[0;32m    433\u001b[0m     a \u001b[39m=\u001b[39m _eval_con_normals(x, cons, la, n, m, meq, mieq)\n\u001b[0;32m    435\u001b[0m \u001b[39mif\u001b[39;00m majiter \u001b[39m>\u001b[39m majiter_prev:\n\u001b[0;32m    436\u001b[0m     \u001b[39m# call callback if major iteration has incremented\u001b[39;00m\n",
      "File \u001b[1;32mc:\\Users\\Tor Osted\\AppData\\Local\\Programs\\Python\\Python310\\lib\\site-packages\\scipy\\optimize\\_optimize.py:346\u001b[0m, in \u001b[0;36m_clip_x_for_func.<locals>.eval\u001b[1;34m(x)\u001b[0m\n\u001b[0;32m    344\u001b[0m \u001b[39mdef\u001b[39;00m \u001b[39meval\u001b[39m(x):\n\u001b[0;32m    345\u001b[0m     x \u001b[39m=\u001b[39m _check_clip_x(x, bounds)\n\u001b[1;32m--> 346\u001b[0m     \u001b[39mreturn\u001b[39;00m func(x)\n",
      "File \u001b[1;32mc:\\Users\\Tor Osted\\AppData\\Local\\Programs\\Python\\Python310\\lib\\site-packages\\scipy\\optimize\\_differentiable_functions.py:273\u001b[0m, in \u001b[0;36mScalarFunction.grad\u001b[1;34m(self, x)\u001b[0m\n\u001b[0;32m    271\u001b[0m \u001b[39mif\u001b[39;00m \u001b[39mnot\u001b[39;00m np\u001b[39m.\u001b[39marray_equal(x, \u001b[39mself\u001b[39m\u001b[39m.\u001b[39mx):\n\u001b[0;32m    272\u001b[0m     \u001b[39mself\u001b[39m\u001b[39m.\u001b[39m_update_x_impl(x)\n\u001b[1;32m--> 273\u001b[0m \u001b[39mself\u001b[39;49m\u001b[39m.\u001b[39;49m_update_grad()\n\u001b[0;32m    274\u001b[0m \u001b[39mreturn\u001b[39;00m \u001b[39mself\u001b[39m\u001b[39m.\u001b[39mg\n",
      "File \u001b[1;32mc:\\Users\\Tor Osted\\AppData\\Local\\Programs\\Python\\Python310\\lib\\site-packages\\scipy\\optimize\\_differentiable_functions.py:256\u001b[0m, in \u001b[0;36mScalarFunction._update_grad\u001b[1;34m(self)\u001b[0m\n\u001b[0;32m    254\u001b[0m \u001b[39mdef\u001b[39;00m \u001b[39m_update_grad\u001b[39m(\u001b[39mself\u001b[39m):\n\u001b[0;32m    255\u001b[0m     \u001b[39mif\u001b[39;00m \u001b[39mnot\u001b[39;00m \u001b[39mself\u001b[39m\u001b[39m.\u001b[39mg_updated:\n\u001b[1;32m--> 256\u001b[0m         \u001b[39mself\u001b[39;49m\u001b[39m.\u001b[39;49m_update_grad_impl()\n\u001b[0;32m    257\u001b[0m         \u001b[39mself\u001b[39m\u001b[39m.\u001b[39mg_updated \u001b[39m=\u001b[39m \u001b[39mTrue\u001b[39;00m\n",
      "File \u001b[1;32mc:\\Users\\Tor Osted\\AppData\\Local\\Programs\\Python\\Python310\\lib\\site-packages\\scipy\\optimize\\_differentiable_functions.py:173\u001b[0m, in \u001b[0;36mScalarFunction.__init__.<locals>.update_grad\u001b[1;34m()\u001b[0m\n\u001b[0;32m    171\u001b[0m \u001b[39mself\u001b[39m\u001b[39m.\u001b[39m_update_fun()\n\u001b[0;32m    172\u001b[0m \u001b[39mself\u001b[39m\u001b[39m.\u001b[39mngev \u001b[39m+\u001b[39m\u001b[39m=\u001b[39m \u001b[39m1\u001b[39m\n\u001b[1;32m--> 173\u001b[0m \u001b[39mself\u001b[39m\u001b[39m.\u001b[39mg \u001b[39m=\u001b[39m approx_derivative(fun_wrapped, \u001b[39mself\u001b[39m\u001b[39m.\u001b[39mx, f0\u001b[39m=\u001b[39m\u001b[39mself\u001b[39m\u001b[39m.\u001b[39mf,\n\u001b[0;32m    174\u001b[0m                            \u001b[39m*\u001b[39m\u001b[39m*\u001b[39mfinite_diff_options)\n",
      "File \u001b[1;32mc:\\Users\\Tor Osted\\AppData\\Local\\Programs\\Python\\Python310\\lib\\site-packages\\scipy\\optimize\\_numdiff.py:505\u001b[0m, in \u001b[0;36mapprox_derivative\u001b[1;34m(fun, x0, method, rel_step, abs_step, f0, bounds, sparsity, as_linear_operator, args, kwargs)\u001b[0m\n\u001b[0;32m    502\u001b[0m     use_one_sided \u001b[39m=\u001b[39m \u001b[39mFalse\u001b[39;00m\n\u001b[0;32m    504\u001b[0m \u001b[39mif\u001b[39;00m sparsity \u001b[39mis\u001b[39;00m \u001b[39mNone\u001b[39;00m:\n\u001b[1;32m--> 505\u001b[0m     \u001b[39mreturn\u001b[39;00m _dense_difference(fun_wrapped, x0, f0, h,\n\u001b[0;32m    506\u001b[0m                              use_one_sided, method)\n\u001b[0;32m    507\u001b[0m \u001b[39melse\u001b[39;00m:\n\u001b[0;32m    508\u001b[0m     \u001b[39mif\u001b[39;00m \u001b[39mnot\u001b[39;00m issparse(sparsity) \u001b[39mand\u001b[39;00m \u001b[39mlen\u001b[39m(sparsity) \u001b[39m==\u001b[39m \u001b[39m2\u001b[39m:\n",
      "File \u001b[1;32mc:\\Users\\Tor Osted\\AppData\\Local\\Programs\\Python\\Python310\\lib\\site-packages\\scipy\\optimize\\_numdiff.py:576\u001b[0m, in \u001b[0;36m_dense_difference\u001b[1;34m(fun, x0, f0, h, use_one_sided, method)\u001b[0m\n\u001b[0;32m    574\u001b[0m     x \u001b[39m=\u001b[39m x0 \u001b[39m+\u001b[39m h_vecs[i]\n\u001b[0;32m    575\u001b[0m     dx \u001b[39m=\u001b[39m x[i] \u001b[39m-\u001b[39m x0[i]  \u001b[39m# Recompute dx as exactly representable number.\u001b[39;00m\n\u001b[1;32m--> 576\u001b[0m     df \u001b[39m=\u001b[39m fun(x) \u001b[39m-\u001b[39m f0\n\u001b[0;32m    577\u001b[0m \u001b[39melif\u001b[39;00m method \u001b[39m==\u001b[39m \u001b[39m'\u001b[39m\u001b[39m3-point\u001b[39m\u001b[39m'\u001b[39m \u001b[39mand\u001b[39;00m use_one_sided[i]:\n\u001b[0;32m    578\u001b[0m     x1 \u001b[39m=\u001b[39m x0 \u001b[39m+\u001b[39m h_vecs[i]\n",
      "File \u001b[1;32mc:\\Users\\Tor Osted\\AppData\\Local\\Programs\\Python\\Python310\\lib\\site-packages\\scipy\\optimize\\_numdiff.py:456\u001b[0m, in \u001b[0;36mapprox_derivative.<locals>.fun_wrapped\u001b[1;34m(x)\u001b[0m\n\u001b[0;32m    455\u001b[0m \u001b[39mdef\u001b[39;00m \u001b[39mfun_wrapped\u001b[39m(x):\n\u001b[1;32m--> 456\u001b[0m     f \u001b[39m=\u001b[39m np\u001b[39m.\u001b[39matleast_1d(fun(x, \u001b[39m*\u001b[39margs, \u001b[39m*\u001b[39m\u001b[39m*\u001b[39mkwargs))\n\u001b[0;32m    457\u001b[0m     \u001b[39mif\u001b[39;00m f\u001b[39m.\u001b[39mndim \u001b[39m>\u001b[39m \u001b[39m1\u001b[39m:\n\u001b[0;32m    458\u001b[0m         \u001b[39mraise\u001b[39;00m \u001b[39mRuntimeError\u001b[39;00m(\u001b[39m\"\u001b[39m\u001b[39m`fun` return value has \u001b[39m\u001b[39m\"\u001b[39m\n\u001b[0;32m    459\u001b[0m                            \u001b[39m\"\u001b[39m\u001b[39mmore than 1 dimension.\u001b[39m\u001b[39m\"\u001b[39m)\n",
      "File \u001b[1;32mc:\\Users\\Tor Osted\\AppData\\Local\\Programs\\Python\\Python310\\lib\\site-packages\\scipy\\optimize\\_differentiable_functions.py:137\u001b[0m, in \u001b[0;36mScalarFunction.__init__.<locals>.fun_wrapped\u001b[1;34m(x)\u001b[0m\n\u001b[0;32m    133\u001b[0m \u001b[39mself\u001b[39m\u001b[39m.\u001b[39mnfev \u001b[39m+\u001b[39m\u001b[39m=\u001b[39m \u001b[39m1\u001b[39m\n\u001b[0;32m    134\u001b[0m \u001b[39m# Send a copy because the user may overwrite it.\u001b[39;00m\n\u001b[0;32m    135\u001b[0m \u001b[39m# Overwriting results in undefined behaviour because\u001b[39;00m\n\u001b[0;32m    136\u001b[0m \u001b[39m# fun(self.x) will change self.x, with the two no longer linked.\u001b[39;00m\n\u001b[1;32m--> 137\u001b[0m fx \u001b[39m=\u001b[39m fun(np\u001b[39m.\u001b[39;49mcopy(x), \u001b[39m*\u001b[39;49margs)\n\u001b[0;32m    138\u001b[0m \u001b[39m# Make sure the function returns a true scalar\u001b[39;00m\n\u001b[0;32m    139\u001b[0m \u001b[39mif\u001b[39;00m \u001b[39mnot\u001b[39;00m np\u001b[39m.\u001b[39misscalar(fx):\n",
      "File \u001b[1;32mc:\\Users\\Tor Osted\\OneDrive\\Dokumenter\\GitHub\\BachelorThesis\\src\\efficient_frontier.py:190\u001b[0m, in \u001b[0;36mcalculate_efficient_frontier.<locals>.<lambda>\u001b[1;34m(weights)\u001b[0m\n\u001b[0;32m    186\u001b[0m cons \u001b[39m=\u001b[39m ({\u001b[39m'\u001b[39m\u001b[39mtype\u001b[39m\u001b[39m'\u001b[39m:\u001b[39m'\u001b[39m\u001b[39meq\u001b[39m\u001b[39m'\u001b[39m, \u001b[39m'\u001b[39m\u001b[39mfun\u001b[39m\u001b[39m'\u001b[39m: check_sum},\n\u001b[0;32m    187\u001b[0m         {\u001b[39m'\u001b[39m\u001b[39mtype\u001b[39m\u001b[39m'\u001b[39m:\u001b[39m'\u001b[39m\u001b[39meq\u001b[39m\u001b[39m'\u001b[39m, \u001b[39m'\u001b[39m\u001b[39mfun\u001b[39m\u001b[39m'\u001b[39m: \u001b[39mlambda\u001b[39;00m w: portfolio\u001b[39m.\u001b[39mportfolio_return(ret_port, w) \u001b[39m-\u001b[39m possible_return})\n\u001b[0;32m    189\u001b[0m \u001b[39m#Define a function to calculate volatility\u001b[39;00m\n\u001b[1;32m--> 190\u001b[0m fun \u001b[39m=\u001b[39m \u001b[39mlambda\u001b[39;00m weights: portfolio\u001b[39m.\u001b[39;49mportfolio_std(cov_port, weights)\n\u001b[0;32m    191\u001b[0m result \u001b[39m=\u001b[39m minimize(fun,\n\u001b[0;32m    192\u001b[0m                   x0, \n\u001b[0;32m    193\u001b[0m                   method\u001b[39m=\u001b[39m\u001b[39m'\u001b[39m\u001b[39mSLSQP\u001b[39m\u001b[39m'\u001b[39m, \n\u001b[0;32m    194\u001b[0m                   bounds\u001b[39m=\u001b[39mbounds, \n\u001b[0;32m    195\u001b[0m                   constraints\u001b[39m=\u001b[39mcons)\n\u001b[0;32m    196\u001b[0m frontier_x\u001b[39m.\u001b[39mappend(result[\u001b[39m'\u001b[39m\u001b[39mfun\u001b[39m\u001b[39m'\u001b[39m])\n",
      "File \u001b[1;32mc:\\Users\\Tor Osted\\OneDrive\\Dokumenter\\GitHub\\BachelorThesis\\src\\portfolio.py:146\u001b[0m, in \u001b[0;36mportfolio_std\u001b[1;34m(port_cov, weights)\u001b[0m\n\u001b[0;32m    138\u001b[0m \u001b[39mdef\u001b[39;00m \u001b[39mportfolio_std\u001b[39m(port_cov: pd\u001b[39m.\u001b[39mDataFrame, \n\u001b[0;32m    139\u001b[0m                   weights: pd\u001b[39m.\u001b[39mDataFrame):\n\u001b[0;32m    140\u001b[0m \u001b[39m    \u001b[39m\u001b[39m\"\"\" This function takes portfolio weigths and covariance matrix and computes the portfolio standard deviation (risk).\u001b[39;00m\n\u001b[0;32m    141\u001b[0m \n\u001b[0;32m    142\u001b[0m \u001b[39m    :param port_cov: Portfolio covariance matrix\u001b[39;00m\n\u001b[0;32m    143\u001b[0m \u001b[39m    :param weights: Porfoltio weight allocation\u001b[39;00m\n\u001b[0;32m    144\u001b[0m \u001b[39m    :returns: Computed portfolio standard deviation (risk)\u001b[39;00m\n\u001b[0;32m    145\u001b[0m \u001b[39m    \"\"\"\u001b[39;00m\n\u001b[1;32m--> 146\u001b[0m     \u001b[39mreturn\u001b[39;00m np\u001b[39m.\u001b[39msqrt(np\u001b[39m.\u001b[39mdot(weights, np\u001b[39m.\u001b[39;49mdot(weights, port_cov)))\n",
      "File \u001b[1;32m<__array_function__ internals>:200\u001b[0m, in \u001b[0;36mdot\u001b[1;34m(*args, **kwargs)\u001b[0m\n",
      "\u001b[1;31mKeyboardInterrupt\u001b[0m: "
     ]
    }
   ],
   "source": [
    "\"First input is your investment strategy,\",\n",
    "\"Second input is whether you are doing monthly or yearly rebalancing\",\n",
    "\"Third input is the amount of months or years between each rebalancing\",\n",
    "\"Fourth input is the first date of your rebalancing, should always be the first of the month, the format is 'YYYY-MM-DD\",\n",
    "\"Fifth input is the amount of months you want to have the covariance window be\",\n",
    "\"Sixth input is the amount of years you want the covariance window to be\",\n",
    "\"Seventh input is the market that you want to benchmark your portfolio on\"\n",
    "\n",
    "data5 = backtesting.backtesting(strategy1,\n",
    "                                'monthly',\n",
    "                                6,\n",
    "                                '2015-01-01',\n",
    "                                '2022-01-01',\n",
    "                                6,\n",
    "                                0,\n",
    "                                '^GSPC')\n",
    "#Min. Risk = 1.626% => Return: 1.637%  Sharpe Ratio = 1.01\n",
    "#Max. Sharpe Ratio = 1.26 => Return: 2.46%  Risk: 1.954%"
   ]
  },
  {
   "cell_type": "code",
   "execution_count": null,
   "metadata": {},
   "outputs": [],
   "source": [
    "\"Our portfolio returns compared to the market returns for each recalibration\",\n",
    "\n",
    "\"First parameter is the portfolio date\",\n",
    "\n",
    "\"Second parameter is the portfolio returns\",\n",
    "\"change to data5['portfolio_actual_returns_cmle'] if you want cml returns and data5['portfolio_actual_returns'] if you want normal portfolio returns\",\n",
    "\n",
    "\"Third parameter is the market returns\"\n",
    "\n",
    "\n",
    "plot.compare_returns1(data5['return_dates'],\n",
    "                      np.concatenate(data5['portfolio_actual_returns']),\n",
    "                      data5[7])\n"
   ]
  },
  {
   "cell_type": "code",
   "execution_count": null,
   "metadata": {},
   "outputs": [],
   "source": [
    "#Data[10] is the cml returns\n",
    "\"Our portfolio cumulative returns compared to the market returns for each recalibration\",\n",
    "\"First parameter is portfolio dates\",\n",
    "\"Second parameter is the cumulative portfolio returns\"\n",
    "\"Change data5['cumulative_portfolio_return_list'] to data5['cumulative_cml_return_list'] if you want to change to cml\"\n",
    "\"third parameter is cumulative market returns\"\n",
    "plot.compare_cumulative_returns(data5['return_dates'],\n",
    "                                np.concatenate(data5['cumulative_portfolio_return_list']),\n",
    "                                data5['cumulative_market_return_list'])\n",
    "\n"
   ]
  }
 ],
 "metadata": {
  "kernelspec": {
   "display_name": "Python 3",
   "language": "python",
   "name": "python3"
  },
  "language_info": {
   "codemirror_mode": {
    "name": "ipython",
    "version": 3
   },
   "file_extension": ".py",
   "mimetype": "text/x-python",
   "name": "python",
   "nbconvert_exporter": "python",
   "pygments_lexer": "ipython3",
   "version": "3.10.4"
  },
  "orig_nbformat": 4
 },
 "nbformat": 4,
 "nbformat_minor": 2
}
