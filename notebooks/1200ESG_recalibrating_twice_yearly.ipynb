{
 "cells": [
  {
   "cell_type": "code",
   "execution_count": null,
   "metadata": {},
   "outputs": [
    {
     "name": "stdout",
     "output_type": "stream",
     "text": [
      "Using matplotlib backend: TkAgg\n",
      "%pylab is deprecated, use %matplotlib inline and import the required libraries.\n",
      "Populating the interactive namespace from numpy and matplotlib\n"
     ]
    },
    {
     "name": "stderr",
     "output_type": "stream",
     "text": [
      "c:\\Users\\toros\\AppData\\Local\\Programs\\Python\\Python39\\lib\\site-packages\\IPython\\core\\magics\\pylab.py:162: UserWarning: pylab import has clobbered these variables: ['plot']\n",
      "`%matplotlib` prevents importing * from pylab and numpy\n",
      "  warn(\"pylab import has clobbered these variables: %s\"  % clobbered +\n"
     ]
    }
   ],
   "source": [
    "import os\n",
    "import sys\n",
    "%pylab\n",
    "\n",
    "import numpy as np\n",
    "import pandas as pd\n",
    "import ipywidgets\n",
    "from scipy.optimize import Bounds\n",
    "module_path = os.path.abspath(os.path.join('..'))\n",
    "if module_path not in sys.path:\n",
    "    sys.path.append(module_path)\n",
    "    %pylab\n",
    "from src import data\n",
    "\n",
    "from src import efficient_frontier\n",
    "from src import plot\n",
    "from src import portfolio\n",
    "from src import capm\n",
    "import numpy as np\n",
    "import pandas as pd\n",
    "import ipywidgets\n",
    "from scipy.optimize import Bounds"
   ]
  },
  {
   "cell_type": "code",
   "execution_count": null,
   "metadata": {},
   "outputs": [],
   "source": [
    "weights = np.array([1/3,1/3,1/3])\n",
    "min_esg_score = 0\n",
    "max_esg_score = 2000\n",
    "df = pd.read_excel('../data/ESG_DATA_S&P500.xlsx')\n",
    "dates = ['2021-06-01','2022-01-01']\n",
    "start_year = dates[0]\n",
    "end_year = dates[1]\n",
    "\n",
    "Bounds = Bounds(-1,2) #How willing we are to go short and to invest in one particular stock\n",
    "Wanted_return = 0.20 #Only used when using the wanted_return constraint\n",
    "maximum_risk = 0.10 #Either used when using maximum risk constraint or cmle portfolio\n",
    "sharpe_type = \"No_extra_constraint\"  # rename to constraint, can be either Wanted_return or Maximum_risk or No_extra_constraint\n",
    "risk_free_rate = 0.01\n"
   ]
  },
  {
   "cell_type": "code",
   "execution_count": null,
   "metadata": {},
   "outputs": [
    {
     "name": "stderr",
     "output_type": "stream",
     "text": [
      "c:\\Users\\toros\\OneDrive\\Dokumenter\\GitHub\\BachelorThesis\\src\\efficient_frontier.py:40: OptimizeWarning: Unknown solver options: xtol, gtol, barrier_tol\n",
      "  result = minimize(function,\n",
      "c:\\Users\\toros\\OneDrive\\Dokumenter\\GitHub\\BachelorThesis\\src\\efficient_frontier.py:113: OptimizeWarning: Unknown solver options: xtol, gtol, barrier_tol\n",
      "  result = minimize(function,\n"
     ]
    },
    {
     "name": "stdout",
     "output_type": "stream",
     "text": [
      "Min. Risk = 0.000% => Return: 1.951%  Sharpe Ratio = 11462.88\n",
      "Max. Sharpe Ratio = 196331.87 => Return: 15.12%  Risk: 0.000%\n"
     ]
    }
   ],
   "source": [
    "esg_data = data.esg_score_weight(df,weights,min_esg_score) #ESG_DATA filtering function\n",
    "full_data = data.stock_monthly_close(esg_data,dates) #Gives us the data we need from the stocks with relevant ESG_scores\n",
    "prices,esgdata = data.seperate_full_data(full_data) #Gives us price data and esg data to use in future functions\n",
    "pct_returns = data.pct_returns_from_prices(prices) #Gives us the returns in pct for our stocks\n",
    "esgdata"
   ]
  },
  {
   "cell_type": "code",
   "execution_count": null,
   "metadata": {},
   "outputs": [],
   "source": [
    "parameters = parameters = portfolio.efficient_frontier_solo(pct_returns,Bounds, sharpe_type,start_year,end_year, Wanted_return, maximum_risk) #Different amount of rows from ESG_DATA as it drops all na. Gives us the efficient frontier for the given tie frame #Different amount of rows from ESG_DATA as it drops all na. Gives us the efficient frontier for the given tie frame\n",
    "weights_of_each_portfolio = efficient_frontier.weights_of_portfolio(prices,parameters) #Gives us the weights of the individual stocks in our portfolio\n",
    "portfolio_esg_score = portfolio.esg_score_of_portfolio(weights_of_each_portfolio,esgdata.head(1)) #gives us the ESG score of our portfolio\n",
    "portfolio_allocations = portfolio.capital_mark_line_returns(parameters,risk_free_rate,maximum_risk)[1] #How much we allocate to our market portfolio compared to the risk-free asset\n",
    "cmle_returns = portfolio.capital_mark_line_returns(parameters,risk_free_rate,maximum_risk)[0] #Return based on how much we allocate to the risk free asset.\n",
    "#sp500 = data.data_for_beta(['spy'].append(weights_of_each_portfolio.columns()),dates)\n",
    "#pct_returns_sp500 = data.pct_returns_from_prices(sp500)\n"
   ]
  },
  {
   "cell_type": "code",
   "execution_count": null,
   "metadata": {},
   "outputs": [
    {
     "data": {
      "text/html": [
       "<div>\n",
       "<style scoped>\n",
       "    .dataframe tbody tr th:only-of-type {\n",
       "        vertical-align: middle;\n",
       "    }\n",
       "\n",
       "    .dataframe tbody tr th {\n",
       "        vertical-align: top;\n",
       "    }\n",
       "\n",
       "    .dataframe thead th {\n",
       "        text-align: right;\n",
       "    }\n",
       "</style>\n",
       "<table border=\"1\" class=\"dataframe\">\n",
       "  <thead>\n",
       "    <tr style=\"text-align: right;\">\n",
       "      <th></th>\n",
       "      <th>AWK</th>\n",
       "      <th>ANSS</th>\n",
       "      <th>APTV</th>\n",
       "      <th>ADM</th>\n",
       "      <th>AMZN</th>\n",
       "      <th>ALLE</th>\n",
       "      <th>AKAM</th>\n",
       "      <th>APD</th>\n",
       "      <th>ACN</th>\n",
       "      <th>ABT</th>\n",
       "      <th>...</th>\n",
       "      <th>TYL</th>\n",
       "      <th>URI</th>\n",
       "      <th>VRSN</th>\n",
       "      <th>VRSK</th>\n",
       "      <th>V</th>\n",
       "      <th>WM</th>\n",
       "      <th>WEC</th>\n",
       "      <th>WST</th>\n",
       "      <th>WAB</th>\n",
       "      <th>WY</th>\n",
       "    </tr>\n",
       "  </thead>\n",
       "  <tbody>\n",
       "    <tr>\n",
       "      <th>0</th>\n",
       "      <td>0.076577</td>\n",
       "      <td>0.05071</td>\n",
       "      <td>0.032153</td>\n",
       "      <td>0.001152</td>\n",
       "      <td>-0.129394</td>\n",
       "      <td>-0.125087</td>\n",
       "      <td>-0.033121</td>\n",
       "      <td>0.002413</td>\n",
       "      <td>0.20699</td>\n",
       "      <td>0.022052</td>\n",
       "      <td>...</td>\n",
       "      <td>-0.004803</td>\n",
       "      <td>-0.1089</td>\n",
       "      <td>-0.002797</td>\n",
       "      <td>0.160941</td>\n",
       "      <td>-0.020876</td>\n",
       "      <td>0.069785</td>\n",
       "      <td>-0.05177</td>\n",
       "      <td>0.151424</td>\n",
       "      <td>-0.038776</td>\n",
       "      <td>0.112554</td>\n",
       "    </tr>\n",
       "  </tbody>\n",
       "</table>\n",
       "<p>1 rows × 80 columns</p>\n",
       "</div>"
      ],
      "text/plain": [
       "        AWK     ANSS      APTV       ADM      AMZN      ALLE      AKAM  \\\n",
       "0  0.076577  0.05071  0.032153  0.001152 -0.129394 -0.125087 -0.033121   \n",
       "\n",
       "        APD      ACN       ABT  ...       TYL     URI      VRSN      VRSK  \\\n",
       "0  0.002413  0.20699  0.022052  ... -0.004803 -0.1089 -0.002797  0.160941   \n",
       "\n",
       "          V        WM      WEC       WST       WAB        WY  \n",
       "0 -0.020876  0.069785 -0.05177  0.151424 -0.038776  0.112554  \n",
       "\n",
       "[1 rows x 80 columns]"
      ]
     },
     "execution_count": 14,
     "metadata": {},
     "output_type": "execute_result"
    }
   ],
   "source": [
    "weights_of_each_portfolio\n"
   ]
  },
  {
   "cell_type": "code",
   "execution_count": null,
   "metadata": {},
   "outputs": [
    {
     "data": {
      "text/plain": [
       "[129854.62802241462]"
      ]
     },
     "execution_count": 15,
     "metadata": {},
     "output_type": "execute_result"
    }
   ],
   "source": [
    "portfolio_allocations"
   ]
  },
  {
   "cell_type": "code",
   "execution_count": null,
   "metadata": {},
   "outputs": [
    {
     "data": {
      "text/html": [
       "<div>\n",
       "<style scoped>\n",
       "    .dataframe tbody tr th:only-of-type {\n",
       "        vertical-align: middle;\n",
       "    }\n",
       "\n",
       "    .dataframe tbody tr th {\n",
       "        vertical-align: top;\n",
       "    }\n",
       "\n",
       "    .dataframe thead th {\n",
       "        text-align: right;\n",
       "    }\n",
       "</style>\n",
       "<table border=\"1\" class=\"dataframe\">\n",
       "  <thead>\n",
       "    <tr style=\"text-align: right;\">\n",
       "      <th></th>\n",
       "      <th>ESG_score_of_portfolio</th>\n",
       "    </tr>\n",
       "  </thead>\n",
       "  <tbody>\n",
       "    <tr>\n",
       "      <th>0</th>\n",
       "      <td>1255.641073</td>\n",
       "    </tr>\n",
       "  </tbody>\n",
       "</table>\n",
       "</div>"
      ],
      "text/plain": [
       "   ESG_score_of_portfolio\n",
       "0             1255.641073"
      ]
     },
     "execution_count": 16,
     "metadata": {},
     "output_type": "execute_result"
    }
   ],
   "source": [
    "portfolio_esg_score"
   ]
  },
  {
   "cell_type": "code",
   "execution_count": null,
   "metadata": {},
   "outputs": [
    {
     "data": {
      "text/plain": [
       "[18334.650280939408]"
      ]
     },
     "execution_count": 17,
     "metadata": {},
     "output_type": "execute_result"
    }
   ],
   "source": [
    "cmle_returns"
   ]
  }
 ],
 "metadata": {
  "kernelspec": {
   "display_name": "Python 3",
   "language": "python",
   "name": "python3"
  },
  "language_info": {
   "codemirror_mode": {
    "name": "ipython",
    "version": 3
   },
   "file_extension": ".py",
   "mimetype": "text/x-python",
   "name": "python",
   "nbconvert_exporter": "python",
   "pygments_lexer": "ipython3",
   "version": "3.8.2"
  },
  "orig_nbformat": 4
 },
 "nbformat": 4,
 "nbformat_minor": 2
}
