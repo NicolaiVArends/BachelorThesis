{
 "cells": [
  {
   "cell_type": "code",
   "execution_count": 1,
   "metadata": {},
   "outputs": [],
   "source": [
    "import os\n",
    "import sys\n",
    "src_path = os.path.abspath('../src')\n",
    "sys.path.append(src_path)\n",
    "module_path = os.path.abspath(os.path.join('..'))\n",
    "if module_path not in sys.path:\n",
    "    sys.path.append(module_path)\n",
    "import pandas as pd\n",
    "import numpy as np\n",
    "\n",
    "from src import data\n",
    "from src import portfolio\n",
    "from src import efficient_frontier\n",
    "from src import plot\n",
    "from src import capm\n",
    "import yfinance as yf\n",
    "from scipy.optimize import Bounds, LinearConstraint\n",
    "import statsmodels.api as smf"
   ]
  },
  {
   "cell_type": "code",
   "execution_count": 2,
   "metadata": {},
   "outputs": [],
   "source": [
    "weights = np.array([1/3,1/3,1/3])\n",
    "min_esg_score = 1100\n",
    "max_esg_score = 2000\n",
    "df = pd.read_excel(r\"../data/ESG_DATA_S&P500.xlsx\")\n",
    "\n",
    "dates = ['2021-01-01','2022-01-01']\n",
    "start_year = dates[0]\n",
    "end_year = dates[1]\n",
    "\n",
    "Bounds = Bounds(0,1) #How willing we are to go short and to invest in one particular stock\n",
    "Wanted_return = 0.20 #Only used when using the wanted_return constraint\n",
    "maximum_risk = 0.10 #Either used when using maximum risk constraint or cmle portfolio\n",
    "sharpe_type = \"No_extra_constraint\"  # rename to constraint, can be either Wanted_return or Maximum_risk or No_extra_constraint\n",
    "risk_free_rate = 0.02"
   ]
  },
  {
   "cell_type": "code",
   "execution_count": 3,
   "metadata": {},
   "outputs": [
    {
     "name": "stdout",
     "output_type": "stream",
     "text": [
      "Min. Risk = 14.118% => Return: 29.436%  Sharpe Ratio = 2.09\n",
      "Max. Sharpe Ratio = 3.19 => Return: 50.51%  Risk: 15.837%\n"
     ]
    }
   ],
   "source": [
    "esg_data = data.esg_score_weight(df,weights,min_esg_score) #ESG_DATA filtering function\n",
    "full_data = data.stock_monthly_close(esg_data,dates) #Gives us the data we need from the stocks with relevant ESG_scores\n",
    "prices,esgdata = data.seperate_full_data(full_data) #Gives us price data and esg data to use in future functions\n",
    "prices = prices[['MMM','AOS','ABT','ACN','ADM','ADP']]\n",
    "esgdata = esgdata[['MMM_weighted','AOS_weighted','ABT_weighted','ACN_weighted','ADM_weighted','ADP_weighted']]\n",
    "\n",
    "pct_returns = data.pct_returns_from_prices(prices) #Gives us the returns in pct for our stocks\n",
    "parameters = portfolio.efficient_frontier_solo(pct_returns,Bounds, sharpe_type,dates[0],dates[1], Wanted_return, maximum_risk) #Different amount of rows from ESG_DATA as it drops all na. Gives us the efficient frontier for the given tie frame\n",
    "weights_of_each_portfolio = efficient_frontier.weights_of_portfolio(prices,parameters)\n",
    "sp500 = data.data_for_beta(prices,['SPY'],dates)\n",
    "pct_returns_sp500 = data.pct_returns_from_prices(sp500)\n",
    "market_name = 'SPY'\n"
   ]
  },
  {
   "cell_type": "code",
   "execution_count": 4,
   "metadata": {},
   "outputs": [
    {
     "name": "stdout",
     "output_type": "stream",
     "text": [
      "                                  MMM        AOS         ABT         ACN  \\\n",
      "Date                                                                       \n",
      "2021-01-01 00:00:00-05:00  175.660004  54.299999  123.589996  241.919998   \n",
      "2021-02-01 00:00:00-05:00  175.059998  59.369999  119.779999  250.899994   \n",
      "2021-03-01 00:00:00-05:00  192.679993  67.610001  119.839996  276.250000   \n",
      "2021-04-01 00:00:00-04:00  197.139999  67.750000  120.080002  289.970001   \n",
      "2021-05-01 00:00:00-04:00  203.039993  71.070000  116.650002  282.160004   \n",
      "2021-06-01 00:00:00-04:00  198.630005  72.059998  115.930000  294.790009   \n",
      "2021-07-01 00:00:00-04:00  197.940002  70.330002  120.980003  317.679993   \n",
      "2021-08-01 00:00:00-04:00  194.740005  72.720001  126.370003  336.559998   \n",
      "2021-09-01 00:00:00-04:00  175.419998  61.070000  118.129997  319.920013   \n",
      "2021-10-01 00:00:00-04:00  178.679993  73.070000  128.889999  358.790009   \n",
      "2021-11-01 00:00:00-04:00  170.039993  79.050003  125.769997  357.399994   \n",
      "2021-12-01 00:00:00-05:00  177.630005  85.849998  140.740005  414.549988   \n",
      "\n",
      "                                 ADM         ADP         SPY  \n",
      "Date                                                          \n",
      "2021-01-01 00:00:00-05:00  50.009998  165.119995  370.070007  \n",
      "2021-02-01 00:00:00-05:00  56.580002  174.020004  380.359985  \n",
      "2021-03-01 00:00:00-05:00  57.000000  188.470001  396.329987  \n",
      "2021-04-01 00:00:00-04:00  63.130001  186.990005  417.299988  \n",
      "2021-05-01 00:00:00-04:00  66.529999  196.020004  420.040009  \n",
      "2021-06-01 00:00:00-04:00  60.599998  198.619995  428.059998  \n",
      "2021-07-01 00:00:00-04:00  59.720001  209.630005  438.510010  \n",
      "2021-08-01 00:00:00-04:00  60.000000  209.039993  451.559998  \n",
      "2021-09-01 00:00:00-04:00  60.009998  199.919998  429.140015  \n",
      "2021-10-01 00:00:00-04:00  64.239998  224.490005  459.250000  \n",
      "2021-11-01 00:00:00-04:00  62.209999  230.889999  455.559998  \n",
      "2021-12-01 00:00:00-05:00  67.589996  246.580002  474.959991  \n"
     ]
    },
    {
     "data": {
      "text/plain": [
       "1.3142198303380912"
      ]
     },
     "execution_count": 4,
     "metadata": {},
     "output_type": "execute_result"
    }
   ],
   "source": [
    "print(sp500)\n",
    "betas_of_portfolio = capm.calculate_portfolio_beta(pct_returns_sp500,prices,weights_of_each_portfolio,market_name)\n",
    "betas_of_portfolio\n",
    "\n",
    "#1.3142\n"
   ]
  },
  {
   "cell_type": "code",
   "execution_count": 5,
   "metadata": {},
   "outputs": [
    {
     "name": "stdout",
     "output_type": "stream",
     "text": [
      "Excpected return on investment is 128.8403793484515%\n"
     ]
    },
    {
     "data": {
      "text/plain": [
       "1.2884037934845152"
      ]
     },
     "execution_count": 5,
     "metadata": {},
     "output_type": "execute_result"
    }
   ],
   "source": [
    "\n",
    "capm.capm_calc(pct_returns_sp500['SPY'].mean(),risk_free_rate,betas_of_portfolio)\n",
    "\n"
   ]
  },
  {
   "cell_type": "code",
   "execution_count": 6,
   "metadata": {},
   "outputs": [
    {
     "ename": "UFuncTypeError",
     "evalue": "ufunc 'maximum' did not contain a loop with signature matching types (dtype('<U3'), dtype('<U3')) -> None",
     "output_type": "error",
     "traceback": [
      "\u001b[1;31m---------------------------------------------------------------------------\u001b[0m",
      "\u001b[1;31mUFuncTypeError\u001b[0m                            Traceback (most recent call last)",
      "Cell \u001b[1;32mIn[6], line 1\u001b[0m\n\u001b[1;32m----> 1\u001b[0m capm\u001b[39m.\u001b[39;49mcalculate_portfolio_beta_ols(pct_returns_sp500,prices,weights_of_each_portfolio)\n",
      "File \u001b[1;32mc:\\Users\\Tor Osted\\OneDrive\\Dokumenter\\GitHub\\BachelorThesis\\src\\capm.py:74\u001b[0m, in \u001b[0;36mcalculate_portfolio_beta_ols\u001b[1;34m(market, portfolio, portfolio_weights)\u001b[0m\n\u001b[0;32m     72\u001b[0m y \u001b[39m=\u001b[39m market[\u001b[39m'\u001b[39m\u001b[39mSPY\u001b[39m\u001b[39m'\u001b[39m]\n\u001b[0;32m     73\u001b[0m \u001b[39m# adding the constant term\u001b[39;00m\n\u001b[1;32m---> 74\u001b[0m x \u001b[39m=\u001b[39m stat\u001b[39m.\u001b[39;49madd_constant(x)\n\u001b[0;32m     75\u001b[0m \u001b[39m# performing the regression\u001b[39;00m\n\u001b[0;32m     76\u001b[0m \u001b[39m# and fitting the model\u001b[39;00m\n\u001b[0;32m     77\u001b[0m result \u001b[39m=\u001b[39m stat\u001b[39m.\u001b[39mOLS(y, x)\u001b[39m.\u001b[39mfit()\n",
      "File \u001b[1;32mc:\\Users\\Tor Osted\\AppData\\Local\\Programs\\Python\\Python310\\lib\\site-packages\\statsmodels\\tools\\tools.py:195\u001b[0m, in \u001b[0;36madd_constant\u001b[1;34m(data, prepend, has_constant)\u001b[0m\n\u001b[0;32m    192\u001b[0m \u001b[39melif\u001b[39;00m x\u001b[39m.\u001b[39mndim \u001b[39m>\u001b[39m \u001b[39m2\u001b[39m:\n\u001b[0;32m    193\u001b[0m     \u001b[39mraise\u001b[39;00m \u001b[39mValueError\u001b[39;00m(\u001b[39m'\u001b[39m\u001b[39mOnly implemented for 2-dimensional arrays\u001b[39m\u001b[39m'\u001b[39m)\n\u001b[1;32m--> 195\u001b[0m is_nonzero_const \u001b[39m=\u001b[39m np\u001b[39m.\u001b[39;49mptp(x, axis\u001b[39m=\u001b[39;49m\u001b[39m0\u001b[39;49m) \u001b[39m==\u001b[39m \u001b[39m0\u001b[39m\n\u001b[0;32m    196\u001b[0m is_nonzero_const \u001b[39m&\u001b[39m\u001b[39m=\u001b[39m np\u001b[39m.\u001b[39mall(x \u001b[39m!=\u001b[39m \u001b[39m0.0\u001b[39m, axis\u001b[39m=\u001b[39m\u001b[39m0\u001b[39m)\n\u001b[0;32m    197\u001b[0m \u001b[39mif\u001b[39;00m is_nonzero_const\u001b[39m.\u001b[39many():\n",
      "File \u001b[1;32m<__array_function__ internals>:200\u001b[0m, in \u001b[0;36mptp\u001b[1;34m(*args, **kwargs)\u001b[0m\n",
      "File \u001b[1;32mc:\\Users\\Tor Osted\\AppData\\Local\\Programs\\Python\\Python310\\lib\\site-packages\\numpy\\core\\fromnumeric.py:2695\u001b[0m, in \u001b[0;36mptp\u001b[1;34m(a, axis, out, keepdims)\u001b[0m\n\u001b[0;32m   2693\u001b[0m     \u001b[39melse\u001b[39;00m:\n\u001b[0;32m   2694\u001b[0m         \u001b[39mreturn\u001b[39;00m ptp(axis\u001b[39m=\u001b[39maxis, out\u001b[39m=\u001b[39mout, \u001b[39m*\u001b[39m\u001b[39m*\u001b[39mkwargs)\n\u001b[1;32m-> 2695\u001b[0m \u001b[39mreturn\u001b[39;00m _methods\u001b[39m.\u001b[39m_ptp(a, axis\u001b[39m=\u001b[39maxis, out\u001b[39m=\u001b[39mout, \u001b[39m*\u001b[39m\u001b[39m*\u001b[39mkwargs)\n",
      "File \u001b[1;32mc:\\Users\\Tor Osted\\AppData\\Local\\Programs\\Python\\Python310\\lib\\site-packages\\numpy\\core\\_methods.py:283\u001b[0m, in \u001b[0;36m_ptp\u001b[1;34m(a, axis, out, keepdims)\u001b[0m\n\u001b[0;32m    281\u001b[0m \u001b[39mdef\u001b[39;00m \u001b[39m_ptp\u001b[39m(a, axis\u001b[39m=\u001b[39m\u001b[39mNone\u001b[39;00m, out\u001b[39m=\u001b[39m\u001b[39mNone\u001b[39;00m, keepdims\u001b[39m=\u001b[39m\u001b[39mFalse\u001b[39;00m):\n\u001b[0;32m    282\u001b[0m     \u001b[39mreturn\u001b[39;00m um\u001b[39m.\u001b[39msubtract(\n\u001b[1;32m--> 283\u001b[0m         umr_maximum(a, axis, \u001b[39mNone\u001b[39;49;00m, out, keepdims),\n\u001b[0;32m    284\u001b[0m         umr_minimum(a, axis, \u001b[39mNone\u001b[39;00m, \u001b[39mNone\u001b[39;00m, keepdims),\n\u001b[0;32m    285\u001b[0m         out\n\u001b[0;32m    286\u001b[0m     )\n",
      "\u001b[1;31mUFuncTypeError\u001b[0m: ufunc 'maximum' did not contain a loop with signature matching types (dtype('<U3'), dtype('<U3')) -> None"
     ]
    }
   ],
   "source": [
    "capm.calculate_portfolio_beta_ols(pct_returns_sp500,prices,weights_of_each_portfolio)"
   ]
  },
  {
   "cell_type": "code",
   "execution_count": null,
   "metadata": {},
   "outputs": [],
   "source": []
  }
 ],
 "metadata": {
  "kernelspec": {
   "display_name": "Python 3",
   "language": "python",
   "name": "python3"
  },
  "language_info": {
   "codemirror_mode": {
    "name": "ipython",
    "version": 3
   },
   "file_extension": ".py",
   "mimetype": "text/x-python",
   "name": "python",
   "nbconvert_exporter": "python",
   "pygments_lexer": "ipython3",
   "version": "3.10.4"
  },
  "orig_nbformat": 4
 },
 "nbformat": 4,
 "nbformat_minor": 2
}
