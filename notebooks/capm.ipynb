{
 "cells": [
  {
   "cell_type": "code",
   "execution_count": 12,
   "metadata": {},
   "outputs": [],
   "source": [
    "import os\n",
    "import sys\n",
    "src_path = os.path.abspath('../src')\n",
    "sys.path.append(src_path)\n",
    "module_path = os.path.abspath(os.path.join('..'))\n",
    "if module_path not in sys.path:\n",
    "    sys.path.append(module_path)\n",
    "import pandas as pd\n",
    "import numpy as np\n",
    "\n",
    "from src import data\n",
    "from src import portfolio\n",
    "from src import efficient_frontier\n",
    "from src import plot\n",
    "from src import capm\n",
    "import yfinance as yf\n",
    "from scipy.optimize import Bounds, LinearConstraint\n",
    "import statsmodels.api as smf"
   ]
  },
  {
   "cell_type": "code",
   "execution_count": 13,
   "metadata": {},
   "outputs": [],
   "source": [
    "weights = np.array([1/3,1/3,1/3])\n",
    "min_esg_score = 1100\n",
    "max_esg_score = 2000\n",
    "df = pd.read_excel(r\"../data/ESG_DATA_S&P500.xlsx\")\n",
    "\n",
    "dates = ['2021-01-01','2022-01-01']\n",
    "start_year = dates[0]\n",
    "end_year = dates[1]\n",
    "\n",
    "Bounds = Bounds(0,1) #How willing we are to go short and to invest in one particular stock\n",
    "Wanted_return = 0.20 #Only used when using the wanted_return constraint\n",
    "maximum_risk = 0.10 #Either used when using maximum risk constraint or cmle portfolio\n",
    "sharpe_type = \"No_extra_constraint\"  # rename to constraint, can be either Wanted_return or Maximum_risk or No_extra_constraint\n",
    "risk_free_rate = 0.02"
   ]
  },
  {
   "cell_type": "code",
   "execution_count": 14,
   "metadata": {},
   "outputs": [
    {
     "name": "stderr",
     "output_type": "stream",
     "text": [
      "c:\\Users\\toros\\OneDrive\\Dokumenter\\GitHub\\BachelorThesis\\src\\efficient_frontier.py:40: OptimizeWarning: Unknown solver options: xtol, gtol, barrier_tol\n",
      "  result = minimize(function,\n",
      "c:\\Users\\toros\\OneDrive\\Dokumenter\\GitHub\\BachelorThesis\\src\\efficient_frontier.py:113: OptimizeWarning: Unknown solver options: xtol, gtol, barrier_tol\n",
      "  result = minimize(function,\n"
     ]
    },
    {
     "name": "stdout",
     "output_type": "stream",
     "text": [
      "Min. Risk = 4.075% => Return: 2.453%  Sharpe Ratio = 0.60\n",
      "Max. Sharpe Ratio = 0.92 => Return: 4.21%  Risk: 4.573%\n"
     ]
    }
   ],
   "source": [
    "esg_data = data.esg_score_weight(df,weights,min_esg_score) #ESG_DATA filtering function\n",
    "full_data = data.stock_monthly_close(esg_data,dates) #Gives us the data we need from the stocks with relevant ESG_scores\n",
    "prices,esgdata = data.seperate_full_data(full_data) #Gives us price data and esg data to use in future functions\n",
    "prices = prices[['MMM','AOS','ABT','ACN','ADM','ADP']]\n",
    "esgdata = esgdata[['MMM_weighted','AOS_weighted','ABT_weighted','ACN_weighted','ADM_weighted','ADP_weighted']]\n",
    "\n",
    "pct_returns = data.pct_returns_from_prices(prices) #Gives us the returns in pct for our stocks\n",
    "parameters = portfolio.efficient_frontier_solo(pct_returns,Bounds, sharpe_type,dates[0],dates[1], Wanted_return, maximum_risk) #Different amount of rows from ESG_DATA as it drops all na. Gives us the efficient frontier for the given tie frame\n",
    "weights_of_each_portfolio = efficient_frontier.weights_of_portfolio(prices,parameters)\n",
    "sp500 = data.data_for_beta(['SPY','MMM','AOS','ABT','ACN','ADM','ADP'],dates)\n",
    "pct_returns_sp500 = data.pct_returns_from_prices(sp500)\n"
   ]
  },
  {
   "cell_type": "code",
   "execution_count": 15,
   "metadata": {},
   "outputs": [
    {
     "data": {
      "text/plain": [
       "1.3145447035634206"
      ]
     },
     "execution_count": 15,
     "metadata": {},
     "output_type": "execute_result"
    }
   ],
   "source": [
    "    \n",
    "betas_of_portfolio = capm.calculate_portfolio_beta(pct_returns_sp500,prices,weights_of_each_portfolio)\n",
    "betas_of_portfolio\n"
   ]
  },
  {
   "cell_type": "code",
   "execution_count": 19,
   "metadata": {},
   "outputs": [
    {
     "name": "stdout",
     "output_type": "stream",
     "text": [
      "Excpected return on investment is 2.449309757437116%\n"
     ]
    },
    {
     "data": {
      "text/plain": [
       "0.02449309757437116"
      ]
     },
     "execution_count": 19,
     "metadata": {},
     "output_type": "execute_result"
    }
   ],
   "source": [
    "\n",
    "capm.capm_calc(pct_returns_sp500['SPY'].mean(),risk_free_rate,betas_of_portfolio)\n",
    "\n"
   ]
  }
 ],
 "metadata": {
  "kernelspec": {
   "display_name": "Python 3",
   "language": "python",
   "name": "python3"
  },
  "language_info": {
   "codemirror_mode": {
    "name": "ipython",
    "version": 3
   },
   "file_extension": ".py",
   "mimetype": "text/x-python",
   "name": "python",
   "nbconvert_exporter": "python",
   "pygments_lexer": "ipython3",
   "version": "3.9.7"
  },
  "orig_nbformat": 4
 },
 "nbformat": 4,
 "nbformat_minor": 2
}
