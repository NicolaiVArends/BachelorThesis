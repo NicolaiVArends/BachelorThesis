{
 "cells": [
  {
   "cell_type": "code",
   "execution_count": 4,
   "metadata": {},
   "outputs": [],
   "source": [
    "import os\n",
    "import sys\n",
    "src_path = os.path.abspath('../src')\n",
    "sys.path.append(src_path)\n",
    "module_path = os.path.abspath(os.path.join('..'))\n",
    "if module_path not in sys.path:\n",
    "    sys.path.append(module_path)\n",
    "import pandas as pd\n",
    "import numpy as np\n",
    "from sklearn.linear_model import LinearRegression\n",
    "from src import data\n",
    "from src import portfolio\n",
    "from src import efficient_frontier\n",
    "from src import plot\n",
    "import yfinance as yf\n",
    "from scipy.optimize import Bounds, LinearConstraint\n",
    "import statsmodels.api as smf"
   ]
  },
  {
   "cell_type": "code",
   "execution_count": 5,
   "metadata": {},
   "outputs": [],
   "source": [
    "weights = np.array([1/3,1/3,1/3])\n",
    "min_esg_score = 1100\n",
    "max_esg_score = 2000\n",
    "df = pd.read_excel(r\"../data/ESG_DATA_S&P500.xlsx\")\n",
    "\n",
    "dates = ['2021-01-01','2022-01-01']\n",
    "start_year = dates[0]\n",
    "end_year = dates[1]\n",
    "\n",
    "Bounds = Bounds(0,1) #How willing we are to go short and to invest in one particular stock\n",
    "Wanted_return = 0.20 #Only used when using the wanted_return constraint\n",
    "maximum_risk = 0.10 #Either used when using maximum risk constraint or cmle portfolio\n",
    "sharpe_type = \"No_extra_constraint\"  # rename to constraint, can be either Wanted_return or Maximum_risk or No_extra_constraint\n",
    "risk_free_rate = 0.02"
   ]
  },
  {
   "cell_type": "code",
   "execution_count": 7,
   "metadata": {},
   "outputs": [
    {
     "name": "stderr",
     "output_type": "stream",
     "text": [
      "c:\\Users\\Tor Osted\\OneDrive\\Dokumenter\\GitHub\\BachelorThesis\\src\\efficient_frontier.py:40: OptimizeWarning: Unknown solver options: xtol, gtol, barrier_tol\n",
      "  result = minimize(function,\n",
      "c:\\Users\\Tor Osted\\OneDrive\\Dokumenter\\GitHub\\BachelorThesis\\src\\efficient_frontier.py:113: OptimizeWarning: Unknown solver options: xtol, gtol, barrier_tol\n",
      "  result = minimize(function,\n"
     ]
    },
    {
     "name": "stdout",
     "output_type": "stream",
     "text": [
      "Min. Risk = 4.075% => Return: 2.453%  Sharpe Ratio = 0.60\n",
      "Max. Sharpe Ratio = 0.92 => Return: 4.21%  Risk: 4.573%\n"
     ]
    }
   ],
   "source": [
    "esg_data = data.esg_score_weight(df,weights,min_esg_score) #ESG_DATA filtering function\n",
    "full_data = data.stock_monthly_close(esg_data,dates) #Gives us the data we need from the stocks with relevant ESG_scores\n",
    "prices,esgdata = data.seperate_full_data(full_data) #Gives us price data and esg data to use in future functions\n",
    "prices = prices[['MMM','AOS','ABT','ACN','ADM','ADP']]\n",
    "esgdata = esgdata[['MMM_weighted','AOS_weighted','ABT_weighted','ACN_weighted','ADM_weighted','ADP_weighted']]\n",
    "\n",
    "pct_returns = data.pct_returns_from_prices(prices) #Gives us the returns in pct for our stocks\n",
    "parameters = portfolio.efficient_frontier_solo(pct_returns,Bounds, sharpe_type,dates[0],dates[1], Wanted_return, maximum_risk) #Different amount of rows from ESG_DATA as it drops all na. Gives us the efficient frontier for the given tie frame\n",
    "weights_of_each_portfolio = efficient_frontier.weights_of_portfolio(prices,parameters)\n"
   ]
  },
  {
   "cell_type": "code",
   "execution_count": 8,
   "metadata": {},
   "outputs": [
    {
     "data": {
      "text/html": [
       "<div>\n",
       "<style scoped>\n",
       "    .dataframe tbody tr th:only-of-type {\n",
       "        vertical-align: middle;\n",
       "    }\n",
       "\n",
       "    .dataframe tbody tr th {\n",
       "        vertical-align: top;\n",
       "    }\n",
       "\n",
       "    .dataframe thead th {\n",
       "        text-align: right;\n",
       "    }\n",
       "</style>\n",
       "<table border=\"1\" class=\"dataframe\">\n",
       "  <thead>\n",
       "    <tr style=\"text-align: right;\">\n",
       "      <th></th>\n",
       "      <th>MMM</th>\n",
       "      <th>AOS</th>\n",
       "      <th>ABT</th>\n",
       "      <th>ACN</th>\n",
       "      <th>ADM</th>\n",
       "      <th>ADP</th>\n",
       "    </tr>\n",
       "    <tr>\n",
       "      <th>Date</th>\n",
       "      <th></th>\n",
       "      <th></th>\n",
       "      <th></th>\n",
       "      <th></th>\n",
       "      <th></th>\n",
       "      <th></th>\n",
       "    </tr>\n",
       "  </thead>\n",
       "  <tbody>\n",
       "    <tr>\n",
       "      <th>2021-02-01 00:00:00-05:00</th>\n",
       "      <td>-0.003416</td>\n",
       "      <td>0.093370</td>\n",
       "      <td>-0.030828</td>\n",
       "      <td>0.037120</td>\n",
       "      <td>0.131374</td>\n",
       "      <td>0.053900</td>\n",
       "    </tr>\n",
       "    <tr>\n",
       "      <th>2021-03-01 00:00:00-05:00</th>\n",
       "      <td>0.100651</td>\n",
       "      <td>0.138791</td>\n",
       "      <td>0.000501</td>\n",
       "      <td>0.101036</td>\n",
       "      <td>0.007423</td>\n",
       "      <td>0.083036</td>\n",
       "    </tr>\n",
       "    <tr>\n",
       "      <th>2021-04-01 00:00:00-04:00</th>\n",
       "      <td>0.023147</td>\n",
       "      <td>0.002071</td>\n",
       "      <td>0.002003</td>\n",
       "      <td>0.049665</td>\n",
       "      <td>0.107544</td>\n",
       "      <td>-0.007853</td>\n",
       "    </tr>\n",
       "    <tr>\n",
       "      <th>2021-05-01 00:00:00-04:00</th>\n",
       "      <td>0.029928</td>\n",
       "      <td>0.049004</td>\n",
       "      <td>-0.028564</td>\n",
       "      <td>-0.026934</td>\n",
       "      <td>0.053857</td>\n",
       "      <td>0.048291</td>\n",
       "    </tr>\n",
       "    <tr>\n",
       "      <th>2021-06-01 00:00:00-04:00</th>\n",
       "      <td>-0.021720</td>\n",
       "      <td>0.013930</td>\n",
       "      <td>-0.006172</td>\n",
       "      <td>0.044762</td>\n",
       "      <td>-0.089133</td>\n",
       "      <td>0.013264</td>\n",
       "    </tr>\n",
       "    <tr>\n",
       "      <th>2021-07-01 00:00:00-04:00</th>\n",
       "      <td>-0.003474</td>\n",
       "      <td>-0.024008</td>\n",
       "      <td>0.043561</td>\n",
       "      <td>0.077648</td>\n",
       "      <td>-0.014521</td>\n",
       "      <td>0.055433</td>\n",
       "    </tr>\n",
       "    <tr>\n",
       "      <th>2021-08-01 00:00:00-04:00</th>\n",
       "      <td>-0.016166</td>\n",
       "      <td>0.033983</td>\n",
       "      <td>0.044553</td>\n",
       "      <td>0.059431</td>\n",
       "      <td>0.004689</td>\n",
       "      <td>-0.002815</td>\n",
       "    </tr>\n",
       "    <tr>\n",
       "      <th>2021-09-01 00:00:00-04:00</th>\n",
       "      <td>-0.099209</td>\n",
       "      <td>-0.160204</td>\n",
       "      <td>-0.065205</td>\n",
       "      <td>-0.049441</td>\n",
       "      <td>0.000167</td>\n",
       "      <td>-0.043628</td>\n",
       "    </tr>\n",
       "    <tr>\n",
       "      <th>2021-10-01 00:00:00-04:00</th>\n",
       "      <td>0.018584</td>\n",
       "      <td>0.196496</td>\n",
       "      <td>0.091086</td>\n",
       "      <td>0.121499</td>\n",
       "      <td>0.070488</td>\n",
       "      <td>0.122899</td>\n",
       "    </tr>\n",
       "    <tr>\n",
       "      <th>2021-11-01 00:00:00-04:00</th>\n",
       "      <td>-0.048355</td>\n",
       "      <td>0.081839</td>\n",
       "      <td>-0.024207</td>\n",
       "      <td>-0.003874</td>\n",
       "      <td>-0.031600</td>\n",
       "      <td>0.028509</td>\n",
       "    </tr>\n",
       "    <tr>\n",
       "      <th>2021-12-01 00:00:00-05:00</th>\n",
       "      <td>0.044637</td>\n",
       "      <td>0.086021</td>\n",
       "      <td>0.119027</td>\n",
       "      <td>0.159905</td>\n",
       "      <td>0.086481</td>\n",
       "      <td>0.067954</td>\n",
       "    </tr>\n",
       "  </tbody>\n",
       "</table>\n",
       "</div>"
      ],
      "text/plain": [
       "                                MMM       AOS       ABT       ACN       ADM  \\\n",
       "Date                                                                          \n",
       "2021-02-01 00:00:00-05:00 -0.003416  0.093370 -0.030828  0.037120  0.131374   \n",
       "2021-03-01 00:00:00-05:00  0.100651  0.138791  0.000501  0.101036  0.007423   \n",
       "2021-04-01 00:00:00-04:00  0.023147  0.002071  0.002003  0.049665  0.107544   \n",
       "2021-05-01 00:00:00-04:00  0.029928  0.049004 -0.028564 -0.026934  0.053857   \n",
       "2021-06-01 00:00:00-04:00 -0.021720  0.013930 -0.006172  0.044762 -0.089133   \n",
       "2021-07-01 00:00:00-04:00 -0.003474 -0.024008  0.043561  0.077648 -0.014521   \n",
       "2021-08-01 00:00:00-04:00 -0.016166  0.033983  0.044553  0.059431  0.004689   \n",
       "2021-09-01 00:00:00-04:00 -0.099209 -0.160204 -0.065205 -0.049441  0.000167   \n",
       "2021-10-01 00:00:00-04:00  0.018584  0.196496  0.091086  0.121499  0.070488   \n",
       "2021-11-01 00:00:00-04:00 -0.048355  0.081839 -0.024207 -0.003874 -0.031600   \n",
       "2021-12-01 00:00:00-05:00  0.044637  0.086021  0.119027  0.159905  0.086481   \n",
       "\n",
       "                                ADP  \n",
       "Date                                 \n",
       "2021-02-01 00:00:00-05:00  0.053900  \n",
       "2021-03-01 00:00:00-05:00  0.083036  \n",
       "2021-04-01 00:00:00-04:00 -0.007853  \n",
       "2021-05-01 00:00:00-04:00  0.048291  \n",
       "2021-06-01 00:00:00-04:00  0.013264  \n",
       "2021-07-01 00:00:00-04:00  0.055433  \n",
       "2021-08-01 00:00:00-04:00 -0.002815  \n",
       "2021-09-01 00:00:00-04:00 -0.043628  \n",
       "2021-10-01 00:00:00-04:00  0.122899  \n",
       "2021-11-01 00:00:00-04:00  0.028509  \n",
       "2021-12-01 00:00:00-05:00  0.067954  "
      ]
     },
     "execution_count": 8,
     "metadata": {},
     "output_type": "execute_result"
    }
   ],
   "source": [
    "pct_returns\n"
   ]
  },
  {
   "cell_type": "code",
   "execution_count": 9,
   "metadata": {},
   "outputs": [],
   "source": [
    "\n",
    "sp500 = data.data_for_beta(['SPY','MMM','AOS','ABT','ACN','ADM','ADP'],dates)\n",
    " #Gives us the weights of the individual stocks in our portfolio\n",
    "#portfolio_esg_score = portfolio.esg_score_of_portfolio(weights_of_each_portfolio,esgdata.head(1)) #gives us the ESG score of our portfolio\n",
    "#portfolio_allocations = portfolio.capital_mark_line_returns(parameters,risk_free_rate,maximum_risk)[1] #How much we allocate to our market portfolio compared to the risk-free asset\n",
    "#cmle_returns = portfolio.capital_mark_line_returns(parameters,risk_free_rate,maximum_risk)[0] #Return based on how much we allocate to the risk free asset.\n"
   ]
  },
  {
   "cell_type": "code",
   "execution_count": null,
   "metadata": {},
   "outputs": [],
   "source": []
  },
  {
   "cell_type": "code",
   "execution_count": 10,
   "metadata": {},
   "outputs": [
    {
     "data": {
      "text/plain": [
       "array([[ 2.78054904e-02, -3.41572407e-03,  9.33701614e-02,\n",
       "        -3.08277180e-02,  3.71196916e-02,  1.31373800e-01,\n",
       "         5.39002508e-02],\n",
       "       [ 4.19865439e-02,  1.00651179e-01,  1.38790666e-01,\n",
       "         5.00897973e-04,  1.01036296e-01,  7.42308511e-03,\n",
       "         8.30364130e-02],\n",
       "       [ 5.29104583e-02,  2.31472228e-02,  2.07069055e-03,\n",
       "         2.00271613e-03,  4.96651628e-02,  1.07543878e-01,\n",
       "        -7.85268593e-03],\n",
       "       [ 6.56606957e-03,  2.99279391e-02,  4.90036855e-02,\n",
       "        -2.85642926e-02, -2.69338122e-02,  5.38570831e-02,\n",
       "         4.82913445e-02],\n",
       "       [ 1.90933931e-02, -2.17198018e-02,  1.39298982e-02,\n",
       "        -6.17232071e-03,  4.47618540e-02, -8.91327283e-02,\n",
       "         1.32639057e-02],\n",
       "       [ 2.44124942e-02, -3.47380771e-03, -2.40077128e-02,\n",
       "         4.35607956e-02,  7.76484395e-02, -1.45214072e-02,\n",
       "         5.54325347e-02],\n",
       "       [ 2.97598401e-02, -1.61664995e-02,  3.39826436e-02,\n",
       "         4.45528124e-02,  5.94308906e-02,  4.68852601e-03,\n",
       "        -2.81453791e-03],\n",
       "       [-4.96500643e-02, -9.92092368e-02, -1.60203539e-01,\n",
       "        -6.52053914e-02, -4.94413604e-02,  1.66638692e-04,\n",
       "        -4.36279918e-02],\n",
       "       [ 7.01635465e-02,  1.85839388e-02,  1.96495825e-01,\n",
       "         9.10861118e-02,  1.21499104e-01,  7.04882463e-02,\n",
       "         1.22899197e-01],\n",
       "       [-8.03484473e-03, -4.83545990e-02,  8.18393784e-02,\n",
       "        -2.42067093e-02, -3.87417324e-03, -3.16002311e-02,\n",
       "         2.85090371e-02],\n",
       "       [ 4.25849372e-02,  4.46366261e-02,  8.60214441e-02,\n",
       "         1.19026868e-01,  1.59904854e-01,  8.64812302e-02,\n",
       "         6.79544479e-02]])"
      ]
     },
     "execution_count": 10,
     "metadata": {},
     "output_type": "execute_result"
    }
   ],
   "source": [
    "sp500\n",
    "\n",
    "pct_returns_sp500 = data.pct_returns_from_prices(sp500)\n",
    "pct_returns_sp500.values"
   ]
  },
  {
   "cell_type": "code",
   "execution_count": 37,
   "metadata": {},
   "outputs": [
    {
     "data": {
      "text/plain": [
       "1.3145447035634206"
      ]
     },
     "execution_count": 37,
     "metadata": {},
     "output_type": "execute_result"
    }
   ],
   "source": [
    "\n",
    "\n",
    "def betas_ofportfolio(portfolio, portfolio_weights):\n",
    "    betas = []\n",
    "    for i in range(len(portfolio.columns)):\n",
    "\n",
    "        betas.append(np.cov(pct_returns_sp500[portfolio.columns[i]],pct_returns_sp500['SPY'])[0][1]/np.var(pct_returns_sp500['SPY']))\n",
    "\n",
    "    k = np.multiply(betas,portfolio_weights).values.sum()\n",
    "\n",
    "    return(k)        \n",
    "\n",
    "betas_ofportfolio(prices,weights_of_each_portfolio)\n"
   ]
  },
  {
   "cell_type": "code",
   "execution_count": 39,
   "metadata": {},
   "outputs": [
    {
     "name": "stdout",
     "output_type": "stream",
     "text": [
      "Excpected return on investment is 2.449309757437116%\n"
     ]
    },
    {
     "data": {
      "text/plain": [
       "0.02449309757437116"
      ]
     },
     "execution_count": 39,
     "metadata": {},
     "output_type": "execute_result"
    }
   ],
   "source": [
    "def capm(market,risk_free_rate,beta):\n",
    "    print(f'Excpected return on investment is {100*(risk_free_rate+beta*(market-risk_free_rate))}%')\n",
    "\n",
    "    return(risk_free_rate+beta*(market-risk_free_rate))\n",
    "\n",
    "capm(pct_returns_sp500['SPY'].mean(),risk_free_rate,betas_ofportfolio(prices,weights_of_each_portfolio))\n",
    "\n",
    "def alpha(expected_return,actual_return):\n",
    "    return(actual_return-expected_return)\n",
    "\n",
    " #Gives us the weights of the individual stocks in our portfolio\n",
    "#portfolio_esg_score = portfolio.esg_score_of_portfolio(weights_of_each_portfolio,esgdata.head(1)) #gives us the ESG score of our portfolio\n",
    "#portfolio_allocations = portfolio.capital_mark_line_returns(parameters,risk_free_rate,maximum_risk)[1] #How much we allocate to our market portfolio compared to the risk-free asset\n",
    "#cmle_returns = portfolio.capital_mark_line_returns(parameters,risk_free_rate,maximum_risk)[0] #Return based on how much we allocate to the risk free asset.\n"
   ]
  }
 ],
 "metadata": {
  "kernelspec": {
   "display_name": "Python 3",
   "language": "python",
   "name": "python3"
  },
  "language_info": {
   "codemirror_mode": {
    "name": "ipython",
    "version": 3
   },
   "file_extension": ".py",
   "mimetype": "text/x-python",
   "name": "python",
   "nbconvert_exporter": "python",
   "pygments_lexer": "ipython3",
   "version": "3.10.4"
  },
  "orig_nbformat": 4
 },
 "nbformat": 4,
 "nbformat_minor": 2
}
