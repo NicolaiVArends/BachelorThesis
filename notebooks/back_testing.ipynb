{
 "cells": [
  {
   "cell_type": "code",
   "execution_count": 1,
   "metadata": {},
   "outputs": [],
   "source": [
    "import os\n",
    "import sys\n",
    "%matplotlib inline\n",
    "\n",
    "import numpy as np\n",
    "import pandas as pd\n",
    "import ipywidgets\n",
    "from scipy.optimize import Bounds\n",
    "module_path = os.path.abspath(os.path.join('..'))\n",
    "if module_path not in sys.path:\n",
    "    sys.path.append(module_path)\n",
    "from src import data\n",
    "from src import efficient_frontier\n",
    "from src import plot\n",
    "from src import portfolio\n",
    "from src import capm\n",
    "from src import backtesting\n",
    "import numpy as np\n",
    "import pandas as pd\n",
    "import ipywidgets\n",
    "from scipy.optimize import Bounds\n",
    "import datetime\n",
    "from dateutil import rrule\n",
    "import yfinance as yf\n",
    "import warnings\n",
    "\n",
    "warnings.filterwarnings(\"ignore\", category=FutureWarning, module='pandas')"
   ]
  },
  {
   "cell_type": "code",
   "execution_count": 2,
   "metadata": {},
   "outputs": [],
   "source": [
    "x = pd.Timestamp(np.datetime64('2000-01-01'))\n",
    "x1 = pd.Timestamp(np.datetime64('2022-01-01'))"
   ]
  },
  {
   "cell_type": "code",
   "execution_count": 3,
   "metadata": {},
   "outputs": [],
   "source": [
    "weights = np.array([1/3,1/3,1/3])\n",
    "min_esg_score = 1100\n",
    "max_esg_score = 2000\n",
    "df = pd.read_excel('../data/ESG_DATA_S&P500.xlsx')\n",
    "dates = [x,x1]\n",
    "\n",
    "start_year = dates[0]\n",
    "end_year = dates[1]\n",
    "\n",
    "Bounds1 = Bounds(0,1) #How willing we are to go short and to invest in one particular stock\n",
    "Wanted_return = 0.20 #Only used when using the wanted_return constraint\n",
    "maximum_risk = 0.10 #Either used when using maximum risk constraint or cmle portfolio\n",
    "sharpe_type = \"No_extra_constraint\"  # rename to constraint, can be either Wanted_return or Maximum_risk or No_extra_constraint\n",
    "risk_free_rate = 0.01\n",
    "covariance_window = 5 #has to be in years\n",
    "rebalancing_freq = 'monthly'\n",
    "\n",
    "strategy1 = {'df': df,\n",
    " 'weights': weights,\n",
    " 'min_esg_score': min_esg_score,\n",
    " 'max_esg_score': max_esg_score,\n",
    " 'Bounds1': Bounds1,\n",
    " 'sharpe_type': sharpe_type,\n",
    " 'Wanted_return': Wanted_return,\n",
    " 'maximum_risk': maximum_risk,\n",
    " 'rebalancing_freq': rebalancing_freq,\n",
    " 'risk_free_rate': risk_free_rate,\n",
    " 'start_year' : start_year,\n",
    " 'end_year' : end_year}\n"
   ]
  },
  {
   "cell_type": "code",
   "execution_count": 4,
   "metadata": {},
   "outputs": [
    {
     "name": "stdout",
     "output_type": "stream",
     "text": [
      "Min. Risk = 6.749% => Return: 0.974%  Sharpe Ratio = 0.14\n",
      "Max. Sharpe Ratio = 0.21 => Return: 2.12%  Risk: 9.941%\n",
      "Excpected return on investment is 115.01056405516898%\n",
      "Min. Risk = 6.974% => Return: 1.327%  Sharpe Ratio = 0.19\n",
      "Max. Sharpe Ratio = 0.27 => Return: 2.61%  Risk: 9.774%\n",
      "Excpected return on investment is 117.55195125133619%\n",
      "Min. Risk = 7.007% => Return: 1.614%  Sharpe Ratio = 0.23\n",
      "Max. Sharpe Ratio = 0.30 => Return: 2.74%  Risk: 9.122%\n",
      "Excpected return on investment is 115.32434806635763%\n",
      "Min. Risk = 6.076% => Return: 1.471%  Sharpe Ratio = 0.24\n",
      "Max. Sharpe Ratio = 0.29 => Return: 2.18%  Risk: 7.401%\n",
      "Excpected return on investment is 111.2829220717763%\n",
      "Min. Risk = 6.156% => Return: 2.202%  Sharpe Ratio = 0.36\n",
      "Max. Sharpe Ratio = 0.39 => Return: 2.64%  Risk: 6.744%\n",
      "Excpected return on investment is 110.0142007909844%\n",
      "Min. Risk = 5.504% => Return: 1.981%  Sharpe Ratio = 0.36\n",
      "Max. Sharpe Ratio = 0.38 => Return: 2.20%  Risk: 5.805%\n",
      "Excpected return on investment is 109.94241855477584%\n",
      "Min. Risk = 5.619% => Return: 2.224%  Sharpe Ratio = 0.40\n",
      "Max. Sharpe Ratio = 0.41 => Return: 2.34%  Risk: 5.769%\n",
      "Excpected return on investment is 107.98675661931618%\n",
      "Min. Risk = 5.452% => Return: 2.380%  Sharpe Ratio = 0.44\n",
      "Max. Sharpe Ratio = 0.44 => Return: 2.41%  Risk: 5.488%\n"
     ]
    },
    {
     "ename": "KeyboardInterrupt",
     "evalue": "",
     "output_type": "error",
     "traceback": [
      "\u001b[1;31m---------------------------------------------------------------------------\u001b[0m",
      "\u001b[1;31mKeyboardInterrupt\u001b[0m                         Traceback (most recent call last)",
      "\u001b[1;32mc:\\Users\\toros\\OneDrive\\Dokumenter\\GitHub\\BachelorThesis\\notebooks\\back_testing.ipynb Cell 4\u001b[0m in \u001b[0;36m<module>\u001b[1;34m\u001b[0m\n\u001b[1;32m----> <a href='vscode-notebook-cell:/c%3A/Users/toros/OneDrive/Dokumenter/GitHub/BachelorThesis/notebooks/back_testing.ipynb#W3sZmlsZQ%3D%3D?line=0'>1</a>\u001b[0m backtesting\u001b[39m.\u001b[39;49mbacktesting(strategy1, \u001b[39m'\u001b[39;49m\u001b[39myearly\u001b[39;49m\u001b[39m'\u001b[39;49m, \u001b[39m1\u001b[39;49m, datetime\u001b[39m.\u001b[39;49mdatetime(\u001b[39m2015\u001b[39;49m,\u001b[39m1\u001b[39;49m,\u001b[39m1\u001b[39;49m),datetime\u001b[39m.\u001b[39;49mdatetime(\u001b[39m2022\u001b[39;49m,\u001b[39m1\u001b[39;49m,\u001b[39m1\u001b[39;49m),\u001b[39m10\u001b[39;49m,\u001b[39m'\u001b[39;49m\u001b[39mSPY\u001b[39;49m\u001b[39m'\u001b[39;49m)\n",
      "File \u001b[1;32mc:\\Users\\toros\\OneDrive\\Dokumenter\\GitHub\\BachelorThesis\\src\\backtesting.py:83\u001b[0m, in \u001b[0;36mbacktesting\u001b[1;34m(strategy, monthly_or_yearly_rebalancing, rebalancing_freq, start_date, end_date, covariance_window, market_name)\u001b[0m\n\u001b[0;32m     81\u001b[0m delta \u001b[39m=\u001b[39m relativedelta(years\u001b[39m=\u001b[39mrebalancing_freq)\n\u001b[0;32m     82\u001b[0m \u001b[39mwhile\u001b[39;00m (start_date \u001b[39m<\u001b[39m\u001b[39m=\u001b[39m end_date):\n\u001b[1;32m---> 83\u001b[0m     listparameters\u001b[39m.\u001b[39mappend(portfolio\u001b[39m.\u001b[39;49mefficient_frontier_solo(pct_returns,\n\u001b[0;32m     84\u001b[0m                     strategy[\u001b[39m'\u001b[39;49m\u001b[39mBounds1\u001b[39;49m\u001b[39m'\u001b[39;49m],\n\u001b[0;32m     85\u001b[0m                     strategy[\u001b[39m'\u001b[39;49m\u001b[39msharpe_type\u001b[39;49m\u001b[39m'\u001b[39;49m],\n\u001b[0;32m     86\u001b[0m                     start_date\u001b[39m-\u001b[39;49mcovariance_window_time_delta,\u001b[39m#The start date for portfolio optimization will be the start date minus the covariance window\u001b[39;49;00m\n\u001b[0;32m     87\u001b[0m                     start_date,\u001b[39m#The end date for portfolio optimization will be the start date minus the covariance window\u001b[39;49;00m\n\u001b[0;32m     88\u001b[0m                     strategy[\u001b[39m'\u001b[39;49m\u001b[39mWanted_return\u001b[39;49m\u001b[39m'\u001b[39;49m],\n\u001b[0;32m     89\u001b[0m                     strategy[\u001b[39m'\u001b[39;49m\u001b[39mmaximum_risk\u001b[39;49m\u001b[39m'\u001b[39;49m],\n\u001b[0;32m     90\u001b[0m                     strategy[\u001b[39m'\u001b[39;49m\u001b[39mrebalancing_freq\u001b[39;49m\u001b[39m'\u001b[39;49m])) \n\u001b[0;32m     91\u001b[0m     list_of_port_weights\u001b[39m.\u001b[39mappend(efficient_frontier\u001b[39m.\u001b[39mweights_of_portfolio(prices,listparameters[i]))\n\u001b[0;32m     92\u001b[0m     list_of_port_esg_scores\u001b[39m.\u001b[39mappend(portfolio\u001b[39m.\u001b[39mesg_score_of_portfolio(list_of_port_weights[i],esgdata\u001b[39m.\u001b[39mhead(\u001b[39m1\u001b[39m)))\n",
      "File \u001b[1;32mc:\\Users\\toros\\OneDrive\\Dokumenter\\GitHub\\BachelorThesis\\src\\portfolio.py:100\u001b[0m, in \u001b[0;36mefficient_frontier_solo\u001b[1;34m(returns, bounds, Sharpe_Type, start_date, end_date, wanted_return, maximum_risk, monthly_or_yearly_mean)\u001b[0m\n\u001b[0;32m     98\u001b[0m sample_rolling_window \u001b[39m=\u001b[39m returns\u001b[39m.\u001b[39mloc[\u001b[39m'\u001b[39m\u001b[39m{}\u001b[39;00m\u001b[39m'\u001b[39m\u001b[39m.\u001b[39mformat(\u001b[39mstr\u001b[39m(start_date)):\u001b[39m'\u001b[39m\u001b[39m{}\u001b[39;00m\u001b[39m'\u001b[39m\u001b[39m.\u001b[39mformat(\u001b[39mstr\u001b[39m(end_date))]\n\u001b[0;32m     99\u001b[0m \u001b[39mif\u001b[39;00m monthly_or_yearly_mean \u001b[39m==\u001b[39m \u001b[39m\"\u001b[39m\u001b[39mmonthly\u001b[39m\u001b[39m\"\u001b[39m:\n\u001b[1;32m--> 100\u001b[0m     parameters\u001b[39m.\u001b[39mappend(efficient_frontier\u001b[39m.\u001b[39;49mcalculate_efficient_frontier(mean_return_monthly(sample_rolling_window),\n\u001b[0;32m    101\u001b[0m                                                                       covariance_matric_monthly(sample_rolling_window),\n\u001b[0;32m    102\u001b[0m                                                                       bounds,\n\u001b[0;32m    103\u001b[0m                                                                       Sharpe_Type,\n\u001b[0;32m    104\u001b[0m                                                                       wanted_return,\n\u001b[0;32m    105\u001b[0m                                                                       maximum_risk))\n\u001b[0;32m    106\u001b[0m \u001b[39melif\u001b[39;00m monthly_or_yearly_mean \u001b[39m==\u001b[39m \u001b[39m\"\u001b[39m\u001b[39myearly\u001b[39m\u001b[39m\"\u001b[39m:\n\u001b[0;32m    107\u001b[0m     parameters\u001b[39m.\u001b[39mappend(efficient_frontier\u001b[39m.\u001b[39mcalculate_efficient_frontier(mean_return_annual(sample_rolling_window),\n\u001b[0;32m    108\u001b[0m                                                                       covariance_matrix_annual(sample_rolling_window),\n\u001b[0;32m    109\u001b[0m                                                                       bounds,\n\u001b[0;32m    110\u001b[0m                                                                       Sharpe_Type,\n\u001b[0;32m    111\u001b[0m                                                                       wanted_return,\n\u001b[0;32m    112\u001b[0m                                                                       maximum_risk))\n",
      "File \u001b[1;32mc:\\Users\\toros\\OneDrive\\Dokumenter\\GitHub\\BachelorThesis\\src\\efficient_frontier.py:196\u001b[0m, in \u001b[0;36mcalculate_efficient_frontier\u001b[1;34m(ret_port, cov_port, bounds, Sharpe_Type, wanted_return, max_risk)\u001b[0m\n\u001b[0;32m    194\u001b[0m     \u001b[39m#Define a function to calculate volatility\u001b[39;00m\n\u001b[0;32m    195\u001b[0m     fun \u001b[39m=\u001b[39m \u001b[39mlambda\u001b[39;00m weights: portfolio_std(cov_port, weights)\n\u001b[1;32m--> 196\u001b[0m     result \u001b[39m=\u001b[39m minimize(fun,\n\u001b[0;32m    197\u001b[0m                       x0, \n\u001b[0;32m    198\u001b[0m                       method\u001b[39m=\u001b[39;49m\u001b[39m'\u001b[39;49m\u001b[39mSLSQP\u001b[39;49m\u001b[39m'\u001b[39;49m, \n\u001b[0;32m    199\u001b[0m                       bounds\u001b[39m=\u001b[39;49mbounds, \n\u001b[0;32m    200\u001b[0m                       constraints\u001b[39m=\u001b[39;49mcons)\n\u001b[0;32m    201\u001b[0m     frontier_x\u001b[39m.\u001b[39mappend(result[\u001b[39m'\u001b[39m\u001b[39mfun\u001b[39m\u001b[39m'\u001b[39m])\n\u001b[0;32m    203\u001b[0m frontier_x \u001b[39m=\u001b[39m np\u001b[39m.\u001b[39marray(frontier_x)\n",
      "File \u001b[1;32mc:\\Users\\toros\\AppData\\Local\\Programs\\Python\\Python39\\lib\\site-packages\\scipy\\optimize\\_minimize.py:631\u001b[0m, in \u001b[0;36mminimize\u001b[1;34m(fun, x0, args, method, jac, hess, hessp, bounds, constraints, tol, callback, options)\u001b[0m\n\u001b[0;32m    629\u001b[0m     \u001b[39mreturn\u001b[39;00m _minimize_cobyla(fun, x0, args, constraints, \u001b[39m*\u001b[39m\u001b[39m*\u001b[39moptions)\n\u001b[0;32m    630\u001b[0m \u001b[39melif\u001b[39;00m meth \u001b[39m==\u001b[39m \u001b[39m'\u001b[39m\u001b[39mslsqp\u001b[39m\u001b[39m'\u001b[39m:\n\u001b[1;32m--> 631\u001b[0m     \u001b[39mreturn\u001b[39;00m _minimize_slsqp(fun, x0, args, jac, bounds,\n\u001b[0;32m    632\u001b[0m                            constraints, callback\u001b[39m=\u001b[39mcallback, \u001b[39m*\u001b[39m\u001b[39m*\u001b[39moptions)\n\u001b[0;32m    633\u001b[0m \u001b[39melif\u001b[39;00m meth \u001b[39m==\u001b[39m \u001b[39m'\u001b[39m\u001b[39mtrust-constr\u001b[39m\u001b[39m'\u001b[39m:\n\u001b[0;32m    634\u001b[0m     \u001b[39mreturn\u001b[39;00m _minimize_trustregion_constr(fun, x0, args, jac, hess, hessp,\n\u001b[0;32m    635\u001b[0m                                         bounds, constraints,\n\u001b[0;32m    636\u001b[0m                                         callback\u001b[39m=\u001b[39mcallback, \u001b[39m*\u001b[39m\u001b[39m*\u001b[39moptions)\n",
      "File \u001b[1;32mc:\\Users\\toros\\AppData\\Local\\Programs\\Python\\Python39\\lib\\site-packages\\scipy\\optimize\\slsqp.py:434\u001b[0m, in \u001b[0;36m_minimize_slsqp\u001b[1;34m(func, x0, args, jac, bounds, constraints, maxiter, ftol, iprint, disp, eps, callback, finite_diff_rel_step, **unknown_options)\u001b[0m\n\u001b[0;32m    432\u001b[0m \u001b[39mif\u001b[39;00m mode \u001b[39m==\u001b[39m \u001b[39m1\u001b[39m:  \u001b[39m# objective and constraint evaluation required\u001b[39;00m\n\u001b[0;32m    433\u001b[0m     fx \u001b[39m=\u001b[39m wrapped_fun(x)\n\u001b[1;32m--> 434\u001b[0m     c \u001b[39m=\u001b[39m _eval_constraint(x, cons)\n\u001b[0;32m    436\u001b[0m \u001b[39mif\u001b[39;00m mode \u001b[39m==\u001b[39m \u001b[39m-\u001b[39m\u001b[39m1\u001b[39m:  \u001b[39m# gradient evaluation required\u001b[39;00m\n\u001b[0;32m    437\u001b[0m     g \u001b[39m=\u001b[39m append(wrapped_grad(x), \u001b[39m0.0\u001b[39m)\n",
      "File \u001b[1;32mc:\\Users\\toros\\AppData\\Local\\Programs\\Python\\Python39\\lib\\site-packages\\scipy\\optimize\\slsqp.py:484\u001b[0m, in \u001b[0;36m_eval_constraint\u001b[1;34m(x, cons)\u001b[0m\n\u001b[0;32m    481\u001b[0m     c_ieq \u001b[39m=\u001b[39m zeros(\u001b[39m0\u001b[39m)\n\u001b[0;32m    483\u001b[0m \u001b[39m# Now combine c_eq and c_ieq into a single matrix\u001b[39;00m\n\u001b[1;32m--> 484\u001b[0m c \u001b[39m=\u001b[39m concatenate((c_eq, c_ieq))\n\u001b[0;32m    485\u001b[0m \u001b[39mreturn\u001b[39;00m c\n",
      "File \u001b[1;32m<__array_function__ internals>:180\u001b[0m, in \u001b[0;36mconcatenate\u001b[1;34m(*args, **kwargs)\u001b[0m\n",
      "\u001b[1;31mKeyboardInterrupt\u001b[0m: "
     ]
    }
   ],
   "source": [
    "data5 = backtesting.backtesting(strategy1, 'yearly', 1, datetime.datetime(2015,1,1),datetime.datetime(2022,1,1),10,'SPY')"
   ]
  },
  {
   "cell_type": "code",
   "execution_count": null,
   "metadata": {},
   "outputs": [],
   "source": [
    "#len(data5)\n",
    "#print(data5[7],data5[6],data5[5])\n",
    "\n",
    "plot.compare_returns1(data5[7],data5[5],data5[6])"
   ]
  }
 ],
 "metadata": {
  "kernelspec": {
   "display_name": "Python 3",
   "language": "python",
   "name": "python3"
  },
  "language_info": {
   "codemirror_mode": {
    "name": "ipython",
    "version": 3
   },
   "file_extension": ".py",
   "mimetype": "text/x-python",
   "name": "python",
   "nbconvert_exporter": "python",
   "pygments_lexer": "ipython3",
   "version": "3.9.7"
  },
  "orig_nbformat": 4
 },
 "nbformat": 4,
 "nbformat_minor": 2
}
