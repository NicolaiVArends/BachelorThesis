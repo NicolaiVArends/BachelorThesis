{
 "cells": [
  {
   "cell_type": "code",
   "execution_count": 70,
   "metadata": {},
   "outputs": [
    {
     "name": "stdout",
     "output_type": "stream",
     "text": [
      "Using matplotlib backend: TkAgg\n",
      "%pylab is deprecated, use %matplotlib inline and import the required libraries.\n",
      "Populating the interactive namespace from numpy and matplotlib\n"
     ]
    },
    {
     "name": "stderr",
     "output_type": "stream",
     "text": [
      "c:\\Users\\Tor Osted\\AppData\\Local\\Programs\\Python\\Python310\\lib\\site-packages\\IPython\\core\\magics\\pylab.py:162: UserWarning: pylab import has clobbered these variables: ['rrule', 'plot']\n",
      "`%matplotlib` prevents importing * from pylab and numpy\n",
      "  warn(\"pylab import has clobbered these variables: %s\"  % clobbered +\n"
     ]
    }
   ],
   "source": [
    "import os\n",
    "import sys\n",
    "%pylab\n",
    "\n",
    "import numpy as np\n",
    "import pandas as pd\n",
    "import ipywidgets\n",
    "from scipy.optimize import Bounds\n",
    "module_path = os.path.abspath(os.path.join('..'))\n",
    "if module_path not in sys.path:\n",
    "    sys.path.append(module_path)\n",
    "    %pylab\n",
    "from src import data\n",
    "\n",
    "from src import efficient_frontier\n",
    "from src import filter_assets\n",
    "from src import plot\n",
    "from src import portfolio\n",
    "from src import capm\n",
    "import numpy as np\n",
    "import pandas as pd\n",
    "import ipywidgets\n",
    "from scipy.optimize import Bounds\n",
    "import datetime\n",
    "from dateutil import rrule"
   ]
  },
  {
   "cell_type": "code",
   "execution_count": 71,
   "metadata": {},
   "outputs": [],
   "source": [
    "x = pd.Timestamp(np.datetime64('2015-01-01'))\n",
    "x1 = pd.Timestamp(np.datetime64('2022-01-01'))"
   ]
  },
  {
   "cell_type": "code",
   "execution_count": 72,
   "metadata": {},
   "outputs": [
    {
     "name": "stderr",
     "output_type": "stream",
     "text": [
      "c:\\Users\\Tor Osted\\OneDrive\\Dokumenter\\GitHub\\BachelorThesis\\src\\efficient_frontier.py:44: OptimizeWarning: Unknown solver options: xtol, gtol, barrier_tol\n",
      "  result = minimize(function,\n",
      "c:\\Users\\Tor Osted\\OneDrive\\Dokumenter\\GitHub\\BachelorThesis\\src\\efficient_frontier.py:117: OptimizeWarning: Unknown solver options: xtol, gtol, barrier_tol\n",
      "  result = minimize(function,\n"
     ]
    },
    {
     "name": "stdout",
     "output_type": "stream",
     "text": [
      "Min. Risk = 20.680% => Return: 33.506%  Sharpe Ratio = 1.62\n",
      "Max. Sharpe Ratio = 1.63 => Return: 33.84%  Risk: 20.784%\n",
      "Excpected return on investment is 100.09707103820338%\n"
     ]
    }
   ],
   "source": [
    "weights = np.array([1/3,1/3,1/3])\n",
    "min_esg_score = 1400\n",
    "max_esg_score = 2000\n",
    "df = pd.read_excel(r\"C:\\Users\\Tor Osted\\OneDrive\\Dokumenter\\GitHub\\BachelorThesis\\data\\ESG_DATA_S&P500.xlsx\")\n",
    "dates = [x,x1]\n",
    "\n",
    "start_year = dates[0]\n",
    "end_year = dates[1]\n",
    "\n",
    "Bounds1 = Bounds(-1,2) #How willing we are to go short and to invest in one particular stock\n",
    "Wanted_return = 0.20 #Only used when using the wanted_return constraint\n",
    "maximum_risk = 0.10 #Either used when using maximum risk constraint or cmle portfolio\n",
    "sharpe_type = \"No_extra_constraint\"  # rename to constraint, can be either Wanted_return or Maximum_risk or No_extra_constraint\n",
    "risk_free_rate = 0.01\n",
    "covariance_window = 5 #has to be in years\n",
    "\n",
    "\n",
    "\n",
    "esg_data = data.esg_score_weight(df,weights,min_esg_score,max_esg_score) #ESG_DATA filtering function\n",
    "full_data = data.stock_monthly_close(esg_data,dates) #Gives us the data we need from the stocks with relevant ESG_scores\n",
    "prices,esgdata = data.seperate_full_data(full_data) #Gives us price data and esg data to use in future functions\n",
    "pct_returns = data.pct_returns_from_prices(prices) #Gives us the returns in pct for our stocks\n",
    "parameters = portfolio.efficient_frontier_solo(pct_returns,Bounds1, sharpe_type,start_year,end_year, Wanted_return, maximum_risk,'yearly') #Different amount of rows from ESG_DATA as it drops all na. Gives us the efficient frontier for the given tie frame #Different amount of rows from ESG_DATA as it drops all na. Gives us the efficient frontier for the given tie frame\n",
    "weights_of_each_portfolio = efficient_frontier.weights_of_portfolio(prices,parameters) #Gives us the weights of the individual stocks in our portfolio\n",
    "portfolio_esg_score = portfolio.esg_score_of_portfolio(weights_of_each_portfolio,esgdata.head(1)) #gives us the ESG score of our portfolio\n",
    "portfolio_allocations = portfolio.capital_mark_line_returns(parameters,risk_free_rate,maximum_risk)[1] #How much we allocate to our market portfolio compared to the risk-free asset\n",
    "cmle_returns = portfolio.capital_mark_line_returns(parameters,risk_free_rate,maximum_risk)[0] #Return based on how much we allocate to the risk free asset.\n",
    "sp500 = data.data_for_beta(np.append(['SPY'],(weights_of_each_portfolio.columns)),dates)\n",
    "pct_returns_sp500 = data.pct_returns_from_prices(sp500)\n",
    "betas_of_portfolio = capm.calculate_portfolio_beta(pct_returns_sp500,prices,weights_of_each_portfolio)\n",
    "capm_expected_return = capm.capm_calc(pct_returns_sp500['SPY'].mean(),risk_free_rate,betas_of_portfolio)\n",
    "\n",
    "\n",
    "\n"
   ]
  },
  {
   "cell_type": "code",
   "execution_count": 74,
   "metadata": {},
   "outputs": [
    {
     "name": "stdout",
     "output_type": "stream",
     "text": [
      "[datetime.datetime(2005, 1, 1, 0, 0), datetime.datetime(2022, 1, 1, 0, 0)]\n",
      "2005-01-01 00:00:00 2015-01-01 00:00:00\n",
      "Min. Risk = 6.540% => Return: 0.888%  Sharpe Ratio = 0.14\n",
      "Max. Sharpe Ratio = 0.21 => Return: 2.10%  Risk: 10.057%\n"
     ]
    },
    {
     "name": "stderr",
     "output_type": "stream",
     "text": [
      "c:\\Users\\Tor Osted\\OneDrive\\Dokumenter\\GitHub\\BachelorThesis\\src\\efficient_frontier.py:44: OptimizeWarning: Unknown solver options: xtol, gtol, barrier_tol\n",
      "  result = minimize(function,\n",
      "c:\\Users\\Tor Osted\\OneDrive\\Dokumenter\\GitHub\\BachelorThesis\\src\\efficient_frontier.py:117: OptimizeWarning: Unknown solver options: xtol, gtol, barrier_tol\n",
      "  result = minimize(function,\n"
     ]
    },
    {
     "name": "stdout",
     "output_type": "stream",
     "text": [
      "2006-01-01 00:00:00 2016-01-01 00:00:00\n",
      "Min. Risk = 6.876% => Return: 1.230%  Sharpe Ratio = 0.18\n",
      "Max. Sharpe Ratio = 0.25 => Return: 2.31%  Risk: 9.429%\n"
     ]
    },
    {
     "name": "stderr",
     "output_type": "stream",
     "text": [
      "c:\\Users\\Tor Osted\\OneDrive\\Dokumenter\\GitHub\\BachelorThesis\\src\\efficient_frontier.py:44: OptimizeWarning: Unknown solver options: xtol, gtol, barrier_tol\n",
      "  result = minimize(function,\n",
      "c:\\Users\\Tor Osted\\OneDrive\\Dokumenter\\GitHub\\BachelorThesis\\src\\efficient_frontier.py:117: OptimizeWarning: Unknown solver options: xtol, gtol, barrier_tol\n",
      "  result = minimize(function,\n"
     ]
    },
    {
     "name": "stdout",
     "output_type": "stream",
     "text": [
      "2007-01-01 00:00:00 2017-01-01 00:00:00\n",
      "Min. Risk = 6.818% => Return: 1.390%  Sharpe Ratio = 0.20\n",
      "Max. Sharpe Ratio = 0.29 => Return: 2.84%  Risk: 9.731%\n"
     ]
    },
    {
     "name": "stderr",
     "output_type": "stream",
     "text": [
      "c:\\Users\\Tor Osted\\OneDrive\\Dokumenter\\GitHub\\BachelorThesis\\src\\efficient_frontier.py:44: OptimizeWarning: Unknown solver options: xtol, gtol, barrier_tol\n",
      "  result = minimize(function,\n",
      "c:\\Users\\Tor Osted\\OneDrive\\Dokumenter\\GitHub\\BachelorThesis\\src\\efficient_frontier.py:117: OptimizeWarning: Unknown solver options: xtol, gtol, barrier_tol\n",
      "  result = minimize(function,\n"
     ]
    },
    {
     "name": "stdout",
     "output_type": "stream",
     "text": [
      "2008-01-01 00:00:00 2018-01-01 00:00:00\n",
      "Min. Risk = 6.553% => Return: 1.437%  Sharpe Ratio = 0.22\n",
      "Max. Sharpe Ratio = 0.29 => Return: 2.52%  Risk: 8.683%\n"
     ]
    },
    {
     "name": "stderr",
     "output_type": "stream",
     "text": [
      "c:\\Users\\Tor Osted\\OneDrive\\Dokumenter\\GitHub\\BachelorThesis\\src\\efficient_frontier.py:44: OptimizeWarning: Unknown solver options: xtol, gtol, barrier_tol\n",
      "  result = minimize(function,\n",
      "c:\\Users\\Tor Osted\\OneDrive\\Dokumenter\\GitHub\\BachelorThesis\\src\\efficient_frontier.py:117: OptimizeWarning: Unknown solver options: xtol, gtol, barrier_tol\n",
      "  result = minimize(function,\n"
     ]
    },
    {
     "name": "stdout",
     "output_type": "stream",
     "text": [
      "2009-01-01 00:00:00 2019-01-01 00:00:00\n",
      "Min. Risk = 5.986% => Return: 2.059%  Sharpe Ratio = 0.34\n",
      "Max. Sharpe Ratio = 0.40 => Return: 2.76%  Risk: 6.927%\n"
     ]
    },
    {
     "name": "stderr",
     "output_type": "stream",
     "text": [
      "c:\\Users\\Tor Osted\\OneDrive\\Dokumenter\\GitHub\\BachelorThesis\\src\\efficient_frontier.py:44: OptimizeWarning: Unknown solver options: xtol, gtol, barrier_tol\n",
      "  result = minimize(function,\n",
      "c:\\Users\\Tor Osted\\OneDrive\\Dokumenter\\GitHub\\BachelorThesis\\src\\efficient_frontier.py:117: OptimizeWarning: Unknown solver options: xtol, gtol, barrier_tol\n",
      "  result = minimize(function,\n"
     ]
    },
    {
     "name": "stdout",
     "output_type": "stream",
     "text": [
      "2010-01-01 00:00:00 2020-01-01 00:00:00\n",
      "Min. Risk = 5.765% => Return: 1.874%  Sharpe Ratio = 0.33\n",
      "Max. Sharpe Ratio = 0.35 => Return: 2.14%  Risk: 6.163%\n"
     ]
    },
    {
     "name": "stderr",
     "output_type": "stream",
     "text": [
      "c:\\Users\\Tor Osted\\OneDrive\\Dokumenter\\GitHub\\BachelorThesis\\src\\efficient_frontier.py:44: OptimizeWarning: Unknown solver options: xtol, gtol, barrier_tol\n",
      "  result = minimize(function,\n",
      "c:\\Users\\Tor Osted\\OneDrive\\Dokumenter\\GitHub\\BachelorThesis\\src\\efficient_frontier.py:117: OptimizeWarning: Unknown solver options: xtol, gtol, barrier_tol\n",
      "  result = minimize(function,\n"
     ]
    },
    {
     "name": "stdout",
     "output_type": "stream",
     "text": [
      "2011-01-01 00:00:00 2021-01-01 00:00:00\n",
      "Min. Risk = 5.577% => Return: 2.100%  Sharpe Ratio = 0.38\n",
      "Max. Sharpe Ratio = 0.39 => Return: 2.27%  Risk: 5.795%\n"
     ]
    },
    {
     "name": "stderr",
     "output_type": "stream",
     "text": [
      "c:\\Users\\Tor Osted\\OneDrive\\Dokumenter\\GitHub\\BachelorThesis\\src\\efficient_frontier.py:44: OptimizeWarning: Unknown solver options: xtol, gtol, barrier_tol\n",
      "  result = minimize(function,\n",
      "c:\\Users\\Tor Osted\\OneDrive\\Dokumenter\\GitHub\\BachelorThesis\\src\\efficient_frontier.py:117: OptimizeWarning: Unknown solver options: xtol, gtol, barrier_tol\n",
      "  result = minimize(function,\n"
     ]
    },
    {
     "name": "stdout",
     "output_type": "stream",
     "text": [
      "2012-01-01 00:00:00 2022-01-01 00:00:00\n",
      "Min. Risk = 5.654% => Return: 2.439%  Sharpe Ratio = 0.43\n",
      "Max. Sharpe Ratio = 0.44 => Return: 2.49%  Risk: 5.715%\n"
     ]
    },
    {
     "name": "stderr",
     "output_type": "stream",
     "text": [
      "c:\\Users\\Tor Osted\\OneDrive\\Dokumenter\\GitHub\\BachelorThesis\\src\\efficient_frontier.py:44: OptimizeWarning: Unknown solver options: xtol, gtol, barrier_tol\n",
      "  result = minimize(function,\n",
      "c:\\Users\\Tor Osted\\OneDrive\\Dokumenter\\GitHub\\BachelorThesis\\src\\efficient_frontier.py:117: OptimizeWarning: Unknown solver options: xtol, gtol, barrier_tol\n",
      "  result = minimize(function,\n"
     ]
    }
   ],
   "source": [
    "# import packages\n",
    "from datetime import date\n",
    "from dateutil.relativedelta import relativedelta\n",
    "\n",
    "\n",
    "def backtesting(strategy,monthly_or_yearly_rebalancing,rebalancing_freq,start_date,end_date,covariance_window):\n",
    "    #start = 2015\n",
    "   # end = 2022\n",
    "\n",
    "    covariance_window_time_delta = relativedelta(years=covariance_window) #The time delta for the covariance window\n",
    "    print([start_date-covariance_window_time_delta,end_date])\n",
    "    esg_data = data.esg_score_weight(strategy[0],strategy[1],strategy[2],strategy[3])\n",
    "    full_data = data.stock_monthly_close(esg_data,[pd.Timestamp(start_date-covariance_window_time_delta),pd.Timestamp(end_date)])\n",
    "    prices,esgdata = data.seperate_full_data(full_data)\n",
    "    pct_returns = data.pct_returns_from_prices(prices)\n",
    "\n",
    "    \n",
    "    listparameters = []\n",
    "    list_of_port_weights =[]\n",
    "    list_of_port_esg_scores = []\n",
    "    list_of_port_allocations = []\n",
    "    list_of_cmle_returns = []\n",
    "    sp500_list = []\n",
    "    list_of_pct_returns_sp500 = []\n",
    "    betas_of_portfolios = []\n",
    "    i = 0\n",
    "    if monthly_or_yearly_rebalancing == 'yearly':\n",
    "        delta = relativedelta(years=rebalancing_freq)\n",
    "        \n",
    "        while (start_date <= end_date):\n",
    "            print(start_date-covariance_window_time_delta,start_date)\n",
    "            \n",
    "            \n",
    "\n",
    "            listparameters.append(portfolio.efficient_frontier_solo(pct_returns,\n",
    "                            Bounds1,\n",
    "                            sharpe_type,\n",
    "                            start_date-covariance_window_time_delta,#The start date for portfolio optimization will be the start date minus the covariance window\n",
    "                            start_date,#The end date for portfolio optimization will be the start date minus the covariance window\n",
    "                            Wanted_return,\n",
    "                            maximum_risk,\n",
    "                            strategy[10])) \n",
    "            list_of_port_weights.append(efficient_frontier.weights_of_portfolio(prices,listparameters[i]))\n",
    "            list_of_port_esg_scores.append(portfolio.esg_score_of_portfolio(list_of_port_weights[i],esgdata.head(1)))\n",
    "            list_of_port_allocations.append(portfolio.capital_mark_line_returns(listparameters[i],risk_free_rate,maximum_risk)[1])\n",
    "            list_of_cmle_returns.append(portfolio.capital_mark_line_returns(listparameters[i],risk_free_rate,maximum_risk)[0])\n",
    "            start_date += delta\n",
    "\n",
    "        return(list_of_port_weights,list_of_port_esg_scores,list_of_port_allocations,list_of_cmle_returns)\n",
    "\n",
    "    elif monthly_or_yearly_rebalancing == 'monthly':\n",
    "        delta = delta = np.timedelta64(rebalancing_freq,'M')\n",
    "        while (start_date <= end_date):#The covariance window is given in years\n",
    "\n",
    "            listparameters.append(portfolio.efficient_frontier_solo(pct_returns,\n",
    "                            Bounds1,\n",
    "                            sharpe_type,\n",
    "                            start_date-covariance_window_time_delta,#The start date for portfolio optimization will be the start date minus the covariance window\n",
    "                            start_date,#The end date for portfolio optimization will be the start date minus the covariance window\n",
    "                            Wanted_return,\n",
    "                            maximum_risk,\n",
    "                            strategy[10])) \n",
    "            list_of_port_weights.append(efficient_frontier.weights_of_portfolio(prices,listparameters[i]))\n",
    "            list_of_port_esg_scores.append(portfolio.esg_score_of_portfolio(list_of_port_weights[i],esgdata.head(1)))\n",
    "            list_of_port_allocations.append(portfolio.capital_mark_line_returns(listparameters[i],risk_free_rate,maximum_risk)[1])\n",
    "            list_of_cmle_returns.append(portfolio.capital_mark_line_returns(listparameters[i],risk_free_rate,maximum_risk)[0])\n",
    "            start_date += delta\n",
    "            end_date += delta\n",
    "            i += 1\n",
    "        return(list_of_port_weights,list_of_port_esg_scores,list_of_port_allocations,list_of_cmle_returns)\n",
    "\n",
    "    \n",
    "    else:\n",
    "        print('You can only call this function with monthly or yearly')\n",
    "        return(False)\n",
    "    \n",
    "\n",
    "backtesting(strategy1,'yearly',1,datetime.datetime(2015,1,1),datetime.datetime(2022,1,1),10)\n",
    "#backtesting(strategy1,'yearly',1,np.datetime64('2015-01-01'),np.datetime64('2022-01-01'),10) #US dates YYYY-MM-DD\n",
    "\n",
    "strategy1 = [esg_df,\n",
    "             weights,\n",
    "             min_esg_score,\n",
    "             max_esg_score,\n",
    "             Bounds1,\n",
    "             sharpe_type,\n",
    "             start,\n",
    "             end,\n",
    "             Wanted_return,\n",
    "             maximum_risk,\n",
    "             'monthly']\n",
    "\n",
    "#This makes each portfolio using strategy 1 rebalancing every 6 months from 2015 until 2022, using a covariance window of ten years\n",
    "\n",
    "#This makes each portfolio for \n"
   ]
  },
  {
   "cell_type": "code",
   "execution_count": 78,
   "metadata": {},
   "outputs": [
    {
     "name": "stderr",
     "output_type": "stream",
     "text": [
      "c:\\Users\\Tor Osted\\OneDrive\\Dokumenter\\GitHub\\BachelorThesis\\src\\efficient_frontier.py:44: OptimizeWarning: Unknown solver options: xtol, gtol, barrier_tol\n",
      "  bounds=bounds,\n",
      "c:\\Users\\Tor Osted\\OneDrive\\Dokumenter\\GitHub\\BachelorThesis\\src\\efficient_frontier.py:117: OptimizeWarning: Unknown solver options: xtol, gtol, barrier_tol\n",
      "  x0,\n"
     ]
    },
    {
     "name": "stdout",
     "output_type": "stream",
     "text": [
      "Min. Risk = 5.970% => Return: 2.793%  Sharpe Ratio = 0.47\n",
      "Max. Sharpe Ratio = 0.47 => Return: 2.82%  Risk: 6.000%\n"
     ]
    },
    {
     "data": {
      "text/plain": [
       "[(0.06000025165760809,\n",
       "  0.02820449467967918,\n",
       "  0.05969877658433012,\n",
       "  0.027929813607204694,\n",
       "  array([0.05972545, 0.05972602, 0.05972662, 0.05972727, 0.05972796,\n",
       "         0.0597287 , 0.05972949, 0.05973034, 0.05973126, 0.05973225,\n",
       "         0.05973332, 0.05973449, 0.05973576, 0.05973715, 0.05973867,\n",
       "         0.05974035, 0.05974221, 0.05974427, 0.05974658, 0.05974917,\n",
       "         0.05975209, 0.05975542, 0.05975923, 0.05976363, 0.05976876,\n",
       "         0.05977481, 0.05978201, 0.0597907 , 0.05980135, 0.05981465,\n",
       "         0.05983159, 0.05985371, 0.05988347, 0.05992502, 0.05998573,\n",
       "         0.06007982, 0.06023731, 0.06052991, 0.0924617 , 0.0924617 ,\n",
       "         0.0924617 , 0.0924617 , 0.07036798, 0.13360483, 0.13360483,\n",
       "         0.13360483, 0.13360483, 0.13360483, 0.13360483, 0.06654754]),\n",
       "  array([-0.3       , -0.29215075, -0.28430149, -0.27645224, -0.26860298,\n",
       "         -0.26075373, -0.25290447, -0.24505522, -0.23720596, -0.22935671,\n",
       "         -0.22150745, -0.2136582 , -0.20580894, -0.19795969, -0.19011043,\n",
       "         -0.18226118, -0.17441192, -0.16656267, -0.15871341, -0.15086416,\n",
       "         -0.1430149 , -0.13516565, -0.12731639, -0.11946714, -0.11161789,\n",
       "         -0.10376863, -0.09591938, -0.08807012, -0.08022087, -0.07237161,\n",
       "         -0.06452236, -0.0566731 , -0.04882385, -0.04097459, -0.03312534,\n",
       "         -0.02527608, -0.01742683, -0.00957757, -0.00172832,  0.00612094,\n",
       "          0.01397019,  0.02181945,  0.0296687 ,  0.03751796,  0.04536721,\n",
       "          0.05321646,  0.06106572,  0.06891497,  0.07676423,  0.08461348]),\n",
       "  array([0.20887683, 0.79112317]))]"
      ]
     },
     "execution_count": 78,
     "metadata": {},
     "output_type": "execute_result"
    }
   ],
   "source": [
    "#5.807% ,5.712%\n",
    "\n",
    "portfolio.efficient_frontier_solo(pct_returns,Bounds1, sharpe_type, datetime.datetime(2012,1,1),datetime.datetime(2022,1,1), Wanted_return,maximum_risk,'monthly')"
   ]
  }
 ],
 "metadata": {
  "kernelspec": {
   "display_name": "Python 3",
   "language": "python",
   "name": "python3"
  },
  "language_info": {
   "codemirror_mode": {
    "name": "ipython",
    "version": 3
   },
   "file_extension": ".py",
   "mimetype": "text/x-python",
   "name": "python",
   "nbconvert_exporter": "python",
   "pygments_lexer": "ipython3",
   "version": "3.10.4"
  },
  "orig_nbformat": 4
 },
 "nbformat": 4,
 "nbformat_minor": 2
}
