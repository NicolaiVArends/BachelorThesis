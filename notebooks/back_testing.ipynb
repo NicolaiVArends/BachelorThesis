{
 "cells": [
  {
   "cell_type": "code",
   "execution_count": 37,
   "metadata": {},
   "outputs": [
    {
     "name": "stdout",
     "output_type": "stream",
     "text": [
      "Using matplotlib backend: TkAgg\n",
      "%pylab is deprecated, use %matplotlib inline and import the required libraries.\n",
      "Populating the interactive namespace from numpy and matplotlib\n"
     ]
    },
    {
     "name": "stderr",
     "output_type": "stream",
     "text": [
      "c:\\Users\\Tor Osted\\AppData\\Local\\Programs\\Python\\Python310\\lib\\site-packages\\IPython\\core\\magics\\pylab.py:162: UserWarning: pylab import has clobbered these variables: ['rrule', 'plot']\n",
      "`%matplotlib` prevents importing * from pylab and numpy\n",
      "  warn(\"pylab import has clobbered these variables: %s\"  % clobbered +\n"
     ]
    }
   ],
   "source": [
    "import os\n",
    "import sys\n",
    "%pylab\n",
    "\n",
    "import numpy as np\n",
    "import pandas as pd\n",
    "import ipywidgets\n",
    "from scipy.optimize import Bounds\n",
    "module_path = os.path.abspath(os.path.join('..'))\n",
    "if module_path not in sys.path:\n",
    "    sys.path.append(module_path)\n",
    "    %pylab\n",
    "from src import data\n",
    "\n",
    "from src import efficient_frontier\n",
    "from src import filter_assets\n",
    "from src import plot\n",
    "from src import portfolio\n",
    "from src import capm\n",
    "import numpy as np\n",
    "import pandas as pd\n",
    "import ipywidgets\n",
    "from scipy.optimize import Bounds\n",
    "import datetime\n",
    "from dateutil import rrule"
   ]
  },
  {
   "cell_type": "code",
   "execution_count": 32,
   "metadata": {},
   "outputs": [],
   "source": [
    "x = datetime.datetime(2007, 6, 1)\n",
    "x1 = datetime.datetime(2022,6,1)\n"
   ]
  },
  {
   "cell_type": "code",
   "execution_count": 33,
   "metadata": {},
   "outputs": [
    {
     "name": "stderr",
     "output_type": "stream",
     "text": [
      "c:\\Users\\Tor Osted\\OneDrive\\Dokumenter\\GitHub\\BachelorThesis\\src\\efficient_frontier.py:44: OptimizeWarning: Unknown solver options: xtol, gtol, barrier_tol\n",
      "  result = minimize(function,\n",
      "c:\\Users\\Tor Osted\\OneDrive\\Dokumenter\\GitHub\\BachelorThesis\\src\\efficient_frontier.py:117: OptimizeWarning: Unknown solver options: xtol, gtol, barrier_tol\n",
      "  result = minimize(function,\n"
     ]
    },
    {
     "name": "stdout",
     "output_type": "stream",
     "text": [
      "Min. Risk = 22.389% => Return: 20.360%  Sharpe Ratio = 0.91\n",
      "Max. Sharpe Ratio = 0.99 => Return: 24.03%  Risk: 24.332%\n",
      "Excpected return on investment is 101.99945471431602%\n"
     ]
    }
   ],
   "source": [
    "weights = np.array([1/3,1/3,1/3])\n",
    "min_esg_score = 1400\n",
    "max_esg_score = 2000\n",
    "df = pd.read_excel(r\"C:\\Users\\Tor Osted\\OneDrive\\Dokumenter\\GitHub\\BachelorThesis\\data\\ESG_DATA_S&P500.xlsx\")\n",
    "dates = [x,x1]\n",
    "\n",
    "start_year = dates[0]\n",
    "end_year = dates[1]\n",
    "\n",
    "Bounds1 = Bounds(-1,2) #How willing we are to go short and to invest in one particular stock\n",
    "Wanted_return = 0.20 #Only used when using the wanted_return constraint\n",
    "maximum_risk = 0.10 #Either used when using maximum risk constraint or cmle portfolio\n",
    "sharpe_type = \"No_extra_constraint\"  # rename to constraint, can be either Wanted_return or Maximum_risk or No_extra_constraint\n",
    "risk_free_rate = 0.01\n",
    "covariance_window = 5 #has to be in years\n",
    "\n",
    "\n",
    "\n",
    "esg_data = data.esg_score_weight(df,weights,min_esg_score,max_esg_score) #ESG_DATA filtering function\n",
    "full_data = data.stock_monthly_close(esg_data,dates) #Gives us the data we need from the stocks with relevant ESG_scores\n",
    "prices,esgdata = data.seperate_full_data(full_data) #Gives us price data and esg data to use in future functions\n",
    "pct_returns = data.pct_returns_from_prices(prices) #Gives us the returns in pct for our stocks\n",
    "parameters = portfolio.efficient_frontier_solo(pct_returns,Bounds1, sharpe_type,start_year,end_year, Wanted_return, maximum_risk,'yearly') #Different amount of rows from ESG_DATA as it drops all na. Gives us the efficient frontier for the given tie frame #Different amount of rows from ESG_DATA as it drops all na. Gives us the efficient frontier for the given tie frame\n",
    "weights_of_each_portfolio = efficient_frontier.weights_of_portfolio(prices,parameters) #Gives us the weights of the individual stocks in our portfolio\n",
    "portfolio_esg_score = portfolio.esg_score_of_portfolio(weights_of_each_portfolio,esgdata.head(1)) #gives us the ESG score of our portfolio\n",
    "portfolio_allocations = portfolio.capital_mark_line_returns(parameters,risk_free_rate,maximum_risk)[1] #How much we allocate to our market portfolio compared to the risk-free asset\n",
    "cmle_returns = portfolio.capital_mark_line_returns(parameters,risk_free_rate,maximum_risk)[0] #Return based on how much we allocate to the risk free asset.\n",
    "sp500 = data.data_for_beta(np.append(['SPY'],(weights_of_each_portfolio.columns)),dates)\n",
    "pct_returns_sp500 = data.pct_returns_from_prices(sp500)\n",
    "betas_of_portfolio = capm.calculate_portfolio_beta(pct_returns_sp500,prices,weights_of_each_portfolio)\n",
    "capm_expected_return = capm.capm_calc(pct_returns_sp500['SPY'].mean(),risk_free_rate,betas_of_portfolio)\n",
    "\n",
    "\n",
    "\n"
   ]
  },
  {
   "cell_type": "code",
   "execution_count": 34,
   "metadata": {},
   "outputs": [
    {
     "name": "stdout",
     "output_type": "stream",
     "text": [
      "Min. Risk = 27.090% => Return: 10.855%  Sharpe Ratio = 0.40\n",
      "Max. Sharpe Ratio = 0.82 => Return: 45.96%  Risk: 55.718%\n"
     ]
    },
    {
     "name": "stderr",
     "output_type": "stream",
     "text": [
      "c:\\Users\\Tor Osted\\OneDrive\\Dokumenter\\GitHub\\BachelorThesis\\src\\efficient_frontier.py:44: OptimizeWarning: Unknown solver options: xtol, gtol, barrier_tol\n",
      "  result = minimize(function,\n",
      "c:\\Users\\Tor Osted\\OneDrive\\Dokumenter\\GitHub\\BachelorThesis\\src\\efficient_frontier.py:117: OptimizeWarning: Unknown solver options: xtol, gtol, barrier_tol\n",
      "  result = minimize(function,\n",
      "c:\\Users\\Tor Osted\\OneDrive\\Dokumenter\\GitHub\\BachelorThesis\\src\\efficient_frontier.py:44: OptimizeWarning: Unknown solver options: xtol, gtol, barrier_tol\n",
      "  result = minimize(function,\n"
     ]
    },
    {
     "name": "stdout",
     "output_type": "stream",
     "text": [
      "Min. Risk = 25.346% => Return: 9.723%  Sharpe Ratio = 0.38\n",
      "Max. Sharpe Ratio = 0.91 => Return: 54.55%  Risk: 60.017%\n"
     ]
    },
    {
     "name": "stderr",
     "output_type": "stream",
     "text": [
      "c:\\Users\\Tor Osted\\OneDrive\\Dokumenter\\GitHub\\BachelorThesis\\src\\efficient_frontier.py:117: OptimizeWarning: Unknown solver options: xtol, gtol, barrier_tol\n",
      "  result = minimize(function,\n",
      "c:\\Users\\Tor Osted\\OneDrive\\Dokumenter\\GitHub\\BachelorThesis\\src\\efficient_frontier.py:44: OptimizeWarning: Unknown solver options: xtol, gtol, barrier_tol\n",
      "  result = minimize(function,\n",
      "c:\\Users\\Tor Osted\\OneDrive\\Dokumenter\\GitHub\\BachelorThesis\\src\\efficient_frontier.py:117: OptimizeWarning: Unknown solver options: xtol, gtol, barrier_tol\n",
      "  result = minimize(function,\n"
     ]
    },
    {
     "name": "stdout",
     "output_type": "stream",
     "text": [
      "Min. Risk = 24.142% => Return: 14.058%  Sharpe Ratio = 0.58\n",
      "Max. Sharpe Ratio = 0.91 => Return: 33.98%  Risk: 37.534%\n"
     ]
    },
    {
     "name": "stderr",
     "output_type": "stream",
     "text": [
      "c:\\Users\\Tor Osted\\OneDrive\\Dokumenter\\GitHub\\BachelorThesis\\src\\efficient_frontier.py:44: OptimizeWarning: Unknown solver options: xtol, gtol, barrier_tol\n",
      "  result = minimize(function,\n",
      "c:\\Users\\Tor Osted\\OneDrive\\Dokumenter\\GitHub\\BachelorThesis\\src\\efficient_frontier.py:117: OptimizeWarning: Unknown solver options: xtol, gtol, barrier_tol\n",
      "  result = minimize(function,\n",
      "c:\\Users\\Tor Osted\\AppData\\Local\\Programs\\Python\\Python310\\lib\\site-packages\\scipy\\optimize\\_optimize.py:353: RuntimeWarning: Values in x were outside bounds during a minimize step, clipping to bounds\n",
      "  warnings.warn(\"Values in x were outside bounds during a \"\n"
     ]
    },
    {
     "name": "stdout",
     "output_type": "stream",
     "text": [
      "Min. Risk = 22.568% => Return: 9.349%  Sharpe Ratio = 0.41\n",
      "Max. Sharpe Ratio = 0.73 => Return: 29.17%  Risk: 39.843%\n"
     ]
    },
    {
     "name": "stderr",
     "output_type": "stream",
     "text": [
      "c:\\Users\\Tor Osted\\OneDrive\\Dokumenter\\GitHub\\BachelorThesis\\src\\efficient_frontier.py:44: OptimizeWarning: Unknown solver options: xtol, gtol, barrier_tol\n",
      "  result = minimize(function,\n",
      "c:\\Users\\Tor Osted\\OneDrive\\Dokumenter\\GitHub\\BachelorThesis\\src\\efficient_frontier.py:117: OptimizeWarning: Unknown solver options: xtol, gtol, barrier_tol\n",
      "  result = minimize(function,\n",
      "c:\\Users\\Tor Osted\\OneDrive\\Dokumenter\\GitHub\\BachelorThesis\\src\\efficient_frontier.py:44: OptimizeWarning: Unknown solver options: xtol, gtol, barrier_tol\n",
      "  result = minimize(function,\n",
      "c:\\Users\\Tor Osted\\OneDrive\\Dokumenter\\GitHub\\BachelorThesis\\src\\efficient_frontier.py:117: OptimizeWarning: Unknown solver options: xtol, gtol, barrier_tol\n",
      "  result = minimize(function,\n"
     ]
    },
    {
     "name": "stdout",
     "output_type": "stream",
     "text": [
      "Min. Risk = 21.662% => Return: 24.489%  Sharpe Ratio = 1.13\n",
      "Max. Sharpe Ratio = 1.32 => Return: 33.34%  Risk: 25.269%\n",
      "Min. Risk = 20.645% => Return: 18.811%  Sharpe Ratio = 0.91\n",
      "Max. Sharpe Ratio = 1.06 => Return: 25.70%  Risk: 24.134%\n"
     ]
    },
    {
     "name": "stderr",
     "output_type": "stream",
     "text": [
      "c:\\Users\\Tor Osted\\OneDrive\\Dokumenter\\GitHub\\BachelorThesis\\src\\efficient_frontier.py:44: OptimizeWarning: Unknown solver options: xtol, gtol, barrier_tol\n",
      "  result = minimize(function,\n",
      "c:\\Users\\Tor Osted\\OneDrive\\Dokumenter\\GitHub\\BachelorThesis\\src\\efficient_frontier.py:117: OptimizeWarning: Unknown solver options: xtol, gtol, barrier_tol\n",
      "  result = minimize(function,\n"
     ]
    },
    {
     "name": "stdout",
     "output_type": "stream",
     "text": [
      "Min. Risk = 18.985% => Return: 23.610%  Sharpe Ratio = 1.24\n",
      "Max. Sharpe Ratio = 1.34 => Return: 27.39%  Risk: 20.453%\n"
     ]
    }
   ],
   "source": [
    "\n",
    "x = datetime.datetime(2018, 6, 1)\n",
    "x1 = datetime.datetime(2022,6,1)\n",
    "start = 2015\n",
    "end = 2022\n",
    "covariance_window = 10\n",
    "listparameters = []\n",
    "list_of_port_weights =[]\n",
    "list_of_port_esg_scores = []\n",
    "list_of_port_allocations = []\n",
    "list_of_cmle_returns = []\n",
    "sp500_list = []\n",
    "list_of_pct_returns_sp500 = []\n",
    "betas_of_portfolios = []\n",
    "capm_expected_returns_list = []\n",
    "for i in range(end-start):\n",
    "    listparameters.append(portfolio.efficient_frontier_solo(pct_returns,\n",
    "                            Bounds1,\n",
    "                            sharpe_type,\n",
    "                            datetime.datetime(start-covariance_window+i,1,1),\n",
    "                            datetime.datetime(end-covariance_window+i,1,1),\n",
    "                            Wanted_return,\n",
    "                            maximum_risk)) \n",
    "    list_of_port_weights.append(efficient_frontier.weights_of_portfolio(prices,listparameters[i]))\n",
    "    list_of_port_esg_scores.append(portfolio.esg_score_of_portfolio(list_of_port_weights[i],esgdata.head(1)))\n",
    "    list_of_port_allocations.append(portfolio.capital_mark_line_returns(listparameters[i],risk_free_rate,maximum_risk)[1])\n",
    "    list_of_cmle_returns.append(portfolio.capital_mark_line_returns(listparameters[i],risk_free_rate,maximum_risk)[0])\n",
    "\n",
    "\n",
    "\n",
    "\n",
    "\n",
    "esg_data = data.esg_score_weight(df,weights,min_esg_score,max_esg_score) #ESG_DATA filtering function\n",
    "full_data = data.stock_monthly_close(esg_data,dates) #Gives us the data we need from the stocks with relevant ESG_scores\n",
    "prices,esgdata = data.seperate_full_data(full_data) #Gives us price data and esg data to use in future functions\n",
    "pct_returns = data.pct_returns_from_prices(prices)\n",
    "esg_df = df\n",
    "\n",
    "strategy1 = [esg_df,\n",
    "             weights,\n",
    "             min_esg_score,\n",
    "             max_esg_score,\n",
    "             Bounds1,\n",
    "             sharpe_type,\n",
    "             start,\n",
    "             end,\n",
    "             Wanted_return,\n",
    "             maximum_risk,\n",
    "             'monthly']\n",
    "\n"
   ]
  },
  {
   "cell_type": "code",
   "execution_count": 38,
   "metadata": {},
   "outputs": [
    {
     "name": "stdout",
     "output_type": "stream",
     "text": [
      "2015-01-01 00:00:00 2015-01-01\n"
     ]
    },
    {
     "ename": "UFuncTypeError",
     "evalue": "ufunc 'add' cannot use operands with types dtype('O') and dtype('<m8[Y]')",
     "output_type": "error",
     "traceback": [
      "\u001b[1;31m---------------------------------------------------------------------------\u001b[0m",
      "\u001b[1;31mUFuncTypeError\u001b[0m                            Traceback (most recent call last)",
      "Cell \u001b[1;32mIn[38], line 71\u001b[0m\n\u001b[0;32m     67\u001b[0m         \u001b[39mprint\u001b[39m(\u001b[39m'\u001b[39m\u001b[39mYou can only call this function with monthly or yearly\u001b[39m\u001b[39m'\u001b[39m)\n\u001b[0;32m     68\u001b[0m         \u001b[39mreturn\u001b[39;00m(\u001b[39mFalse\u001b[39;00m)\n\u001b[1;32m---> 71\u001b[0m backtesting(strategy1,\u001b[39m'\u001b[39;49m\u001b[39myearly\u001b[39;49m\u001b[39m'\u001b[39;49m,\u001b[39m1\u001b[39;49m,datetime\u001b[39m.\u001b[39;49mdate(\u001b[39m2015\u001b[39;49m,\u001b[39m1\u001b[39;49m,\u001b[39m1\u001b[39;49m),datetime\u001b[39m.\u001b[39;49mdate(\u001b[39m2022\u001b[39;49m,\u001b[39m1\u001b[39;49m,\u001b[39m1\u001b[39;49m),\u001b[39m10\u001b[39;49m) \n\u001b[0;32m     73\u001b[0m strategy1 \u001b[39m=\u001b[39m [esg_df,\n\u001b[0;32m     74\u001b[0m              weights,\n\u001b[0;32m     75\u001b[0m              min_esg_score,\n\u001b[1;32m   (...)\u001b[0m\n\u001b[0;32m     82\u001b[0m              maximum_risk,\n\u001b[0;32m     83\u001b[0m              \u001b[39m'\u001b[39m\u001b[39mmonthly\u001b[39m\u001b[39m'\u001b[39m]\n\u001b[0;32m     85\u001b[0m \u001b[39m#This makes each portfolio using strategy 1 rebalancing every 6 months from 2015 until 2022, using a covariance window of ten years\u001b[39;00m\n\u001b[0;32m     86\u001b[0m \n\u001b[0;32m     87\u001b[0m \u001b[39m#This makes each portfolio for \u001b[39;00m\n",
      "Cell \u001b[1;32mIn[38], line 31\u001b[0m, in \u001b[0;36mbacktesting\u001b[1;34m(strategy, monthly_or_yearly_rebalancing, rebalancing_freq, start_date, end_date, covariance_window)\u001b[0m\n\u001b[0;32m     24\u001b[0m \u001b[39mfor\u001b[39;00m dt \u001b[39min\u001b[39;00m rrule\u001b[39m.\u001b[39mrrule(rrule\u001b[39m.\u001b[39mYEARLY\u001b[39m*\u001b[39mrebalancing_freq, dtstart \u001b[39m=\u001b[39m start_date, until\u001b[39m=\u001b[39mend_date):\n\u001b[0;32m     25\u001b[0m     \u001b[39mprint\u001b[39m(dt,start_date)\n\u001b[0;32m     28\u001b[0m     listparameters\u001b[39m.\u001b[39mappend(portfolio\u001b[39m.\u001b[39mefficient_frontier_solo(pct_returns,\n\u001b[0;32m     29\u001b[0m                     Bounds1,\n\u001b[0;32m     30\u001b[0m                     sharpe_type,\n\u001b[1;32m---> 31\u001b[0m                     start_date\u001b[39m+\u001b[39;49mnp\u001b[39m.\u001b[39;49mtimedelta64(covariance_window,\u001b[39m'\u001b[39;49m\u001b[39mY\u001b[39;49m\u001b[39m'\u001b[39;49m),\u001b[39m#The start date for portfolio optimization will be the start date minus the covariance window\u001b[39;00m\n\u001b[0;32m     32\u001b[0m                     dt,\u001b[39m#The end date for portfolio optimization will be the start date minus the covariance window\u001b[39;00m\n\u001b[0;32m     33\u001b[0m                     Wanted_return,\n\u001b[0;32m     34\u001b[0m                     maximum_risk,\n\u001b[0;32m     35\u001b[0m                     strategy[\u001b[39m10\u001b[39m])) \n\u001b[0;32m     36\u001b[0m     list_of_port_weights\u001b[39m.\u001b[39mappend(efficient_frontier\u001b[39m.\u001b[39mweights_of_portfolio(prices,listparameters[i]))\n\u001b[0;32m     37\u001b[0m     list_of_port_esg_scores\u001b[39m.\u001b[39mappend(portfolio\u001b[39m.\u001b[39mesg_score_of_portfolio(list_of_port_weights[i],esgdata\u001b[39m.\u001b[39mhead(\u001b[39m1\u001b[39m)))\n",
      "\u001b[1;31mUFuncTypeError\u001b[0m: ufunc 'add' cannot use operands with types dtype('O') and dtype('<m8[Y]')"
     ]
    }
   ],
   "source": [
    "#use numpy datetime, works much better apparently\n",
    "def backtesting(strategy,monthly_or_yearly_rebalancing,rebalancing_freq,start_date,end_date,covariance_window):\n",
    "    #start = 2015\n",
    "   # end = 2022\n",
    "\n",
    "    covariance_window_time_delta = datetime.timedelta(weeks=52.1429*covariance_window) #The time delta for the covariance window\n",
    "    esg_data = data.esg_score_weight(strategy[0],strategy[1],strategy[2],strategy[3])\n",
    "    full_data = data.stock_monthly_close(esg_data,[start_date-covariance_window_time_delta,end_date])\n",
    "    prices,esgdata = data.seperate_full_data(full_data)\n",
    "    pct_returns = data.pct_returns_from_prices(prices)\n",
    "    \n",
    "    \n",
    "    listparameters = []\n",
    "    list_of_port_weights =[]\n",
    "    list_of_port_esg_scores = []\n",
    "    list_of_port_allocations = []\n",
    "    list_of_cmle_returns = []\n",
    "    sp500_list = []\n",
    "    list_of_pct_returns_sp500 = []\n",
    "    betas_of_portfolios = []\n",
    "    i = 0\n",
    "    if monthly_or_yearly_rebalancing == 'yearly':\n",
    "        delta = datetime.timedelta(days=rebalancing_freq*365)\n",
    "        \n",
    "        for dt in rrule.rrule(rrule.YEARLY*rebalancing_freq, dtstart = start_date, until=end_date):\n",
    "            print(dt,start_date)\n",
    "            \n",
    "\n",
    "            listparameters.append(portfolio.efficient_frontier_solo(pct_returns,\n",
    "                            Bounds1,\n",
    "                            sharpe_type,\n",
    "                            start_date+np.timedelta64(covariance_window,'Y'),#The start date for portfolio optimization will be the start date minus the covariance window\n",
    "                            dt,#The end date for portfolio optimization will be the start date minus the covariance window\n",
    "                            Wanted_return,\n",
    "                            maximum_risk,\n",
    "                            strategy[10])) \n",
    "            list_of_port_weights.append(efficient_frontier.weights_of_portfolio(prices,listparameters[i]))\n",
    "            list_of_port_esg_scores.append(portfolio.esg_score_of_portfolio(list_of_port_weights[i],esgdata.head(1)))\n",
    "            list_of_port_allocations.append(portfolio.capital_mark_line_returns(listparameters[i],risk_free_rate,maximum_risk)[1])\n",
    "            list_of_cmle_returns.append(portfolio.capital_mark_line_returns(listparameters[i],risk_free_rate,maximum_risk)[0])\n",
    "            \n",
    "\n",
    "        return(list_of_port_weights,list_of_port_esg_scores,list_of_port_allocations,list_of_cmle_returns)\n",
    "\n",
    "    elif monthly_or_yearly_rebalancing == 'monthly':\n",
    "        delta = datetime.timedelta(weeks =rebalancing_freq*4)\n",
    "        while (start_date <= end_date):#The covariance window is given in years\n",
    "\n",
    "            listparameters.append(portfolio.efficient_frontier_solo(pct_returns,\n",
    "                            Bounds1,\n",
    "                            sharpe_type,\n",
    "                            start_date-covariance_window_time_delta,#The start date for portfolio optimization will be the start date minus the covariance window\n",
    "                            start_date,#The end date for portfolio optimization will be the start date minus the covariance window\n",
    "                            Wanted_return,\n",
    "                            maximum_risk,\n",
    "                            strategy[10])) \n",
    "            list_of_port_weights.append(efficient_frontier.weights_of_portfolio(prices,listparameters[i]))\n",
    "            list_of_port_esg_scores.append(portfolio.esg_score_of_portfolio(list_of_port_weights[i],esgdata.head(1)))\n",
    "            list_of_port_allocations.append(portfolio.capital_mark_line_returns(listparameters[i],risk_free_rate,maximum_risk)[1])\n",
    "            list_of_cmle_returns.append(portfolio.capital_mark_line_returns(listparameters[i],risk_free_rate,maximum_risk)[0])\n",
    "            start_date += delta\n",
    "            end_date += delta\n",
    "            i += 1\n",
    "        return(list_of_port_weights,list_of_port_esg_scores,list_of_port_allocations,list_of_cmle_returns)\n",
    "\n",
    "    \n",
    "    else:\n",
    "        print('You can only call this function with monthly or yearly')\n",
    "        return(False)\n",
    "    \n",
    "\n",
    "backtesting(strategy1,'yearly',1,datetime.date(2015,1,1),datetime.date(2022,1,1),10) \n",
    "\n",
    "strategy1 = [esg_df,\n",
    "             weights,\n",
    "             min_esg_score,\n",
    "             max_esg_score,\n",
    "             Bounds1,\n",
    "             sharpe_type,\n",
    "             start,\n",
    "             end,\n",
    "             Wanted_return,\n",
    "             maximum_risk,\n",
    "             'monthly']\n",
    "\n",
    "#This makes each portfolio using strategy 1 rebalancing every 6 months from 2015 until 2022, using a covariance window of ten years\n",
    "\n",
    "#This makes each portfolio for \n"
   ]
  },
  {
   "cell_type": "code",
   "execution_count": null,
   "metadata": {},
   "outputs": [
    {
     "name": "stderr",
     "output_type": "stream",
     "text": [
      "c:\\Users\\Tor Osted\\OneDrive\\Dokumenter\\GitHub\\BachelorThesis\\src\\efficient_frontier.py:44: OptimizeWarning: Unknown solver options: xtol, gtol, barrier_tol\n",
      "  result = minimize(function,\n",
      "c:\\Users\\Tor Osted\\OneDrive\\Dokumenter\\GitHub\\BachelorThesis\\src\\efficient_frontier.py:117: OptimizeWarning: Unknown solver options: xtol, gtol, barrier_tol\n",
      "  result = minimize(function,\n"
     ]
    },
    {
     "name": "stdout",
     "output_type": "stream",
     "text": [
      "Min. Risk = 6.141% => Return: 2.562%  Sharpe Ratio = 0.42\n",
      "Max. Sharpe Ratio = 0.43 => Return: 2.66%  Risk: 6.263%\n"
     ]
    },
    {
     "data": {
      "text/plain": [
       "[(0.06262768058568673,\n",
       "  0.026639824108082973,\n",
       "  0.061409859302649354,\n",
       "  0.02561532361999815,\n",
       "  array([0.06142662, 0.0614253 , 0.06142397, 0.06142264, 0.06142129,\n",
       "         0.06141995, 0.06141861, 0.0614173 , 0.06141602, 0.06141478,\n",
       "         0.06141361, 0.06141253, 0.06141157, 0.06141078, 0.06141019,\n",
       "         0.06140988, 0.06140993, 0.06141043, 0.06141153, 0.0614134 ,\n",
       "         0.06141627, 0.06142046, 0.06142637, 0.06143459, 0.06144588,\n",
       "         0.06146135, 0.06148256, 0.06151177, 0.06155234, 0.06160937,\n",
       "         0.06169079, 0.06180937, 0.10270563, 0.10270563, 0.10270563,\n",
       "         0.10270563, 0.10270563, 0.10270563, 0.10270563, 0.10270563,\n",
       "         0.10270563, 0.10270563, 0.06141109, 0.11158095, 0.13953574,\n",
       "         0.13953574, 0.13953574, 0.13953574, 0.13953574, 0.13953574]),\n",
       "  array([-0.3       , -0.29224654, -0.28449308, -0.27673962, -0.26898617,\n",
       "         -0.26123271, -0.25347925, -0.24572579, -0.23797233, -0.23021887,\n",
       "         -0.22246541, -0.21471196, -0.2069585 , -0.19920504, -0.19145158,\n",
       "         -0.18369812, -0.17594466, -0.1681912 , -0.16043774, -0.15268429,\n",
       "         -0.14493083, -0.13717737, -0.12942391, -0.12167045, -0.11391699,\n",
       "         -0.10616353, -0.09841008, -0.09065662, -0.08290316, -0.0751497 ,\n",
       "         -0.06739624, -0.05964278, -0.05188932, -0.04413587, -0.03638241,\n",
       "         -0.02862895, -0.02087549, -0.01312203, -0.00536857,  0.00238489,\n",
       "          0.01013834,  0.0178918 ,  0.02564526,  0.03339872,  0.04115218,\n",
       "          0.04890564,  0.0566591 ,  0.06441256,  0.07216601,  0.07991947]),\n",
       "  array([0.36713259, 0.63286741]))]"
      ]
     },
     "execution_count": 23,
     "metadata": {},
     "output_type": "execute_result"
    }
   ],
   "source": [
    "#5.807% ,5.712%\n",
    "\n",
    "portfolio.efficient_frontier_solo(pct_returns,Bounds1, sharpe_type, datetime.date(2015,1,1),datetime.date(2022,1,1), Wanted_return,maximum_risk,'monthly')"
   ]
  }
 ],
 "metadata": {
  "kernelspec": {
   "display_name": "Python 3",
   "language": "python",
   "name": "python3"
  },
  "language_info": {
   "codemirror_mode": {
    "name": "ipython",
    "version": 3
   },
   "file_extension": ".py",
   "mimetype": "text/x-python",
   "name": "python",
   "nbconvert_exporter": "python",
   "pygments_lexer": "ipython3",
   "version": "3.10.4"
  },
  "orig_nbformat": 4
 },
 "nbformat": 4,
 "nbformat_minor": 2
}
