{
 "cells": [
  {
   "cell_type": "code",
   "execution_count": 1,
   "metadata": {},
   "outputs": [],
   "source": [
    "import os\n",
    "import sys\n",
    "%matplotlib inline\n",
    "\n",
    "import numpy as np\n",
    "import pandas as pd\n",
    "import ipywidgets\n",
    "from scipy.optimize import Bounds\n",
    "module_path = os.path.abspath(os.path.join('..'))\n",
    "if module_path not in sys.path:\n",
    "    sys.path.append(module_path)\n",
    "from src import data\n",
    "from src import efficient_frontier\n",
    "from src import plot\n",
    "from src import portfolio\n",
    "from src import capm\n",
    "from src import backtesting\n",
    "import numpy as np\n",
    "import pandas as pd\n",
    "import ipywidgets\n",
    "from scipy.optimize import Bounds\n",
    "import datetime\n",
    "from dateutil import rrule\n",
    "import yfinance as yf\n",
    "import warnings\n",
    "\n",
    "warnings.filterwarnings(\"ignore\", category=FutureWarning, module='pandas')"
   ]
  },
  {
   "cell_type": "code",
   "execution_count": 2,
   "metadata": {},
   "outputs": [],
   "source": [
    "x = pd.Timestamp(np.datetime64('2000-01-01'))\n",
    "x1 = pd.Timestamp(np.datetime64('2022-01-01'))"
   ]
  },
  {
   "cell_type": "code",
   "execution_count": 3,
   "metadata": {},
   "outputs": [],
   "source": [
    "weights = np.array([1/3,1/3,1/3])\n",
    "min_esg_score = 1100\n",
    "max_esg_score = 2000\n",
    "df = pd.read_excel('../data/ESG_DATA_S&P500.xlsx')\n",
    "dates = [x,x1]\n",
    "\n",
    "start_year = dates[0]\n",
    "end_year = dates[1]\n",
    "\n",
    "Bounds1 = Bounds(0,1) #How willing we are to go short and to invest in one particular stock\n",
    "Wanted_return = 0.20 #Only used when using the wanted_return constraint\n",
    "maximum_risk = 0.10 #Either used when using maximum risk constraint or cmle portfolio\n",
    "sharpe_type = \"No_extra_constraint\"  # rename to constraint, can be either Wanted_return or Maximum_risk or No_extra_constraint\n",
    "risk_free_rate = 0.01\n",
    "covariance_window = 5 #has to be in years\n",
    "rebalancing_freq = 'monthly'\n",
    "\n",
    "strategy1 = {'df': df,\n",
    " 'weights': weights,\n",
    " 'min_esg_score': min_esg_score,\n",
    " 'max_esg_score': max_esg_score,\n",
    " 'Bounds1': Bounds1,\n",
    " 'sharpe_type': sharpe_type,\n",
    " 'Wanted_return': Wanted_return,\n",
    " 'maximum_risk': maximum_risk,\n",
    " 'rebalancing_freq': rebalancing_freq,\n",
    " 'risk_free_rate': risk_free_rate,\n",
    " 'start_year' : start_year,\n",
    " 'end_year' : end_year}\n"
   ]
  },
  {
   "cell_type": "code",
   "execution_count": 5,
   "metadata": {},
   "outputs": [
    {
     "name": "stdout",
     "output_type": "stream",
     "text": [
      "\n",
      "1 Failed download:\n",
      "- KHC: Exception('Lost data during merge despite all attempts to align data (see above)')\n",
      "Min. Risk = 1.839% => Return: 0.978%  Sharpe Ratio = 0.53\n",
      "Max. Sharpe Ratio = 0.81 => Return: 2.14%  Risk: 2.637%\n",
      "Excpected return on investment is 65.03102222864956%\n",
      "Min. Risk = 2.225% => Return: 1.027%  Sharpe Ratio = 0.46\n",
      "Max. Sharpe Ratio = 0.72 => Return: 2.02%  Risk: 2.812%\n",
      "Excpected return on investment is 70.4205731494555%\n",
      "Min. Risk = 1.948% => Return: 0.877%  Sharpe Ratio = 0.45\n",
      "Max. Sharpe Ratio = 0.65 => Return: 1.68%  Risk: 2.592%\n",
      "Excpected return on investment is 67.59035592106926%\n",
      "Min. Risk = 1.960% => Return: 1.113%  Sharpe Ratio = 0.57\n",
      "Max. Sharpe Ratio = 0.77 => Return: 1.91%  Risk: 2.474%\n",
      "Excpected return on investment is 79.7349104913427%\n",
      "Min. Risk = 1.429% => Return: 1.187%  Sharpe Ratio = 0.83\n",
      "Max. Sharpe Ratio = 1.14 => Return: 2.10%  Risk: 1.839%\n",
      "Excpected return on investment is 83.20557550671107%\n",
      "Min. Risk = 1.614% => Return: 1.054%  Sharpe Ratio = 0.65\n",
      "Max. Sharpe Ratio = 0.86 => Return: 1.71%  Risk: 1.998%\n",
      "Excpected return on investment is 75.80804837492526%\n",
      "Min. Risk = 1.465% => Return: 1.305%  Sharpe Ratio = 0.89\n",
      "Max. Sharpe Ratio = 1.08 => Return: 1.81%  Risk: 1.680%\n",
      "Excpected return on investment is 69.29636447919562%\n",
      "Min. Risk = 1.659% => Return: 1.089%  Sharpe Ratio = 0.66\n",
      "Max. Sharpe Ratio = 0.88 => Return: 1.81%  Risk: 2.061%\n",
      "Excpected return on investment is 80.9810970440088%\n"
     ]
    }
   ],
   "source": [
    "data5 = backtesting.backtesting(strategy1, 'yearly', 1, '2015-01-01','2022-01-01',10,'SPY')"
   ]
  },
  {
   "cell_type": "code",
   "execution_count": null,
   "metadata": {},
   "outputs": [],
   "source": [
    "#len(data5)\n",
    "#print(data5[7],data5[6],data5[5])\n",
    "\n",
    "plot.compare_returns1(data5[7],data5[5],data5[6])"
   ]
  }
 ],
 "metadata": {
  "kernelspec": {
   "display_name": "Python 3",
   "language": "python",
   "name": "python3"
  },
  "language_info": {
   "codemirror_mode": {
    "name": "ipython",
    "version": 3
   },
   "file_extension": ".py",
   "mimetype": "text/x-python",
   "name": "python",
   "nbconvert_exporter": "python",
   "pygments_lexer": "ipython3",
   "version": "3.10.4"
  },
  "orig_nbformat": 4
 },
 "nbformat": 4,
 "nbformat_minor": 2
}
