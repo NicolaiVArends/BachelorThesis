{
 "cells": [
  {
   "cell_type": "code",
   "execution_count": 1,
   "metadata": {},
   "outputs": [],
   "source": [
    "import os\n",
    "import sys\n",
    "%matplotlib inline\n",
    "\n",
    "import numpy as np\n",
    "import pandas as pd\n",
    "import ipywidgets\n",
    "from scipy.optimize import Bounds\n",
    "module_path = os.path.abspath(os.path.join('..'))\n",
    "if module_path not in sys.path:\n",
    "    sys.path.append(module_path)\n",
    "from src import data\n",
    "from src import efficient_frontier\n",
    "from src import plot\n",
    "from src import portfolio\n",
    "from src import capm\n",
    "from src import backtesting\n",
    "import numpy as np\n",
    "import pandas as pd\n",
    "import ipywidgets\n",
    "from scipy.optimize import Bounds\n",
    "import datetime\n",
    "from dateutil import rrule\n",
    "import yfinance as yf\n",
    "import warnings\n",
    "\n",
    "warnings.filterwarnings(\"ignore\", category=FutureWarning, module='pandas')"
   ]
  },
  {
   "cell_type": "code",
   "execution_count": 2,
   "metadata": {},
   "outputs": [],
   "source": [
    "x = pd.Timestamp(np.datetime64('2000-01-01'))\n",
    "x1 = pd.Timestamp(np.datetime64('2022-01-01'))"
   ]
  },
  {
   "cell_type": "code",
   "execution_count": 3,
   "metadata": {},
   "outputs": [],
   "source": [
    "weights = np.array([1/3,1/3,1/3])\n",
    "min_esg_score = 0\n",
    "max_esg_score = 2000\n",
    "df = pd.read_excel('../data/ESG_DATA_S&P500.xlsx')\n",
    "\n",
    "df = df[(df[\"stock_symbol\"] == 'MMM') |(df['stock_symbol'] == 'AOS') | (df['stock_symbol']=='ABT')] #['MMM','AOS','ABT']\n",
    "dates = [x,x1]\n",
    "\n",
    "start_year = dates[0]\n",
    "end_year = dates[1]\n",
    "\n",
    "Bounds1 = Bounds(-1,2) #How willing we are to go short and to invest in one particular stock\n",
    "Wanted_return = 0.20 #Only used when using the wanted_return constraint\n",
    "maximum_risk = 0.10 #Either used when using maximum risk constraint or cmle portfolio\n",
    "sharpe_type = \"No_extra_constraint\"  # rename to constraint, can be either Wanted_return or Maximum_risk or No_extra_constraint\n",
    "risk_free_rate = 0.01\n",
    "covariance_window = 5 #has to be in years\n",
    "rebalancing_freq = 'monthly'\n",
    "\n",
    "strategy1 = {'df': df,\n",
    " 'weights': weights,\n",
    " 'min_esg_score': min_esg_score,\n",
    " 'max_esg_score': max_esg_score,\n",
    " 'bounds': Bounds1,\n",
    " 'sharpe_type': sharpe_type,\n",
    " 'wanted_return': Wanted_return,\n",
    " 'maximum_risk': maximum_risk,\n",
    " 'rebalancing_freq': rebalancing_freq,\n",
    " 'risk_free_rate': risk_free_rate,\n",
    " 'start_year' : start_year,\n",
    " 'end_year' : end_year}\n"
   ]
  },
  {
   "cell_type": "code",
   "execution_count": 4,
   "metadata": {},
   "outputs": [
    {
     "name": "stdout",
     "output_type": "stream",
     "text": [
      "Min. Risk = 4.737% => Return: 1.995%  Sharpe Ratio = 0.42\n",
      "Max. Sharpe Ratio = 0.61 => Return: 4.18%  Risk: 6.868%\n",
      "1.3137275103215238\n",
      "Excpected return on investment is 130.07502326157214%\n"
     ]
    },
    {
     "data": {
      "text/plain": [
       "([       ABT       AOS       MMM\n",
       "  0 -0.85658  0.004643  1.851937],\n",
       " [   ESG_score_of_portfolio\n",
       "  0              1087.92316],\n",
       " [[1.4560708786721352]],\n",
       " [1.3137275103215238],\n",
       " [[0.05635750841677509]],\n",
       " [array([0.0698617])],\n",
       " [0.07740626951221101],\n",
       " [array([0.09716288])],\n",
       " ['2014/08/01'])"
      ]
     },
     "execution_count": 4,
     "metadata": {},
     "output_type": "execute_result"
    }
   ],
   "source": [
    "data5 = backtesting.backtesting(strategy1, 'monthly', 6, '2014-02-01','2014-07-01',0,10,'^GSPC',False)\n",
    "data5"
   ]
  },
  {
   "cell_type": "code",
   "execution_count": 5,
   "metadata": {},
   "outputs": [
    {
     "data": {
      "text/plain": [
       "([       ABT       AOS       MMM\n",
       "  0 -0.85658  0.004643  1.851937],\n",
       " [   ESG_score_of_portfolio\n",
       "  0              1087.92316],\n",
       " [[1.4560708786721352]],\n",
       " [1.3137275103215238],\n",
       " [[0.05635750841677509]],\n",
       " [array([0.0698617])],\n",
       " [0.07740626951221101],\n",
       " [array([0.09716288])],\n",
       " ['2014/08/01'])"
      ]
     },
     "execution_count": 5,
     "metadata": {},
     "output_type": "execute_result"
    }
   ],
   "source": [
    "data5"
   ]
  },
  {
   "cell_type": "code",
   "execution_count": 6,
   "metadata": {},
   "outputs": [
    {
     "data": {
      "image/png": "[encoded data removed]",
      "text/plain": [
       "<Figure size 864x432 with 1 Axes>"
      ]
     },
     "metadata": {
      "needs_background": "light"
     },
     "output_type": "display_data"
    }
   ],
   "source": [
    "\n",
    "\n",
    "\n",
    "plot.compare_returns1(data5[8],np.concatenate(data5[7]),data5[6])\n",
    "\n"
   ]
  }
 ],
 "metadata": {
  "kernelspec": {
   "display_name": "Python 3",
   "language": "python",
   "name": "python3"
  },
  "language_info": {
   "codemirror_mode": {
    "name": "ipython",
    "version": 3
   },
   "file_extension": ".py",
   "mimetype": "text/x-python",
   "name": "python",
   "nbconvert_exporter": "python",
   "pygments_lexer": "ipython3",
   "version": "3.9.7"
  },
  "orig_nbformat": 4
 },
 "nbformat": 4,
 "nbformat_minor": 2
}
