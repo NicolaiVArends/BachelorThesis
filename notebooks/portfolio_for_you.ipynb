{
 "cells": [
  {
   "cell_type": "code",
   "execution_count": 4,
   "metadata": {},
   "outputs": [],
   "source": [
    "import os\n",
    "import sys\n",
    "module_path = os.path.abspath(os.path.join('..'))\n",
    "if module_path not in sys.path:\n",
    "    sys.path.append(module_path)"
   ]
  },
  {
   "cell_type": "code",
   "execution_count": 5,
   "metadata": {},
   "outputs": [
    {
     "name": "stdout",
     "output_type": "stream",
     "text": [
      "Using matplotlib backend: MacOSX\n",
      "%pylab is deprecated, use %matplotlib inline and import the required libraries.\n",
      "Populating the interactive namespace from numpy and matplotlib\n"
     ]
    }
   ],
   "source": [
    "%pylab\n",
    "from src import data\n",
    "from src import efficient_frontier\n",
    "from src import filter_assets\n",
    "from src import plot\n",
    "from src import portfolio\n",
    "import numpy as np\n",
    "import pandas as pd\n",
    "from scipy.optimize import Bounds\n"
   ]
  },
  {
   "cell_type": "code",
   "execution_count": 8,
   "metadata": {},
   "outputs": [],
   "source": [
    "weights = np.array([1/3,1/3,1/3])\n",
    "min_esg_score = 1250\n",
    "df = pd.read_excel(r\"../data/ESG_DATA_S&P500.xlsx\")\n",
    "dates = ['2003-01-01','2023-01-01']\n",
    "window_size = 10 #Amount of months we want to look back on when doing the portfolio optimizations\n",
    "Bounds = Bounds(-1,2) #How willing we are to go short and to invest in one particular stock\n",
    "Wanted_return = 0.20 #Only used when using the wanted_return constraint\n",
    "maximum_risk = 0.10 #Either used when using maximum risk constraint or cmle portfolio\n",
    "sharpe_type = \"No_extra_constraint\"  # rename to constraint, can be either Wanted_return or Maximum_risk or No_extra_constraint\n",
    "risk_free_rate = 0.01"
   ]
  },
  {
   "cell_type": "code",
   "execution_count": 9,
   "metadata": {},
   "outputs": [
    {
     "name": "stderr",
     "output_type": "stream",
     "text": [
      "/Users/nicolaiveiglinarends/Library/CloudStorage/OneDrive-UniversityofCopenhagen/DatØk3/Bachelorprojekt_repo/BachelorThesis/src/efficient_frontier.py:40: OptimizeWarning: Unknown solver options: xtol, gtol, barrier_tol\n",
      "  result = minimize(function,\n",
      "/Users/nicolaiveiglinarends/Library/CloudStorage/OneDrive-UniversityofCopenhagen/DatØk3/Bachelorprojekt_repo/BachelorThesis/src/efficient_frontier.py:113: OptimizeWarning: Unknown solver options: xtol, gtol, barrier_tol\n",
      "  result = minimize(function,\n"
     ]
    },
    {
     "name": "stdout",
     "output_type": "stream",
     "text": [
      "Min. Risk = 7.845% => Return: 9.121%  Sharpe Ratio = 1.16\n",
      "Max. Sharpe Ratio = 2.23 => Return: 33.75%  Risk: 15.127%\n"
     ]
    },
    {
     "name": "stderr",
     "output_type": "stream",
     "text": [
      "/Users/nicolaiveiglinarends/Library/CloudStorage/OneDrive-UniversityofCopenhagen/DatØk3/Bachelorprojekt_repo/BachelorThesis/src/efficient_frontier.py:40: OptimizeWarning: Unknown solver options: xtol, gtol, barrier_tol\n",
      "  result = minimize(function,\n",
      "/Users/nicolaiveiglinarends/Library/CloudStorage/OneDrive-UniversityofCopenhagen/DatØk3/Bachelorprojekt_repo/BachelorThesis/src/efficient_frontier.py:113: OptimizeWarning: Unknown solver options: xtol, gtol, barrier_tol\n",
      "  result = minimize(function,\n"
     ]
    },
    {
     "name": "stdout",
     "output_type": "stream",
     "text": [
      "Min. Risk = 8.212% => Return: 7.922%  Sharpe Ratio = 0.96\n",
      "Max. Sharpe Ratio = 2.11 => Return: 37.88%  Risk: 17.946%\n"
     ]
    },
    {
     "name": "stderr",
     "output_type": "stream",
     "text": [
      "/Users/nicolaiveiglinarends/Library/CloudStorage/OneDrive-UniversityofCopenhagen/DatØk3/Bachelorprojekt_repo/BachelorThesis/src/efficient_frontier.py:40: OptimizeWarning: Unknown solver options: xtol, gtol, barrier_tol\n",
      "  result = minimize(function,\n",
      "/Users/nicolaiveiglinarends/Library/CloudStorage/OneDrive-UniversityofCopenhagen/DatØk3/Bachelorprojekt_repo/BachelorThesis/src/efficient_frontier.py:113: OptimizeWarning: Unknown solver options: xtol, gtol, barrier_tol\n",
      "  result = minimize(function,\n"
     ]
    },
    {
     "name": "stdout",
     "output_type": "stream",
     "text": [
      "Min. Risk = 8.043% => Return: 10.162%  Sharpe Ratio = 1.26\n",
      "Max. Sharpe Ratio = 2.18 => Return: 30.25%  Risk: 13.861%\n"
     ]
    },
    {
     "name": "stderr",
     "output_type": "stream",
     "text": [
      "/Users/nicolaiveiglinarends/Library/CloudStorage/OneDrive-UniversityofCopenhagen/DatØk3/Bachelorprojekt_repo/BachelorThesis/src/efficient_frontier.py:40: OptimizeWarning: Unknown solver options: xtol, gtol, barrier_tol\n",
      "  result = minimize(function,\n",
      "/Users/nicolaiveiglinarends/Library/CloudStorage/OneDrive-UniversityofCopenhagen/DatØk3/Bachelorprojekt_repo/BachelorThesis/src/efficient_frontier.py:113: OptimizeWarning: Unknown solver options: xtol, gtol, barrier_tol\n",
      "  result = minimize(function,\n"
     ]
    },
    {
     "name": "stdout",
     "output_type": "stream",
     "text": [
      "Min. Risk = 8.702% => Return: 10.606%  Sharpe Ratio = 1.22\n",
      "Max. Sharpe Ratio = 2.09 => Return: 31.00%  Risk: 14.834%\n"
     ]
    },
    {
     "name": "stderr",
     "output_type": "stream",
     "text": [
      "/Users/nicolaiveiglinarends/Library/CloudStorage/OneDrive-UniversityofCopenhagen/DatØk3/Bachelorprojekt_repo/BachelorThesis/src/efficient_frontier.py:40: OptimizeWarning: Unknown solver options: xtol, gtol, barrier_tol\n",
      "  result = minimize(function,\n",
      "/Users/nicolaiveiglinarends/Library/CloudStorage/OneDrive-UniversityofCopenhagen/DatØk3/Bachelorprojekt_repo/BachelorThesis/src/efficient_frontier.py:113: OptimizeWarning: Unknown solver options: xtol, gtol, barrier_tol\n",
      "  result = minimize(function,\n"
     ]
    },
    {
     "name": "stdout",
     "output_type": "stream",
     "text": [
      "Min. Risk = 8.932% => Return: 9.891%  Sharpe Ratio = 1.11\n",
      "Max. Sharpe Ratio = 2.19 => Return: 38.54%  Risk: 17.621%\n"
     ]
    },
    {
     "name": "stderr",
     "output_type": "stream",
     "text": [
      "/Users/nicolaiveiglinarends/Library/CloudStorage/OneDrive-UniversityofCopenhagen/DatØk3/Bachelorprojekt_repo/BachelorThesis/src/efficient_frontier.py:40: OptimizeWarning: Unknown solver options: xtol, gtol, barrier_tol\n",
      "  result = minimize(function,\n",
      "/Users/nicolaiveiglinarends/Library/CloudStorage/OneDrive-UniversityofCopenhagen/DatØk3/Bachelorprojekt_repo/BachelorThesis/src/efficient_frontier.py:113: OptimizeWarning: Unknown solver options: xtol, gtol, barrier_tol\n",
      "  result = minimize(function,\n"
     ]
    },
    {
     "name": "stdout",
     "output_type": "stream",
     "text": [
      "Min. Risk = 8.526% => Return: 11.213%  Sharpe Ratio = 1.32\n",
      "Max. Sharpe Ratio = 2.31 => Return: 34.66%  Risk: 15.010%\n"
     ]
    },
    {
     "name": "stderr",
     "output_type": "stream",
     "text": [
      "/Users/nicolaiveiglinarends/Library/CloudStorage/OneDrive-UniversityofCopenhagen/DatØk3/Bachelorprojekt_repo/BachelorThesis/src/efficient_frontier.py:40: OptimizeWarning: Unknown solver options: xtol, gtol, barrier_tol\n",
      "  result = minimize(function,\n",
      "/Users/nicolaiveiglinarends/Library/CloudStorage/OneDrive-UniversityofCopenhagen/DatØk3/Bachelorprojekt_repo/BachelorThesis/src/efficient_frontier.py:113: OptimizeWarning: Unknown solver options: xtol, gtol, barrier_tol\n",
      "  result = minimize(function,\n"
     ]
    },
    {
     "name": "stdout",
     "output_type": "stream",
     "text": [
      "Min. Risk = 9.121% => Return: 14.253%  Sharpe Ratio = 1.56\n",
      "Max. Sharpe Ratio = 2.43 => Return: 34.48%  Risk: 14.174%\n"
     ]
    },
    {
     "name": "stderr",
     "output_type": "stream",
     "text": [
      "/Users/nicolaiveiglinarends/Library/CloudStorage/OneDrive-UniversityofCopenhagen/DatØk3/Bachelorprojekt_repo/BachelorThesis/src/efficient_frontier.py:40: OptimizeWarning: Unknown solver options: xtol, gtol, barrier_tol\n",
      "  result = minimize(function,\n",
      "/Users/nicolaiveiglinarends/Library/CloudStorage/OneDrive-UniversityofCopenhagen/DatØk3/Bachelorprojekt_repo/BachelorThesis/src/efficient_frontier.py:113: OptimizeWarning: Unknown solver options: xtol, gtol, barrier_tol\n",
      "  result = minimize(function,\n"
     ]
    },
    {
     "name": "stdout",
     "output_type": "stream",
     "text": [
      "Min. Risk = 9.110% => Return: 12.180%  Sharpe Ratio = 1.34\n",
      "Max. Sharpe Ratio = 2.33 => Return: 37.06%  Risk: 15.887%\n"
     ]
    },
    {
     "name": "stderr",
     "output_type": "stream",
     "text": [
      "/Users/nicolaiveiglinarends/Library/CloudStorage/OneDrive-UniversityofCopenhagen/DatØk3/Bachelorprojekt_repo/BachelorThesis/src/efficient_frontier.py:40: OptimizeWarning: Unknown solver options: xtol, gtol, barrier_tol\n",
      "  result = minimize(function,\n",
      "/Users/nicolaiveiglinarends/Library/CloudStorage/OneDrive-UniversityofCopenhagen/DatØk3/Bachelorprojekt_repo/BachelorThesis/src/efficient_frontier.py:113: OptimizeWarning: Unknown solver options: xtol, gtol, barrier_tol\n",
      "  result = minimize(function,\n"
     ]
    },
    {
     "name": "stdout",
     "output_type": "stream",
     "text": [
      "Min. Risk = 9.037% => Return: 14.103%  Sharpe Ratio = 1.56\n",
      "Max. Sharpe Ratio = 2.43 => Return: 34.22%  Risk: 14.062%\n"
     ]
    },
    {
     "name": "stderr",
     "output_type": "stream",
     "text": [
      "/Users/nicolaiveiglinarends/Library/CloudStorage/OneDrive-UniversityofCopenhagen/DatØk3/Bachelorprojekt_repo/BachelorThesis/src/efficient_frontier.py:40: OptimizeWarning: Unknown solver options: xtol, gtol, barrier_tol\n",
      "  result = minimize(function,\n",
      "/Users/nicolaiveiglinarends/Library/CloudStorage/OneDrive-UniversityofCopenhagen/DatØk3/Bachelorprojekt_repo/BachelorThesis/src/efficient_frontier.py:113: OptimizeWarning: Unknown solver options: xtol, gtol, barrier_tol\n",
      "  result = minimize(function,\n"
     ]
    },
    {
     "name": "stdout",
     "output_type": "stream",
     "text": [
      "Min. Risk = 9.585% => Return: 12.916%  Sharpe Ratio = 1.35\n",
      "Max. Sharpe Ratio = 2.14 => Return: 32.75%  Risk: 15.274%\n"
     ]
    },
    {
     "name": "stderr",
     "output_type": "stream",
     "text": [
      "/Users/nicolaiveiglinarends/Library/CloudStorage/OneDrive-UniversityofCopenhagen/DatØk3/Bachelorprojekt_repo/BachelorThesis/src/efficient_frontier.py:40: OptimizeWarning: Unknown solver options: xtol, gtol, barrier_tol\n",
      "  result = minimize(function,\n",
      "/Users/nicolaiveiglinarends/Library/CloudStorage/OneDrive-UniversityofCopenhagen/DatØk3/Bachelorprojekt_repo/BachelorThesis/src/efficient_frontier.py:113: OptimizeWarning: Unknown solver options: xtol, gtol, barrier_tol\n",
      "  result = minimize(function,\n"
     ]
    },
    {
     "name": "stdout",
     "output_type": "stream",
     "text": [
      "Min. Risk = 10.864% => Return: 11.880%  Sharpe Ratio = 1.09\n",
      "Max. Sharpe Ratio = 1.92 => Return: 36.53%  Risk: 19.068%\n"
     ]
    }
   ],
   "source": [
    "esg_data = data.esg_score_weight(df,weights,min_esg_score) #ESG_DATA filtering function\n",
    "full_data = data.stock_monthly_close(esg_data,dates) #Gives us the data we need from the stocks with relevant ESG_scores\n",
    "prices,esgdata = data.seperate_full_data(full_data) #Gives us price data and esg data to use in future functions\n",
    "pct_returns = data.pct_returns_from_prices(prices) #Gives us the returns in pct for our stocks\n",
    "parameters = portfolio.rolling_window_efficient_frontier(pct_returns,Bounds, sharpe_type, Wanted_return, maximum_risk) #Different amount of rows from ESG_DATA as it drops all na. Gives us the efficient frontier for the given tie frame\n",
    "weights_of_each_portfolio = efficient_frontier.weights_of_portfolio(prices,parameters) #Gives us the weights of the individual stocks in our portfolio\n",
    "portfolio_esg_score = portfolio.esg_score_of_portfolio(weights_of_each_portfolio,esgdata.head(1)) #gives us the ESG score of our portfolio\n",
    "portfolio_allocations = portfolio.capital_mark_line_returns(parameters,risk_free_rate,maximum_risk)[1] #How much we allocate to our market portfolio compared to the risk-free asset\n",
    "cmle_returns = portfolio.capital_mark_line_returns(parameters,risk_free_rate,maximum_risk)[0] #Return based on how much we allocate to the risk free asset.\n"
   ]
  },
  {
   "cell_type": "code",
   "execution_count": 10,
   "metadata": {},
   "outputs": [
    {
     "data": {
      "text/html": [
       "<div>\n",
       "<style scoped>\n",
       "    .dataframe tbody tr th:only-of-type {\n",
       "        vertical-align: middle;\n",
       "    }\n",
       "\n",
       "    .dataframe tbody tr th {\n",
       "        vertical-align: top;\n",
       "    }\n",
       "\n",
       "    .dataframe thead th {\n",
       "        text-align: right;\n",
       "    }\n",
       "</style>\n",
       "<table border=\"1\" class=\"dataframe\">\n",
       "  <thead>\n",
       "    <tr style=\"text-align: right;\">\n",
       "      <th></th>\n",
       "      <th>AMZN</th>\n",
       "      <th>AKAM</th>\n",
       "      <th>APD</th>\n",
       "      <th>CPB</th>\n",
       "      <th>BAX</th>\n",
       "      <th>CLX</th>\n",
       "      <th>ED</th>\n",
       "      <th>EMN</th>\n",
       "      <th>INTC</th>\n",
       "      <th>IDXX</th>\n",
       "      <th>...</th>\n",
       "      <th>REG</th>\n",
       "      <th>SEE</th>\n",
       "      <th>STT</th>\n",
       "      <th>AES</th>\n",
       "      <th>TT</th>\n",
       "      <th>URI</th>\n",
       "      <th>WM</th>\n",
       "      <th>WEC</th>\n",
       "      <th>WAB</th>\n",
       "      <th>WY</th>\n",
       "    </tr>\n",
       "  </thead>\n",
       "  <tbody>\n",
       "    <tr>\n",
       "      <th>0</th>\n",
       "      <td>0.129264</td>\n",
       "      <td>0.106927</td>\n",
       "      <td>-0.215167</td>\n",
       "      <td>0.161462</td>\n",
       "      <td>0.242633</td>\n",
       "      <td>0.330017</td>\n",
       "      <td>-0.348566</td>\n",
       "      <td>0.191399</td>\n",
       "      <td>-0.168895</td>\n",
       "      <td>0.237971</td>\n",
       "      <td>...</td>\n",
       "      <td>-0.079974</td>\n",
       "      <td>-0.167761</td>\n",
       "      <td>-0.004037</td>\n",
       "      <td>-0.116561</td>\n",
       "      <td>0.062005</td>\n",
       "      <td>0.015437</td>\n",
       "      <td>-0.148931</td>\n",
       "      <td>1.099085</td>\n",
       "      <td>0.228806</td>\n",
       "      <td>-0.156375</td>\n",
       "    </tr>\n",
       "    <tr>\n",
       "      <th>1</th>\n",
       "      <td>0.133686</td>\n",
       "      <td>0.111332</td>\n",
       "      <td>-0.201489</td>\n",
       "      <td>0.206977</td>\n",
       "      <td>0.318354</td>\n",
       "      <td>0.007553</td>\n",
       "      <td>-0.583671</td>\n",
       "      <td>0.204457</td>\n",
       "      <td>-0.257890</td>\n",
       "      <td>0.305652</td>\n",
       "      <td>...</td>\n",
       "      <td>-0.177690</td>\n",
       "      <td>-0.099818</td>\n",
       "      <td>-0.015737</td>\n",
       "      <td>-0.172228</td>\n",
       "      <td>0.099627</td>\n",
       "      <td>0.017683</td>\n",
       "      <td>-0.185370</td>\n",
       "      <td>1.262381</td>\n",
       "      <td>0.335667</td>\n",
       "      <td>-0.209052</td>\n",
       "    </tr>\n",
       "    <tr>\n",
       "      <th>2</th>\n",
       "      <td>0.119495</td>\n",
       "      <td>0.125721</td>\n",
       "      <td>-0.162931</td>\n",
       "      <td>0.117490</td>\n",
       "      <td>0.340271</td>\n",
       "      <td>0.202523</td>\n",
       "      <td>-0.513940</td>\n",
       "      <td>0.004676</td>\n",
       "      <td>0.013762</td>\n",
       "      <td>0.312795</td>\n",
       "      <td>...</td>\n",
       "      <td>-0.252849</td>\n",
       "      <td>0.048416</td>\n",
       "      <td>-0.017986</td>\n",
       "      <td>-0.130038</td>\n",
       "      <td>0.010908</td>\n",
       "      <td>0.023130</td>\n",
       "      <td>0.002329</td>\n",
       "      <td>0.855839</td>\n",
       "      <td>0.387008</td>\n",
       "      <td>-0.166501</td>\n",
       "    </tr>\n",
       "    <tr>\n",
       "      <th>3</th>\n",
       "      <td>0.167444</td>\n",
       "      <td>0.113392</td>\n",
       "      <td>-0.207519</td>\n",
       "      <td>0.270077</td>\n",
       "      <td>0.311060</td>\n",
       "      <td>0.243965</td>\n",
       "      <td>-0.683646</td>\n",
       "      <td>0.115492</td>\n",
       "      <td>0.025401</td>\n",
       "      <td>0.254611</td>\n",
       "      <td>...</td>\n",
       "      <td>-0.289987</td>\n",
       "      <td>-0.002464</td>\n",
       "      <td>-0.041384</td>\n",
       "      <td>-0.193406</td>\n",
       "      <td>0.025900</td>\n",
       "      <td>0.031438</td>\n",
       "      <td>-0.026218</td>\n",
       "      <td>0.870432</td>\n",
       "      <td>0.370431</td>\n",
       "      <td>-0.170738</td>\n",
       "    </tr>\n",
       "    <tr>\n",
       "      <th>4</th>\n",
       "      <td>0.260793</td>\n",
       "      <td>0.041186</td>\n",
       "      <td>-0.344322</td>\n",
       "      <td>0.200781</td>\n",
       "      <td>0.218179</td>\n",
       "      <td>0.148205</td>\n",
       "      <td>-0.521568</td>\n",
       "      <td>0.074886</td>\n",
       "      <td>-0.003091</td>\n",
       "      <td>0.393947</td>\n",
       "      <td>...</td>\n",
       "      <td>-0.445559</td>\n",
       "      <td>-0.038478</td>\n",
       "      <td>0.023876</td>\n",
       "      <td>-0.227573</td>\n",
       "      <td>0.095126</td>\n",
       "      <td>0.081183</td>\n",
       "      <td>0.070236</td>\n",
       "      <td>0.836624</td>\n",
       "      <td>0.428428</td>\n",
       "      <td>-0.203253</td>\n",
       "    </tr>\n",
       "    <tr>\n",
       "      <th>5</th>\n",
       "      <td>0.269679</td>\n",
       "      <td>0.058458</td>\n",
       "      <td>-0.480551</td>\n",
       "      <td>0.122907</td>\n",
       "      <td>0.154445</td>\n",
       "      <td>0.304893</td>\n",
       "      <td>-0.433532</td>\n",
       "      <td>0.122851</td>\n",
       "      <td>0.100778</td>\n",
       "      <td>0.235342</td>\n",
       "      <td>...</td>\n",
       "      <td>-0.421994</td>\n",
       "      <td>-0.116230</td>\n",
       "      <td>0.034290</td>\n",
       "      <td>-0.218774</td>\n",
       "      <td>-0.011266</td>\n",
       "      <td>0.130369</td>\n",
       "      <td>0.192122</td>\n",
       "      <td>0.599799</td>\n",
       "      <td>0.398855</td>\n",
       "      <td>-0.165763</td>\n",
       "    </tr>\n",
       "    <tr>\n",
       "      <th>6</th>\n",
       "      <td>0.207607</td>\n",
       "      <td>0.189153</td>\n",
       "      <td>-0.145960</td>\n",
       "      <td>-0.065167</td>\n",
       "      <td>0.119653</td>\n",
       "      <td>0.264849</td>\n",
       "      <td>-0.594269</td>\n",
       "      <td>-0.062578</td>\n",
       "      <td>0.104030</td>\n",
       "      <td>0.236829</td>\n",
       "      <td>...</td>\n",
       "      <td>-0.289978</td>\n",
       "      <td>0.009441</td>\n",
       "      <td>-0.023723</td>\n",
       "      <td>-0.054353</td>\n",
       "      <td>0.153395</td>\n",
       "      <td>0.039414</td>\n",
       "      <td>0.004832</td>\n",
       "      <td>0.787381</td>\n",
       "      <td>-0.073536</td>\n",
       "      <td>-0.147376</td>\n",
       "    </tr>\n",
       "    <tr>\n",
       "      <th>7</th>\n",
       "      <td>0.190422</td>\n",
       "      <td>0.127455</td>\n",
       "      <td>-0.145096</td>\n",
       "      <td>-0.037257</td>\n",
       "      <td>0.162969</td>\n",
       "      <td>0.254030</td>\n",
       "      <td>-0.363395</td>\n",
       "      <td>-0.147898</td>\n",
       "      <td>0.086222</td>\n",
       "      <td>0.201624</td>\n",
       "      <td>...</td>\n",
       "      <td>-0.306278</td>\n",
       "      <td>-0.112228</td>\n",
       "      <td>-0.086632</td>\n",
       "      <td>-0.146133</td>\n",
       "      <td>0.170156</td>\n",
       "      <td>0.166613</td>\n",
       "      <td>0.030015</td>\n",
       "      <td>0.639554</td>\n",
       "      <td>0.017609</td>\n",
       "      <td>-0.144129</td>\n",
       "    </tr>\n",
       "    <tr>\n",
       "      <th>8</th>\n",
       "      <td>0.194804</td>\n",
       "      <td>0.047432</td>\n",
       "      <td>-0.063353</td>\n",
       "      <td>-0.077233</td>\n",
       "      <td>0.131623</td>\n",
       "      <td>0.071934</td>\n",
       "      <td>-0.187575</td>\n",
       "      <td>-0.087709</td>\n",
       "      <td>0.021400</td>\n",
       "      <td>0.287134</td>\n",
       "      <td>...</td>\n",
       "      <td>-0.063367</td>\n",
       "      <td>-0.149661</td>\n",
       "      <td>-0.035535</td>\n",
       "      <td>0.069346</td>\n",
       "      <td>0.064427</td>\n",
       "      <td>0.237384</td>\n",
       "      <td>0.061754</td>\n",
       "      <td>0.481010</td>\n",
       "      <td>0.031399</td>\n",
       "      <td>-0.362016</td>\n",
       "    </tr>\n",
       "    <tr>\n",
       "      <th>9</th>\n",
       "      <td>0.193365</td>\n",
       "      <td>0.131919</td>\n",
       "      <td>-0.289520</td>\n",
       "      <td>-0.093433</td>\n",
       "      <td>0.166735</td>\n",
       "      <td>0.014671</td>\n",
       "      <td>-0.032358</td>\n",
       "      <td>-0.087631</td>\n",
       "      <td>0.007672</td>\n",
       "      <td>0.228179</td>\n",
       "      <td>...</td>\n",
       "      <td>-0.013425</td>\n",
       "      <td>0.044078</td>\n",
       "      <td>-0.098974</td>\n",
       "      <td>-0.024149</td>\n",
       "      <td>0.246936</td>\n",
       "      <td>0.229959</td>\n",
       "      <td>0.066860</td>\n",
       "      <td>0.448207</td>\n",
       "      <td>-0.036045</td>\n",
       "      <td>-0.299488</td>\n",
       "    </tr>\n",
       "    <tr>\n",
       "      <th>10</th>\n",
       "      <td>0.024984</td>\n",
       "      <td>-0.047348</td>\n",
       "      <td>-0.016977</td>\n",
       "      <td>0.133020</td>\n",
       "      <td>0.035528</td>\n",
       "      <td>0.012687</td>\n",
       "      <td>0.127611</td>\n",
       "      <td>-0.215735</td>\n",
       "      <td>-0.098435</td>\n",
       "      <td>0.291142</td>\n",
       "      <td>...</td>\n",
       "      <td>-0.143767</td>\n",
       "      <td>0.039660</td>\n",
       "      <td>-0.227190</td>\n",
       "      <td>0.073877</td>\n",
       "      <td>0.158937</td>\n",
       "      <td>0.361835</td>\n",
       "      <td>0.427120</td>\n",
       "      <td>0.164142</td>\n",
       "      <td>0.070178</td>\n",
       "      <td>-0.347790</td>\n",
       "    </tr>\n",
       "  </tbody>\n",
       "</table>\n",
       "<p>11 rows × 27 columns</p>\n",
       "</div>"
      ],
      "text/plain": [
       "        AMZN      AKAM       APD       CPB       BAX       CLX        ED  \\\n",
       "0   0.129264  0.106927 -0.215167  0.161462  0.242633  0.330017 -0.348566   \n",
       "1   0.133686  0.111332 -0.201489  0.206977  0.318354  0.007553 -0.583671   \n",
       "2   0.119495  0.125721 -0.162931  0.117490  0.340271  0.202523 -0.513940   \n",
       "3   0.167444  0.113392 -0.207519  0.270077  0.311060  0.243965 -0.683646   \n",
       "4   0.260793  0.041186 -0.344322  0.200781  0.218179  0.148205 -0.521568   \n",
       "5   0.269679  0.058458 -0.480551  0.122907  0.154445  0.304893 -0.433532   \n",
       "6   0.207607  0.189153 -0.145960 -0.065167  0.119653  0.264849 -0.594269   \n",
       "7   0.190422  0.127455 -0.145096 -0.037257  0.162969  0.254030 -0.363395   \n",
       "8   0.194804  0.047432 -0.063353 -0.077233  0.131623  0.071934 -0.187575   \n",
       "9   0.193365  0.131919 -0.289520 -0.093433  0.166735  0.014671 -0.032358   \n",
       "10  0.024984 -0.047348 -0.016977  0.133020  0.035528  0.012687  0.127611   \n",
       "\n",
       "         EMN      INTC      IDXX  ...       REG       SEE       STT       AES  \\\n",
       "0   0.191399 -0.168895  0.237971  ... -0.079974 -0.167761 -0.004037 -0.116561   \n",
       "1   0.204457 -0.257890  0.305652  ... -0.177690 -0.099818 -0.015737 -0.172228   \n",
       "2   0.004676  0.013762  0.312795  ... -0.252849  0.048416 -0.017986 -0.130038   \n",
       "3   0.115492  0.025401  0.254611  ... -0.289987 -0.002464 -0.041384 -0.193406   \n",
       "4   0.074886 -0.003091  0.393947  ... -0.445559 -0.038478  0.023876 -0.227573   \n",
       "5   0.122851  0.100778  0.235342  ... -0.421994 -0.116230  0.034290 -0.218774   \n",
       "6  -0.062578  0.104030  0.236829  ... -0.289978  0.009441 -0.023723 -0.054353   \n",
       "7  -0.147898  0.086222  0.201624  ... -0.306278 -0.112228 -0.086632 -0.146133   \n",
       "8  -0.087709  0.021400  0.287134  ... -0.063367 -0.149661 -0.035535  0.069346   \n",
       "9  -0.087631  0.007672  0.228179  ... -0.013425  0.044078 -0.098974 -0.024149   \n",
       "10 -0.215735 -0.098435  0.291142  ... -0.143767  0.039660 -0.227190  0.073877   \n",
       "\n",
       "          TT       URI        WM       WEC       WAB        WY  \n",
       "0   0.062005  0.015437 -0.148931  1.099085  0.228806 -0.156375  \n",
       "1   0.099627  0.017683 -0.185370  1.262381  0.335667 -0.209052  \n",
       "2   0.010908  0.023130  0.002329  0.855839  0.387008 -0.166501  \n",
       "3   0.025900  0.031438 -0.026218  0.870432  0.370431 -0.170738  \n",
       "4   0.095126  0.081183  0.070236  0.836624  0.428428 -0.203253  \n",
       "5  -0.011266  0.130369  0.192122  0.599799  0.398855 -0.165763  \n",
       "6   0.153395  0.039414  0.004832  0.787381 -0.073536 -0.147376  \n",
       "7   0.170156  0.166613  0.030015  0.639554  0.017609 -0.144129  \n",
       "8   0.064427  0.237384  0.061754  0.481010  0.031399 -0.362016  \n",
       "9   0.246936  0.229959  0.066860  0.448207 -0.036045 -0.299488  \n",
       "10  0.158937  0.361835  0.427120  0.164142  0.070178 -0.347790  \n",
       "\n",
       "[11 rows x 27 columns]"
      ]
     },
     "execution_count": 10,
     "metadata": {},
     "output_type": "execute_result"
    }
   ],
   "source": [
    "#Weights of the different portfolios\n",
    "weights_of_each_portfolio"
   ]
  },
  {
   "cell_type": "code",
   "execution_count": 11,
   "metadata": {},
   "outputs": [
    {
     "data": {
      "text/plain": [
       "[0.6610606431217309,\n",
       " 0.5572220453505469,\n",
       " 0.7214440605682105,\n",
       " 0.6741461766327105,\n",
       " 0.5674912900390252,\n",
       " 0.6662050285337189,\n",
       " 0.7055070795831424,\n",
       " 0.6294454812585863,\n",
       " 0.7111390521756278,\n",
       " 0.6547103671598102,\n",
       " 0.5244332157404225]"
      ]
     },
     "execution_count": 11,
     "metadata": {},
     "output_type": "execute_result"
    }
   ],
   "source": [
    "#Hvor meget allokerer vi til vores portefølje i forhold til vores risk_free_asset\n",
    "\n",
    "portfolio_allocations\n"
   ]
  },
  {
   "cell_type": "code",
   "execution_count": 12,
   "metadata": {},
   "outputs": [
    {
     "data": {
      "text/html": [
       "<div>\n",
       "<style scoped>\n",
       "    .dataframe tbody tr th:only-of-type {\n",
       "        vertical-align: middle;\n",
       "    }\n",
       "\n",
       "    .dataframe tbody tr th {\n",
       "        vertical-align: top;\n",
       "    }\n",
       "\n",
       "    .dataframe thead th {\n",
       "        text-align: right;\n",
       "    }\n",
       "</style>\n",
       "<table border=\"1\" class=\"dataframe\">\n",
       "  <thead>\n",
       "    <tr style=\"text-align: right;\">\n",
       "      <th></th>\n",
       "      <th>ESG_score_of_portfolio</th>\n",
       "    </tr>\n",
       "  </thead>\n",
       "  <tbody>\n",
       "    <tr>\n",
       "      <th>0</th>\n",
       "      <td>1280.300727</td>\n",
       "    </tr>\n",
       "    <tr>\n",
       "      <th>1</th>\n",
       "      <td>1363.924475</td>\n",
       "    </tr>\n",
       "    <tr>\n",
       "      <th>2</th>\n",
       "      <td>1354.021097</td>\n",
       "    </tr>\n",
       "    <tr>\n",
       "      <th>3</th>\n",
       "      <td>1416.637541</td>\n",
       "    </tr>\n",
       "    <tr>\n",
       "      <th>4</th>\n",
       "      <td>1427.290214</td>\n",
       "    </tr>\n",
       "    <tr>\n",
       "      <th>5</th>\n",
       "      <td>1391.782607</td>\n",
       "    </tr>\n",
       "    <tr>\n",
       "      <th>6</th>\n",
       "      <td>1387.511633</td>\n",
       "    </tr>\n",
       "    <tr>\n",
       "      <th>7</th>\n",
       "      <td>1419.266963</td>\n",
       "    </tr>\n",
       "    <tr>\n",
       "      <th>8</th>\n",
       "      <td>1432.423972</td>\n",
       "    </tr>\n",
       "    <tr>\n",
       "      <th>9</th>\n",
       "      <td>1420.474819</td>\n",
       "    </tr>\n",
       "    <tr>\n",
       "      <th>10</th>\n",
       "      <td>1528.188097</td>\n",
       "    </tr>\n",
       "  </tbody>\n",
       "</table>\n",
       "</div>"
      ],
      "text/plain": [
       "    ESG_score_of_portfolio\n",
       "0              1280.300727\n",
       "1              1363.924475\n",
       "2              1354.021097\n",
       "3              1416.637541\n",
       "4              1427.290214\n",
       "5              1391.782607\n",
       "6              1387.511633\n",
       "7              1419.266963\n",
       "8              1432.423972\n",
       "9              1420.474819\n",
       "10             1528.188097"
      ]
     },
     "execution_count": 12,
     "metadata": {},
     "output_type": "execute_result"
    }
   ],
   "source": [
    "portfolio_esg_score"
   ]
  },
  {
   "cell_type": "markdown",
   "metadata": {},
   "source": []
  },
  {
   "cell_type": "code",
   "execution_count": 13,
   "metadata": {},
   "outputs": [
    {
     "data": {
      "text/plain": [
       "[0.22646470012977515,\n",
       " 0.215489123924774,\n",
       " 0.2210423020301373,\n",
       " 0.2122125541775549,\n",
       " 0.22302247362407487,\n",
       " 0.23426971587508105,\n",
       " 0.2461703943189411,\n",
       " 0.23695437665001326,\n",
       " 0.24623664491760883,\n",
       " 0.2179010598184505,\n",
       " 0.19632108855633193]"
      ]
     },
     "execution_count": 13,
     "metadata": {},
     "output_type": "execute_result"
    }
   ],
   "source": [
    "cmle_returns"
   ]
  },
  {
   "cell_type": "code",
   "execution_count": 14,
   "metadata": {},
   "outputs": [
    {
     "ename": "TypeError",
     "evalue": "plot_efficient_frontier() missing 3 required positional arguments: 'start_year', 'end_year', and 'risk_free_rate'",
     "output_type": "error",
     "traceback": [
      "\u001b[0;31m---------------------------------------------------------------------------\u001b[0m",
      "\u001b[0;31mTypeError\u001b[0m                                 Traceback (most recent call last)",
      "Cell \u001b[0;32mIn[14], line 1\u001b[0m\n\u001b[0;32m----> 1\u001b[0m plot\u001b[39m.\u001b[39;49mplot_efficient_frontier(parameters)\n",
      "\u001b[0;31mTypeError\u001b[0m: plot_efficient_frontier() missing 3 required positional arguments: 'start_year', 'end_year', and 'risk_free_rate'"
     ]
    }
   ],
   "source": [
    "plot.plot_efficient_frontier(parameters)"
   ]
  },
  {
   "cell_type": "code",
   "execution_count": null,
   "metadata": {},
   "outputs": [],
   "source": []
  }
 ],
 "metadata": {
  "kernelspec": {
   "display_name": "Python 3",
   "language": "python",
   "name": "python3"
  },
  "language_info": {
   "codemirror_mode": {
    "name": "ipython",
    "version": 3
   },
   "file_extension": ".py",
   "mimetype": "text/x-python",
   "name": "python",
   "nbconvert_exporter": "python",
   "pygments_lexer": "ipython3",
   "version": "3.11.0"
  },
  "orig_nbformat": 4
 },
 "nbformat": 4,
 "nbformat_minor": 2
}
