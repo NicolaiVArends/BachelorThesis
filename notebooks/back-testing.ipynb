{
 "cells": [
  {
   "cell_type": "code",
   "execution_count": 1,
   "metadata": {},
   "outputs": [],
   "source": [
    "import os\n",
    "import sys\n",
    "src_path = os.path.abspath('../src')\n",
    "sys.path.append(src_path)\n",
    "module_path = os.path.abspath(os.path.join('..'))\n",
    "if module_path not in sys.path:\n",
    "    sys.path.append(module_path)"
   ]
  },
  {
   "cell_type": "code",
   "execution_count": 2,
   "metadata": {},
   "outputs": [],
   "source": [
    "import pandas as pd\n",
    "import numpy as np\n",
    "from src import data\n",
    "from src import portfolio\n",
    "from src import efficient_frontier\n",
    "from src import plot\n",
    "import yfinance as yf\n",
    "from scipy.optimize import Bounds, LinearConstraint\n",
    "from pypfopt.expected_returns import mean_historical_return"
   ]
  },
  {
   "cell_type": "code",
   "execution_count": 3,
   "metadata": {},
   "outputs": [],
   "source": [
    "weights = np.array([1/3,1/3,1/3])\n",
    "min_esg_score = 1100\n",
    "max_esg_score = 2000\n",
    "df = pd.read_excel(r\"../data/ESG_DATA_S&P500.xlsx\")\n",
    "\n",
    "dates = ['2003-01-01','2023-01-01']\n",
    "start_year = dates[0]\n",
    "end_year = dates[1]\n",
    "\n",
    "Bounds = Bounds(0,1) #How willing we are to go short and to invest in one particular stock\n",
    "Wanted_return = 0.20 #Only used when using the wanted_return constraint\n",
    "maximum_risk = 0.10 #Either used when using maximum risk constraint or cmle portfolio\n",
    "sharpe_type = \"No_extra_constraint\"  # rename to constraint, can be either Wanted_return or Maximum_risk or No_extra_constraint\n",
    "risk_free_rate = 0.02"
   ]
  },
  {
   "cell_type": "code",
   "execution_count": 4,
   "metadata": {},
   "outputs": [
    {
     "name": "stdout",
     "output_type": "stream",
     "text": [
      "\n",
      "1 Failed download:\n",
      "- ABBV: Exception('Lost data during merge despite all attempts to align data (see above)')\n",
      "\n",
      "1 Failed download:\n",
      "- KHC: Exception('Lost data during merge despite all attempts to align data (see above)')\n"
     ]
    },
    {
     "name": "stderr",
     "output_type": "stream",
     "text": [
      "/Users/nicolaiveiglinarends/Library/CloudStorage/OneDrive-UniversityofCopenhagen/DatØk3/Bachelorprojekt_repo/BachelorThesis/src/efficient_frontier.py:40: OptimizeWarning: Unknown solver options: xtol, gtol, barrier_tol\n",
      "  result = minimize(function,\n",
      "/Users/nicolaiveiglinarends/Library/CloudStorage/OneDrive-UniversityofCopenhagen/DatØk3/Bachelorprojekt_repo/BachelorThesis/src/efficient_frontier.py:113: OptimizeWarning: Unknown solver options: xtol, gtol, barrier_tol\n",
      "  result = minimize(function,\n"
     ]
    },
    {
     "name": "stdout",
     "output_type": "stream",
     "text": [
      "Min. Risk = 11.960% => Return: 9.277%  Sharpe Ratio = 0.78\n",
      "Max. Sharpe Ratio = 0.98 => Return: 14.06%  Risk: 14.309%\n"
     ]
    },
    {
     "name": "stderr",
     "output_type": "stream",
     "text": [
      "/Users/nicolaiveiglinarends/Library/CloudStorage/OneDrive-UniversityofCopenhagen/DatØk3/Bachelorprojekt_repo/BachelorThesis/src/efficient_frontier.py:40: OptimizeWarning: Unknown solver options: xtol, gtol, barrier_tol\n",
      "  result = minimize(function,\n",
      "/Users/nicolaiveiglinarends/Library/CloudStorage/OneDrive-UniversityofCopenhagen/DatØk3/Bachelorprojekt_repo/BachelorThesis/src/efficient_frontier.py:113: OptimizeWarning: Unknown solver options: xtol, gtol, barrier_tol\n",
      "  result = minimize(function,\n"
     ]
    },
    {
     "name": "stdout",
     "output_type": "stream",
     "text": [
      "Min. Risk = 12.083% => Return: 9.025%  Sharpe Ratio = 0.75\n",
      "Max. Sharpe Ratio = 0.91 => Return: 12.96%  Risk: 14.162%\n"
     ]
    },
    {
     "name": "stderr",
     "output_type": "stream",
     "text": [
      "/Users/nicolaiveiglinarends/Library/CloudStorage/OneDrive-UniversityofCopenhagen/DatØk3/Bachelorprojekt_repo/BachelorThesis/src/efficient_frontier.py:40: OptimizeWarning: Unknown solver options: xtol, gtol, barrier_tol\n",
      "  result = minimize(function,\n",
      "/Users/nicolaiveiglinarends/Library/CloudStorage/OneDrive-UniversityofCopenhagen/DatØk3/Bachelorprojekt_repo/BachelorThesis/src/efficient_frontier.py:113: OptimizeWarning: Unknown solver options: xtol, gtol, barrier_tol\n",
      "  result = minimize(function,\n"
     ]
    },
    {
     "name": "stdout",
     "output_type": "stream",
     "text": [
      "Min. Risk = 12.138% => Return: 10.112%  Sharpe Ratio = 0.83\n",
      "Max. Sharpe Ratio = 1.02 => Return: 14.54%  Risk: 14.189%\n"
     ]
    },
    {
     "name": "stderr",
     "output_type": "stream",
     "text": [
      "/Users/nicolaiveiglinarends/Library/CloudStorage/OneDrive-UniversityofCopenhagen/DatØk3/Bachelorprojekt_repo/BachelorThesis/src/efficient_frontier.py:40: OptimizeWarning: Unknown solver options: xtol, gtol, barrier_tol\n",
      "  result = minimize(function,\n",
      "/Users/nicolaiveiglinarends/Library/CloudStorage/OneDrive-UniversityofCopenhagen/DatØk3/Bachelorprojekt_repo/BachelorThesis/src/efficient_frontier.py:113: OptimizeWarning: Unknown solver options: xtol, gtol, barrier_tol\n",
      "  result = minimize(function,\n"
     ]
    },
    {
     "name": "stdout",
     "output_type": "stream",
     "text": [
      "Min. Risk = 13.030% => Return: 9.794%  Sharpe Ratio = 0.75\n",
      "Max. Sharpe Ratio = 0.91 => Return: 13.99%  Risk: 15.360%\n"
     ]
    },
    {
     "name": "stderr",
     "output_type": "stream",
     "text": [
      "/Users/nicolaiveiglinarends/Library/CloudStorage/OneDrive-UniversityofCopenhagen/DatØk3/Bachelorprojekt_repo/BachelorThesis/src/efficient_frontier.py:40: OptimizeWarning: Unknown solver options: xtol, gtol, barrier_tol\n",
      "  result = minimize(function,\n",
      "/Users/nicolaiveiglinarends/Library/CloudStorage/OneDrive-UniversityofCopenhagen/DatØk3/Bachelorprojekt_repo/BachelorThesis/src/efficient_frontier.py:113: OptimizeWarning: Unknown solver options: xtol, gtol, barrier_tol\n",
      "  result = minimize(function,\n"
     ]
    },
    {
     "name": "stdout",
     "output_type": "stream",
     "text": [
      "Min. Risk = 13.288% => Return: 9.791%  Sharpe Ratio = 0.74\n",
      "Max. Sharpe Ratio = 0.97 => Return: 16.78%  Risk: 17.262%\n"
     ]
    },
    {
     "name": "stderr",
     "output_type": "stream",
     "text": [
      "/Users/nicolaiveiglinarends/Library/CloudStorage/OneDrive-UniversityofCopenhagen/DatØk3/Bachelorprojekt_repo/BachelorThesis/src/efficient_frontier.py:40: OptimizeWarning: Unknown solver options: xtol, gtol, barrier_tol\n",
      "  result = minimize(function,\n",
      "/Users/nicolaiveiglinarends/Library/CloudStorage/OneDrive-UniversityofCopenhagen/DatØk3/Bachelorprojekt_repo/BachelorThesis/src/efficient_frontier.py:113: OptimizeWarning: Unknown solver options: xtol, gtol, barrier_tol\n",
      "  result = minimize(function,\n"
     ]
    },
    {
     "name": "stdout",
     "output_type": "stream",
     "text": [
      "Min. Risk = 13.403% => Return: 11.318%  Sharpe Ratio = 0.84\n",
      "Max. Sharpe Ratio = 1.14 => Return: 19.59%  Risk: 17.243%\n"
     ]
    },
    {
     "name": "stderr",
     "output_type": "stream",
     "text": [
      "/Users/nicolaiveiglinarends/Library/CloudStorage/OneDrive-UniversityofCopenhagen/DatØk3/Bachelorprojekt_repo/BachelorThesis/src/efficient_frontier.py:40: OptimizeWarning: Unknown solver options: xtol, gtol, barrier_tol\n",
      "  result = minimize(function,\n",
      "/Users/nicolaiveiglinarends/Library/CloudStorage/OneDrive-UniversityofCopenhagen/DatØk3/Bachelorprojekt_repo/BachelorThesis/src/efficient_frontier.py:113: OptimizeWarning: Unknown solver options: xtol, gtol, barrier_tol\n",
      "  result = minimize(function,\n"
     ]
    },
    {
     "name": "stdout",
     "output_type": "stream",
     "text": [
      "Min. Risk = 13.248% => Return: 14.427%  Sharpe Ratio = 1.09\n",
      "Max. Sharpe Ratio = 1.33 => Return: 20.25%  Risk: 15.168%\n"
     ]
    },
    {
     "name": "stderr",
     "output_type": "stream",
     "text": [
      "/Users/nicolaiveiglinarends/Library/CloudStorage/OneDrive-UniversityofCopenhagen/DatØk3/Bachelorprojekt_repo/BachelorThesis/src/efficient_frontier.py:40: OptimizeWarning: Unknown solver options: xtol, gtol, barrier_tol\n",
      "  result = minimize(function,\n",
      "/Users/nicolaiveiglinarends/Library/CloudStorage/OneDrive-UniversityofCopenhagen/DatØk3/Bachelorprojekt_repo/BachelorThesis/src/efficient_frontier.py:113: OptimizeWarning: Unknown solver options: xtol, gtol, barrier_tol\n",
      "  result = minimize(function,\n"
     ]
    },
    {
     "name": "stdout",
     "output_type": "stream",
     "text": [
      "Min. Risk = 13.449% => Return: 12.172%  Sharpe Ratio = 0.91\n",
      "Max. Sharpe Ratio = 1.05 => Return: 15.13%  Risk: 14.358%\n"
     ]
    },
    {
     "name": "stderr",
     "output_type": "stream",
     "text": [
      "/Users/nicolaiveiglinarends/Library/CloudStorage/OneDrive-UniversityofCopenhagen/DatØk3/Bachelorprojekt_repo/BachelorThesis/src/efficient_frontier.py:40: OptimizeWarning: Unknown solver options: xtol, gtol, barrier_tol\n",
      "  result = minimize(function,\n",
      "/Users/nicolaiveiglinarends/Library/CloudStorage/OneDrive-UniversityofCopenhagen/DatØk3/Bachelorprojekt_repo/BachelorThesis/src/efficient_frontier.py:113: OptimizeWarning: Unknown solver options: xtol, gtol, barrier_tol\n",
      "  result = minimize(function,\n"
     ]
    },
    {
     "name": "stdout",
     "output_type": "stream",
     "text": [
      "Min. Risk = 13.434% => Return: 15.756%  Sharpe Ratio = 1.17\n",
      "Max. Sharpe Ratio = 1.29 => Return: 18.00%  Risk: 13.945%\n"
     ]
    },
    {
     "name": "stderr",
     "output_type": "stream",
     "text": [
      "/Users/nicolaiveiglinarends/Library/CloudStorage/OneDrive-UniversityofCopenhagen/DatØk3/Bachelorprojekt_repo/BachelorThesis/src/efficient_frontier.py:40: OptimizeWarning: Unknown solver options: xtol, gtol, barrier_tol\n",
      "  result = minimize(function,\n",
      "/Users/nicolaiveiglinarends/Library/CloudStorage/OneDrive-UniversityofCopenhagen/DatØk3/Bachelorprojekt_repo/BachelorThesis/src/efficient_frontier.py:113: OptimizeWarning: Unknown solver options: xtol, gtol, barrier_tol\n",
      "  result = minimize(function,\n"
     ]
    },
    {
     "name": "stdout",
     "output_type": "stream",
     "text": [
      "Min. Risk = 13.669% => Return: 14.496%  Sharpe Ratio = 1.06\n",
      "Max. Sharpe Ratio = 1.20 => Return: 17.21%  Risk: 14.314%\n"
     ]
    },
    {
     "name": "stderr",
     "output_type": "stream",
     "text": [
      "/Users/nicolaiveiglinarends/Library/CloudStorage/OneDrive-UniversityofCopenhagen/DatØk3/Bachelorprojekt_repo/BachelorThesis/src/efficient_frontier.py:40: OptimizeWarning: Unknown solver options: xtol, gtol, barrier_tol\n",
      "  result = minimize(function,\n",
      "/Users/nicolaiveiglinarends/Library/CloudStorage/OneDrive-UniversityofCopenhagen/DatØk3/Bachelorprojekt_repo/BachelorThesis/src/efficient_frontier.py:113: OptimizeWarning: Unknown solver options: xtol, gtol, barrier_tol\n",
      "  result = minimize(function,\n"
     ]
    },
    {
     "name": "stdout",
     "output_type": "stream",
     "text": [
      "Min. Risk = 14.920% => Return: 14.253%  Sharpe Ratio = 0.96\n",
      "Max. Sharpe Ratio = 1.04 => Return: 15.71%  Risk: 15.165%\n"
     ]
    }
   ],
   "source": [
    "esg_data = data.esg_score_weight(df,weights,min_esg_score) #ESG_DATA filtering function\n",
    "full_data = data.stock_monthly_close(esg_data,dates) #Gives us the data we need from the stocks with relevant ESG_scores\n",
    "prices,esgdata = data.seperate_full_data(full_data) #Gives us price data and esg data to use in future functions\n",
    "prices = prices[['MMM','AOS','ABT','ACN','ADM','ADP']]\n",
    "esgdata = esgdata[['MMM_weighted','AOS_weighted','ABT_weighted','ACN_weighted','ADM_weighted','ADP_weighted']]\n",
    "\n",
    "pct_returns = data.pct_returns_from_prices(prices) #Gives us the returns in pct for our stocks\n",
    "parameters = portfolio.rolling_window_efficient_frontier(pct_returns,Bounds, sharpe_type, Wanted_return, maximum_risk) #Different amount of rows from ESG_DATA as it drops all na. Gives us the efficient frontier for the given tie frame\n",
    "weights_of_each_portfolio = efficient_frontier.weights_of_portfolio(prices,parameters) #Gives us the weights of the individual stocks in our portfolio\n",
    "#portfolio_esg_score = portfolio.esg_score_of_portfolio(weights_of_each_portfolio,esgdata.head(1)) #gives us the ESG score of our portfolio\n",
    "#portfolio_allocations = portfolio.capital_mark_line_returns(parameters,risk_free_rate,maximum_risk)[1] #How much we allocate to our market portfolio compared to the risk-free asset\n",
    "#cmle_returns = portfolio.capital_mark_line_returns(parameters,risk_free_rate,maximum_risk)[0] #Return based on how much we allocate to the risk free asset.\n"
   ]
  },
  {
   "cell_type": "code",
   "execution_count": null,
   "metadata": {},
   "outputs": [],
   "source": [
    "#rolling_window_expected_return(returns_pct_change)\n",
    "#parameters = rolling_window_efficient_frontier(returns_pct_change)"
   ]
  },
  {
   "cell_type": "code",
   "execution_count": 48,
   "metadata": {},
   "outputs": [
    {
     "data": {
      "text/plain": [
       "array([[0.        , 0.16027935, 0.2893861 , 0.32864845, 0.13954618,\n",
       "        0.08213992]])"
      ]
     },
     "execution_count": 48,
     "metadata": {},
     "output_type": "execute_result"
    }
   ],
   "source": [
    "weights_of_each_portfolio[0:1].values"
   ]
  },
  {
   "cell_type": "code",
   "execution_count": 60,
   "metadata": {},
   "outputs": [
    {
     "name": "stdout",
     "output_type": "stream",
     "text": [
      "        MMM       AOS       ABT       ACN       ADM       ADP\n",
      "0  0.375212  0.512601  0.150536  0.163486  0.483486  0.345593\n",
      "Average return in year 2013 out-of-sample is            0\n",
      "0  27.530733 % in total \n",
      " Risk in year 2013 for the out-of-sample portfolio is 9.725684494043165\n",
      "        MMM       AOS       ABT       ACN      ADM       ADP\n",
      "0  0.278546  0.213904  0.231406  0.127256  0.31984  0.244576\n",
      "Average return in year 2014 out-of-sample is            0\n",
      "0  20.779475 % in total \n",
      " Risk in year 2014 for the out-of-sample portfolio is 9.807247893478934\n",
      "        MMM       AOS       ABT       ACN       ADM       ADP\n",
      "0 -0.068909  0.310945  0.028141  0.254235 -0.217045  0.039762\n",
      "Average return in year 2015 out-of-sample is          0\n",
      "0  11.4514 % in total \n",
      " Risk in year 2015 for the out-of-sample portfolio is 8.199988565658888\n",
      "        MMM       AOS       ABT       ACN       ADM       ADP\n",
      "0  0.190863  0.350984  0.037879  0.133629  0.292405  0.244168\n",
      "Average return in year 2016 out-of-sample is            0\n",
      "0  17.199421 % in total \n",
      " Risk in year 2016 for the out-of-sample portfolio is 13.742786717376752\n",
      "        MMM      AOS       ABT       ACN       ADM       ADP\n",
      "0  0.336792  0.26018  0.350337  0.331194 -0.099132  0.184966\n",
      "Average return in year 2017 out-of-sample is            0\n",
      "0  25.329008 % in total \n",
      " Risk in year 2017 for the out-of-sample portfolio is 20.065695059025103\n",
      "        MMM       AOS       ABT       ACN       ADM       ADP\n",
      "0 -0.268691 -0.459867  0.181344 -0.120578 -0.034655  0.086406\n",
      "Average return in year 2018 out-of-sample is          0\n",
      "0 -5.85952 % in total \n",
      " Risk in year 2018 for the out-of-sample portfolio is 16.482463953175092\n",
      "        MMM       AOS       ABT       ACN       ADM       ADP\n",
      "0 -0.109919  0.049389  0.200705  0.359455  0.061409  0.226346\n",
      "Average return in year 2019 out-of-sample is           0\n",
      "0  21.12928 % in total \n",
      " Risk in year 2019 for the out-of-sample portfolio is 20.85725247544341\n",
      "        MMM       AOS       ABT       ACN      ADM       ADP\n",
      "0  0.126625  0.300137  0.282699  0.310982  0.15891  0.068708\n",
      "Average return in year 2020 out-of-sample is            0\n",
      "0  25.993761 % in total \n",
      " Risk in year 2020 for the out-of-sample portfolio is 40.06565879814943\n",
      "        MMM       AOS       ABT       ACN       ADM       ADP\n",
      "0  0.026844  0.557774  0.159004  0.622709  0.356474  0.457082\n",
      "Average return in year 2021 out-of-sample is            0\n",
      "0  42.735508 % in total \n",
      " Risk in year 2021 for the out-of-sample portfolio is 64.38389522005076\n",
      "        MMM       AOS       ABT     ACN       ADM       ADP\n",
      "0 -0.302181 -0.250157 -0.148015 -0.2591  0.288286  0.196576\n",
      "Average return in year 2022 out-of-sample is            0\n",
      "0 -11.170536 % in total \n",
      " Risk in year 2022 for the out-of-sample portfolio is 25.945046848815846\n",
      "   MMM  AOS  ABT  ACN  ADM  ADP\n",
      "0  NaN  NaN  NaN  NaN  NaN  NaN\n",
      "Average return in year 2023 out-of-sample is     0\n",
      "0 NaN % in total \n",
      " Risk in year 2023 for the out-of-sample portfolio is nan\n",
      "   MMM  AOS  ABT  ACN  ADM  ADP\n",
      "0  NaN  NaN  NaN  NaN  NaN  NaN\n"
     ]
    },
    {
     "name": "stderr",
     "output_type": "stream",
     "text": [
      "/Users/nicolaiveiglinarends/opt/anaconda3/envs/py311/lib/python3.11/site-packages/numpy/lib/function_base.py:518: RuntimeWarning: Mean of empty slice.\n",
      "  avg = a.mean(axis, **keepdims_kw)\n",
      "/Users/nicolaiveiglinarends/opt/anaconda3/envs/py311/lib/python3.11/site-packages/numpy/core/_methods.py:184: RuntimeWarning: invalid value encountered in divide\n",
      "  ret = um.true_divide(\n",
      "/Users/nicolaiveiglinarends/opt/anaconda3/envs/py311/lib/python3.11/site-packages/pandas/core/frame.py:10474: RuntimeWarning: Degrees of freedom <= 0 for slice\n",
      "  base_cov = np.cov(mat.T, ddof=ddof)\n",
      "/Users/nicolaiveiglinarends/opt/anaconda3/envs/py311/lib/python3.11/site-packages/numpy/lib/function_base.py:2705: RuntimeWarning: divide by zero encountered in divide\n",
      "  c *= np.true_divide(1, fact)\n",
      "/Users/nicolaiveiglinarends/opt/anaconda3/envs/py311/lib/python3.11/site-packages/numpy/lib/function_base.py:2705: RuntimeWarning: invalid value encountered in multiply\n",
      "  c *= np.true_divide(1, fact)\n",
      "/Users/nicolaiveiglinarends/opt/anaconda3/envs/py311/lib/python3.11/site-packages/numpy/lib/function_base.py:518: RuntimeWarning: Mean of empty slice.\n",
      "  avg = a.mean(axis, **keepdims_kw)\n",
      "/Users/nicolaiveiglinarends/opt/anaconda3/envs/py311/lib/python3.11/site-packages/numpy/core/_methods.py:184: RuntimeWarning: invalid value encountered in divide\n",
      "  ret = um.true_divide(\n",
      "/Users/nicolaiveiglinarends/opt/anaconda3/envs/py311/lib/python3.11/site-packages/pandas/core/frame.py:10474: RuntimeWarning: Degrees of freedom <= 0 for slice\n",
      "  base_cov = np.cov(mat.T, ddof=ddof)\n",
      "/Users/nicolaiveiglinarends/opt/anaconda3/envs/py311/lib/python3.11/site-packages/numpy/lib/function_base.py:2705: RuntimeWarning: divide by zero encountered in divide\n",
      "  c *= np.true_divide(1, fact)\n",
      "/Users/nicolaiveiglinarends/opt/anaconda3/envs/py311/lib/python3.11/site-packages/numpy/lib/function_base.py:2705: RuntimeWarning: invalid value encountered in multiply\n",
      "  c *= np.true_divide(1, fact)\n"
     ]
    },
    {
     "ename": "IndexError",
     "evalue": "list index out of range",
     "output_type": "error",
     "traceback": [
      "\u001b[0;31m---------------------------------------------------------------------------\u001b[0m",
      "\u001b[0;31mIndexError\u001b[0m                                Traceback (most recent call last)",
      "Cell \u001b[0;32mIn[60], line 21\u001b[0m\n\u001b[1;32m     15\u001b[0m \u001b[39m#port_ret_out_sample = portfolio.portfolio_return(return_out_sample, weights_of_each_portfolio[window_start:window_start+1])\u001b[39;00m\n\u001b[1;32m     16\u001b[0m \u001b[39m#print(dot_product[0].iloc[0])\u001b[39;00m\n\u001b[1;32m     17\u001b[0m \u001b[39m#print(port_ret_out_sample)\u001b[39;00m\n\u001b[1;32m     18\u001b[0m variance_out_sample \u001b[39m=\u001b[39m portfolio\u001b[39m.\u001b[39mcovariance_matrix_annual(prices_out_sample)\n\u001b[0;32m---> 21\u001b[0m port_var_out_sample \u001b[39m=\u001b[39m portfolio\u001b[39m.\u001b[39mportfolio_std(variance_out_sample, weights_of_each_portfolio[window_start:window_start\u001b[39m+\u001b[39;49m\u001b[39m1\u001b[39;49m]\u001b[39m.\u001b[39;49mvalues\u001b[39m.\u001b[39;49mtolist()[\u001b[39m0\u001b[39;49m])\n\u001b[1;32m     22\u001b[0m \u001b[39mprint\u001b[39m(\u001b[39mf\u001b[39m\u001b[39m'\u001b[39m\u001b[39mAverage return in year \u001b[39m\u001b[39m{\u001b[39;00mstart_year\u001b[39m}\u001b[39;00m\u001b[39m out-of-sample is \u001b[39m\u001b[39m{\u001b[39;00mdot_product\u001b[39m*\u001b[39m\u001b[39m100\u001b[39m\u001b[39m}\u001b[39;00m\u001b[39m % in total \u001b[39m\u001b[39m\\n\u001b[39;00m\u001b[39m Risk in year \u001b[39m\u001b[39m{\u001b[39;00mstart_year\u001b[39m}\u001b[39;00m\u001b[39m for the out-of-sample portfolio is \u001b[39m\u001b[39m{\u001b[39;00mport_var_out_sample\u001b[39m}\u001b[39;00m\u001b[39m'\u001b[39m)\n\u001b[1;32m     23\u001b[0m window_start \u001b[39m+\u001b[39m\u001b[39m=\u001b[39m \u001b[39m1\u001b[39m\n",
      "\u001b[0;31mIndexError\u001b[0m: list index out of range"
     ]
    }
   ],
   "source": [
    "start_year = 2013\n",
    "window_start = 0\n",
    "window_size = 11\n",
    "for i in range(0, window_size + 1):\n",
    "    prices_out_sample = (prices)[window_start*12+120:window_start*12+132]\n",
    "    pct_returns_out_sample = data.pct_returns_from_prices(prices_out_sample)\n",
    "    return_out_sample = portfolio.mean_return_annual(pct_returns_out_sample)\n",
    "    #print(return_out_sample.index)\n",
    "    return_out_sample = pd.DataFrame(return_out_sample).T\n",
    "    #return_out_sample = pd.DataFrame(return_out_sample)\n",
    "    ahah = pd.DataFrame(return_out_sample)\n",
    "    print(ahah)\n",
    "    #print(weights_of_each_portfolio[0:1])\n",
    "    dot_product = return_out_sample @ weights_of_each_portfolio[0:1].T\n",
    "    #port_ret_out_sample = portfolio.portfolio_return(return_out_sample, weights_of_each_portfolio[window_start:window_start+1])\n",
    "    #print(dot_product[0].iloc[0])\n",
    "    #print(port_ret_out_sample)\n",
    "    variance_out_sample = portfolio.covariance_matrix_annual(prices_out_sample)\n",
    "\n",
    "\n",
    "    port_var_out_sample = portfolio.portfolio_std(variance_out_sample, weights_of_each_portfolio[window_start:window_start+1].values.tolist()[0])\n",
    "    print(f'Average return in year {start_year} out-of-sample is {dot_product*100} % in total \\n Risk in year {start_year} for the out-of-sample portfolio is {port_var_out_sample}')\n",
    "    window_start += 1\n",
    "    start_year += 1"
   ]
  },
  {
   "cell_type": "code",
   "execution_count": null,
   "metadata": {},
   "outputs": [],
   "source": []
  }
 ],
 "metadata": {
  "kernelspec": {
   "display_name": "Python 3",
   "language": "python",
   "name": "python3"
  },
  "language_info": {
   "codemirror_mode": {
    "name": "ipython",
    "version": 3
   },
   "file_extension": ".py",
   "mimetype": "text/x-python",
   "name": "python",
   "nbconvert_exporter": "python",
   "pygments_lexer": "ipython3",
   "version": "3.11.0"
  },
  "orig_nbformat": 4
 },
 "nbformat": 4,
 "nbformat_minor": 2
}
