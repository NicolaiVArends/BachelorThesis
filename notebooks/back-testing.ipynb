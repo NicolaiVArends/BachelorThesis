{
 "cells": [
  {
   "cell_type": "code",
   "execution_count": 32,
   "metadata": {},
   "outputs": [],
   "source": [
    "import pandas as pd\n",
    "from src.data import *\n",
    "from src.portfolio import *\n",
    "from src.efficient_frontier import *\n",
    "from src.plot import *\n",
    "import yfinance as yf\n",
    "from scipy.optimize import Bounds, LinearConstraint\n",
    "from pypfopt.expected_returns import mean_historical_return"
   ]
  },
  {
   "cell_type": "code",
   "execution_count": 26,
   "metadata": {},
   "outputs": [
    {
     "name": "stdout",
     "output_type": "stream",
     "text": [
      "\n",
      "1 Failed download:\n",
      "- JOBS.ST: No data found for this date range, symbol may be delisted\n",
      "\n",
      "1 Failed download:\n",
      "- GNP.OL: No data found for this date range, symbol may be delisted\n",
      "\n",
      "1 Failed download:\n",
      "- MSEIS.OL: No data found for this date range, symbol may be delisted\n"
     ]
    }
   ],
   "source": [
    "esg_data = esg_score_weight(pd.read_excel('data/ESG_DATA.xlsx'), np.array([1/3,1/3,1/3]))\n",
    "full_data = stock_monthly_close(esg_data, dates=('2003-01-01','2023-01-01'))\n",
    "prices, esg = seperate_full_data(full_data)\n",
    "#prices = currency_rates(prices)\n",
    "#prices = pd.read_csv('data/PRICES.csv')\n",
    "prices = filter_prices(prices, 0, 10)\n",
    "returns_pct_change = pct_returns_from_prices(prices)"
   ]
  },
  {
   "cell_type": "code",
   "execution_count": 34,
   "metadata": {},
   "outputs": [
    {
     "ename": "NameError",
     "evalue": "name 'portfolio_std' is not defined",
     "output_type": "error",
     "traceback": [
      "\u001b[1;31m---------------------------------------------------------------------------\u001b[0m",
      "\u001b[1;31mNameError\u001b[0m                                 Traceback (most recent call last)",
      "\u001b[1;32mc:\\Users\\toros\\OneDrive\\Dokumenter\\GitHub\\BachelorThesis\\back-testing.ipynb Cell 3\u001b[0m in \u001b[0;36m<module>\u001b[1;34m\u001b[0m\n\u001b[0;32m      <a href='vscode-notebook-cell:/c%3A/Users/toros/OneDrive/Dokumenter/GitHub/BachelorThesis/back-testing.ipynb#W1sZmlsZQ%3D%3D?line=0'>1</a>\u001b[0m rolling_window_expected_return(returns_pct_change)\n\u001b[1;32m----> <a href='vscode-notebook-cell:/c%3A/Users/toros/OneDrive/Dokumenter/GitHub/BachelorThesis/back-testing.ipynb#W1sZmlsZQ%3D%3D?line=1'>2</a>\u001b[0m parameters \u001b[39m=\u001b[39m rolling_window_efficient_frontier(returns_pct_change)\n",
      "File \u001b[1;32mc:\\Users\\toros\\OneDrive\\Dokumenter\\GitHub\\BachelorThesis\\src\\portfolio.py:53\u001b[0m, in \u001b[0;36mrolling_window_efficient_frontier\u001b[1;34m(returns, window_size)\u001b[0m\n\u001b[0;32m     51\u001b[0m     ret_port \u001b[39m=\u001b[39m mean_return_annual(sample_rolling_window)\n\u001b[0;32m     52\u001b[0m     cov_port \u001b[39m=\u001b[39m covariance_matrix_annual(sample_rolling_window)\n\u001b[1;32m---> 53\u001b[0m     parameters\u001b[39m.\u001b[39mappend(calculate_efficient_frontier(ret_port, cov_port))\n\u001b[0;32m     54\u001b[0m \u001b[39mreturn\u001b[39;00m parameters\n",
      "File \u001b[1;32mc:\\Users\\toros\\OneDrive\\Dokumenter\\GitHub\\BachelorThesis\\src\\efficient_frontier.py:74\u001b[0m, in \u001b[0;36mcalculate_efficient_frontier\u001b[1;34m(ret_port, cov_port)\u001b[0m\n\u001b[0;32m     71\u001b[0m x0 \u001b[39m=\u001b[39m w0\u001b[39m/\u001b[39mnp\u001b[39m.\u001b[39msum(w0)\n\u001b[0;32m     73\u001b[0m \u001b[39m#These are the weights of the assets in the portfolio with the lowest level of risk possible.\u001b[39;00m\n\u001b[1;32m---> 74\u001b[0m w_minr \u001b[39m=\u001b[39m minimize_risk(cov_port, x0)\n\u001b[0;32m     75\u001b[0m opt_risk_ret \u001b[39m=\u001b[39m portfolio_return(ret_port, w_minr)\n\u001b[0;32m     76\u001b[0m opt_risk_vol \u001b[39m=\u001b[39m portfolio_std(cov_port, w_minr)\n",
      "File \u001b[1;32mc:\\Users\\toros\\OneDrive\\Dokumenter\\GitHub\\BachelorThesis\\src\\efficient_frontier.py:39\u001b[0m, in \u001b[0;36mminimize_risk\u001b[1;34m(port_covariance, x0)\u001b[0m\n\u001b[0;32m     37\u001b[0m constraint \u001b[39m=\u001b[39m LinearConstraint(np\u001b[39m.\u001b[39mones((port_covariance\u001b[39m.\u001b[39mshape[\u001b[39m1\u001b[39m],), dtype\u001b[39m=\u001b[39m\u001b[39mint\u001b[39m),\u001b[39m1\u001b[39m,\u001b[39m1\u001b[39m)\n\u001b[0;32m     38\u001b[0m options \u001b[39m=\u001b[39m {\u001b[39m'\u001b[39m\u001b[39mxtol\u001b[39m\u001b[39m'\u001b[39m: \u001b[39m1e-07\u001b[39m, \u001b[39m'\u001b[39m\u001b[39mgtol\u001b[39m\u001b[39m'\u001b[39m: \u001b[39m1e-07\u001b[39m, \u001b[39m'\u001b[39m\u001b[39mbarrier_tol\u001b[39m\u001b[39m'\u001b[39m: \u001b[39m1e-07\u001b[39m, \u001b[39m'\u001b[39m\u001b[39mmaxiter\u001b[39m\u001b[39m'\u001b[39m: \u001b[39m1000\u001b[39m}\n\u001b[1;32m---> 39\u001b[0m result \u001b[39m=\u001b[39m minimize(function, \n\u001b[0;32m     40\u001b[0m                   x0,\n\u001b[0;32m     41\u001b[0m                   method\u001b[39m=\u001b[39;49m\u001b[39m'\u001b[39;49m\u001b[39mSLSQP\u001b[39;49m\u001b[39m'\u001b[39;49m, \n\u001b[0;32m     42\u001b[0m                   bounds\u001b[39m=\u001b[39;49mbounds, \n\u001b[0;32m     43\u001b[0m                   constraints\u001b[39m=\u001b[39;49mconstraint, \n\u001b[0;32m     44\u001b[0m                   options\u001b[39m=\u001b[39;49moptions)\n\u001b[0;32m     46\u001b[0m \u001b[39mreturn\u001b[39;00m result\u001b[39m.\u001b[39mx\n",
      "File \u001b[1;32mc:\\Users\\toros\\AppData\\Local\\Programs\\Python\\Python39\\lib\\site-packages\\scipy\\optimize\\_minimize.py:631\u001b[0m, in \u001b[0;36mminimize\u001b[1;34m(fun, x0, args, method, jac, hess, hessp, bounds, constraints, tol, callback, options)\u001b[0m\n\u001b[0;32m    629\u001b[0m     \u001b[39mreturn\u001b[39;00m _minimize_cobyla(fun, x0, args, constraints, \u001b[39m*\u001b[39m\u001b[39m*\u001b[39moptions)\n\u001b[0;32m    630\u001b[0m \u001b[39melif\u001b[39;00m meth \u001b[39m==\u001b[39m \u001b[39m'\u001b[39m\u001b[39mslsqp\u001b[39m\u001b[39m'\u001b[39m:\n\u001b[1;32m--> 631\u001b[0m     \u001b[39mreturn\u001b[39;00m _minimize_slsqp(fun, x0, args, jac, bounds,\n\u001b[0;32m    632\u001b[0m                            constraints, callback\u001b[39m=\u001b[39mcallback, \u001b[39m*\u001b[39m\u001b[39m*\u001b[39moptions)\n\u001b[0;32m    633\u001b[0m \u001b[39melif\u001b[39;00m meth \u001b[39m==\u001b[39m \u001b[39m'\u001b[39m\u001b[39mtrust-constr\u001b[39m\u001b[39m'\u001b[39m:\n\u001b[0;32m    634\u001b[0m     \u001b[39mreturn\u001b[39;00m _minimize_trustregion_constr(fun, x0, args, jac, hess, hessp,\n\u001b[0;32m    635\u001b[0m                                         bounds, constraints,\n\u001b[0;32m    636\u001b[0m                                         callback\u001b[39m=\u001b[39mcallback, \u001b[39m*\u001b[39m\u001b[39m*\u001b[39moptions)\n",
      "File \u001b[1;32mc:\\Users\\toros\\AppData\\Local\\Programs\\Python\\Python39\\lib\\site-packages\\scipy\\optimize\\slsqp.py:375\u001b[0m, in \u001b[0;36m_minimize_slsqp\u001b[1;34m(func, x0, args, jac, bounds, constraints, maxiter, ftol, iprint, disp, eps, callback, finite_diff_rel_step, **unknown_options)\u001b[0m\n\u001b[0;32m    372\u001b[0m     xu[infbnd[:, \u001b[39m1\u001b[39m]] \u001b[39m=\u001b[39m np\u001b[39m.\u001b[39mnan\n\u001b[0;32m    374\u001b[0m \u001b[39m# ScalarFunction provides function and gradient evaluation\u001b[39;00m\n\u001b[1;32m--> 375\u001b[0m sf \u001b[39m=\u001b[39m _prepare_scalar_function(func, x, jac\u001b[39m=\u001b[39;49mjac, args\u001b[39m=\u001b[39;49margs, epsilon\u001b[39m=\u001b[39;49meps,\n\u001b[0;32m    376\u001b[0m                               finite_diff_rel_step\u001b[39m=\u001b[39;49mfinite_diff_rel_step,\n\u001b[0;32m    377\u001b[0m                               bounds\u001b[39m=\u001b[39;49mnew_bounds)\n\u001b[0;32m    378\u001b[0m \u001b[39m# gh11403 SLSQP sometimes exceeds bounds by 1 or 2 ULP, make sure this\u001b[39;00m\n\u001b[0;32m    379\u001b[0m \u001b[39m# doesn't get sent to the func/grad evaluator.\u001b[39;00m\n\u001b[0;32m    380\u001b[0m wrapped_fun \u001b[39m=\u001b[39m _clip_x_for_func(sf\u001b[39m.\u001b[39mfun, new_bounds)\n",
      "File \u001b[1;32mc:\\Users\\toros\\AppData\\Local\\Programs\\Python\\Python39\\lib\\site-packages\\scipy\\optimize\\optimize.py:261\u001b[0m, in \u001b[0;36m_prepare_scalar_function\u001b[1;34m(fun, x0, jac, args, bounds, epsilon, finite_diff_rel_step, hess)\u001b[0m\n\u001b[0;32m    257\u001b[0m     bounds \u001b[39m=\u001b[39m (\u001b[39m-\u001b[39mnp\u001b[39m.\u001b[39minf, np\u001b[39m.\u001b[39minf)\n\u001b[0;32m    259\u001b[0m \u001b[39m# ScalarFunction caches. Reuse of fun(x) during grad\u001b[39;00m\n\u001b[0;32m    260\u001b[0m \u001b[39m# calculation reduces overall function evaluations.\u001b[39;00m\n\u001b[1;32m--> 261\u001b[0m sf \u001b[39m=\u001b[39m ScalarFunction(fun, x0, args, grad, hess,\n\u001b[0;32m    262\u001b[0m                     finite_diff_rel_step, bounds, epsilon\u001b[39m=\u001b[39;49mepsilon)\n\u001b[0;32m    264\u001b[0m \u001b[39mreturn\u001b[39;00m sf\n",
      "File \u001b[1;32mc:\\Users\\toros\\AppData\\Local\\Programs\\Python\\Python39\\lib\\site-packages\\scipy\\optimize\\_differentiable_functions.py:140\u001b[0m, in \u001b[0;36mScalarFunction.__init__\u001b[1;34m(self, fun, x0, args, grad, hess, finite_diff_rel_step, finite_diff_bounds, epsilon)\u001b[0m\n\u001b[0;32m    137\u001b[0m     \u001b[39mself\u001b[39m\u001b[39m.\u001b[39mf \u001b[39m=\u001b[39m fun_wrapped(\u001b[39mself\u001b[39m\u001b[39m.\u001b[39mx)\n\u001b[0;32m    139\u001b[0m \u001b[39mself\u001b[39m\u001b[39m.\u001b[39m_update_fun_impl \u001b[39m=\u001b[39m update_fun\n\u001b[1;32m--> 140\u001b[0m \u001b[39mself\u001b[39;49m\u001b[39m.\u001b[39;49m_update_fun()\n\u001b[0;32m    142\u001b[0m \u001b[39m# Gradient evaluation\u001b[39;00m\n\u001b[0;32m    143\u001b[0m \u001b[39mif\u001b[39;00m callable(grad):\n",
      "File \u001b[1;32mc:\\Users\\toros\\AppData\\Local\\Programs\\Python\\Python39\\lib\\site-packages\\scipy\\optimize\\_differentiable_functions.py:233\u001b[0m, in \u001b[0;36mScalarFunction._update_fun\u001b[1;34m(self)\u001b[0m\n\u001b[0;32m    231\u001b[0m \u001b[39mdef\u001b[39;00m \u001b[39m_update_fun\u001b[39m(\u001b[39mself\u001b[39m):\n\u001b[0;32m    232\u001b[0m     \u001b[39mif\u001b[39;00m \u001b[39mnot\u001b[39;00m \u001b[39mself\u001b[39m\u001b[39m.\u001b[39mf_updated:\n\u001b[1;32m--> 233\u001b[0m         \u001b[39mself\u001b[39;49m\u001b[39m.\u001b[39;49m_update_fun_impl()\n\u001b[0;32m    234\u001b[0m         \u001b[39mself\u001b[39m\u001b[39m.\u001b[39mf_updated \u001b[39m=\u001b[39m \u001b[39mTrue\u001b[39;00m\n",
      "File \u001b[1;32mc:\\Users\\toros\\AppData\\Local\\Programs\\Python\\Python39\\lib\\site-packages\\scipy\\optimize\\_differentiable_functions.py:137\u001b[0m, in \u001b[0;36mScalarFunction.__init__.<locals>.update_fun\u001b[1;34m()\u001b[0m\n\u001b[0;32m    136\u001b[0m \u001b[39mdef\u001b[39;00m \u001b[39mupdate_fun\u001b[39m():\n\u001b[1;32m--> 137\u001b[0m     \u001b[39mself\u001b[39m\u001b[39m.\u001b[39mf \u001b[39m=\u001b[39m fun_wrapped(\u001b[39mself\u001b[39;49m\u001b[39m.\u001b[39;49mx)\n",
      "File \u001b[1;32mc:\\Users\\toros\\AppData\\Local\\Programs\\Python\\Python39\\lib\\site-packages\\scipy\\optimize\\_differentiable_functions.py:134\u001b[0m, in \u001b[0;36mScalarFunction.__init__.<locals>.fun_wrapped\u001b[1;34m(x)\u001b[0m\n\u001b[0;32m    130\u001b[0m \u001b[39mself\u001b[39m\u001b[39m.\u001b[39mnfev \u001b[39m+\u001b[39m\u001b[39m=\u001b[39m \u001b[39m1\u001b[39m\n\u001b[0;32m    131\u001b[0m \u001b[39m# Send a copy because the user may overwrite it.\u001b[39;00m\n\u001b[0;32m    132\u001b[0m \u001b[39m# Overwriting results in undefined behaviour because\u001b[39;00m\n\u001b[0;32m    133\u001b[0m \u001b[39m# fun(self.x) will change self.x, with the two no longer linked.\u001b[39;00m\n\u001b[1;32m--> 134\u001b[0m \u001b[39mreturn\u001b[39;00m fun(np\u001b[39m.\u001b[39;49mcopy(x), \u001b[39m*\u001b[39;49margs)\n",
      "File \u001b[1;32mc:\\Users\\toros\\OneDrive\\Dokumenter\\GitHub\\BachelorThesis\\src\\efficient_frontier.py:35\u001b[0m, in \u001b[0;36mminimize_risk.<locals>.<lambda>\u001b[1;34m(weight)\u001b[0m\n\u001b[0;32m     22\u001b[0m \u001b[39mdef\u001b[39;00m \u001b[39mminimize_risk\u001b[39m(port_covariance,\n\u001b[0;32m     23\u001b[0m                   x0):\n\u001b[0;32m     24\u001b[0m     \u001b[39m\"\"\"\u001b[39;00m\n\u001b[0;32m     25\u001b[0m \u001b[39m    Function that will take different inputs including esg score data and compute the minimum risk of different portfolios \u001b[39;00m\n\u001b[0;32m     26\u001b[0m \u001b[39m    :param: A dataframe of the portfolio covariance matrix\u001b[39;00m\n\u001b[1;32m   (...)\u001b[0m\n\u001b[0;32m     33\u001b[0m \u001b[39m    :returns: A dataframe containing portfolio weight choice for minimizing portfolio risk using esg scores\u001b[39;00m\n\u001b[0;32m     34\u001b[0m \u001b[39m    \"\"\"\u001b[39;00m\n\u001b[1;32m---> 35\u001b[0m     function \u001b[39m=\u001b[39m \u001b[39mlambda\u001b[39;00m weight: portfolio_std(port_covariance, weights\u001b[39m=\u001b[39mweight)\n\u001b[0;32m     36\u001b[0m     bounds \u001b[39m=\u001b[39m Bounds(\u001b[39m-\u001b[39m\u001b[39m2\u001b[39m, \u001b[39m5\u001b[39m)\n\u001b[0;32m     37\u001b[0m     constraint \u001b[39m=\u001b[39m LinearConstraint(np\u001b[39m.\u001b[39mones((port_covariance\u001b[39m.\u001b[39mshape[\u001b[39m1\u001b[39m],), dtype\u001b[39m=\u001b[39m\u001b[39mint\u001b[39m),\u001b[39m1\u001b[39m,\u001b[39m1\u001b[39m)\n",
      "\u001b[1;31mNameError\u001b[0m: name 'portfolio_std' is not defined"
     ]
    }
   ],
   "source": [
    "\n",
    "\n",
    "rolling_window_expected_return(returns_pct_change)\n",
    "parameters = rolling_window_efficient_frontier(returns_pct_change)"
   ]
  },
  {
   "cell_type": "code",
   "execution_count": null,
   "metadata": {},
   "outputs": [],
   "source": []
  }
 ],
 "metadata": {
  "kernelspec": {
   "display_name": "Python 3",
   "language": "python",
   "name": "python3"
  },
  "language_info": {
   "codemirror_mode": {
    "name": "ipython",
    "version": 3
   },
   "file_extension": ".py",
   "mimetype": "text/x-python",
   "name": "python",
   "nbconvert_exporter": "python",
   "pygments_lexer": "ipython3",
   "version": "3.9.7"
  },
  "orig_nbformat": 4
 },
 "nbformat": 4,
 "nbformat_minor": 2
}
