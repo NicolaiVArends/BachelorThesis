{
 "cells": [
  {
   "cell_type": "code",
   "execution_count": 1,
   "metadata": {},
   "outputs": [],
   "source": [
    "import os\n",
    "import sys\n",
    "%matplotlib inline\n",
    "\n",
    "import numpy as np\n",
    "import pandas as pd\n",
    "import ipywidgets\n",
    "from scipy.optimize import Bounds\n",
    "module_path = os.path.abspath(os.path.join('..'))\n",
    "if module_path not in sys.path:\n",
    "    sys.path.append(module_path)\n",
    "from src import data\n",
    "from src import efficient_frontier\n",
    "from src import plot\n",
    "from src import portfolio\n",
    "from src import capm\n",
    "from src import backtesting\n",
    "import numpy as np\n",
    "import pandas as pd\n",
    "import ipywidgets\n",
    "from scipy.optimize import Bounds\n",
    "import datetime\n",
    "from dateutil import rrule\n",
    "import yfinance as yf\n",
    "import warnings\n",
    "\n",
    "import warnings\n",
    "warnings.filterwarnings('ignore')"
   ]
  },
  {
   "cell_type": "code",
   "execution_count": 2,
   "metadata": {},
   "outputs": [],
   "source": [
    "\n",
    "\"Weights is how you want to weigh the Enviromental, Social, and Governance score, they have to sum to one\"\n",
    "weights = np.array([0,0,1])\n",
    "\n",
    "\"The minimum ESG score is the lowest score a company can have for it to be included in your portfolio\"\n",
    "min_esg_score = 800\n",
    "\n",
    "\"The maximum ESG score is the highest ESG score a company can have for it to be included in your portfolio\"\n",
    "max_esg_score = 1000\n",
    "\n",
    "\"This is the ESG data for the companies you want included in the portfolio optimization\"\n",
    "df = pd.read_excel('../data/ESG_DATA_S&P500.xlsx')\n",
    "\n",
    "\"The bounds are how willing to go short or long in one stock\"\n",
    "Bounds1 = Bounds(-0.5,1.5) \n",
    "\n",
    "\"Wanted return is used if you want to optimize on a perticular return\"\n",
    "Wanted_return = 0.05\n",
    "\n",
    "\"Maximum risk is either used when optimizing using risk as a constraint or when creating a cml portfolio\"\n",
    "maximum_risk = 0.02\n",
    "\n",
    "\"What optimization type you want to use: 'No_extra_constraint' you only optimize based on sharpe ratio\",\n",
    "\"'Maximum_risk' you constrain the optimizer on a certain risk level\",\n",
    "\"'Wanted_return' you constrain the optimizer on a certain return level\"\n",
    "\"'No_extra_constraint' you only constrain on optimizing on max sharp ration\"\n",
    "sharpe_type = \"No_extra_constraint\" \n",
    "\n",
    "\"What you beleive your risk free rate to be\"\n",
    "risk_free_rate = 0.01\n",
    "\n",
    "\"If you want to rebalance with a monthly or yearly frequency\"\n",
    "rebalancing_freq = 'monthly'\n",
    "\n"
   ]
  },
  {
   "cell_type": "code",
   "execution_count": 3,
   "metadata": {},
   "outputs": [],
   "source": [
    "strategy1 = {'df': df,\n",
    " 'weights': weights,\n",
    " 'min_esg_score': min_esg_score,\n",
    " 'max_esg_score': max_esg_score,\n",
    " 'bounds': Bounds1,\n",
    " 'sharpe_type': sharpe_type,\n",
    " 'wanted_return': Wanted_return,\n",
    " 'maximum_risk': maximum_risk,\n",
    " 'rebalancing_freq': rebalancing_freq,\n",
    " 'risk_free_rate': risk_free_rate}\n"
   ]
  },
  {
   "cell_type": "code",
   "execution_count": 4,
   "metadata": {},
   "outputs": [
    {
     "name": "stderr",
     "output_type": "stream",
     "text": [
      "c:\\Users\\Tor Osted\\OneDrive\\Dokumenter\\GitHub\\BachelorThesis\\src\\backtesting.py:82: FutureWarning: Indexing a timezone-aware DatetimeIndex with a timezone-naive datetime is deprecated and will raise KeyError in a future version. Use a timezone-aware object instead.\n",
      "  pct = data.pct_returns_from_prices(stock_data)[start_date-covariance_window_time_delta:end_date+relativedelta(years=rebalancing_freq+1)]\n",
      "c:\\Users\\Tor Osted\\OneDrive\\Dokumenter\\GitHub\\BachelorThesis\\src\\backtesting.py:203: FutureWarning: Indexing a timezone-aware DatetimeIndex with a timezone-naive datetime is deprecated and will raise KeyError in a future version. Use a timezone-aware object instead.\n",
      "  betas_of_portfolios.append(capm.calculate_portfolio_beta(pct[start_date-covariance_window_time_delta:start_date],prices[start_date-covariance_window_time_delta:start_date],list_of_port_weights[i],market_name))\n",
      "c:\\Users\\Tor Osted\\OneDrive\\Dokumenter\\GitHub\\BachelorThesis\\src\\backtesting.py:207: FutureWarning: Indexing a timezone-aware DatetimeIndex with a timezone-naive datetime is deprecated and will raise KeyError in a future version. Use a timezone-aware object instead.\n",
      "  list_of_portfolio_actual_returns.append((portfolio.portfolio_return(prices.loc[start_date+delta],list_of_port_weights[i])\n",
      "c:\\Users\\Tor Osted\\OneDrive\\Dokumenter\\GitHub\\BachelorThesis\\src\\backtesting.py:208: FutureWarning: Indexing a timezone-aware DatetimeIndex with a timezone-naive datetime is deprecated and will raise KeyError in a future version. Use a timezone-aware object instead.\n",
      "  -portfolio.portfolio_return(prices.loc[start_date],list_of_port_weights[i]))/portfolio.portfolio_return(prices.loc[start_date],list_of_port_weights[i]))\n",
      "c:\\Users\\Tor Osted\\OneDrive\\Dokumenter\\GitHub\\BachelorThesis\\src\\backtesting.py:212: FutureWarning: Indexing a timezone-aware DatetimeIndex with a timezone-naive datetime is deprecated and will raise KeyError in a future version. Use a timezone-aware object instead.\n",
      "  list_of_pct_returns_sp500.append((stock_data_download.loc[start_date+delta][0]-stock_data_download.loc[start_date][0])/stock_data_download.loc[start_date][0])#List of how large a percentage you would have made investing everything in the market\n"
     ]
    },
    {
     "name": "stdout",
     "output_type": "stream",
     "text": [
      "Expected return on investment is 0.9808261105089301%\n",
      "Has calculated portfolio 1\n"
     ]
    },
    {
     "name": "stderr",
     "output_type": "stream",
     "text": [
      "c:\\Users\\Tor Osted\\OneDrive\\Dokumenter\\GitHub\\BachelorThesis\\src\\backtesting.py:203: FutureWarning: Indexing a timezone-aware DatetimeIndex with a timezone-naive datetime is deprecated and will raise KeyError in a future version. Use a timezone-aware object instead.\n",
      "  betas_of_portfolios.append(capm.calculate_portfolio_beta(pct[start_date-covariance_window_time_delta:start_date],prices[start_date-covariance_window_time_delta:start_date],list_of_port_weights[i],market_name))\n",
      "c:\\Users\\Tor Osted\\OneDrive\\Dokumenter\\GitHub\\BachelorThesis\\src\\backtesting.py:207: FutureWarning: Indexing a timezone-aware DatetimeIndex with a timezone-naive datetime is deprecated and will raise KeyError in a future version. Use a timezone-aware object instead.\n",
      "  list_of_portfolio_actual_returns.append((portfolio.portfolio_return(prices.loc[start_date+delta],list_of_port_weights[i])\n",
      "c:\\Users\\Tor Osted\\OneDrive\\Dokumenter\\GitHub\\BachelorThesis\\src\\backtesting.py:208: FutureWarning: Indexing a timezone-aware DatetimeIndex with a timezone-naive datetime is deprecated and will raise KeyError in a future version. Use a timezone-aware object instead.\n",
      "  -portfolio.portfolio_return(prices.loc[start_date],list_of_port_weights[i]))/portfolio.portfolio_return(prices.loc[start_date],list_of_port_weights[i]))\n",
      "c:\\Users\\Tor Osted\\OneDrive\\Dokumenter\\GitHub\\BachelorThesis\\src\\backtesting.py:212: FutureWarning: Indexing a timezone-aware DatetimeIndex with a timezone-naive datetime is deprecated and will raise KeyError in a future version. Use a timezone-aware object instead.\n",
      "  list_of_pct_returns_sp500.append((stock_data_download.loc[start_date+delta][0]-stock_data_download.loc[start_date][0])/stock_data_download.loc[start_date][0])#List of how large a percentage you would have made investing everything in the market\n"
     ]
    },
    {
     "name": "stdout",
     "output_type": "stream",
     "text": [
      "Expected return on investment is 0.9564902236114347%\n",
      "Has calculated portfolio 2\n"
     ]
    },
    {
     "name": "stderr",
     "output_type": "stream",
     "text": [
      "c:\\Users\\Tor Osted\\AppData\\Local\\Programs\\Python\\Python310\\lib\\site-packages\\scipy\\optimize\\_optimize.py:353: RuntimeWarning: Values in x were outside bounds during a minimize step, clipping to bounds\n",
      "  warnings.warn(\"Values in x were outside bounds during a \"\n"
     ]
    }
   ],
   "source": [
    "\"First input is your investment strategy,\",\n",
    "\"Second input is whether you are doing monthly or yearly rebalancing\",\n",
    "\"Third input is the amount of months or years between each rebalancing\",\n",
    "\"Fourth input is the first date of your rebalancing, should always be the first of the month, the format is 'YYYY-MM-DD\",\n",
    "\"Fifth input is the amount of months you want to have the covariance window be\",\n",
    "\"Sixth input is the amount of years you want the covariance window to be\",\n",
    "\"Seventh input is the market that you want to benchmark your portfolio on\"\n",
    "\n",
    "data5 = backtesting.backtesting(strategy1,\n",
    "                                'monthly',\n",
    "                                6,\n",
    "                                '2015-01-01',\n",
    "                                '2022-01-01',\n",
    "                                0,\n",
    "                                10,\n",
    "                                '^GSPC')\n"
   ]
  },
  {
   "cell_type": "code",
   "execution_count": null,
   "metadata": {},
   "outputs": [],
   "source": [
    "print('amount of stocks in portfolio',data5['portfolio_weights'][0].size)"
   ]
  },
  {
   "cell_type": "code",
   "execution_count": null,
   "metadata": {},
   "outputs": [],
   "source": [
    "plot.plot_efficient_frontier(data5['portfolio_parameters'][-1],2016,2022,risk_free_rate,False,True)\n"
   ]
  },
  {
   "cell_type": "code",
   "execution_count": null,
   "metadata": {},
   "outputs": [],
   "source": [
    "\n",
    "plot.plot_efficient_frontier_cml(data5['portfolio_parameters'][-1],2016,2022,risk_free_rate,True,maximum_risk)"
   ]
  },
  {
   "cell_type": "code",
   "execution_count": null,
   "metadata": {},
   "outputs": [],
   "source": [
    "plot.plot_portfolio_betas(data5['return_dates'], data5['betas_of_portfolios'])\n"
   ]
  },
  {
   "cell_type": "code",
   "execution_count": null,
   "metadata": {},
   "outputs": [],
   "source": [
    "plot.plot_portfolio_esg_scores(data5['return_dates'],data5['portfolio_esg_scores'])"
   ]
  },
  {
   "cell_type": "code",
   "execution_count": null,
   "metadata": {},
   "outputs": [],
   "source": [
    "\"Our portfolio returns compared to the market returns for each recalibration\",\n",
    "\n",
    "\"First parameter is the portfolio date\",\n",
    "\n",
    "\"Second parameter is the portfolio returns\",\n",
    "\"change to data5['portfolio_actual_returns_cmle'] if you want cml returns and data5['portfolio_actual_returns'] if you want normal portfolio returns\",\n",
    "\n",
    "\"Third parameter is the market returns\"\n",
    "\n",
    "\n",
    "plot.compare_returns1(data5['return_dates'],\n",
    "                      np.concatenate(data5['portfolio_actual_returns']),\n",
    "                      data5['pct_returns_sp500'])\n"
   ]
  },
  {
   "cell_type": "code",
   "execution_count": null,
   "metadata": {},
   "outputs": [],
   "source": [
    "#Data[10] is the cml returns\n",
    "\"Our portfolio cumulative returns compared to the market returns for each recalibration\",\n",
    "\"First parameter is portfolio dates\",\n",
    "\"Second parameter is the cumulative portfolio returns\"\n",
    "\"Change data5['cumulative_portfolio_return_list'] to data5['cumulative_cml_return_list'] if you want to change to cml\"\n",
    "\"third parameter is cumulative market returns\"\n",
    "plot.compare_cumulative_returns(data5['return_dates'],\n",
    "                                np.concatenate(data5['cumulative_portfolio_return_list']),\n",
    "                                data5['cumulative_market_return_list'])\n",
    "\n"
   ]
  }
 ],
 "metadata": {
  "kernelspec": {
   "display_name": "Python 3",
   "language": "python",
   "name": "python3"
  },
  "language_info": {
   "codemirror_mode": {
    "name": "ipython",
    "version": 3
   },
   "file_extension": ".py",
   "mimetype": "text/x-python",
   "name": "python",
   "nbconvert_exporter": "python",
   "pygments_lexer": "ipython3",
   "version": "3.10.4"
  },
  "orig_nbformat": 4
 },
 "nbformat": 4,
 "nbformat_minor": 2
}
