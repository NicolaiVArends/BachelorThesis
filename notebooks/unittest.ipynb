{
 "cells": [
  {
   "cell_type": "code",
   "execution_count": 1,
   "metadata": {},
   "outputs": [
    {
     "name": "stdout",
     "output_type": "stream",
     "text": [
      "Using matplotlib backend: TkAgg\n",
      "%pylab is deprecated, use %matplotlib inline and import the required libraries.\n",
      "Populating the interactive namespace from numpy and matplotlib\n",
      "Using matplotlib backend: TkAgg\n",
      "%pylab is deprecated, use %matplotlib inline and import the required libraries.\n",
      "Populating the interactive namespace from numpy and matplotlib\n"
     ]
    }
   ],
   "source": [
    "import os\n",
    "import sys\n",
    "%pylab\n",
    "\n",
    "import numpy as np\n",
    "import pandas as pd\n",
    "import ipywidgets\n",
    "from scipy.optimize import Bounds\n",
    "module_path = os.path.abspath(os.path.join('..'))\n",
    "if module_path not in sys.path:\n",
    "    sys.path.append(module_path)\n",
    "    %pylab\n",
    "from src import data\n",
    "\n",
    "from src import efficient_frontier\n",
    "from src import filter_assets\n",
    "from src import plot\n",
    "from src import portfolio\n",
    "import numpy as np\n",
    "import pandas as pd\n",
    "import ipywidgets\n",
    "from scipy.optimize import Bounds"
   ]
  },
  {
   "cell_type": "code",
   "execution_count": 2,
   "metadata": {},
   "outputs": [],
   "source": [
    "weights = np.array([1/3,1/3,1/3])\n",
    "min_esg_score = 0\n",
    "max_esg_score = 2000\n",
    "df = pd.read_excel(r\"C:\\Users\\toros\\OneDrive\\Dokumenter\\GitHub\\BachelorThesis\\data\\ESG_DATA_S&P500.xlsx\")\n",
    "dates = ['2013-04-01','2014-03-01']\n",
    "start_year = dates[0]\n",
    "end_year = dates[1]\n",
    "\n",
    "Bounds = Bounds(-1,2) #How willing we are to go short and to invest in one particular stock\n",
    "Wanted_return = 0.20 #Only used when using the wanted_return constraint\n",
    "maximum_risk = 0.10 #Either used when using maximum risk constraint or cmle portfolio\n",
    "sharpe_type = \"No_extra_constraint\"  # rename to constraint, can be either Wanted_return or Maximum_risk or No_extra_constraint\n",
    "risk_free_rate = 0.01\n"
   ]
  },
  {
   "cell_type": "code",
   "execution_count": 3,
   "metadata": {},
   "outputs": [
    {
     "name": "stdout",
     "output_type": "stream",
     "text": [
      "\n",
      "1 Failed download:\n",
      "- ANET: Data doesn't exist for startDate = 1364788800, endDate = 1393650000\n",
      "\n",
      "1 Failed download:\n",
      "- CFG: Data doesn't exist for startDate = 1364788800, endDate = 1393650000\n",
      "\n",
      "1 Failed download:\n",
      "- CTLT: Data doesn't exist for startDate = 1364788800, endDate = 1393650000\n",
      "\n",
      "1 Failed download:\n",
      "- CARR: Data doesn't exist for startDate = 1364788800, endDate = 1393650000\n",
      "\n",
      "1 Failed download:\n",
      "- CTVA: Data doesn't exist for startDate = 1364788800, endDate = 1393650000\n",
      "\n",
      "1 Failed download:\n",
      "- FOX: Data doesn't exist for startDate = 1364788800, endDate = 1393650000\n",
      "\n",
      "1 Failed download:\n",
      "- FTV: Data doesn't exist for startDate = 1364788800, endDate = 1393650000\n",
      "\n",
      "1 Failed download:\n",
      "- ETSY: Data doesn't exist for startDate = 1364788800, endDate = 1393650000\n",
      "\n",
      "1 Failed download:\n",
      "- HWM: Data doesn't exist for startDate = 1364788800, endDate = 1393650000\n",
      "\n",
      "1 Failed download:\n",
      "- HPE: Data doesn't exist for startDate = 1364788800, endDate = 1393650000\n",
      "\n",
      "1 Failed download:\n",
      "- GEC: No data found for this date range, symbol may be delisted\n",
      "\n",
      "1 Failed download:\n",
      "- INVH: Data doesn't exist for startDate = 1364788800, endDate = 1393650000\n",
      "\n",
      "1 Failed download:\n",
      "- KEYS: Data doesn't exist for startDate = 1364788800, endDate = 1393650000\n",
      "\n",
      "1 Failed download:\n",
      "- LW: Data doesn't exist for startDate = 1364788800, endDate = 1393650000\n",
      "\n",
      "1 Failed download:\n",
      "- MRNA: Data doesn't exist for startDate = 1364788800, endDate = 1393650000\n",
      "\n",
      "1 Failed download:\n",
      "- OGN: Data doesn't exist for startDate = 1364788800, endDate = 1393650000\n",
      "\n",
      "1 Failed download:\n",
      "- PAYC: Data doesn't exist for startDate = 1364788800, endDate = 1393650000\n",
      "\n",
      "1 Failed download:\n",
      "- PYPL: Data doesn't exist for startDate = 1364788800, endDate = 1393650000\n",
      "\n",
      "1 Failed download:\n",
      "- QRVO: Data doesn't exist for startDate = 1364788800, endDate = 1393650000\n",
      "\n",
      "1 Failed download:\n",
      "- SYF: Data doesn't exist for startDate = 1364788800, endDate = 1393650000\n",
      "\n",
      "1 Failed download:\n",
      "- KHC: Data doesn't exist for startDate = 1364788800, endDate = 1393650000\n",
      "\n",
      "1 Failed download:\n",
      "- UA: Data doesn't exist for startDate = 1364788800, endDate = 1393650000\n",
      "\n",
      "1 Failed download:\n",
      "- WRK: Data doesn't exist for startDate = 1364788800, endDate = 1393650000\n"
     ]
    }
   ],
   "source": [
    "esg_data = data.esg_score_weight(df,weights,min_esg_score,max_esg_score) #ESG_DATA filtering function\n",
    "full_data = data.stock_monthly_close(esg_data,dates) #Gives us the data we need from the stocks with relevant ESG_scores\n",
    "prices,esgdata = data.seperate_full_data(full_data)\n",
    "prices = prices[['MMM','AOS','ABT']]\n"
   ]
  },
  {
   "cell_type": "code",
   "execution_count": 4,
   "metadata": {},
   "outputs": [
    {
     "data": {
      "text/html": [
       "<div>\n",
       "<style scoped>\n",
       "    .dataframe tbody tr th:only-of-type {\n",
       "        vertical-align: middle;\n",
       "    }\n",
       "\n",
       "    .dataframe tbody tr th {\n",
       "        vertical-align: top;\n",
       "    }\n",
       "\n",
       "    .dataframe thead th {\n",
       "        text-align: right;\n",
       "    }\n",
       "</style>\n",
       "<table border=\"1\" class=\"dataframe\">\n",
       "  <thead>\n",
       "    <tr style=\"text-align: right;\">\n",
       "      <th></th>\n",
       "      <th>0</th>\n",
       "      <th>1</th>\n",
       "      <th>2</th>\n",
       "    </tr>\n",
       "  </thead>\n",
       "  <tbody>\n",
       "    <tr>\n",
       "      <th>0</th>\n",
       "      <td>104.709999</td>\n",
       "      <td>18.857500</td>\n",
       "      <td>36.919998</td>\n",
       "    </tr>\n",
       "    <tr>\n",
       "      <th>1</th>\n",
       "      <td>110.269997</td>\n",
       "      <td>19.600000</td>\n",
       "      <td>36.669998</td>\n",
       "    </tr>\n",
       "    <tr>\n",
       "      <th>2</th>\n",
       "      <td>109.349998</td>\n",
       "      <td>18.139999</td>\n",
       "      <td>34.880001</td>\n",
       "    </tr>\n",
       "    <tr>\n",
       "      <th>3</th>\n",
       "      <td>117.430000</td>\n",
       "      <td>20.660000</td>\n",
       "      <td>36.630001</td>\n",
       "    </tr>\n",
       "    <tr>\n",
       "      <th>4</th>\n",
       "      <td>113.580002</td>\n",
       "      <td>21.025000</td>\n",
       "      <td>33.330002</td>\n",
       "    </tr>\n",
       "    <tr>\n",
       "      <th>5</th>\n",
       "      <td>119.410004</td>\n",
       "      <td>22.600000</td>\n",
       "      <td>33.189999</td>\n",
       "    </tr>\n",
       "    <tr>\n",
       "      <th>6</th>\n",
       "      <td>125.849998</td>\n",
       "      <td>25.825001</td>\n",
       "      <td>36.549999</td>\n",
       "    </tr>\n",
       "    <tr>\n",
       "      <th>7</th>\n",
       "      <td>133.509995</td>\n",
       "      <td>27.075001</td>\n",
       "      <td>38.189999</td>\n",
       "    </tr>\n",
       "    <tr>\n",
       "      <th>8</th>\n",
       "      <td>140.250000</td>\n",
       "      <td>26.969999</td>\n",
       "      <td>38.330002</td>\n",
       "    </tr>\n",
       "    <tr>\n",
       "      <th>9</th>\n",
       "      <td>128.190002</td>\n",
       "      <td>23.610001</td>\n",
       "      <td>36.660000</td>\n",
       "    </tr>\n",
       "    <tr>\n",
       "      <th>10</th>\n",
       "      <td>134.729996</td>\n",
       "      <td>24.850000</td>\n",
       "      <td>39.779999</td>\n",
       "    </tr>\n",
       "  </tbody>\n",
       "</table>\n",
       "</div>"
      ],
      "text/plain": [
       "             0          1          2\n",
       "0   104.709999  18.857500  36.919998\n",
       "1   110.269997  19.600000  36.669998\n",
       "2   109.349998  18.139999  34.880001\n",
       "3   117.430000  20.660000  36.630001\n",
       "4   113.580002  21.025000  33.330002\n",
       "5   119.410004  22.600000  33.189999\n",
       "6   125.849998  25.825001  36.549999\n",
       "7   133.509995  27.075001  38.189999\n",
       "8   140.250000  26.969999  38.330002\n",
       "9   128.190002  23.610001  36.660000\n",
       "10  134.729996  24.850000  39.779999"
      ]
     },
     "execution_count": 4,
     "metadata": {},
     "output_type": "execute_result"
    }
   ],
   "source": [
    "\n",
    "pd.DataFrame(prices.to_numpy())"
   ]
  },
  {
   "cell_type": "code",
   "execution_count": 5,
   "metadata": {},
   "outputs": [],
   "source": [
    "esgdata = esgdata[['MMM_weighted','AOS_weighted','ABT_weighted']]"
   ]
  },
  {
   "cell_type": "code",
   "execution_count": 6,
   "metadata": {},
   "outputs": [
    {
     "data": {
      "text/html": [
       "<div>\n",
       "<style scoped>\n",
       "    .dataframe tbody tr th:only-of-type {\n",
       "        vertical-align: middle;\n",
       "    }\n",
       "\n",
       "    .dataframe tbody tr th {\n",
       "        vertical-align: top;\n",
       "    }\n",
       "\n",
       "    .dataframe thead th {\n",
       "        text-align: right;\n",
       "    }\n",
       "</style>\n",
       "<table border=\"1\" class=\"dataframe\">\n",
       "  <thead>\n",
       "    <tr style=\"text-align: right;\">\n",
       "      <th></th>\n",
       "      <th>MMM_weighted</th>\n",
       "      <th>AOS_weighted</th>\n",
       "      <th>ABT_weighted</th>\n",
       "    </tr>\n",
       "    <tr>\n",
       "      <th>Date</th>\n",
       "      <th></th>\n",
       "      <th></th>\n",
       "      <th></th>\n",
       "    </tr>\n",
       "  </thead>\n",
       "  <tbody>\n",
       "    <tr>\n",
       "      <th>2013-04-01</th>\n",
       "      <td>1153.0</td>\n",
       "      <td>1158.0</td>\n",
       "      <td>1229.0</td>\n",
       "    </tr>\n",
       "    <tr>\n",
       "      <th>2013-05-01</th>\n",
       "      <td>1153.0</td>\n",
       "      <td>1158.0</td>\n",
       "      <td>1229.0</td>\n",
       "    </tr>\n",
       "    <tr>\n",
       "      <th>2013-06-01</th>\n",
       "      <td>1153.0</td>\n",
       "      <td>1158.0</td>\n",
       "      <td>1229.0</td>\n",
       "    </tr>\n",
       "    <tr>\n",
       "      <th>2013-07-01</th>\n",
       "      <td>1153.0</td>\n",
       "      <td>1158.0</td>\n",
       "      <td>1229.0</td>\n",
       "    </tr>\n",
       "    <tr>\n",
       "      <th>2013-08-01</th>\n",
       "      <td>1153.0</td>\n",
       "      <td>1158.0</td>\n",
       "      <td>1229.0</td>\n",
       "    </tr>\n",
       "    <tr>\n",
       "      <th>2013-09-01</th>\n",
       "      <td>1153.0</td>\n",
       "      <td>1158.0</td>\n",
       "      <td>1229.0</td>\n",
       "    </tr>\n",
       "    <tr>\n",
       "      <th>2013-10-01</th>\n",
       "      <td>1153.0</td>\n",
       "      <td>1158.0</td>\n",
       "      <td>1229.0</td>\n",
       "    </tr>\n",
       "    <tr>\n",
       "      <th>2013-11-01</th>\n",
       "      <td>1153.0</td>\n",
       "      <td>1158.0</td>\n",
       "      <td>1229.0</td>\n",
       "    </tr>\n",
       "    <tr>\n",
       "      <th>2013-12-01</th>\n",
       "      <td>1153.0</td>\n",
       "      <td>1158.0</td>\n",
       "      <td>1229.0</td>\n",
       "    </tr>\n",
       "    <tr>\n",
       "      <th>2014-01-01</th>\n",
       "      <td>1153.0</td>\n",
       "      <td>1158.0</td>\n",
       "      <td>1229.0</td>\n",
       "    </tr>\n",
       "    <tr>\n",
       "      <th>2014-02-01</th>\n",
       "      <td>1153.0</td>\n",
       "      <td>1158.0</td>\n",
       "      <td>1229.0</td>\n",
       "    </tr>\n",
       "  </tbody>\n",
       "</table>\n",
       "</div>"
      ],
      "text/plain": [
       "            MMM_weighted  AOS_weighted  ABT_weighted\n",
       "Date                                                \n",
       "2013-04-01        1153.0        1158.0        1229.0\n",
       "2013-05-01        1153.0        1158.0        1229.0\n",
       "2013-06-01        1153.0        1158.0        1229.0\n",
       "2013-07-01        1153.0        1158.0        1229.0\n",
       "2013-08-01        1153.0        1158.0        1229.0\n",
       "2013-09-01        1153.0        1158.0        1229.0\n",
       "2013-10-01        1153.0        1158.0        1229.0\n",
       "2013-11-01        1153.0        1158.0        1229.0\n",
       "2013-12-01        1153.0        1158.0        1229.0\n",
       "2014-01-01        1153.0        1158.0        1229.0\n",
       "2014-02-01        1153.0        1158.0        1229.0"
      ]
     },
     "execution_count": 6,
     "metadata": {},
     "output_type": "execute_result"
    }
   ],
   "source": [
    "esgdata"
   ]
  },
  {
   "cell_type": "code",
   "execution_count": 7,
   "metadata": {},
   "outputs": [
    {
     "data": {
      "text/html": [
       "<div>\n",
       "<style scoped>\n",
       "    .dataframe tbody tr th:only-of-type {\n",
       "        vertical-align: middle;\n",
       "    }\n",
       "\n",
       "    .dataframe tbody tr th {\n",
       "        vertical-align: top;\n",
       "    }\n",
       "\n",
       "    .dataframe thead th {\n",
       "        text-align: right;\n",
       "    }\n",
       "</style>\n",
       "<table border=\"1\" class=\"dataframe\">\n",
       "  <thead>\n",
       "    <tr style=\"text-align: right;\">\n",
       "      <th></th>\n",
       "      <th>0</th>\n",
       "      <th>1</th>\n",
       "      <th>2</th>\n",
       "    </tr>\n",
       "  </thead>\n",
       "  <tbody>\n",
       "    <tr>\n",
       "      <th>1</th>\n",
       "      <td>0.053099</td>\n",
       "      <td>0.039374</td>\n",
       "      <td>-0.006771</td>\n",
       "    </tr>\n",
       "    <tr>\n",
       "      <th>2</th>\n",
       "      <td>-0.008343</td>\n",
       "      <td>-0.074490</td>\n",
       "      <td>-0.048814</td>\n",
       "    </tr>\n",
       "    <tr>\n",
       "      <th>3</th>\n",
       "      <td>0.073891</td>\n",
       "      <td>0.138920</td>\n",
       "      <td>0.050172</td>\n",
       "    </tr>\n",
       "    <tr>\n",
       "      <th>4</th>\n",
       "      <td>-0.032785</td>\n",
       "      <td>0.017667</td>\n",
       "      <td>-0.090090</td>\n",
       "    </tr>\n",
       "    <tr>\n",
       "      <th>5</th>\n",
       "      <td>0.051329</td>\n",
       "      <td>0.074911</td>\n",
       "      <td>-0.004201</td>\n",
       "    </tr>\n",
       "    <tr>\n",
       "      <th>6</th>\n",
       "      <td>0.053932</td>\n",
       "      <td>0.142699</td>\n",
       "      <td>0.101235</td>\n",
       "    </tr>\n",
       "    <tr>\n",
       "      <th>7</th>\n",
       "      <td>0.060866</td>\n",
       "      <td>0.048403</td>\n",
       "      <td>0.044870</td>\n",
       "    </tr>\n",
       "    <tr>\n",
       "      <th>8</th>\n",
       "      <td>0.050483</td>\n",
       "      <td>-0.003878</td>\n",
       "      <td>0.003666</td>\n",
       "    </tr>\n",
       "    <tr>\n",
       "      <th>9</th>\n",
       "      <td>-0.085989</td>\n",
       "      <td>-0.124583</td>\n",
       "      <td>-0.043569</td>\n",
       "    </tr>\n",
       "    <tr>\n",
       "      <th>10</th>\n",
       "      <td>0.051018</td>\n",
       "      <td>0.052520</td>\n",
       "      <td>0.085106</td>\n",
       "    </tr>\n",
       "  </tbody>\n",
       "</table>\n",
       "</div>"
      ],
      "text/plain": [
       "           0         1         2\n",
       "1   0.053099  0.039374 -0.006771\n",
       "2  -0.008343 -0.074490 -0.048814\n",
       "3   0.073891  0.138920  0.050172\n",
       "4  -0.032785  0.017667 -0.090090\n",
       "5   0.051329  0.074911 -0.004201\n",
       "6   0.053932  0.142699  0.101235\n",
       "7   0.060866  0.048403  0.044870\n",
       "8   0.050483 -0.003878  0.003666\n",
       "9  -0.085989 -0.124583 -0.043569\n",
       "10  0.051018  0.052520  0.085106"
      ]
     },
     "execution_count": 7,
     "metadata": {},
     "output_type": "execute_result"
    }
   ],
   "source": [
    "\n",
    "pct_returns = data.pct_returns_from_prices(\n",
    "pd.DataFrame(prices.to_numpy())) \n",
    "pct_returns"
   ]
  },
  {
   "cell_type": "code",
   "execution_count": 8,
   "metadata": {},
   "outputs": [
    {
     "data": {
      "text/plain": [
       "array([0.02675008, 0.03115428, 0.0091605 ])"
      ]
     },
     "execution_count": 8,
     "metadata": {},
     "output_type": "execute_result"
    }
   ],
   "source": [
    "pct_returns.mean().to_numpy()"
   ]
  },
  {
   "cell_type": "code",
   "execution_count": null,
   "metadata": {},
   "outputs": [],
   "source": []
  },
  {
   "cell_type": "code",
   "execution_count": 9,
   "metadata": {},
   "outputs": [
    {
     "name": "stderr",
     "output_type": "stream",
     "text": [
      "c:\\Users\\toros\\OneDrive\\Dokumenter\\GitHub\\BachelorThesis\\src\\efficient_frontier.py:40: OptimizeWarning: Unknown solver options: xtol, gtol, barrier_tol\n",
      "  result = minimize(function,\n",
      "c:\\Users\\toros\\OneDrive\\Dokumenter\\GitHub\\BachelorThesis\\src\\efficient_frontier.py:113: OptimizeWarning: Unknown solver options: xtol, gtol, barrier_tol\n",
      "  result = minimize(function,\n"
     ]
    },
    {
     "name": "stdout",
     "output_type": "stream",
     "text": [
      "Min. Risk = 4.737% => Return: 1.994%  Sharpe Ratio = 0.42\n",
      "Max. Sharpe Ratio = 0.61 => Return: 4.18%  Risk: 6.869%\n"
     ]
    }
   ],
   "source": [
    "parameters = portfolio.efficient_frontier_solo(data.pct_returns_from_prices(prices),Bounds, sharpe_type,start_year,end_year, Wanted_return, maximum_risk)\n"
   ]
  },
  {
   "cell_type": "code",
   "execution_count": 10,
   "metadata": {},
   "outputs": [
    {
     "data": {
      "text/plain": [
       "0.8092310798675307"
      ]
     },
     "execution_count": 10,
     "metadata": {},
     "output_type": "execute_result"
    }
   ],
   "source": [
    "parameters[0][1]/0.05171"
   ]
  },
  {
   "cell_type": "code",
   "execution_count": 11,
   "metadata": {},
   "outputs": [
    {
     "data": {
      "text/html": [
       "<div>\n",
       "<style scoped>\n",
       "    .dataframe tbody tr th:only-of-type {\n",
       "        vertical-align: middle;\n",
       "    }\n",
       "\n",
       "    .dataframe tbody tr th {\n",
       "        vertical-align: top;\n",
       "    }\n",
       "\n",
       "    .dataframe thead th {\n",
       "        text-align: right;\n",
       "    }\n",
       "</style>\n",
       "<table border=\"1\" class=\"dataframe\">\n",
       "  <thead>\n",
       "    <tr style=\"text-align: right;\">\n",
       "      <th></th>\n",
       "      <th>MMM</th>\n",
       "      <th>AOS</th>\n",
       "      <th>ABT</th>\n",
       "    </tr>\n",
       "  </thead>\n",
       "  <tbody>\n",
       "    <tr>\n",
       "      <th>0</th>\n",
       "      <td>1.852613</td>\n",
       "      <td>0.004463</td>\n",
       "      <td>-0.857076</td>\n",
       "    </tr>\n",
       "  </tbody>\n",
       "</table>\n",
       "</div>"
      ],
      "text/plain": [
       "        MMM       AOS       ABT\n",
       "0  1.852613  0.004463 -0.857076"
      ]
     },
     "execution_count": 11,
     "metadata": {},
     "output_type": "execute_result"
    }
   ],
   "source": [
    " #Different amount of rows from ESG_DATA as it drops all na. Gives us the efficient frontier for the given tie frame\n",
    "weights_of_each_portfolio = efficient_frontier.weights_of_portfolio(prices,parameters)\n",
    "weights_of_each_portfolio"
   ]
  },
  {
   "cell_type": "code",
   "execution_count": 12,
   "metadata": {},
   "outputs": [
    {
     "data": {
      "text/plain": [
       "[(0.06869101348574334,\n",
       "  0.04184533913995001,\n",
       "  0.04736586652640554,\n",
       "  0.01993906726124092,\n",
       "  array([0.08814243, 0.08814243, 0.08814243, 0.08814243, 0.08814243,\n",
       "         0.08814243, 0.08814243, 0.08814243, 0.08814243, 0.08814243,\n",
       "         0.08814243, 0.08814243, 0.08814243, 0.08814243, 0.08814243,\n",
       "         0.08814242, 0.08814243, 0.08814243, 0.08814243, 0.08814243,\n",
       "         0.08814243, 0.08814243, 0.08814243, 0.08814243, 0.08814243,\n",
       "         0.08814243, 0.08814243, 0.08814243, 0.08814243, 0.08814243,\n",
       "         0.08814243, 0.08814243, 0.08814243, 0.08814243, 0.0732157 ,\n",
       "         0.05958111, 0.0501436 , 0.04747566, 0.05261741, 0.06370494,\n",
       "         0.08472885, 0.13324877, 0.13324877, 0.13324877, 0.13324877,\n",
       "         0.13324877, 0.13324877, 0.13324877, 0.1332488 , 0.13324879]),\n",
       "  array([-0.3       , -0.29131559, -0.28263118, -0.27394677, -0.26526237,\n",
       "         -0.25657796, -0.24789355, -0.23920914, -0.23052473, -0.22184032,\n",
       "         -0.21315591, -0.20447151, -0.1957871 , -0.18710269, -0.17841828,\n",
       "         -0.16973387, -0.16104946, -0.15236506, -0.14368065, -0.13499624,\n",
       "         -0.12631183, -0.11762742, -0.10894301, -0.1002586 , -0.0915742 ,\n",
       "         -0.08288979, -0.07420538, -0.06552097, -0.05683656, -0.04815215,\n",
       "         -0.03946774, -0.03078334, -0.02209893, -0.01341452, -0.00473011,\n",
       "          0.0039543 ,  0.01263871,  0.02132312,  0.03000752,  0.03869193,\n",
       "          0.04737634,  0.05606075,  0.06474516,  0.07342957,  0.08211397,\n",
       "          0.09079838,  0.09948279,  0.1081672 ,  0.11685161,  0.12553602]),\n",
       "  array([ 1.85261274,  0.00446333, -0.85707608]))]"
      ]
     },
     "execution_count": 12,
     "metadata": {},
     "output_type": "execute_result"
    }
   ],
   "source": [
    "parameters"
   ]
  },
  {
   "cell_type": "code",
   "execution_count": 13,
   "metadata": {},
   "outputs": [],
   "source": [
    " #Gives us the weights of the individual stocks in our portfolio\n",
    "portfolio_esg_score = portfolio.esg_score_of_portfolio(weights_of_each_portfolio,esgdata.head(1)) #gives us the ESG score of our portfolio\n",
    "portfolio_allocations = portfolio.capital_mark_line_returns(parameters,risk_free_rate,maximum_risk)[1] #How much we allocate to our market portfolio compared to the risk-free asset\n",
    "cmle_returns = portfolio.capital_mark_line_returns(parameters,risk_free_rate,maximum_risk)[0]"
   ]
  },
  {
   "cell_type": "code",
   "execution_count": 14,
   "metadata": {},
   "outputs": [
    {
     "data": {
      "text/html": [
       "<div>\n",
       "<style scoped>\n",
       "    .dataframe tbody tr th:only-of-type {\n",
       "        vertical-align: middle;\n",
       "    }\n",
       "\n",
       "    .dataframe tbody tr th {\n",
       "        vertical-align: top;\n",
       "    }\n",
       "\n",
       "    .dataframe thead th {\n",
       "        text-align: right;\n",
       "    }\n",
       "</style>\n",
       "<table border=\"1\" class=\"dataframe\">\n",
       "  <thead>\n",
       "    <tr style=\"text-align: right;\">\n",
       "      <th></th>\n",
       "      <th>ESG_score_of_portfolio</th>\n",
       "    </tr>\n",
       "  </thead>\n",
       "  <tbody>\n",
       "    <tr>\n",
       "      <th>0</th>\n",
       "      <td>1087.884535</td>\n",
       "    </tr>\n",
       "  </tbody>\n",
       "</table>\n",
       "</div>"
      ],
      "text/plain": [
       "   ESG_score_of_portfolio\n",
       "0             1087.884535"
      ]
     },
     "execution_count": 14,
     "metadata": {},
     "output_type": "execute_result"
    }
   ],
   "source": [
    " #Return based on how much we allocate to the risk free asset.\n",
    "portfolio_esg_score"
   ]
  },
  {
   "cell_type": "code",
   "execution_count": 15,
   "metadata": {},
   "outputs": [
    {
     "data": {
      "text/plain": [
       "[1.4557945053577461]"
      ]
     },
     "execution_count": 15,
     "metadata": {},
     "output_type": "execute_result"
    }
   ],
   "source": [
    "\n",
    "portfolio_allocations"
   ]
  },
  {
   "cell_type": "code",
   "execution_count": 16,
   "metadata": {},
   "outputs": [
    {
     "data": {
      "text/html": [
       "<div>\n",
       "<style scoped>\n",
       "    .dataframe tbody tr th:only-of-type {\n",
       "        vertical-align: middle;\n",
       "    }\n",
       "\n",
       "    .dataframe tbody tr th {\n",
       "        vertical-align: top;\n",
       "    }\n",
       "\n",
       "    .dataframe thead th {\n",
       "        text-align: right;\n",
       "    }\n",
       "</style>\n",
       "<table border=\"1\" class=\"dataframe\">\n",
       "  <thead>\n",
       "    <tr style=\"text-align: right;\">\n",
       "      <th></th>\n",
       "      <th>MMM</th>\n",
       "      <th>AOS</th>\n",
       "      <th>ABT</th>\n",
       "    </tr>\n",
       "    <tr>\n",
       "      <th>Date</th>\n",
       "      <th></th>\n",
       "      <th></th>\n",
       "      <th></th>\n",
       "    </tr>\n",
       "  </thead>\n",
       "  <tbody>\n",
       "    <tr>\n",
       "      <th>2013-04-01</th>\n",
       "      <td>104.709999</td>\n",
       "      <td>18.857500</td>\n",
       "      <td>36.919998</td>\n",
       "    </tr>\n",
       "    <tr>\n",
       "      <th>2013-05-01</th>\n",
       "      <td>110.269997</td>\n",
       "      <td>19.600000</td>\n",
       "      <td>36.669998</td>\n",
       "    </tr>\n",
       "    <tr>\n",
       "      <th>2013-06-01</th>\n",
       "      <td>109.349998</td>\n",
       "      <td>18.139999</td>\n",
       "      <td>34.880001</td>\n",
       "    </tr>\n",
       "    <tr>\n",
       "      <th>2013-07-01</th>\n",
       "      <td>117.430000</td>\n",
       "      <td>20.660000</td>\n",
       "      <td>36.630001</td>\n",
       "    </tr>\n",
       "    <tr>\n",
       "      <th>2013-08-01</th>\n",
       "      <td>113.580002</td>\n",
       "      <td>21.025000</td>\n",
       "      <td>33.330002</td>\n",
       "    </tr>\n",
       "    <tr>\n",
       "      <th>2013-09-01</th>\n",
       "      <td>119.410004</td>\n",
       "      <td>22.600000</td>\n",
       "      <td>33.189999</td>\n",
       "    </tr>\n",
       "    <tr>\n",
       "      <th>2013-10-01</th>\n",
       "      <td>125.849998</td>\n",
       "      <td>25.825001</td>\n",
       "      <td>36.549999</td>\n",
       "    </tr>\n",
       "    <tr>\n",
       "      <th>2013-11-01</th>\n",
       "      <td>133.509995</td>\n",
       "      <td>27.075001</td>\n",
       "      <td>38.189999</td>\n",
       "    </tr>\n",
       "    <tr>\n",
       "      <th>2013-12-01</th>\n",
       "      <td>140.250000</td>\n",
       "      <td>26.969999</td>\n",
       "      <td>38.330002</td>\n",
       "    </tr>\n",
       "    <tr>\n",
       "      <th>2014-01-01</th>\n",
       "      <td>128.190002</td>\n",
       "      <td>23.610001</td>\n",
       "      <td>36.660000</td>\n",
       "    </tr>\n",
       "    <tr>\n",
       "      <th>2014-02-01</th>\n",
       "      <td>134.729996</td>\n",
       "      <td>24.850000</td>\n",
       "      <td>39.779999</td>\n",
       "    </tr>\n",
       "  </tbody>\n",
       "</table>\n",
       "</div>"
      ],
      "text/plain": [
       "                   MMM        AOS        ABT\n",
       "Date                                        \n",
       "2013-04-01  104.709999  18.857500  36.919998\n",
       "2013-05-01  110.269997  19.600000  36.669998\n",
       "2013-06-01  109.349998  18.139999  34.880001\n",
       "2013-07-01  117.430000  20.660000  36.630001\n",
       "2013-08-01  113.580002  21.025000  33.330002\n",
       "2013-09-01  119.410004  22.600000  33.189999\n",
       "2013-10-01  125.849998  25.825001  36.549999\n",
       "2013-11-01  133.509995  27.075001  38.189999\n",
       "2013-12-01  140.250000  26.969999  38.330002\n",
       "2014-01-01  128.190002  23.610001  36.660000\n",
       "2014-02-01  134.729996  24.850000  39.779999"
      ]
     },
     "execution_count": 16,
     "metadata": {},
     "output_type": "execute_result"
    }
   ],
   "source": [
    "prices[['MMM','AOS','ABT']]"
   ]
  },
  {
   "cell_type": "code",
   "execution_count": null,
   "metadata": {},
   "outputs": [],
   "source": []
  }
 ],
 "metadata": {
  "kernelspec": {
   "display_name": "Python 3",
   "language": "python",
   "name": "python3"
  },
  "language_info": {
   "codemirror_mode": {
    "name": "ipython",
    "version": 3
   },
   "file_extension": ".py",
   "mimetype": "text/x-python",
   "name": "python",
   "nbconvert_exporter": "python",
   "pygments_lexer": "ipython3",
   "version": "3.9.7"
  },
  "orig_nbformat": 4
 },
 "nbformat": 4,
 "nbformat_minor": 2
}
