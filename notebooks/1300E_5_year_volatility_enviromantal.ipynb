{
 "cells": [
  {
   "cell_type": "code",
   "execution_count": 1,
   "metadata": {},
   "outputs": [
    {
     "name": "stdout",
     "output_type": "stream",
     "text": [
      "Using matplotlib backend: TkAgg\n",
      "%pylab is deprecated, use %matplotlib inline and import the required libraries.\n",
      "Populating the interactive namespace from numpy and matplotlib\n",
      "Using matplotlib backend: TkAgg\n",
      "%pylab is deprecated, use %matplotlib inline and import the required libraries.\n",
      "Populating the interactive namespace from numpy and matplotlib\n"
     ]
    }
   ],
   "source": [
    "import os\n",
    "import sys\n",
    "%pylab\n",
    "\n",
    "import numpy as np\n",
    "import pandas as pd\n",
    "import ipywidgets\n",
    "from scipy.optimize import Bounds\n",
    "module_path = os.path.abspath(os.path.join('..'))\n",
    "if module_path not in sys.path:\n",
    "    sys.path.append(module_path)\n",
    "    %pylab\n",
    "from src import data\n",
    "\n",
    "from src import efficient_frontier\n",
    "from src import plot\n",
    "from src import portfolio\n",
    "from src import capm\n",
    "import numpy as np\n",
    "import pandas as pd\n",
    "import ipywidgets\n",
    "from scipy.optimize import Bounds"
   ]
  },
  {
   "cell_type": "code",
   "execution_count": 2,
   "metadata": {},
   "outputs": [],
   "source": [
    "weights = np.array([1,0,0])\n",
    "min_esg_score = 1300\n",
    "max_esg_score = 2000\n",
    "df = pd.read_excel('../data/ESG_DATA_S&P500.xlsx')\n",
    "dates = ['2016-01-01','2021-01-01']\n",
    "start_year = dates[0]\n",
    "end_year = dates[1]\n",
    "\n",
    "Bounds = Bounds(0,1) #How willing we are to go short and to invest in one particular stock\n",
    "Wanted_return = 0.20 #Only used when using the wanted_return constraint\n",
    "maximum_risk = 0.10 #Either used when using maximum risk constraint or cmle portfolio\n",
    "sharpe_type = \"No_extra_constraint\"  # rename to constraint, can be either Wanted_return or Maximum_risk or No_extra_constraint\n",
    "risk_free_rate = 0.01\n"
   ]
  },
  {
   "cell_type": "code",
   "execution_count": 3,
   "metadata": {},
   "outputs": [
    {
     "name": "stdout",
     "output_type": "stream",
     "text": [
      "\n",
      "1 Failed download:\n",
      "- OGN: Data doesn't exist for startDate = 1451624400, endDate = 1609477200\n"
     ]
    },
    {
     "name": "stderr",
     "output_type": "stream",
     "text": [
      "c:\\Users\\toros\\OneDrive\\Dokumenter\\GitHub\\BachelorThesis\\src\\efficient_frontier.py:40: OptimizeWarning: Unknown solver options: xtol, gtol, barrier_tol\n",
      "  result = minimize(function,\n"
     ]
    },
    {
     "name": "stdout",
     "output_type": "stream",
     "text": [
      "Min. Risk = 7.170% => Return: 9.251%  Sharpe Ratio = 1.29\n"
     ]
    },
    {
     "name": "stderr",
     "output_type": "stream",
     "text": [
      "c:\\Users\\toros\\OneDrive\\Dokumenter\\GitHub\\BachelorThesis\\src\\efficient_frontier.py:113: OptimizeWarning: Unknown solver options: xtol, gtol, barrier_tol\n",
      "  result = minimize(function,\n"
     ]
    },
    {
     "name": "stdout",
     "output_type": "stream",
     "text": [
      "Max. Sharpe Ratio = 2.97 => Return: 35.44%  Risk: 11.921%\n",
      "Excpected return on investment is 1.1383184945183704%\n"
     ]
    }
   ],
   "source": [
    "esg_data = data.esg_score_weight(df,weights,min_esg_score,max_esg_score) #ESG_DATA filtering function\n",
    "full_data = data.stock_monthly_close(esg_data,dates) #Gives us the data we need from the stocks with relevant ESG_scores\n",
    "prices,esgdata = data.seperate_full_data(full_data) #Gives us price data and esg data to use in future functions\n",
    "pct_returns = data.pct_returns_from_prices(prices) #Gives us the returns in pct for our stocks\n",
    "parameters = portfolio.efficient_frontier_solo(pct_returns,Bounds, sharpe_type,start_year,end_year, Wanted_return, maximum_risk,'yearly') #Different amount of rows from ESG_DATA as it drops all na. Gives us the efficient frontier for the given tie frame #Different amount of rows from ESG_DATA as it drops all na. Gives us the efficient frontier for the given tie frame\n",
    "weights_of_each_portfolio = efficient_frontier.weights_of_portfolio(prices,parameters) #Gives us the weights of the individual stocks in our portfolio\n",
    "portfolio_esg_score = portfolio.esg_score_of_portfolio(weights_of_each_portfolio,esgdata.head(1)) #gives us the ESG score of our portfolio\n",
    "portfolio_allocations = portfolio.capital_mark_line_returns(parameters,risk_free_rate,maximum_risk)[1] #How much we allocate to our market portfolio compared to the risk-free asset\n",
    "cmle_returns = portfolio.capital_mark_line_returns(parameters,risk_free_rate,maximum_risk)[0] #Return based on how much we allocate to the risk free asset.\n",
    "sp500 = data.data_for_beta(np.append(['SPY'],(weights_of_each_portfolio.columns)),dates)\n",
    "pct_returns_sp500 = data.pct_returns_from_prices(sp500)\n",
    "betas_of_portfolio = capm.calculate_portfolio_beta(pct_returns_sp500,prices,weights_of_each_portfolio)\n",
    "capm_expected_return = capm.capm_calc(pct_returns_sp500['SPY'].mean(),risk_free_rate,betas_of_portfolio)\n"
   ]
  },
  {
   "cell_type": "code",
   "execution_count": 4,
   "metadata": {},
   "outputs": [
    {
     "data": {
      "text/html": [
       "<div>\n",
       "<style scoped>\n",
       "    .dataframe tbody tr th:only-of-type {\n",
       "        vertical-align: middle;\n",
       "    }\n",
       "\n",
       "    .dataframe tbody tr th {\n",
       "        vertical-align: top;\n",
       "    }\n",
       "\n",
       "    .dataframe thead th {\n",
       "        text-align: right;\n",
       "    }\n",
       "</style>\n",
       "<table border=\"1\" class=\"dataframe\">\n",
       "  <thead>\n",
       "    <tr style=\"text-align: right;\">\n",
       "      <th></th>\n",
       "      <th>AIG</th>\n",
       "      <th>AMT</th>\n",
       "      <th>AMP</th>\n",
       "      <th>ABC</th>\n",
       "      <th>AME</th>\n",
       "      <th>AMGN</th>\n",
       "      <th>APH</th>\n",
       "      <th>ADI</th>\n",
       "      <th>ANSS</th>\n",
       "      <th>AMAT</th>\n",
       "      <th>...</th>\n",
       "      <th>WFC</th>\n",
       "      <th>WELL</th>\n",
       "      <th>WST</th>\n",
       "      <th>WDC</th>\n",
       "      <th>WRK</th>\n",
       "      <th>WY</th>\n",
       "      <th>WHR</th>\n",
       "      <th>YUM</th>\n",
       "      <th>ZBH</th>\n",
       "      <th>ZTS</th>\n",
       "    </tr>\n",
       "  </thead>\n",
       "  <tbody>\n",
       "    <tr>\n",
       "      <th>0</th>\n",
       "      <td>1.440521e-15</td>\n",
       "      <td>0.039418</td>\n",
       "      <td>4.617129e-16</td>\n",
       "      <td>2.993127e-16</td>\n",
       "      <td>0.0</td>\n",
       "      <td>0.0</td>\n",
       "      <td>1.258954e-16</td>\n",
       "      <td>0.0</td>\n",
       "      <td>1.672755e-16</td>\n",
       "      <td>0.0</td>\n",
       "      <td>...</td>\n",
       "      <td>4.241521e-16</td>\n",
       "      <td>3.786901e-16</td>\n",
       "      <td>0.0</td>\n",
       "      <td>1.250657e-15</td>\n",
       "      <td>0.0</td>\n",
       "      <td>2.009027e-15</td>\n",
       "      <td>1.733070e-15</td>\n",
       "      <td>9.499301e-17</td>\n",
       "      <td>8.056222e-16</td>\n",
       "      <td>0.030003</td>\n",
       "    </tr>\n",
       "  </tbody>\n",
       "</table>\n",
       "<p>1 rows × 313 columns</p>\n",
       "</div>"
      ],
      "text/plain": [
       "            AIG       AMT           AMP           ABC  AME  AMGN  \\\n",
       "0  1.440521e-15  0.039418  4.617129e-16  2.993127e-16  0.0   0.0   \n",
       "\n",
       "            APH  ADI          ANSS  AMAT  ...           WFC          WELL  \\\n",
       "0  1.258954e-16  0.0  1.672755e-16   0.0  ...  4.241521e-16  3.786901e-16   \n",
       "\n",
       "   WST           WDC  WRK            WY           WHR           YUM  \\\n",
       "0  0.0  1.250657e-15  0.0  2.009027e-15  1.733070e-15  9.499301e-17   \n",
       "\n",
       "            ZBH       ZTS  \n",
       "0  8.056222e-16  0.030003  \n",
       "\n",
       "[1 rows x 313 columns]"
      ]
     },
     "execution_count": 4,
     "metadata": {},
     "output_type": "execute_result"
    }
   ],
   "source": [
    "weights_of_each_portfolio\n",
    "\n",
    "\n"
   ]
  },
  {
   "cell_type": "code",
   "execution_count": 5,
   "metadata": {},
   "outputs": [
    {
     "data": {
      "text/plain": [
       "[0.8388864290709593]"
      ]
     },
     "execution_count": 5,
     "metadata": {},
     "output_type": "execute_result"
    }
   ],
   "source": [
    "portfolio_allocations"
   ]
  },
  {
   "cell_type": "code",
   "execution_count": 6,
   "metadata": {},
   "outputs": [
    {
     "data": {
      "text/html": [
       "<div>\n",
       "<style scoped>\n",
       "    .dataframe tbody tr th:only-of-type {\n",
       "        vertical-align: middle;\n",
       "    }\n",
       "\n",
       "    .dataframe tbody tr th {\n",
       "        vertical-align: top;\n",
       "    }\n",
       "\n",
       "    .dataframe thead th {\n",
       "        text-align: right;\n",
       "    }\n",
       "</style>\n",
       "<table border=\"1\" class=\"dataframe\">\n",
       "  <thead>\n",
       "    <tr style=\"text-align: right;\">\n",
       "      <th></th>\n",
       "      <th>ESG_score_of_portfolio</th>\n",
       "    </tr>\n",
       "  </thead>\n",
       "  <tbody>\n",
       "    <tr>\n",
       "      <th>0</th>\n",
       "      <td>1554.563045</td>\n",
       "    </tr>\n",
       "  </tbody>\n",
       "</table>\n",
       "</div>"
      ],
      "text/plain": [
       "   ESG_score_of_portfolio\n",
       "0             1554.563045"
      ]
     },
     "execution_count": 6,
     "metadata": {},
     "output_type": "execute_result"
    }
   ],
   "source": [
    "portfolio_esg_score"
   ]
  },
  {
   "cell_type": "code",
   "execution_count": 7,
   "metadata": {},
   "outputs": [
    {
     "data": {
      "text/plain": [
       "[0.29889998497554426]"
      ]
     },
     "execution_count": 7,
     "metadata": {},
     "output_type": "execute_result"
    }
   ],
   "source": [
    "cmle_returns"
   ]
  },
  {
   "cell_type": "code",
   "execution_count": 8,
   "metadata": {},
   "outputs": [
    {
     "data": {
      "text/plain": [
       "0.6412420843780585"
      ]
     },
     "execution_count": 8,
     "metadata": {},
     "output_type": "execute_result"
    }
   ],
   "source": [
    "betas_of_portfolio"
   ]
  },
  {
   "cell_type": "code",
   "execution_count": 9,
   "metadata": {},
   "outputs": [
    {
     "data": {
      "text/plain": [
       "0.011383184945183705"
      ]
     },
     "execution_count": 9,
     "metadata": {},
     "output_type": "execute_result"
    }
   ],
   "source": [
    "capm_expected_return"
   ]
  },
  {
   "cell_type": "code",
   "execution_count": 10,
   "metadata": {},
   "outputs": [],
   "source": [
    "plot.plot_efficient_frontier(parameters,start_year,end_year,risk_free_rate)"
   ]
  },
  {
   "cell_type": "code",
   "execution_count": 11,
   "metadata": {},
   "outputs": [
    {
     "data": {
      "application/vnd.jupyter.widget-view+json": {
       "model_id": "f441c5839cb94b698bb6a77321f2118f",
       "version_major": 2,
       "version_minor": 0
      },
      "text/plain": [
       "interactive(children=(Checkbox(value=True, description='plot_cml'), FloatSlider(value=0.1, description='risk',…"
      ]
     },
     "execution_count": 11,
     "metadata": {},
     "output_type": "execute_result"
    }
   ],
   "source": [
    "\n",
    "ipywidgets.interactive(plot.plot_efficient_frontier_cml, parameters = ipywidgets.fixed(parameters),\n",
    "                       start_year = ipywidgets.fixed(2011),\n",
    "                       end_year = ipywidgets.fixed(2022),\n",
    "                       risk_free_rate=ipywidgets.fixed(risk_free_rate),\n",
    "                       plot_cml = True,\n",
    "                       risk = (0,1,0.01),\n",
    "                       mpl_style='default',\n",
    "                       title='Efficient Frontier')"
   ]
  }
 ],
 "metadata": {
  "kernelspec": {
   "display_name": "Python 3",
   "language": "python",
   "name": "python3"
  },
  "language_info": {
   "codemirror_mode": {
    "name": "ipython",
    "version": 3
   },
   "file_extension": ".py",
   "mimetype": "text/x-python",
   "name": "python",
   "nbconvert_exporter": "python",
   "pygments_lexer": "ipython3",
   "version": "3.9.7"
  },
  "orig_nbformat": 4
 },
 "nbformat": 4,
 "nbformat_minor": 2
}
