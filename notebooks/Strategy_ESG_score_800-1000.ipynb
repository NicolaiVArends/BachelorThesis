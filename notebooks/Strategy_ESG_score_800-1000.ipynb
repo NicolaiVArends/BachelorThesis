{
 "cells": [
  {
   "cell_type": "code",
   "execution_count": 1,
   "metadata": {},
   "outputs": [],
   "source": [
    "import os\n",
    "import sys\n",
    "%matplotlib inline\n",
    "\n",
    "import numpy as np\n",
    "import pandas as pd\n",
    "import ipywidgets\n",
    "from scipy.optimize import Bounds\n",
    "module_path = os.path.abspath(os.path.join('..'))\n",
    "if module_path not in sys.path:\n",
    "    sys.path.append(module_path)\n",
    "from src import data\n",
    "from src import efficient_frontier\n",
    "from src import plot\n",
    "from src import portfolio\n",
    "from src import capm\n",
    "from src import backtesting\n",
    "import numpy as np\n",
    "import pandas as pd\n",
    "import ipywidgets\n",
    "from scipy.optimize import Bounds\n",
    "import datetime\n",
    "from dateutil import rrule\n",
    "import yfinance as yf\n",
    "import warnings\n",
    "\n",
    "warnings.filterwarnings(\"ignore\", category=FutureWarning, module='pandas')"
   ]
  },
  {
   "cell_type": "code",
   "execution_count": 2,
   "metadata": {},
   "outputs": [],
   "source": [
    "\n",
    "\"Weights is how you want to weigh the Enviromental, Social, and Governance score, they have to sum to one\"\n",
    "weights = np.array([1/3,1/3,1/3])\n",
    "\n",
    "\"The minimum ESG score is the lowest score a company can have for it to be included in your portfolio\"\n",
    "min_esg_score = 800\n",
    "\n",
    "\"The maximum ESG score is the highest ESG score a company can have for it to be included in your portfolio\"\n",
    "max_esg_score = 1000\n",
    "\n",
    "\"This is the ESG data for the companies you want included in the portfolio optimization\"\n",
    "df = pd.read_excel('../data/ESG_DATA_S&P500.xlsx')\n",
    "\n",
    "\"The bounds are how willing to go short or long in one stock\"\n",
    "Bounds1 = Bounds(-0.5,1.5) \n",
    "\n",
    "\"Wanted return is used if you want to optimize on a perticular return\"\n",
    "Wanted_return = 0.05\n",
    "\n",
    "\"Maximum risk is either used when optimizing using risk as a constraint or when creating a cml portfolio\"\n",
    "maximum_risk = 0.02\n",
    "\n",
    "\"What optimization type you want to use: 'No_extra_constraint' you only optimize based on sharpe ratio\",\n",
    "\"'Maximum_risk' you constrain the optimizer on a certain risk level\",\n",
    "\"'Wanted_return' you constrain the optimizer on a certain return level\"\n",
    "\"'No_extra_constraint' you only constrain on optimizing on max sharp ration\"\n",
    "sharpe_type = \"No_extra_constraint\" \n",
    "\n",
    "\"What you beleive your risk free rate to be\"\n",
    "risk_free_rate = 0.01\n",
    "\n",
    "\"If you want to rebalance with a monthly or yearly frequency\"\n",
    "rebalancing_freq = 'monthly'\n",
    "\n"
   ]
  },
  {
   "cell_type": "code",
   "execution_count": 3,
   "metadata": {},
   "outputs": [],
   "source": [
    "strategy1 = {'df': df,\n",
    " 'weights': weights,\n",
    " 'min_esg_score': min_esg_score,\n",
    " 'max_esg_score': max_esg_score,\n",
    " 'bounds': Bounds1,\n",
    " 'sharpe_type': sharpe_type,\n",
    " 'wanted_return': Wanted_return,\n",
    " 'maximum_risk': maximum_risk,\n",
    " 'rebalancing_freq': rebalancing_freq,\n",
    " 'risk_free_rate': risk_free_rate}\n"
   ]
  },
  {
   "cell_type": "code",
   "execution_count": 4,
   "metadata": {},
   "outputs": [
    {
     "name": "stdout",
     "output_type": "stream",
     "text": [
      "Excpected return on investment is 1.0702155538668159%\n",
      "Has calculated portfolio1 out of 700 days 08:00:00 porfolios\n",
      "Excpected return on investment is 0.960776349328606%\n",
      "Has calculated portfolio2 out of 669 days 16:00:00 porfolios\n",
      "Excpected return on investment is 1.4505710104522975%\n",
      "Has calculated portfolio3 out of 639 days 12:00:00 porfolios\n",
      "Excpected return on investment is 0.8474001669626857%\n",
      "Has calculated portfolio4 out of 608 days 20:00:00 porfolios\n"
     ]
    },
    {
     "name": "stderr",
     "output_type": "stream",
     "text": [
      "c:\\Users\\toros\\AppData\\Local\\Programs\\Python\\Python39\\lib\\site-packages\\scipy\\optimize\\optimize.py:282: RuntimeWarning: Values in x were outside bounds during a minimize step, clipping to bounds\n",
      "  warnings.warn(\"Values in x were outside bounds during a \"\n"
     ]
    },
    {
     "name": "stdout",
     "output_type": "stream",
     "text": [
      "Excpected return on investment is 11.062300282417583%\n",
      "Has calculated portfolio5 out of 578 days 12:00:00 porfolios\n",
      "Excpected return on investment is 1.0823839738172312%\n",
      "Has calculated portfolio6 out of 547 days 20:00:00 porfolios\n",
      "Excpected return on investment is 1.1195556064880932%\n",
      "Has calculated portfolio7 out of 517 days 16:00:00 porfolios\n",
      "Excpected return on investment is 1.8185381277799555%\n",
      "Has calculated portfolio8 out of 487 days 00:00:00 porfolios\n",
      "Excpected return on investment is 1.14946814829985%\n",
      "Has calculated portfolio9 out of 456 days 20:00:00 porfolios\n",
      "Excpected return on investment is 0.9689127744589796%\n",
      "Has calculated portfolio10 out of 426 days 04:00:00 porfolios\n",
      "Excpected return on investment is 0.825975675105697%\n",
      "Has calculated portfolio11 out of 396 days 00:00:00 porfolios\n"
     ]
    },
    {
     "ename": "KeyboardInterrupt",
     "evalue": "",
     "output_type": "error",
     "traceback": [
      "\u001b[1;31m---------------------------------------------------------------------------\u001b[0m",
      "\u001b[1;31mKeyboardInterrupt\u001b[0m                         Traceback (most recent call last)",
      "\u001b[1;32mc:\\Users\\toros\\OneDrive\\Dokumenter\\GitHub\\BachelorThesis\\notebooks\\Strategy_ESG_score_800-1000.ipynb Cell 4\u001b[0m in \u001b[0;36m<module>\u001b[1;34m\u001b[0m\n\u001b[0;32m      <a href='vscode-notebook-cell:/c%3A/Users/toros/OneDrive/Dokumenter/GitHub/BachelorThesis/notebooks/Strategy_ESG_score_800-1000.ipynb#W3sZmlsZQ%3D%3D?line=5'>6</a>\u001b[0m \u001b[39m\"\u001b[39m\u001b[39mSixth input is the amount of years you want the covariance window to be\u001b[39m\u001b[39m\"\u001b[39m,\n\u001b[0;32m      <a href='vscode-notebook-cell:/c%3A/Users/toros/OneDrive/Dokumenter/GitHub/BachelorThesis/notebooks/Strategy_ESG_score_800-1000.ipynb#W3sZmlsZQ%3D%3D?line=6'>7</a>\u001b[0m \u001b[39m\"\u001b[39m\u001b[39mSeventh input is the market that you want to benchmark your portfolio on\u001b[39m\u001b[39m\"\u001b[39m\n\u001b[1;32m----> <a href='vscode-notebook-cell:/c%3A/Users/toros/OneDrive/Dokumenter/GitHub/BachelorThesis/notebooks/Strategy_ESG_score_800-1000.ipynb#W3sZmlsZQ%3D%3D?line=8'>9</a>\u001b[0m data5 \u001b[39m=\u001b[39m backtesting\u001b[39m.\u001b[39;49mbacktesting(strategy1,\n\u001b[0;32m     <a href='vscode-notebook-cell:/c%3A/Users/toros/OneDrive/Dokumenter/GitHub/BachelorThesis/notebooks/Strategy_ESG_score_800-1000.ipynb#W3sZmlsZQ%3D%3D?line=9'>10</a>\u001b[0m                                 \u001b[39m'\u001b[39;49m\u001b[39mmonthly\u001b[39;49m\u001b[39m'\u001b[39;49m,\n\u001b[0;32m     <a href='vscode-notebook-cell:/c%3A/Users/toros/OneDrive/Dokumenter/GitHub/BachelorThesis/notebooks/Strategy_ESG_score_800-1000.ipynb#W3sZmlsZQ%3D%3D?line=10'>11</a>\u001b[0m                                 \u001b[39m6\u001b[39;49m,\n\u001b[0;32m     <a href='vscode-notebook-cell:/c%3A/Users/toros/OneDrive/Dokumenter/GitHub/BachelorThesis/notebooks/Strategy_ESG_score_800-1000.ipynb#W3sZmlsZQ%3D%3D?line=11'>12</a>\u001b[0m                                 \u001b[39m'\u001b[39;49m\u001b[39m2010-01-01\u001b[39;49m\u001b[39m'\u001b[39;49m,\n\u001b[0;32m     <a href='vscode-notebook-cell:/c%3A/Users/toros/OneDrive/Dokumenter/GitHub/BachelorThesis/notebooks/Strategy_ESG_score_800-1000.ipynb#W3sZmlsZQ%3D%3D?line=12'>13</a>\u001b[0m                                 \u001b[39m'\u001b[39;49m\u001b[39m2022-01-01\u001b[39;49m\u001b[39m'\u001b[39;49m,\n\u001b[0;32m     <a href='vscode-notebook-cell:/c%3A/Users/toros/OneDrive/Dokumenter/GitHub/BachelorThesis/notebooks/Strategy_ESG_score_800-1000.ipynb#W3sZmlsZQ%3D%3D?line=13'>14</a>\u001b[0m                                 \u001b[39m0\u001b[39;49m,\n\u001b[0;32m     <a href='vscode-notebook-cell:/c%3A/Users/toros/OneDrive/Dokumenter/GitHub/BachelorThesis/notebooks/Strategy_ESG_score_800-1000.ipynb#W3sZmlsZQ%3D%3D?line=14'>15</a>\u001b[0m                                 \u001b[39m6\u001b[39;49m,\n\u001b[0;32m     <a href='vscode-notebook-cell:/c%3A/Users/toros/OneDrive/Dokumenter/GitHub/BachelorThesis/notebooks/Strategy_ESG_score_800-1000.ipynb#W3sZmlsZQ%3D%3D?line=15'>16</a>\u001b[0m                                 \u001b[39m'\u001b[39;49m\u001b[39m^GSPC\u001b[39;49m\u001b[39m'\u001b[39;49m)\n",
      "File \u001b[1;32mc:\\Users\\toros\\OneDrive\\Dokumenter\\GitHub\\BachelorThesis\\src\\backtesting.py:183\u001b[0m, in \u001b[0;36mbacktesting\u001b[1;34m(strategy, monthly_or_yearly_rebalancing, rebalancing_freq, start_date, end_date, covariance_window_yearly, covariance_window_monthly, market_name, benoit_wolfe, Close_type)\u001b[0m\n\u001b[0;32m    181\u001b[0m delta \u001b[39m=\u001b[39m relativedelta(months\u001b[39m=\u001b[39mrebalancing_freq)\n\u001b[0;32m    182\u001b[0m \u001b[39mwhile\u001b[39;00m (start_date \u001b[39m<\u001b[39m\u001b[39m=\u001b[39m end_date):\n\u001b[1;32m--> 183\u001b[0m     listparameters\u001b[39m.\u001b[39mappend(efficient_frontier\u001b[39m.\u001b[39;49mefficient_frontier_solo(pct_returns,\n\u001b[0;32m    184\u001b[0m                     strategy[\u001b[39m'\u001b[39;49m\u001b[39mbounds\u001b[39;49m\u001b[39m'\u001b[39;49m],\n\u001b[0;32m    185\u001b[0m                     strategy[\u001b[39m'\u001b[39;49m\u001b[39msharpe_type\u001b[39;49m\u001b[39m'\u001b[39;49m],\n\u001b[0;32m    186\u001b[0m                     start_date\u001b[39m-\u001b[39;49mcovariance_window_time_delta,\u001b[39m#The start date for portfolio optimization will be the start date minus the covariance window\u001b[39;49;00m\n\u001b[0;32m    187\u001b[0m                     start_date,\u001b[39m#The end date for portfolio optimization will be the start date minus the covariance window\u001b[39;49;00m\n\u001b[0;32m    188\u001b[0m                     strategy[\u001b[39m'\u001b[39;49m\u001b[39mwanted_return\u001b[39;49m\u001b[39m'\u001b[39;49m],\n\u001b[0;32m    189\u001b[0m                     strategy[\u001b[39m'\u001b[39;49m\u001b[39mmaximum_risk\u001b[39;49m\u001b[39m'\u001b[39;49m],\n\u001b[0;32m    190\u001b[0m                     strategy[\u001b[39m'\u001b[39;49m\u001b[39mrebalancing_freq\u001b[39;49m\u001b[39m'\u001b[39;49m],\n\u001b[0;32m    191\u001b[0m                     benoit_wolfe)) \n\u001b[0;32m    194\u001b[0m     list_of_port_weights\u001b[39m.\u001b[39mappend(efficient_frontier\u001b[39m.\u001b[39mweights_of_portfolio(prices,listparameters[i]))    \n\u001b[0;32m    196\u001b[0m     list_of_port_esg_scores\u001b[39m.\u001b[39mappend(portfolio\u001b[39m.\u001b[39mesg_score_of_portfolio(list_of_port_weights[i],esgdata\u001b[39m.\u001b[39mhead(\u001b[39m1\u001b[39m)))\n",
      "File \u001b[1;32mc:\\Users\\toros\\OneDrive\\Dokumenter\\GitHub\\BachelorThesis\\src\\efficient_frontier.py:218\u001b[0m, in \u001b[0;36mefficient_frontier_solo\u001b[1;34m(returns, bounds, Sharpe_Type, start_date, end_date, wanted_return, maximum_risk, monthly_or_yearly_mean, ledoit_Wolf)\u001b[0m\n\u001b[0;32m    216\u001b[0m sample_rolling_window \u001b[39m=\u001b[39m returns\u001b[39m.\u001b[39mloc[\u001b[39m'\u001b[39m\u001b[39m{}\u001b[39;00m\u001b[39m'\u001b[39m\u001b[39m.\u001b[39mformat(\u001b[39mstr\u001b[39m(start_date)):\u001b[39m'\u001b[39m\u001b[39m{}\u001b[39;00m\u001b[39m'\u001b[39m\u001b[39m.\u001b[39mformat(\u001b[39mstr\u001b[39m(end_date))]\n\u001b[0;32m    217\u001b[0m \u001b[39mif\u001b[39;00m monthly_or_yearly_mean \u001b[39m==\u001b[39m \u001b[39m\"\u001b[39m\u001b[39mmonthly\u001b[39m\u001b[39m\"\u001b[39m:\n\u001b[1;32m--> 218\u001b[0m     parameters\u001b[39m.\u001b[39mappend(calculate_efficient_frontier(portfolio\u001b[39m.\u001b[39;49mmean_return_monthly(sample_rolling_window),\n\u001b[0;32m    219\u001b[0m                                                                       portfolio\u001b[39m.\u001b[39;49mcovariance_matrix_monthly(sample_rolling_window,ledoit_Wolf),\n\u001b[0;32m    220\u001b[0m                                                                       bounds,\n\u001b[0;32m    221\u001b[0m                                                                       Sharpe_Type,\n\u001b[0;32m    222\u001b[0m                                                                       wanted_return,\n\u001b[0;32m    223\u001b[0m                                                                       maximum_risk))\n\u001b[0;32m    224\u001b[0m \u001b[39melif\u001b[39;00m monthly_or_yearly_mean \u001b[39m==\u001b[39m \u001b[39m\"\u001b[39m\u001b[39myearly\u001b[39m\u001b[39m\"\u001b[39m:\n\u001b[0;32m    225\u001b[0m     parameters\u001b[39m.\u001b[39mappend(calculate_efficient_frontier(portfolio\u001b[39m.\u001b[39mmean_return_annual(sample_rolling_window),\n\u001b[0;32m    226\u001b[0m                                                                       portfolio\u001b[39m.\u001b[39mcovariance_matrix_annual(sample_rolling_window,ledoit_Wolf),\n\u001b[0;32m    227\u001b[0m                                                                       bounds,\n\u001b[0;32m    228\u001b[0m                                                                       Sharpe_Type,\n\u001b[0;32m    229\u001b[0m                                                                       wanted_return,\n\u001b[0;32m    230\u001b[0m                                                                       maximum_risk))\n",
      "File \u001b[1;32mc:\\Users\\toros\\OneDrive\\Dokumenter\\GitHub\\BachelorThesis\\src\\efficient_frontier.py:178\u001b[0m, in \u001b[0;36mcalculate_efficient_frontier\u001b[1;34m(ret_port, cov_port, bounds, Sharpe_Type, wanted_return, max_risk)\u001b[0m\n\u001b[0;32m    176\u001b[0m     \u001b[39m#Define a function to calculate volatility\u001b[39;00m\n\u001b[0;32m    177\u001b[0m     fun \u001b[39m=\u001b[39m \u001b[39mlambda\u001b[39;00m weights: portfolio\u001b[39m.\u001b[39mportfolio_std(cov_port, weights)\n\u001b[1;32m--> 178\u001b[0m     result \u001b[39m=\u001b[39m minimize(fun,\n\u001b[0;32m    179\u001b[0m                       x0, \n\u001b[0;32m    180\u001b[0m                       method\u001b[39m=\u001b[39;49m\u001b[39m'\u001b[39;49m\u001b[39mSLSQP\u001b[39;49m\u001b[39m'\u001b[39;49m, \n\u001b[0;32m    181\u001b[0m                       bounds\u001b[39m=\u001b[39;49mbounds, \n\u001b[0;32m    182\u001b[0m                       constraints\u001b[39m=\u001b[39;49mcons)\n\u001b[0;32m    183\u001b[0m     frontier_x\u001b[39m.\u001b[39mappend(result[\u001b[39m'\u001b[39m\u001b[39mfun\u001b[39m\u001b[39m'\u001b[39m])\n\u001b[0;32m    185\u001b[0m frontier_x \u001b[39m=\u001b[39m np\u001b[39m.\u001b[39marray(frontier_x)\n",
      "File \u001b[1;32mc:\\Users\\toros\\AppData\\Local\\Programs\\Python\\Python39\\lib\\site-packages\\scipy\\optimize\\_minimize.py:631\u001b[0m, in \u001b[0;36mminimize\u001b[1;34m(fun, x0, args, method, jac, hess, hessp, bounds, constraints, tol, callback, options)\u001b[0m\n\u001b[0;32m    629\u001b[0m     \u001b[39mreturn\u001b[39;00m _minimize_cobyla(fun, x0, args, constraints, \u001b[39m*\u001b[39m\u001b[39m*\u001b[39moptions)\n\u001b[0;32m    630\u001b[0m \u001b[39melif\u001b[39;00m meth \u001b[39m==\u001b[39m \u001b[39m'\u001b[39m\u001b[39mslsqp\u001b[39m\u001b[39m'\u001b[39m:\n\u001b[1;32m--> 631\u001b[0m     \u001b[39mreturn\u001b[39;00m _minimize_slsqp(fun, x0, args, jac, bounds,\n\u001b[0;32m    632\u001b[0m                            constraints, callback\u001b[39m=\u001b[39mcallback, \u001b[39m*\u001b[39m\u001b[39m*\u001b[39moptions)\n\u001b[0;32m    633\u001b[0m \u001b[39melif\u001b[39;00m meth \u001b[39m==\u001b[39m \u001b[39m'\u001b[39m\u001b[39mtrust-constr\u001b[39m\u001b[39m'\u001b[39m:\n\u001b[0;32m    634\u001b[0m     \u001b[39mreturn\u001b[39;00m _minimize_trustregion_constr(fun, x0, args, jac, hess, hessp,\n\u001b[0;32m    635\u001b[0m                                         bounds, constraints,\n\u001b[0;32m    636\u001b[0m                                         callback\u001b[39m=\u001b[39mcallback, \u001b[39m*\u001b[39m\u001b[39m*\u001b[39moptions)\n",
      "File \u001b[1;32mc:\\Users\\toros\\AppData\\Local\\Programs\\Python\\Python39\\lib\\site-packages\\scipy\\optimize\\slsqp.py:433\u001b[0m, in \u001b[0;36m_minimize_slsqp\u001b[1;34m(func, x0, args, jac, bounds, constraints, maxiter, ftol, iprint, disp, eps, callback, finite_diff_rel_step, **unknown_options)\u001b[0m\n\u001b[0;32m    427\u001b[0m slsqp(m, meq, x, xl, xu, fx, c, g, a, acc, majiter, mode, w, jw,\n\u001b[0;32m    428\u001b[0m       alpha, f0, gs, h1, h2, h3, h4, t, t0, tol,\n\u001b[0;32m    429\u001b[0m       iexact, incons, ireset, itermx, line,\n\u001b[0;32m    430\u001b[0m       n1, n2, n3)\n\u001b[0;32m    432\u001b[0m \u001b[39mif\u001b[39;00m mode \u001b[39m==\u001b[39m \u001b[39m1\u001b[39m:  \u001b[39m# objective and constraint evaluation required\u001b[39;00m\n\u001b[1;32m--> 433\u001b[0m     fx \u001b[39m=\u001b[39m wrapped_fun(x)\n\u001b[0;32m    434\u001b[0m     c \u001b[39m=\u001b[39m _eval_constraint(x, cons)\n\u001b[0;32m    436\u001b[0m \u001b[39mif\u001b[39;00m mode \u001b[39m==\u001b[39m \u001b[39m-\u001b[39m\u001b[39m1\u001b[39m:  \u001b[39m# gradient evaluation required\u001b[39;00m\n",
      "File \u001b[1;32mc:\\Users\\toros\\AppData\\Local\\Programs\\Python\\Python39\\lib\\site-packages\\scipy\\optimize\\optimize.py:275\u001b[0m, in \u001b[0;36m_clip_x_for_func.<locals>.eval\u001b[1;34m(x)\u001b[0m\n\u001b[0;32m    273\u001b[0m \u001b[39mdef\u001b[39;00m \u001b[39meval\u001b[39m(x):\n\u001b[0;32m    274\u001b[0m     x \u001b[39m=\u001b[39m _check_clip_x(x, bounds)\n\u001b[1;32m--> 275\u001b[0m     \u001b[39mreturn\u001b[39;00m func(x)\n",
      "File \u001b[1;32mc:\\Users\\toros\\AppData\\Local\\Programs\\Python\\Python39\\lib\\site-packages\\scipy\\optimize\\_differentiable_functions.py:248\u001b[0m, in \u001b[0;36mScalarFunction.fun\u001b[1;34m(self, x)\u001b[0m\n\u001b[0;32m    246\u001b[0m \u001b[39mdef\u001b[39;00m \u001b[39mfun\u001b[39m(\u001b[39mself\u001b[39m, x):\n\u001b[0;32m    247\u001b[0m     \u001b[39mif\u001b[39;00m \u001b[39mnot\u001b[39;00m np\u001b[39m.\u001b[39marray_equal(x, \u001b[39mself\u001b[39m\u001b[39m.\u001b[39mx):\n\u001b[1;32m--> 248\u001b[0m         \u001b[39mself\u001b[39;49m\u001b[39m.\u001b[39;49m_update_x_impl(x)\n\u001b[0;32m    249\u001b[0m     \u001b[39mself\u001b[39m\u001b[39m.\u001b[39m_update_fun()\n\u001b[0;32m    250\u001b[0m     \u001b[39mreturn\u001b[39;00m \u001b[39mself\u001b[39m\u001b[39m.\u001b[39mf\n",
      "File \u001b[1;32mc:\\Users\\toros\\AppData\\Local\\Programs\\Python\\Python39\\lib\\site-packages\\scipy\\optimize\\_differentiable_functions.py:225\u001b[0m, in \u001b[0;36mScalarFunction.__init__.<locals>.update_x\u001b[1;34m(x)\u001b[0m\n\u001b[0;32m    222\u001b[0m \u001b[39mdef\u001b[39;00m \u001b[39mupdate_x\u001b[39m(x):\n\u001b[0;32m    223\u001b[0m     \u001b[39m# ensure that self.x is a copy of x. Don't store a reference\u001b[39;00m\n\u001b[0;32m    224\u001b[0m     \u001b[39m# otherwise the memoization doesn't work properly.\u001b[39;00m\n\u001b[1;32m--> 225\u001b[0m     \u001b[39mself\u001b[39m\u001b[39m.\u001b[39mx \u001b[39m=\u001b[39m np\u001b[39m.\u001b[39;49matleast_1d(x)\u001b[39m.\u001b[39;49mastype(\u001b[39mfloat\u001b[39;49m)\n\u001b[0;32m    226\u001b[0m     \u001b[39mself\u001b[39m\u001b[39m.\u001b[39mf_updated \u001b[39m=\u001b[39m \u001b[39mFalse\u001b[39;00m\n\u001b[0;32m    227\u001b[0m     \u001b[39mself\u001b[39m\u001b[39m.\u001b[39mg_updated \u001b[39m=\u001b[39m \u001b[39mFalse\u001b[39;00m\n",
      "\u001b[1;31mKeyboardInterrupt\u001b[0m: "
     ]
    }
   ],
   "source": [
    "\"First input is your investment strategy,\",\n",
    "\"Second input is whether you are doing monthly or yearly rebalancing\",\n",
    "\"Third input is the amount of months or years between each rebalancing\",\n",
    "\"Fourth input is the first date of your rebalancing, should always be the first of the month, the format is 'YYYY-MM-DD\",\n",
    "\"Fifth input is the amount of months you want to have the covariance window be\",\n",
    "\"Sixth input is the amount of years you want the covariance window to be\",\n",
    "\"Seventh input is the market that you want to benchmark your portfolio on\"\n",
    "\n",
    "data5 = backtesting.backtesting(strategy1,\n",
    "                                'monthly',\n",
    "                                6,\n",
    "                                '2010-01-01',\n",
    "                                '2022-01-01',\n",
    "                                0,\n",
    "                                6,\n",
    "                                '^GSPC')\n"
   ]
  },
  {
   "cell_type": "code",
   "execution_count": null,
   "metadata": {},
   "outputs": [],
   "source": [
    "print('amount of stocks in portfolio',data5['portfolio_weights'][0].size)"
   ]
  },
  {
   "cell_type": "code",
   "execution_count": null,
   "metadata": {},
   "outputs": [],
   "source": [
    "plot.plot_efficient_frontier(data5['portfolio_parameters'][-1],2016,2022,risk_free_rate,False,True)\n"
   ]
  },
  {
   "cell_type": "code",
   "execution_count": null,
   "metadata": {},
   "outputs": [],
   "source": [
    "\n",
    "plot.plot_efficient_frontier_cml(data5['portfolio_parameters'][-1],2016,2022,risk_free_rate,True,maximum_risk)"
   ]
  },
  {
   "cell_type": "code",
   "execution_count": null,
   "metadata": {},
   "outputs": [],
   "source": [
    "plot.plot_portfolio_betas(data5['return_dates'], data5['betas_of_portfolios'])\n"
   ]
  },
  {
   "cell_type": "code",
   "execution_count": null,
   "metadata": {},
   "outputs": [],
   "source": [
    "plot.plot_portfolio_esg_scores(data5['return_dates'],data5['portfolio_esg_scores'])"
   ]
  },
  {
   "cell_type": "code",
   "execution_count": null,
   "metadata": {},
   "outputs": [],
   "source": [
    "\"Our portfolio returns compared to the market returns for each recalibration\",\n",
    "\n",
    "\"First parameter is the portfolio date\",\n",
    "\n",
    "\"Second parameter is the portfolio returns\",\n",
    "\"change to data5['portfolio_actual_returns_cmle'] if you want cml returns and data5['portfolio_actual_returns'] if you want normal portfolio returns\",\n",
    "\n",
    "\"Third parameter is the market returns\"\n",
    "\n",
    "\n",
    "plot.compare_returns1(data5['return_dates'],\n",
    "                      np.concatenate(data5['portfolio_actual_returns']),\n",
    "                      data5['pct_returns_sp500'])\n"
   ]
  },
  {
   "cell_type": "code",
   "execution_count": null,
   "metadata": {},
   "outputs": [],
   "source": [
    "#Data[10] is the cml returns\n",
    "\"Our portfolio cumulative returns compared to the market returns for each recalibration\",\n",
    "\"First parameter is portfolio dates\",\n",
    "\"Second parameter is the cumulative portfolio returns\"\n",
    "\"Change data5['cumulative_portfolio_return_list'] to data5['cumulative_cml_return_list'] if you want to change to cml\"\n",
    "\"third parameter is cumulative market returns\"\n",
    "plot.compare_cumulative_returns(data5['return_dates'],\n",
    "                                np.concatenate(data5['cumulative_portfolio_return_list']),\n",
    "                                data5['cumulative_market_return_list'])\n",
    "\n"
   ]
  }
 ],
 "metadata": {
  "kernelspec": {
   "display_name": "Python 3",
   "language": "python",
   "name": "python3"
  },
  "language_info": {
   "codemirror_mode": {
    "name": "ipython",
    "version": 3
   },
   "file_extension": ".py",
   "mimetype": "text/x-python",
   "name": "python",
   "nbconvert_exporter": "python",
   "pygments_lexer": "ipython3",
   "version": "3.9.7"
  },
  "orig_nbformat": 4
 },
 "nbformat": 4,
 "nbformat_minor": 2
}
