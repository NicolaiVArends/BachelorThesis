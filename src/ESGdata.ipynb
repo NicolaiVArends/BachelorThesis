{
 "cells": [
  {
   "cell_type": "code",
   "execution_count": 14,
   "metadata": {},
   "outputs": [],
   "source": [
    "# import yfinance, pandas and os\n",
    "import yfinance as yf\n",
    "import pandas as pd\n",
    "import os\n",
    "# Import list of tickers from file\n",
    "import pandas as pd\n",
    "#Lav en funktion der minimerer i forhold til en vægtet fordeling af esg score og risiko, for at finde hvilken blanding der minimerer begge optimalt.\n",
    "read_file = pd.read_csv (r'C:\\Users\\Tor Osted\\OneDrive\\Dokumenter\\ESGdata\\constituents_symbols.txt')\n",
    "read_file.to_csv (r'C:\\Users\\Tor Osted\\OneDrive\\Dokumenter\\ESGdata\\tickers.csv', index=None)\n"
   ]
  },
  {
   "cell_type": "code",
   "execution_count": 36,
   "metadata": {},
   "outputs": [
    {
     "name": "stdout",
     "output_type": "stream",
     "text": [
      "[*********************100%***********************]  1 of 1 completed\n"
     ]
    },
    {
     "ename": "AttributeError",
     "evalue": "'DataFrame' object has no attribute 'sustainability'",
     "output_type": "error",
     "traceback": [
      "\u001b[1;31m---------------------------------------------------------------------------\u001b[0m",
      "\u001b[1;31mAttributeError\u001b[0m                            Traceback (most recent call last)",
      "\u001b[1;32mc:\\Users\\Tor Osted\\OneDrive\\Dokumenter\\GitHub\\BachelorThesis\\src\\ESGdata.ipynb Cell 2\u001b[0m in \u001b[0;36m<cell line: 3>\u001b[1;34m()\u001b[0m\n\u001b[0;32m      <a href='vscode-notebook-cell:/c%3A/Users/Tor%20Osted/OneDrive/Dokumenter/GitHub/BachelorThesis/src/ESGdata.ipynb#W1sZmlsZQ%3D%3D?line=0'>1</a>\u001b[0m os\u001b[39m.\u001b[39mchdir(\u001b[39mr\u001b[39m\u001b[39m'\u001b[39m\u001b[39mC:\u001b[39m\u001b[39m\\\u001b[39m\u001b[39mUsers\u001b[39m\u001b[39m\\\u001b[39m\u001b[39mTor Osted\u001b[39m\u001b[39m\\\u001b[39m\u001b[39mOneDrive\u001b[39m\u001b[39m\\\u001b[39m\u001b[39mDokumenter\u001b[39m\u001b[39m\\\u001b[39m\u001b[39mESGdata\u001b[39m\u001b[39m'\u001b[39m)\n\u001b[0;32m      <a href='vscode-notebook-cell:/c%3A/Users/Tor%20Osted/OneDrive/Dokumenter/GitHub/BachelorThesis/src/ESGdata.ipynb#W1sZmlsZQ%3D%3D?line=1'>2</a>\u001b[0m djia \u001b[39m=\u001b[39m pd\u001b[39m.\u001b[39mread_csv(\u001b[39m'\u001b[39m\u001b[39mtickers.csv\u001b[39m\u001b[39m'\u001b[39m)\u001b[39m# Retrieve Yahoo! Finance Sustainability Scores for each ticker\u001b[39;00m\n\u001b[1;32m----> <a href='vscode-notebook-cell:/c%3A/Users/Tor%20Osted/OneDrive/Dokumenter/GitHub/BachelorThesis/src/ESGdata.ipynb#W1sZmlsZQ%3D%3D?line=2'>3</a>\u001b[0m \u001b[39mprint\u001b[39m(yf\u001b[39m.\u001b[39;49mdownload(\u001b[39m\"\u001b[39;49m\u001b[39mAAPL\u001b[39;49m\u001b[39m\"\u001b[39;49m, start\u001b[39m=\u001b[39;49m\u001b[39m\"\u001b[39;49m\u001b[39m2017-01-01\u001b[39;49m\u001b[39m\"\u001b[39;49m, end\u001b[39m=\u001b[39;49m\u001b[39m\"\u001b[39;49m\u001b[39m2017-04-30\u001b[39;49m\u001b[39m\"\u001b[39;49m)\u001b[39m.\u001b[39;49msustainability())\n\u001b[0;32m      <a href='vscode-notebook-cell:/c%3A/Users/Tor%20Osted/OneDrive/Dokumenter/GitHub/BachelorThesis/src/ESGdata.ipynb#W1sZmlsZQ%3D%3D?line=4'>5</a>\u001b[0m \u001b[39mfor\u001b[39;00m i \u001b[39min\u001b[39;00m djia:\n\u001b[0;32m      <a href='vscode-notebook-cell:/c%3A/Users/Tor%20Osted/OneDrive/Dokumenter/GitHub/BachelorThesis/src/ESGdata.ipynb#W1sZmlsZQ%3D%3D?line=5'>6</a>\u001b[0m     \u001b[39m# print(i)\u001b[39;00m\n\u001b[0;32m      <a href='vscode-notebook-cell:/c%3A/Users/Tor%20Osted/OneDrive/Dokumenter/GitHub/BachelorThesis/src/ESGdata.ipynb#W1sZmlsZQ%3D%3D?line=6'>7</a>\u001b[0m     i_y \u001b[39m=\u001b[39m yf\u001b[39m.\u001b[39mTicker(i)\u001b[39m.\u001b[39mhistory()\n",
      "File \u001b[1;32mc:\\Users\\Tor Osted\\AppData\\Local\\Programs\\Python\\Python310\\lib\\site-packages\\pandas\\core\\generic.py:5575\u001b[0m, in \u001b[0;36mNDFrame.__getattr__\u001b[1;34m(self, name)\u001b[0m\n\u001b[0;32m   5568\u001b[0m \u001b[39mif\u001b[39;00m (\n\u001b[0;32m   5569\u001b[0m     name \u001b[39mnot\u001b[39;00m \u001b[39min\u001b[39;00m \u001b[39mself\u001b[39m\u001b[39m.\u001b[39m_internal_names_set\n\u001b[0;32m   5570\u001b[0m     \u001b[39mand\u001b[39;00m name \u001b[39mnot\u001b[39;00m \u001b[39min\u001b[39;00m \u001b[39mself\u001b[39m\u001b[39m.\u001b[39m_metadata\n\u001b[0;32m   5571\u001b[0m     \u001b[39mand\u001b[39;00m name \u001b[39mnot\u001b[39;00m \u001b[39min\u001b[39;00m \u001b[39mself\u001b[39m\u001b[39m.\u001b[39m_accessors\n\u001b[0;32m   5572\u001b[0m     \u001b[39mand\u001b[39;00m \u001b[39mself\u001b[39m\u001b[39m.\u001b[39m_info_axis\u001b[39m.\u001b[39m_can_hold_identifiers_and_holds_name(name)\n\u001b[0;32m   5573\u001b[0m ):\n\u001b[0;32m   5574\u001b[0m     \u001b[39mreturn\u001b[39;00m \u001b[39mself\u001b[39m[name]\n\u001b[1;32m-> 5575\u001b[0m \u001b[39mreturn\u001b[39;00m \u001b[39mobject\u001b[39;49m\u001b[39m.\u001b[39;49m\u001b[39m__getattribute__\u001b[39;49m(\u001b[39mself\u001b[39;49m, name)\n",
      "\u001b[1;31mAttributeError\u001b[0m: 'DataFrame' object has no attribute 'sustainability'"
     ]
    }
   ],
   "source": [
    "\n",
    "os.chdir(r'C:\\Users\\Tor Osted\\OneDrive\\Dokumenter\\ESGdata')\n",
    "djia = pd.read_csv('tickers.csv')# Retrieve Yahoo! Finance Sustainability Scores for each ticker\n",
    "print(yf.download(\"AAPL\", start=\"2017-01-01\", end=\"2017-04-30\"))\n",
    "\n",
    "for i in djia:\n",
    "    # print(i)\n",
    "    i_y = yf.Ticker(i).history()\n",
    "    try:\n",
    "        if i_y.sustainability is not None:\n",
    "            temp = pd.DataFrame.transpose(i_y.sustainability)\n",
    "            temp['company_ticker'] = str(i_y.ticker)\n",
    "            # print(temp)\n",
    "            esg_data = esg_data.append(temp)\n",
    "    except IndexError:\n",
    "        pass\n",
    "esg_data.to_csv('djia_sustainability_scores.csv', encoding='utf-8')"
   ]
  }
 ],
 "metadata": {
  "kernelspec": {
   "display_name": "Python 3",
   "language": "python",
   "name": "python3"
  },
  "language_info": {
   "codemirror_mode": {
    "name": "ipython",
    "version": 3
   },
   "file_extension": ".py",
   "mimetype": "text/x-python",
   "name": "python",
   "nbconvert_exporter": "python",
   "pygments_lexer": "ipython3",
   "version": "3.10.4"
  },
  "orig_nbformat": 4,
  "vscode": {
   "interpreter": {
    "hash": "86e320d27ba91b62bb476c18bb1d9bc2632dc6f3cc7e16f4d32472e7802d4b28"
   }
  }
 },
 "nbformat": 4,
 "nbformat_minor": 2
}
